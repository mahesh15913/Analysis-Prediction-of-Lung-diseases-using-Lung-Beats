{
  "cells": [
    {
      "cell_type": "code",
      "execution_count": 6,
      "metadata": {
        "id": "S2NExm_oPva3"
      },
      "outputs": [],
      "source": [
        "import pandas as pd\n",
        "import numpy as np\n",
        "import os\n",
        "import tqdm\n",
        "from os import listdir\n",
        "import librosa\n",
        "import soundfile as sf\n",
        "import shutil"
      ]
    },
    {
      "cell_type": "code",
      "execution_count": 7,
      "metadata": {
        "id": "T-n2oWNcQZqO"
      },
      "outputs": [],
      "source": [
        "\n",
        "directory = \"C:/Users/mahii/OneDrive/Desktop/practice/MajorProject/Respiratory sounds/audio_and_txt_files\"\n"
      ]
    },
    {
      "cell_type": "code",
      "execution_count": 8,
      "metadata": {
        "id": "dS37arVZRXv_"
      },
      "outputs": [],
      "source": [
        "content = listdir(directory)"
      ]
    },
    {
      "cell_type": "code",
      "execution_count": 9,
      "metadata": {
        "colab": {
          "base_uri": "https://localhost:8080/"
        },
        "id": "i14u4U2gzyWA",
        "outputId": "1b68ca24-ad27-461b-c18e-af405753d48b"
      },
      "outputs": [
        {
          "name": "stdout",
          "output_type": "stream",
          "text": [
            "['101_1b1_Al_sc_Meditron.txt', '101_1b1_Al_sc_Meditron.wav', '101_1b1_Pr_sc_Meditron.txt', '101_1b1_Pr_sc_Meditron.wav', '102_1b1_Ar_sc_Meditron.txt', '102_1b1_Ar_sc_Meditron.wav', '103_2b2_Ar_mc_LittC2SE.txt', '103_2b2_Ar_mc_LittC2SE.wav', '104_1b1_Al_sc_Litt3200.txt', '104_1b1_Al_sc_Litt3200.wav', '104_1b1_Ar_sc_Litt3200.txt', '104_1b1_Ar_sc_Litt3200.wav', '104_1b1_Ll_sc_Litt3200.txt', '104_1b1_Ll_sc_Litt3200.wav', '104_1b1_Lr_sc_Litt3200.txt', '104_1b1_Lr_sc_Litt3200.wav', '104_1b1_Pl_sc_Litt3200.txt', '104_1b1_Pl_sc_Litt3200.wav', '104_1b1_Pr_sc_Litt3200.txt', '104_1b1_Pr_sc_Litt3200.wav', '105_1b1_Tc_sc_Meditron.txt', '105_1b1_Tc_sc_Meditron.wav', '106_2b1_Pl_mc_LittC2SE.txt', '106_2b1_Pl_mc_LittC2SE.wav', '106_2b1_Pr_mc_LittC2SE.txt', '106_2b1_Pr_mc_LittC2SE.wav', '107_2b3_Al_mc_AKGC417L.txt', '107_2b3_Al_mc_AKGC417L.wav', '107_2b3_Ar_mc_AKGC417L.txt', '107_2b3_Ar_mc_AKGC417L.wav', '107_2b3_Ll_mc_AKGC417L.txt', '107_2b3_Ll_mc_AKGC417L.wav', '107_2b3_Lr_mc_AKGC417L.txt', '107_2b3_Lr_mc_AKGC417L.wav', '107_2b3_Pl_mc_AKGC417L.txt', '107_2b3_Pl_mc_AKGC417L.wav', '107_2b3_Pr_mc_AKGC417L.txt', '107_2b3_Pr_mc_AKGC417L.wav', '107_2b3_Tc_mc_AKGC417L.txt', '107_2b3_Tc_mc_AKGC417L.wav', '107_2b4_Al_mc_AKGC417L.txt', '107_2b4_Al_mc_AKGC417L.wav', '107_2b4_Ar_mc_AKGC417L.txt', '107_2b4_Ar_mc_AKGC417L.wav', '107_2b4_Ll_mc_AKGC417L.txt', '107_2b4_Ll_mc_AKGC417L.wav', '107_2b4_Lr_mc_AKGC417L.txt', '107_2b4_Lr_mc_AKGC417L.wav', '107_2b4_Pl_mc_AKGC417L.txt', '107_2b4_Pl_mc_AKGC417L.wav', '107_2b4_Pr_mc_AKGC417L.txt', '107_2b4_Pr_mc_AKGC417L.wav', '107_2b4_Tc_mc_AKGC417L.txt', '107_2b4_Tc_mc_AKGC417L.wav', '107_2b5_Al_mc_AKGC417L.txt', '107_2b5_Al_mc_AKGC417L.wav', '107_2b5_Ar_mc_AKGC417L.txt', '107_2b5_Ar_mc_AKGC417L.wav', '107_2b5_Ll_mc_AKGC417L.txt', '107_2b5_Ll_mc_AKGC417L.wav', '107_2b5_Lr_mc_AKGC417L.txt', '107_2b5_Lr_mc_AKGC417L.wav', '107_2b5_Pl_mc_AKGC417L.txt', '107_2b5_Pl_mc_AKGC417L.wav', '107_2b5_Pr_mc_AKGC417L.txt', '107_2b5_Pr_mc_AKGC417L.wav', '107_2b5_Tc_mc_AKGC417L.txt', '107_2b5_Tc_mc_AKGC417L.wav', '107_3p2_Al_mc_AKGC417L.txt', '107_3p2_Al_mc_AKGC417L.wav', '107_3p2_Ar_mc_AKGC417L.txt', '107_3p2_Ar_mc_AKGC417L.wav', '107_3p2_Ll_mc_AKGC417L.txt', '107_3p2_Ll_mc_AKGC417L.wav', '107_3p2_Lr_mc_AKGC417L.txt', '107_3p2_Lr_mc_AKGC417L.wav', '107_3p2_Pl_mc_AKGC417L.txt', '107_3p2_Pl_mc_AKGC417L.wav', '107_3p2_Pr_mc_AKGC417L.txt', '107_3p2_Pr_mc_AKGC417L.wav', '107_3p2_Tc_mc_AKGC417L.txt', '107_3p2_Tc_mc_AKGC417L.wav', '108_1b1_Al_sc_Meditron.txt', '108_1b1_Al_sc_Meditron.wav', '109_1b1_Al_sc_Litt3200.txt', '109_1b1_Al_sc_Litt3200.wav', '109_1b1_Ar_sc_Litt3200.txt', '109_1b1_Ar_sc_Litt3200.wav', '109_1b1_Ll_sc_Litt3200.txt', '109_1b1_Ll_sc_Litt3200.wav', '109_1b1_Lr_sc_Litt3200.txt', '109_1b1_Lr_sc_Litt3200.wav', '109_1b1_Pl_sc_Litt3200.txt', '109_1b1_Pl_sc_Litt3200.wav', '109_1b1_Pr_sc_Litt3200.txt', '109_1b1_Pr_sc_Litt3200.wav', '110_1b1_Pr_sc_Meditron.txt', '110_1b1_Pr_sc_Meditron.wav', '110_1p1_Al_sc_Meditron.txt', '110_1p1_Al_sc_Meditron.wav', '110_1p1_Ll_sc_Meditron.txt', '110_1p1_Ll_sc_Meditron.wav', '110_1p1_Lr_sc_Meditron.txt', '110_1p1_Lr_sc_Meditron.wav', '110_1p1_Pr_sc_Meditron.txt', '110_1p1_Pr_sc_Meditron.wav', '111_1b2_Tc_sc_Meditron.txt', '111_1b2_Tc_sc_Meditron.wav', '111_1b3_Tc_sc_Meditron.txt', '111_1b3_Tc_sc_Meditron.wav', '112_1b1_Ar_sc_Meditron.txt', '112_1b1_Ar_sc_Meditron.wav', '112_1b1_Lr_sc_Meditron.txt', '112_1b1_Lr_sc_Meditron.wav', '112_1p1_Ll_sc_Litt3200.txt', '112_1p1_Ll_sc_Litt3200.wav', '112_1p1_Pl_sc_Litt3200.txt', '112_1p1_Pl_sc_Litt3200.wav', '112_1p1_Pr_sc_Litt3200.txt', '112_1p1_Pr_sc_Litt3200.wav', '113_1b1_Al_sc_Litt3200.txt', '113_1b1_Al_sc_Litt3200.wav', '113_1b1_Ar_sc_Litt3200.txt', '113_1b1_Ar_sc_Litt3200.wav', '113_1b1_Ll_sc_Litt3200.txt', '113_1b1_Ll_sc_Litt3200.wav', '113_1b1_Lr_sc_Litt3200.txt', '113_1b1_Lr_sc_Litt3200.wav', '113_1b1_Pl_sc_Litt3200.txt', '113_1b1_Pl_sc_Litt3200.wav', '113_1b1_Pr_sc_Litt3200.txt', '113_1b1_Pr_sc_Litt3200.wav', '114_1b4_Al_mc_AKGC417L.txt', '114_1b4_Al_mc_AKGC417L.wav', '114_1b4_Ar_mc_AKGC417L.txt', '114_1b4_Ar_mc_AKGC417L.wav', '114_1b4_Lr_mc_AKGC417L.txt', '114_1b4_Lr_mc_AKGC417L.wav', '114_1b4_Pl_mc_AKGC417L.txt', '114_1b4_Pl_mc_AKGC417L.wav', '114_1b4_Pr_mc_AKGC417L.txt', '114_1b4_Pr_mc_AKGC417L.wav', '115_1b1_Ar_sc_Meditron.txt', '115_1b1_Ar_sc_Meditron.wav', '116_1b2_Pl_sc_Meditron.txt', '116_1b2_Pl_sc_Meditron.wav', '116_1b2_Tc_sc_Meditron.txt', '116_1b2_Tc_sc_Meditron.wav', '117_1b2_Tc_mc_LittC2SE.txt', '117_1b2_Tc_mc_LittC2SE.wav', '117_1b3_Tc_mc_LittC2SE.txt', '117_1b3_Tc_mc_LittC2SE.wav', '118_1b1_Al_sc_Litt3200.txt', '118_1b1_Al_sc_Litt3200.wav', '118_1b1_Ar_sc_Litt3200.txt', '118_1b1_Ar_sc_Litt3200.wav', '118_1b1_Ll_sc_Litt3200.txt', '118_1b1_Ll_sc_Litt3200.wav', '118_1b1_Lr_sc_Litt3200.txt', '118_1b1_Lr_sc_Litt3200.wav', '118_1b1_Pl_sc_Litt3200.txt', '118_1b1_Pl_sc_Litt3200.wav', '118_1b1_Pr_sc_Litt3200.txt', '118_1b1_Pr_sc_Litt3200.wav', '119_1b1_Ar_sc_Meditron.txt', '119_1b1_Ar_sc_Meditron.wav', '120_1b1_Al_sc_Meditron.txt', '120_1b1_Al_sc_Meditron.wav', '120_1b1_Ar_sc_Meditron.txt', '120_1b1_Ar_sc_Meditron.wav', '120_1b1_Lr_sc_Meditron.txt', '120_1b1_Lr_sc_Meditron.wav', '120_1b1_Pl_sc_Meditron.txt', '120_1b1_Pl_sc_Meditron.wav', '120_1b1_Pr_sc_Meditron.txt', '120_1b1_Pr_sc_Meditron.wav', '121_1b1_Tc_sc_Meditron.txt', '121_1b1_Tc_sc_Meditron.wav', '121_1p1_Tc_sc_Meditron.txt', '121_1p1_Tc_sc_Meditron.wav', '122_2b1_Al_mc_LittC2SE.txt', '122_2b1_Al_mc_LittC2SE.wav', '122_2b1_Ar_mc_LittC2SE.txt', '122_2b1_Ar_mc_LittC2SE.wav', '122_2b1_Tc_mc_LittC2SE.txt', '122_2b1_Tc_mc_LittC2SE.wav', '122_2b2_Al_mc_LittC2SE.txt', '122_2b2_Al_mc_LittC2SE.wav', '122_2b2_Ar_mc_LittC2SE.txt', '122_2b2_Ar_mc_LittC2SE.wav', '122_2b2_Tc_mc_LittC2SE.txt', '122_2b2_Tc_mc_LittC2SE.wav', '122_2b3_Al_mc_LittC2SE.txt', '122_2b3_Al_mc_LittC2SE.wav', '122_2b3_Ar_mc_LittC2SE.txt', '122_2b3_Ar_mc_LittC2SE.wav', '122_2b3_Tc_mc_LittC2SE.txt', '122_2b3_Tc_mc_LittC2SE.wav', '123_1b1_Al_sc_Meditron.txt', '123_1b1_Al_sc_Meditron.wav', '124_1b1_Al_sc_Litt3200.txt', '124_1b1_Al_sc_Litt3200.wav', '124_1b1_Ar_sc_Litt3200.txt', '124_1b1_Ar_sc_Litt3200.wav', '124_1b1_Ll_sc_Litt3200.txt', '124_1b1_Ll_sc_Litt3200.wav', '124_1b1_Lr_sc_Litt3200.txt', '124_1b1_Lr_sc_Litt3200.wav', '124_1b1_Pl_sc_Litt3200.txt', '124_1b1_Pl_sc_Litt3200.wav', '124_1b1_Pr_sc_Litt3200.txt', '124_1b1_Pr_sc_Litt3200.wav', '125_1b1_Tc_sc_Meditron.txt', '125_1b1_Tc_sc_Meditron.wav', '126_1b1_Al_sc_Meditron.txt', '126_1b1_Al_sc_Meditron.wav', '127_1b1_Ar_sc_Meditron.txt', '127_1b1_Ar_sc_Meditron.wav', '128_1b3_Tc_mc_LittC2SE.txt', '128_1b3_Tc_mc_LittC2SE.wav', '129_1b1_Ar_sc_Meditron.txt', '129_1b1_Ar_sc_Meditron.wav', '130_1p2_Al_mc_AKGC417L.txt', '130_1p2_Al_mc_AKGC417L.wav', '130_1p2_Ar_mc_AKGC417L.txt', '130_1p2_Ar_mc_AKGC417L.wav', '130_1p2_Ll_mc_AKGC417L.txt', '130_1p2_Ll_mc_AKGC417L.wav', '130_1p2_Lr_mc_AKGC417L.txt', '130_1p2_Lr_mc_AKGC417L.wav', '130_1p2_Pl_mc_AKGC417L.txt', '130_1p2_Pl_mc_AKGC417L.wav', '130_1p2_Pr_mc_AKGC417L.txt', '130_1p2_Pr_mc_AKGC417L.wav', '130_1p2_Tc_mc_AKGC417L.txt', '130_1p2_Tc_mc_AKGC417L.wav', '130_1p3_Al_mc_AKGC417L.txt', '130_1p3_Al_mc_AKGC417L.wav', '130_1p3_Ar_mc_AKGC417L.txt', '130_1p3_Ar_mc_AKGC417L.wav', '130_1p3_Ll_mc_AKGC417L.txt', '130_1p3_Ll_mc_AKGC417L.wav', '130_1p3_Lr_mc_AKGC417L.txt', '130_1p3_Lr_mc_AKGC417L.wav', '130_1p3_Pl_mc_AKGC417L.txt', '130_1p3_Pl_mc_AKGC417L.wav', '130_1p3_Pr_mc_AKGC417L.txt', '130_1p3_Pr_mc_AKGC417L.wav', '130_1p3_Tc_mc_AKGC417L.txt', '130_1p3_Tc_mc_AKGC417L.wav', '130_1p4_Al_mc_AKGC417L.txt', '130_1p4_Al_mc_AKGC417L.wav', '130_1p4_Ar_mc_AKGC417L.txt', '130_1p4_Ar_mc_AKGC417L.wav', '130_1p4_Ll_mc_AKGC417L.txt', '130_1p4_Ll_mc_AKGC417L.wav', '130_1p4_Lr_mc_AKGC417L.txt', '130_1p4_Lr_mc_AKGC417L.wav', '130_1p4_Pl_mc_AKGC417L.txt', '130_1p4_Pl_mc_AKGC417L.wav', '130_1p4_Pr_mc_AKGC417L.txt', '130_1p4_Pr_mc_AKGC417L.wav', '130_1p4_Tc_mc_AKGC417L.txt', '130_1p4_Tc_mc_AKGC417L.wav', '130_2b2_Al_mc_AKGC417L.txt', '130_2b2_Al_mc_AKGC417L.wav', '130_2b2_Ar_mc_AKGC417L.txt', '130_2b2_Ar_mc_AKGC417L.wav', '130_2b2_Ll_mc_AKGC417L.txt', '130_2b2_Ll_mc_AKGC417L.wav', '130_2b2_Lr_mc_AKGC417L.txt', '130_2b2_Lr_mc_AKGC417L.wav', '130_2b2_Pl_mc_AKGC417L.txt', '130_2b2_Pl_mc_AKGC417L.wav', '130_2b2_Pr_mc_AKGC417L.txt', '130_2b2_Pr_mc_AKGC417L.wav', '130_2b2_Tc_mc_AKGC417L.txt', '130_2b2_Tc_mc_AKGC417L.wav', '130_2b3_Al_mc_AKGC417L.txt', '130_2b3_Al_mc_AKGC417L.wav', '130_2b3_Ar_mc_AKGC417L.txt', '130_2b3_Ar_mc_AKGC417L.wav', '130_2b3_Ll_mc_AKGC417L.txt', '130_2b3_Ll_mc_AKGC417L.wav', '130_2b3_Lr_mc_AKGC417L.txt', '130_2b3_Lr_mc_AKGC417L.wav', '130_2b3_Pl_mc_AKGC417L.txt', '130_2b3_Pl_mc_AKGC417L.wav', '130_2b3_Pr_mc_AKGC417L.txt', '130_2b3_Pr_mc_AKGC417L.wav', '130_2b3_Tc_mc_AKGC417L.txt', '130_2b3_Tc_mc_AKGC417L.wav', '130_2b4_Al_mc_AKGC417L.txt', '130_2b4_Al_mc_AKGC417L.wav', '130_2b4_Ar_mc_AKGC417L.txt', '130_2b4_Ar_mc_AKGC417L.wav', '130_2b4_Ll_mc_AKGC417L.txt', '130_2b4_Ll_mc_AKGC417L.wav', '130_2b4_Lr_mc_AKGC417L.txt', '130_2b4_Lr_mc_AKGC417L.wav', '130_2b4_Pl_mc_AKGC417L.txt', '130_2b4_Pl_mc_AKGC417L.wav', '130_2p3_Pl_mc_AKGC417L.txt', '130_2p3_Pl_mc_AKGC417L.wav', '130_2p5_Al_mc_AKGC417L.txt', '130_2p5_Al_mc_AKGC417L.wav', '130_2p5_Ar_mc_AKGC417L.txt', '130_2p5_Ar_mc_AKGC417L.wav', '130_2p5_Lr_mc_AKGC417L.txt', '130_2p5_Lr_mc_AKGC417L.wav', '130_2p5_Pl_mc_AKGC417L.txt', '130_2p5_Pl_mc_AKGC417L.wav', '130_2p5_Pr_mc_AKGC417L.txt', '130_2p5_Pr_mc_AKGC417L.wav', '130_2p5_Tc_mc_AKGC417L.txt', '130_2p5_Tc_mc_AKGC417L.wav', '130_3b3_Ll_mc_AKGC417L.txt', '130_3b3_Ll_mc_AKGC417L.wav', '130_3b4_Al_mc_AKGC417L.txt', '130_3b4_Al_mc_AKGC417L.wav', '130_3b4_Ar_mc_AKGC417L.txt', '130_3b4_Ar_mc_AKGC417L.wav', '130_3b4_Lr_mc_AKGC417L.txt', '130_3b4_Lr_mc_AKGC417L.wav', '130_3b4_Pl_mc_AKGC417L.txt', '130_3b4_Pl_mc_AKGC417L.wav', '130_3b4_Pr_mc_AKGC417L.txt', '130_3b4_Pr_mc_AKGC417L.wav', '130_3p2_Al_mc_AKGC417L.txt', '130_3p2_Al_mc_AKGC417L.wav', '130_3p2_Ar_mc_AKGC417L.txt', '130_3p2_Ar_mc_AKGC417L.wav', '130_3p2_Pl_mc_AKGC417L.txt', '130_3p2_Pl_mc_AKGC417L.wav', '130_3p2_Pr_mc_AKGC417L.txt', '130_3p2_Pr_mc_AKGC417L.wav', '130_3p2_Tc_mc_AKGC417L.txt', '130_3p2_Tc_mc_AKGC417L.wav', '130_3p3_Al_mc_AKGC417L.txt', '130_3p3_Al_mc_AKGC417L.wav', '130_3p3_Pl_mc_AKGC417L.txt', '130_3p3_Pl_mc_AKGC417L.wav', '130_3p3_Pr_mc_AKGC417L.txt', '130_3p3_Pr_mc_AKGC417L.wav', '130_3p3_Tc_mc_AKGC417L.txt', '130_3p3_Tc_mc_AKGC417L.wav', '130_3p4_Al_mc_AKGC417L.txt', '130_3p4_Al_mc_AKGC417L.wav', '130_3p4_Pl_mc_AKGC417L.txt', '130_3p4_Pl_mc_AKGC417L.wav', '130_3p4_Pr_mc_AKGC417L.txt', '130_3p4_Pr_mc_AKGC417L.wav', '130_3p4_Tc_mc_AKGC417L.txt', '130_3p4_Tc_mc_AKGC417L.wav', '131_1b1_Al_sc_Meditron.txt', '131_1b1_Al_sc_Meditron.wav', '132_2b1_Lr_mc_LittC2SE.txt', '132_2b1_Lr_mc_LittC2SE.wav', '132_2b2_Lr_mc_LittC2SE.txt', '132_2b2_Lr_mc_LittC2SE.wav', '133_2p2_Al_mc_AKGC417L.txt', '133_2p2_Al_mc_AKGC417L.wav', '133_2p2_Ar_mc_AKGC417L.txt', '133_2p2_Ar_mc_AKGC417L.wav', '133_2p2_Pl_mc_AKGC417L.txt', '133_2p2_Pl_mc_AKGC417L.wav', '133_2p2_Tc_mc_AKGC417L.txt', '133_2p2_Tc_mc_AKGC417L.wav', '133_2p3_Al_mc_AKGC417L.txt', '133_2p3_Al_mc_AKGC417L.wav', '133_2p3_Ar_mc_AKGC417L.txt', '133_2p3_Ar_mc_AKGC417L.wav', '133_2p3_Pl_mc_AKGC417L.txt', '133_2p3_Pl_mc_AKGC417L.wav', '133_2p3_Pr_mc_AKGC417L.txt', '133_2p3_Pr_mc_AKGC417L.wav', '133_2p3_Tc_mc_AKGC417L.txt', '133_2p3_Tc_mc_AKGC417L.wav', '133_2p4_Al_mc_AKGC417L.txt', '133_2p4_Al_mc_AKGC417L.wav', '133_2p4_Ar_mc_AKGC417L.txt', '133_2p4_Ar_mc_AKGC417L.wav', '133_2p4_Pl_mc_AKGC417L.txt', '133_2p4_Pl_mc_AKGC417L.wav', '133_2p4_Pr_mc_AKGC417L.txt', '133_2p4_Pr_mc_AKGC417L.wav', '133_2p4_Tc_mc_AKGC417L.txt', '133_2p4_Tc_mc_AKGC417L.wav', '133_3p2_Al_mc_AKGC417L.txt', '133_3p2_Al_mc_AKGC417L.wav', '133_3p2_Ar_mc_AKGC417L.txt', '133_3p2_Ar_mc_AKGC417L.wav', '133_3p2_Pl_mc_AKGC417L.txt', '133_3p2_Pl_mc_AKGC417L.wav', '133_3p2_Pr_mc_AKGC417L.txt', '133_3p2_Pr_mc_AKGC417L.wav', '133_3p4_Tc_mc_AKGC417L.txt', '133_3p4_Tc_mc_AKGC417L.wav', '134_2b1_Al_mc_LittC2SE.txt', '134_2b1_Al_mc_LittC2SE.wav', '134_2b1_Ar_mc_LittC2SE.txt', '134_2b1_Ar_mc_LittC2SE.wav', '134_2b2_Al_mc_LittC2SE.txt', '134_2b2_Al_mc_LittC2SE.wav', '134_2b2_Ar_mc_LittC2SE.txt', '134_2b2_Ar_mc_LittC2SE.wav', '134_2b3_Ar_mc_LittC2SE.txt', '134_2b3_Ar_mc_LittC2SE.wav', '135_2b1_Al_mc_LittC2SE.txt', '135_2b1_Al_mc_LittC2SE.wav', '135_2b1_Ar_mc_LittC2SE.txt', '135_2b1_Ar_mc_LittC2SE.wav', '135_2b1_Pl_mc_LittC2SE.txt', '135_2b1_Pl_mc_LittC2SE.wav', '135_2b1_Tc_mc_LittC2SE.txt', '135_2b1_Tc_mc_LittC2SE.wav', '135_2b2_Al_mc_LittC2SE.txt', '135_2b2_Al_mc_LittC2SE.wav', '135_2b2_Ar_mc_LittC2SE.txt', '135_2b2_Ar_mc_LittC2SE.wav', '135_2b2_Pl_mc_LittC2SE.txt', '135_2b2_Pl_mc_LittC2SE.wav', '135_2b2_Tc_mc_LittC2SE.txt', '135_2b2_Tc_mc_LittC2SE.wav', '135_2b3_Al_mc_LittC2SE.txt', '135_2b3_Al_mc_LittC2SE.wav', '135_2b3_Ar_mc_LittC2SE.txt', '135_2b3_Ar_mc_LittC2SE.wav', '135_2b3_Pl_mc_LittC2SE.txt', '135_2b3_Pl_mc_LittC2SE.wav', '135_2b3_Pr_mc_LittC2SE.txt', '135_2b3_Pr_mc_LittC2SE.wav', '135_2b3_Tc_mc_LittC2SE.txt', '135_2b3_Tc_mc_LittC2SE.wav', '136_1b1_Ar_sc_Meditron.txt', '136_1b1_Ar_sc_Meditron.wav', '137_1b1_Ar_sc_Meditron.txt', '137_1b1_Ar_sc_Meditron.wav', '137_1b1_Ll_sc_Meditron.txt', '137_1b1_Ll_sc_Meditron.wav', '138_1p2_Al_mc_AKGC417L.txt', '138_1p2_Al_mc_AKGC417L.wav', '138_1p2_Ar_mc_AKGC417L.txt', '138_1p2_Ar_mc_AKGC417L.wav', '138_1p2_Ll_mc_AKGC417L.txt', '138_1p2_Ll_mc_AKGC417L.wav', '138_1p2_Lr_mc_AKGC417L.txt', '138_1p2_Lr_mc_AKGC417L.wav', '138_1p2_Pl_mc_AKGC417L.txt', '138_1p2_Pl_mc_AKGC417L.wav', '138_1p2_Pr_mc_AKGC417L.txt', '138_1p2_Pr_mc_AKGC417L.wav', '138_1p2_Tc_mc_AKGC417L.txt', '138_1p2_Tc_mc_AKGC417L.wav', '138_1p3_Al_mc_AKGC417L.txt', '138_1p3_Al_mc_AKGC417L.wav', '138_1p3_Ar_mc_AKGC417L.txt', '138_1p3_Ar_mc_AKGC417L.wav', '138_1p3_Ll_mc_AKGC417L.txt', '138_1p3_Ll_mc_AKGC417L.wav', '138_1p3_Lr_mc_AKGC417L.txt', '138_1p3_Lr_mc_AKGC417L.wav', '138_1p3_Pl_mc_AKGC417L.txt', '138_1p3_Pl_mc_AKGC417L.wav', '138_1p3_Pr_mc_AKGC417L.txt', '138_1p3_Pr_mc_AKGC417L.wav', '138_1p3_Tc_mc_AKGC417L.txt', '138_1p3_Tc_mc_AKGC417L.wav', '138_1p4_Ar_mc_AKGC417L.txt', '138_1p4_Ar_mc_AKGC417L.wav', '138_1p4_Ll_mc_AKGC417L.txt', '138_1p4_Ll_mc_AKGC417L.wav', '138_1p4_Lr_mc_AKGC417L.txt', '138_1p4_Lr_mc_AKGC417L.wav', '138_1p4_Pl_mc_AKGC417L.txt', '138_1p4_Pl_mc_AKGC417L.wav', '138_1p4_Pr_mc_AKGC417L.txt', '138_1p4_Pr_mc_AKGC417L.wav', '138_1p4_Tc_mc_AKGC417L.txt', '138_1p4_Tc_mc_AKGC417L.wav', '138_2p2_Al_mc_AKGC417L.txt', '138_2p2_Al_mc_AKGC417L.wav', '138_2p2_Ar_mc_AKGC417L.txt', '138_2p2_Ar_mc_AKGC417L.wav', '138_2p2_Ll_mc_AKGC417L.txt', '138_2p2_Ll_mc_AKGC417L.wav', '138_2p2_Lr_mc_AKGC417L.txt', '138_2p2_Lr_mc_AKGC417L.wav', '138_2p2_Pl_mc_AKGC417L.txt', '138_2p2_Pl_mc_AKGC417L.wav', '138_2p2_Pr_mc_AKGC417L.txt', '138_2p2_Pr_mc_AKGC417L.wav', '138_2p2_Tc_mc_AKGC417L.txt', '138_2p2_Tc_mc_AKGC417L.wav', '139_1b1_Al_sc_Litt3200.txt', '139_1b1_Al_sc_Litt3200.wav', '139_1b1_Ar_sc_Litt3200.txt', '139_1b1_Ar_sc_Litt3200.wav', '139_1b1_Ll_sc_Litt3200.txt', '139_1b1_Ll_sc_Litt3200.wav', '139_1b1_Lr_sc_Litt3200.txt', '139_1b1_Lr_sc_Litt3200.wav', '139_1b1_Pl_sc_Litt3200.txt', '139_1b1_Pl_sc_Litt3200.wav', '139_1b1_Pr_sc_Litt3200.txt', '139_1b1_Pr_sc_Litt3200.wav', '140_2b2_Ll_mc_LittC2SE.txt', '140_2b2_Ll_mc_LittC2SE.wav', '140_2b2_Tc_mc_LittC2SE.txt', '140_2b2_Tc_mc_LittC2SE.wav', '140_2b3_Ll_mc_LittC2SE.txt', '140_2b3_Ll_mc_LittC2SE.wav', '140_2b3_Tc_mc_LittC2SE.txt', '140_2b3_Tc_mc_LittC2SE.wav', '141_1b1_Pr_mc_LittC2SE.txt', '141_1b1_Pr_mc_LittC2SE.wav', '141_1b2_Ar_mc_LittC2SE.txt', '141_1b2_Ar_mc_LittC2SE.wav', '141_1b2_Lr_mc_LittC2SE.txt', '141_1b2_Lr_mc_LittC2SE.wav', '141_1b2_Pr_mc_LittC2SE.txt', '141_1b2_Pr_mc_LittC2SE.wav', '141_1b2_Tc_mc_LittC2SE.txt', '141_1b2_Tc_mc_LittC2SE.wav', '141_1b3_Al_mc_LittC2SE.txt', '141_1b3_Al_mc_LittC2SE.wav', '141_1b3_Ar_mc_LittC2SE.txt', '141_1b3_Ar_mc_LittC2SE.wav', '141_1b3_Pr_mc_LittC2SE.txt', '141_1b3_Pr_mc_LittC2SE.wav', '142_1b1_Pl_mc_LittC2SE.txt', '142_1b1_Pl_mc_LittC2SE.wav', '143_1b1_Al_sc_Meditron.txt', '143_1b1_Al_sc_Meditron.wav', '144_1b1_Al_sc_Meditron.txt', '144_1b1_Al_sc_Meditron.wav', '144_1b1_Tc_sc_Meditron.txt', '144_1b1_Tc_sc_Meditron.wav', '145_2b2_Al_mc_AKGC417L.txt', '145_2b2_Al_mc_AKGC417L.wav', '145_2b2_Ar_mc_AKGC417L.txt', '145_2b2_Ar_mc_AKGC417L.wav', '145_2b2_Lr_mc_AKGC417L.txt', '145_2b2_Lr_mc_AKGC417L.wav', '145_2b2_Pr_mc_AKGC417L.txt', '145_2b2_Pr_mc_AKGC417L.wav', '145_3b2_Ar_mc_AKGC417L.txt', '145_3b2_Ar_mc_AKGC417L.wav', '145_3b2_Lr_mc_AKGC417L.txt', '145_3b2_Lr_mc_AKGC417L.wav', '145_3b4_Pl_mc_AKGC417L.txt', '145_3b4_Pl_mc_AKGC417L.wav', '146_2b2_Pl_mc_AKGC417L.txt', '146_2b2_Pl_mc_AKGC417L.wav', '146_2b4_Al_mc_AKGC417L.txt', '146_2b4_Al_mc_AKGC417L.wav', '146_2b4_Ar_mc_AKGC417L.txt', '146_2b4_Ar_mc_AKGC417L.wav', '146_2b4_Ll_mc_AKGC417L.txt', '146_2b4_Ll_mc_AKGC417L.wav', '146_2b4_Lr_mc_AKGC417L.txt', '146_2b4_Lr_mc_AKGC417L.wav', '146_2b4_Pr_mc_AKGC417L.txt', '146_2b4_Pr_mc_AKGC417L.wav', '146_8p3_Al_mc_AKGC417L.txt', '146_8p3_Al_mc_AKGC417L.wav', '146_8p3_Ar_mc_AKGC417L.txt', '146_8p3_Ar_mc_AKGC417L.wav', '146_8p3_Lr_mc_AKGC417L.txt', '146_8p3_Lr_mc_AKGC417L.wav', '146_8p3_Pl_mc_AKGC417L.txt', '146_8p3_Pl_mc_AKGC417L.wav', '146_8p3_Pr_mc_AKGC417L.txt', '146_8p3_Pr_mc_AKGC417L.wav', '147_1b2_Tc_mc_AKGC417L.txt', '147_1b2_Tc_mc_AKGC417L.wav', '147_1b3_Tc_mc_AKGC417L.txt', '147_1b3_Tc_mc_AKGC417L.wav', '147_1b4_Tc_mc_AKGC417L.txt', '147_1b4_Tc_mc_AKGC417L.wav', '147_2b2_Al_mc_AKGC417L.txt', '147_2b2_Al_mc_AKGC417L.wav', '147_2b2_Ar_mc_AKGC417L.txt', '147_2b2_Ar_mc_AKGC417L.wav', '147_2b2_Pl_mc_AKGC417L.txt', '147_2b2_Pl_mc_AKGC417L.wav', '147_2b3_Al_mc_AKGC417L.txt', '147_2b3_Al_mc_AKGC417L.wav', '147_2b3_Ar_mc_AKGC417L.txt', '147_2b3_Ar_mc_AKGC417L.wav', '147_2b3_Ll_mc_AKGC417L.txt', '147_2b3_Ll_mc_AKGC417L.wav', '147_2b3_Lr_mc_AKGC417L.txt', '147_2b3_Lr_mc_AKGC417L.wav', '147_2b3_Pl_mc_AKGC417L.txt', '147_2b3_Pl_mc_AKGC417L.wav', '147_2b4_Al_mc_AKGC417L.txt', '147_2b4_Al_mc_AKGC417L.wav', '147_2b4_Ar_mc_AKGC417L.txt', '147_2b4_Ar_mc_AKGC417L.wav', '147_2b4_Ll_mc_AKGC417L.txt', '147_2b4_Ll_mc_AKGC417L.wav', '147_2b4_Lr_mc_AKGC417L.txt', '147_2b4_Lr_mc_AKGC417L.wav', '147_2b4_Pl_mc_AKGC417L.txt', '147_2b4_Pl_mc_AKGC417L.wav', '148_1b1_Al_sc_Meditron.txt', '148_1b1_Al_sc_Meditron.wav', '149_1b1_Al_sc_Meditron.txt', '149_1b1_Al_sc_Meditron.wav', '149_1b1_Lr_sc_Meditron.txt', '149_1b1_Lr_sc_Meditron.wav', '149_1b1_Pl_sc_Meditron.txt', '149_1b1_Pl_sc_Meditron.wav', '150_1b2_Al_sc_Meditron.txt', '150_1b2_Al_sc_Meditron.wav', '151_2p2_Al_mc_AKGC417L.txt', '151_2p2_Al_mc_AKGC417L.wav', '151_2p2_Ar_mc_AKGC417L.txt', '151_2p2_Ar_mc_AKGC417L.wav', '151_2p2_Ll_mc_AKGC417L.txt', '151_2p2_Ll_mc_AKGC417L.wav', '151_2p2_Lr_mc_AKGC417L.txt', '151_2p2_Lr_mc_AKGC417L.wav', '151_2p2_Pl_mc_AKGC417L.txt', '151_2p2_Pl_mc_AKGC417L.wav', '151_2p2_Pr_mc_AKGC417L.txt', '151_2p2_Pr_mc_AKGC417L.wav', '151_2p2_Tc_mc_AKGC417L.txt', '151_2p2_Tc_mc_AKGC417L.wav', '151_2p3_Al_mc_AKGC417L.txt', '151_2p3_Al_mc_AKGC417L.wav', '151_2p3_Ar_mc_AKGC417L.txt', '151_2p3_Ar_mc_AKGC417L.wav', '151_2p3_Ll_mc_AKGC417L.txt', '151_2p3_Ll_mc_AKGC417L.wav', '151_2p3_Lr_mc_AKGC417L.txt', '151_2p3_Lr_mc_AKGC417L.wav', '151_2p3_Pl_mc_AKGC417L.txt', '151_2p3_Pl_mc_AKGC417L.wav', '151_2p3_Pr_mc_AKGC417L.txt', '151_2p3_Pr_mc_AKGC417L.wav', '151_2p3_Tc_mc_AKGC417L.txt', '151_2p3_Tc_mc_AKGC417L.wav', '151_2p4_Al_mc_AKGC417L.txt', '151_2p4_Al_mc_AKGC417L.wav', '151_2p4_Ar_mc_AKGC417L.txt', '151_2p4_Ar_mc_AKGC417L.wav', '151_2p4_Ll_mc_AKGC417L.txt', '151_2p4_Ll_mc_AKGC417L.wav', '151_2p4_Lr_mc_AKGC417L.txt', '151_2p4_Lr_mc_AKGC417L.wav', '151_2p4_Pl_mc_AKGC417L.txt', '151_2p4_Pl_mc_AKGC417L.wav', '151_2p4_Pr_mc_AKGC417L.txt', '151_2p4_Pr_mc_AKGC417L.wav', '151_2p4_Tc_mc_AKGC417L.txt', '151_2p4_Tc_mc_AKGC417L.wav', '151_3p2_Al_mc_AKGC417L.txt', '151_3p2_Al_mc_AKGC417L.wav', '151_3p2_Ar_mc_AKGC417L.txt', '151_3p2_Ar_mc_AKGC417L.wav', '151_3p2_Lr_mc_AKGC417L.txt', '151_3p2_Lr_mc_AKGC417L.wav', '151_3p2_Pl_mc_AKGC417L.txt', '151_3p2_Pl_mc_AKGC417L.wav', '151_3p2_Pr_mc_AKGC417L.txt', '151_3p2_Pr_mc_AKGC417L.wav', '151_3p2_Tc_mc_AKGC417L.txt', '151_3p2_Tc_mc_AKGC417L.wav', '151_3p3_Ll_mc_AKGC417L.txt', '151_3p3_Ll_mc_AKGC417L.wav', '152_1b1_Al_sc_Meditron.txt', '152_1b1_Al_sc_Meditron.wav', '153_1b1_Al_sc_Meditron.txt', '153_1b1_Al_sc_Meditron.wav', '154_1b3_Al_mc_AKGC417L.txt', '154_1b3_Al_mc_AKGC417L.wav', '154_1b3_Ar_mc_AKGC417L.txt', '154_1b3_Ar_mc_AKGC417L.wav', '154_1b3_Ll_mc_AKGC417L.txt', '154_1b3_Ll_mc_AKGC417L.wav', '154_1b3_Lr_mc_AKGC417L.txt', '154_1b3_Lr_mc_AKGC417L.wav', '154_1b3_Pl_mc_AKGC417L.txt', '154_1b3_Pl_mc_AKGC417L.wav', '154_1b3_Pr_mc_AKGC417L.txt', '154_1b3_Pr_mc_AKGC417L.wav', '154_1b3_Tc_mc_AKGC417L.txt', '154_1b3_Tc_mc_AKGC417L.wav', '154_2b4_Al_mc_AKGC417L.txt', '154_2b4_Al_mc_AKGC417L.wav', '154_2b4_Ar_mc_AKGC417L.txt', '154_2b4_Ar_mc_AKGC417L.wav', '154_2b4_Ll_mc_AKGC417L.txt', '154_2b4_Ll_mc_AKGC417L.wav', '154_2b4_Lr_mc_AKGC417L.txt', '154_2b4_Lr_mc_AKGC417L.wav', '154_2b4_Pl_mc_AKGC417L.txt', '154_2b4_Pl_mc_AKGC417L.wav', '154_2b4_Pr_mc_AKGC417L.txt', '154_2b4_Pr_mc_AKGC417L.wav', '154_2b4_Tc_mc_AKGC417L.txt', '154_2b4_Tc_mc_AKGC417L.wav', '154_3b3_Al_mc_AKGC417L.txt', '154_3b3_Al_mc_AKGC417L.wav', '154_3b3_Ar_mc_AKGC417L.txt', '154_3b3_Ar_mc_AKGC417L.wav', '154_3b3_Ll_mc_AKGC417L.txt', '154_3b3_Ll_mc_AKGC417L.wav', '154_4b4_Al_mc_AKGC417L.txt', '154_4b4_Al_mc_AKGC417L.wav', '154_4b4_Ar_mc_AKGC417L.txt', '154_4b4_Ar_mc_AKGC417L.wav', '154_4b4_Ll_mc_AKGC417L.txt', '154_4b4_Ll_mc_AKGC417L.wav', '154_4b4_Lr_mc_AKGC417L.txt', '154_4b4_Lr_mc_AKGC417L.wav', '154_4b4_Pl_mc_AKGC417L.txt', '154_4b4_Pl_mc_AKGC417L.wav', '154_4b4_Pr_mc_AKGC417L.txt', '154_4b4_Pr_mc_AKGC417L.wav', '155_2b1_Al_mc_LittC2SE.txt', '155_2b1_Al_mc_LittC2SE.wav', '156_2b3_Al_mc_AKGC417L.txt', '156_2b3_Al_mc_AKGC417L.wav', '156_2b3_Ar_mc_AKGC417L.txt', '156_2b3_Ar_mc_AKGC417L.wav', '156_2b3_Ll_mc_AKGC417L.txt', '156_2b3_Ll_mc_AKGC417L.wav', '156_2b3_Lr_mc_AKGC417L.txt', '156_2b3_Lr_mc_AKGC417L.wav', '156_2b3_Pl_mc_AKGC417L.txt', '156_2b3_Pl_mc_AKGC417L.wav', '156_2b3_Pr_mc_AKGC417L.txt', '156_2b3_Pr_mc_AKGC417L.wav', '156_5b3_Al_mc_AKGC417L.txt', '156_5b3_Al_mc_AKGC417L.wav', '156_5b3_Ar_mc_AKGC417L.txt', '156_5b3_Ar_mc_AKGC417L.wav', '156_5b3_Ll_mc_AKGC417L.txt', '156_5b3_Ll_mc_AKGC417L.wav', '156_5b3_Lr_mc_AKGC417L.txt', '156_5b3_Lr_mc_AKGC417L.wav', '156_5b3_Pl_mc_AKGC417L.txt', '156_5b3_Pl_mc_AKGC417L.wav', '156_5b3_Pr_mc_AKGC417L.txt', '156_5b3_Pr_mc_AKGC417L.wav', '156_8b3_Al_mc_AKGC417L.txt', '156_8b3_Al_mc_AKGC417L.wav', '156_8b3_Ar_mc_AKGC417L.txt', '156_8b3_Ar_mc_AKGC417L.wav', '156_8b3_Ll_mc_AKGC417L.txt', '156_8b3_Ll_mc_AKGC417L.wav', '156_8b3_Lr_mc_AKGC417L.txt', '156_8b3_Lr_mc_AKGC417L.wav', '156_8b3_Pl_mc_AKGC417L.txt', '156_8b3_Pl_mc_AKGC417L.wav', '157_1b1_Al_sc_Meditron.txt', '157_1b1_Al_sc_Meditron.wav', '157_1b1_Ar_sc_Meditron.txt', '157_1b1_Ar_sc_Meditron.wav', '157_1b1_Lr_sc_Meditron.txt', '157_1b1_Lr_sc_Meditron.wav', '157_1b1_Pl_sc_Meditron.txt', '157_1b1_Pl_sc_Meditron.wav', '157_1b1_Pr_sc_Meditron.txt', '157_1b1_Pr_sc_Meditron.wav', '158_1b3_Ar_mc_LittC2SE.txt', '158_1b3_Ar_mc_LittC2SE.wav', '158_1p2_Al_mc_AKGC417L.txt', '158_1p2_Al_mc_AKGC417L.wav', '158_1p2_Ar_mc_AKGC417L.txt', '158_1p2_Ar_mc_AKGC417L.wav', '158_1p2_Ll_mc_AKGC417L.txt', '158_1p2_Ll_mc_AKGC417L.wav', '158_1p2_Lr_mc_AKGC417L.txt', '158_1p2_Lr_mc_AKGC417L.wav', '158_1p2_Pl_mc_AKGC417L.txt', '158_1p2_Pl_mc_AKGC417L.wav', '158_1p2_Pr_mc_AKGC417L.txt', '158_1p2_Pr_mc_AKGC417L.wav', '158_1p2_Tc_mc_AKGC417L.txt', '158_1p2_Tc_mc_AKGC417L.wav', '158_1p3_Al_mc_AKGC417L.txt', '158_1p3_Al_mc_AKGC417L.wav', '158_1p3_Ar_mc_AKGC417L.txt', '158_1p3_Ar_mc_AKGC417L.wav', '158_1p3_Ll_mc_AKGC417L.txt', '158_1p3_Ll_mc_AKGC417L.wav', '158_1p3_Lr_mc_AKGC417L.txt', '158_1p3_Lr_mc_AKGC417L.wav', '158_1p3_Pl_mc_AKGC417L.txt', '158_1p3_Pl_mc_AKGC417L.wav', '158_1p3_Pr_mc_AKGC417L.txt', '158_1p3_Pr_mc_AKGC417L.wav', '158_1p3_Tc_mc_AKGC417L.txt', '158_1p3_Tc_mc_AKGC417L.wav', '158_1p4_Al_mc_AKGC417L.txt', '158_1p4_Al_mc_AKGC417L.wav', '158_1p4_Ar_mc_AKGC417L.txt', '158_1p4_Ar_mc_AKGC417L.wav', '158_1p4_Lr_mc_AKGC417L.txt', '158_1p4_Lr_mc_AKGC417L.wav', '158_1p4_Pl_mc_AKGC417L.txt', '158_1p4_Pl_mc_AKGC417L.wav', '158_1p4_Pr_mc_AKGC417L.txt', '158_1p4_Pr_mc_AKGC417L.wav', '158_1p4_Tc_mc_AKGC417L.txt', '158_1p4_Tc_mc_AKGC417L.wav', '158_2p2_Ar_mc_AKGC417L.txt', '158_2p2_Ar_mc_AKGC417L.wav', '158_2p3_Lr_mc_AKGC417L.txt', '158_2p3_Lr_mc_AKGC417L.wav', '158_2p3_Tc_mc_AKGC417L.txt', '158_2p3_Tc_mc_AKGC417L.wav', '159_1b1_Al_sc_Meditron.txt', '159_1b1_Al_sc_Meditron.wav', '159_1b1_Ar_sc_Meditron.txt', '159_1b1_Ar_sc_Meditron.wav', '159_1b1_Ll_sc_Meditron.txt', '159_1b1_Ll_sc_Meditron.wav', '159_1b1_Pr_sc_Meditron.txt', '159_1b1_Pr_sc_Meditron.wav', '160_1b2_Al_mc_AKGC417L.txt', '160_1b2_Al_mc_AKGC417L.wav', '160_1b2_Ar_mc_AKGC417L.txt', '160_1b2_Ar_mc_AKGC417L.wav', '160_1b2_Lr_mc_AKGC417L.txt', '160_1b2_Lr_mc_AKGC417L.wav', '160_1b2_Pl_mc_AKGC417L.txt', '160_1b2_Pl_mc_AKGC417L.wav', '160_1b2_Pr_mc_AKGC417L.txt', '160_1b2_Pr_mc_AKGC417L.wav', '160_1b2_Tc_mc_AKGC417L.txt', '160_1b2_Tc_mc_AKGC417L.wav', '160_1b3_Al_mc_AKGC417L.txt', '160_1b3_Al_mc_AKGC417L.wav', '160_1b3_Ar_mc_AKGC417L.txt', '160_1b3_Ar_mc_AKGC417L.wav', '160_1b3_Lr_mc_AKGC417L.txt', '160_1b3_Lr_mc_AKGC417L.wav', '160_1b3_Pl_mc_AKGC417L.txt', '160_1b3_Pl_mc_AKGC417L.wav', '160_1b3_Pr_mc_AKGC417L.txt', '160_1b3_Pr_mc_AKGC417L.wav', '160_1b3_Tc_mc_AKGC417L.txt', '160_1b3_Tc_mc_AKGC417L.wav', '160_1b4_Al_mc_AKGC417L.txt', '160_1b4_Al_mc_AKGC417L.wav', '160_1b4_Ar_mc_AKGC417L.txt', '160_1b4_Ar_mc_AKGC417L.wav', '160_1b4_Lr_mc_AKGC417L.txt', '160_1b4_Lr_mc_AKGC417L.wav', '160_1b4_Pl_mc_AKGC417L.txt', '160_1b4_Pl_mc_AKGC417L.wav', '160_1b4_Pr_mc_AKGC417L.txt', '160_1b4_Pr_mc_AKGC417L.wav', '160_1b4_Tc_mc_AKGC417L.txt', '160_1b4_Tc_mc_AKGC417L.wav', '160_2b3_Lr_mc_AKGC417L.txt', '160_2b3_Lr_mc_AKGC417L.wav', '160_2b4_Ar_mc_AKGC417L.txt', '160_2b4_Ar_mc_AKGC417L.wav', '160_2b4_Pl_mc_AKGC417L.txt', '160_2b4_Pl_mc_AKGC417L.wav', '160_2b4_Pr_mc_AKGC417L.txt', '160_2b4_Pr_mc_AKGC417L.wav', '160_2b4_Tc_mc_AKGC417L.txt', '160_2b4_Tc_mc_AKGC417L.wav', '161_1b1_Al_sc_Meditron.txt', '161_1b1_Al_sc_Meditron.wav', '161_1b1_Pl_sc_Meditron.txt', '161_1b1_Pl_sc_Meditron.wav', '162_1b2_Al_mc_AKGC417L.txt', '162_1b2_Al_mc_AKGC417L.wav', '162_1b2_Ar_mc_AKGC417L.txt', '162_1b2_Ar_mc_AKGC417L.wav', '162_1b2_Ll_mc_AKGC417L.txt', '162_1b2_Ll_mc_AKGC417L.wav', '162_1b2_Lr_mc_AKGC417L.txt', '162_1b2_Lr_mc_AKGC417L.wav', '162_1b2_Pl_mc_AKGC417L.txt', '162_1b2_Pl_mc_AKGC417L.wav', '162_1b2_Pr_mc_AKGC417L.txt', '162_1b2_Pr_mc_AKGC417L.wav', '162_1b2_Tc_mc_AKGC417L.txt', '162_1b2_Tc_mc_AKGC417L.wav', '162_2b2_Al_mc_AKGC417L.txt', '162_2b2_Al_mc_AKGC417L.wav', '162_2b2_Ar_mc_AKGC417L.txt', '162_2b2_Ar_mc_AKGC417L.wav', '162_2b2_Pl_mc_AKGC417L.txt', '162_2b2_Pl_mc_AKGC417L.wav', '162_2b2_Pr_mc_AKGC417L.txt', '162_2b2_Pr_mc_AKGC417L.wav', '162_2b2_Tc_mc_AKGC417L.txt', '162_2b2_Tc_mc_AKGC417L.wav', '162_2b3_Al_mc_AKGC417L.txt', '162_2b3_Al_mc_AKGC417L.wav', '162_2b3_Ar_mc_AKGC417L.txt', '162_2b3_Ar_mc_AKGC417L.wav', '162_2b3_Lr_mc_AKGC417L.txt', '162_2b3_Lr_mc_AKGC417L.wav', '162_2b3_Pl_mc_AKGC417L.txt', '162_2b3_Pl_mc_AKGC417L.wav', '162_2b3_Pr_mc_AKGC417L.txt', '162_2b3_Pr_mc_AKGC417L.wav', '162_2b3_Tc_mc_AKGC417L.txt', '162_2b3_Tc_mc_AKGC417L.wav', '162_2b4_Al_mc_AKGC417L.txt', '162_2b4_Al_mc_AKGC417L.wav', '162_2b4_Ar_mc_AKGC417L.txt', '162_2b4_Ar_mc_AKGC417L.wav', '162_2b4_Lr_mc_AKGC417L.txt', '162_2b4_Lr_mc_AKGC417L.wav', '162_2b4_Pl_mc_AKGC417L.txt', '162_2b4_Pl_mc_AKGC417L.wav', '162_2b4_Pr_mc_AKGC417L.txt', '162_2b4_Pr_mc_AKGC417L.wav', '162_2b4_Tc_mc_AKGC417L.txt', '162_2b4_Tc_mc_AKGC417L.wav', '163_2b2_Al_mc_AKGC417L.txt', '163_2b2_Al_mc_AKGC417L.wav', '163_2b2_Ar_mc_AKGC417L.txt', '163_2b2_Ar_mc_AKGC417L.wav', '163_2b2_Ll_mc_AKGC417L.txt', '163_2b2_Ll_mc_AKGC417L.wav', '163_2b2_Lr_mc_AKGC417L.txt', '163_2b2_Lr_mc_AKGC417L.wav', '163_2b2_Pl_mc_AKGC417L.txt', '163_2b2_Pl_mc_AKGC417L.wav', '163_2b2_Pr_mc_AKGC417L.txt', '163_2b2_Pr_mc_AKGC417L.wav', '163_2b2_Tc_mc_AKGC417L.txt', '163_2b2_Tc_mc_AKGC417L.wav', '163_8b3_Al_mc_AKGC417L.txt', '163_8b3_Al_mc_AKGC417L.wav', '163_8b3_Ar_mc_AKGC417L.txt', '163_8b3_Ar_mc_AKGC417L.wav', '163_8b3_Ll_mc_AKGC417L.txt', '163_8b3_Ll_mc_AKGC417L.wav', '163_8b3_Lr_mc_AKGC417L.txt', '163_8b3_Lr_mc_AKGC417L.wav', '163_8b3_Pl_mc_AKGC417L.txt', '163_8b3_Pl_mc_AKGC417L.wav', '163_8b3_Pr_mc_AKGC417L.txt', '163_8b3_Pr_mc_AKGC417L.wav', '164_1b1_Ll_sc_Meditron.txt', '164_1b1_Ll_sc_Meditron.wav', '165_1b1_Ar_sc_Meditron.txt', '165_1b1_Ar_sc_Meditron.wav', '165_1b1_Pl_sc_Meditron.txt', '165_1b1_Pl_sc_Meditron.wav', '165_1b1_Pr_sc_Meditron.txt', '165_1b1_Pr_sc_Meditron.wav', '166_1p1_Al_sc_Meditron.txt', '166_1p1_Al_sc_Meditron.wav', '166_1p1_Ar_sc_Meditron.txt', '166_1p1_Ar_sc_Meditron.wav', '166_1p1_Ll_sc_Meditron.txt', '166_1p1_Ll_sc_Meditron.wav', '166_1p1_Pl_sc_Meditron.txt', '166_1p1_Pl_sc_Meditron.wav', '166_1p1_Pr_sc_Meditron.txt', '166_1p1_Pr_sc_Meditron.wav', '167_1b1_Al_sc_Meditron.txt', '167_1b1_Al_sc_Meditron.wav', '167_1b1_Pr_sc_Meditron.txt', '167_1b1_Pr_sc_Meditron.wav', '168_1b1_Al_sc_Meditron.txt', '168_1b1_Al_sc_Meditron.wav', '169_1b1_Lr_sc_Meditron.txt', '169_1b1_Lr_sc_Meditron.wav', '169_1b2_Ll_sc_Meditron.txt', '169_1b2_Ll_sc_Meditron.wav', '170_1b2_Al_mc_AKGC417L.txt', '170_1b2_Al_mc_AKGC417L.wav', '170_1b2_Ar_mc_AKGC417L.txt', '170_1b2_Ar_mc_AKGC417L.wav', '170_1b2_Lr_mc_AKGC417L.txt', '170_1b2_Lr_mc_AKGC417L.wav', '170_1b2_Pl_mc_AKGC417L.txt', '170_1b2_Pl_mc_AKGC417L.wav', '170_1b2_Pr_mc_AKGC417L.txt', '170_1b2_Pr_mc_AKGC417L.wav', '170_1b2_Tc_mc_AKGC417L.txt', '170_1b2_Tc_mc_AKGC417L.wav', '170_1b3_Al_mc_AKGC417L.txt', '170_1b3_Al_mc_AKGC417L.wav', '170_1b3_Ar_mc_AKGC417L.txt', '170_1b3_Ar_mc_AKGC417L.wav', '170_1b3_Ll_mc_AKGC417L.txt', '170_1b3_Ll_mc_AKGC417L.wav', '170_1b3_Lr_mc_AKGC417L.txt', '170_1b3_Lr_mc_AKGC417L.wav', '170_1b3_Pl_mc_AKGC417L.txt', '170_1b3_Pl_mc_AKGC417L.wav', '170_1b3_Pr_mc_AKGC417L.txt', '170_1b3_Pr_mc_AKGC417L.wav', '170_1b3_Tc_mc_AKGC417L.txt', '170_1b3_Tc_mc_AKGC417L.wav', '170_1b4_Al_mc_AKGC417L.txt', '170_1b4_Al_mc_AKGC417L.wav', '170_1b4_Ar_mc_AKGC417L.txt', '170_1b4_Ar_mc_AKGC417L.wav', '170_1b4_Lr_mc_AKGC417L.txt', '170_1b4_Lr_mc_AKGC417L.wav', '170_1b4_Pl_mc_AKGC417L.txt', '170_1b4_Pl_mc_AKGC417L.wav', '170_1b4_Pr_mc_AKGC417L.txt', '170_1b4_Pr_mc_AKGC417L.wav', '170_1b4_Tc_mc_AKGC417L.txt', '170_1b4_Tc_mc_AKGC417L.wav', '170_2b2_Al_mc_AKGC417L.txt', '170_2b2_Al_mc_AKGC417L.wav', '170_2b2_Ar_mc_AKGC417L.txt', '170_2b2_Ar_mc_AKGC417L.wav', '170_2b2_Lr_mc_AKGC417L.txt', '170_2b2_Lr_mc_AKGC417L.wav', '170_2b2_Pl_mc_AKGC417L.txt', '170_2b2_Pl_mc_AKGC417L.wav', '170_2b2_Pr_mc_AKGC417L.txt', '170_2b2_Pr_mc_AKGC417L.wav', '170_2b2_Tc_mc_AKGC417L.txt', '170_2b2_Tc_mc_AKGC417L.wav', '171_1b1_Al_sc_Meditron.txt', '171_1b1_Al_sc_Meditron.wav', '172_1b3_Al_mc_AKGC417L.txt', '172_1b3_Al_mc_AKGC417L.wav', '172_1b3_Ar_mc_AKGC417L.txt', '172_1b3_Ar_mc_AKGC417L.wav', '172_1b3_Ll_mc_AKGC417L.txt', '172_1b3_Ll_mc_AKGC417L.wav', '172_1b3_Lr_mc_AKGC417L.txt', '172_1b3_Lr_mc_AKGC417L.wav', '172_1b3_Pl_mc_AKGC417L.txt', '172_1b3_Pl_mc_AKGC417L.wav', '172_1b3_Pr_mc_AKGC417L.txt', '172_1b3_Pr_mc_AKGC417L.wav', '172_1b3_Tc_mc_AKGC417L.txt', '172_1b3_Tc_mc_AKGC417L.wav', '172_1b4_Al_mc_AKGC417L.txt', '172_1b4_Al_mc_AKGC417L.wav', '172_1b4_Ar_mc_AKGC417L.txt', '172_1b4_Ar_mc_AKGC417L.wav', '172_1b4_Ll_mc_AKGC417L.txt', '172_1b4_Ll_mc_AKGC417L.wav', '172_1b4_Lr_mc_AKGC417L.txt', '172_1b4_Lr_mc_AKGC417L.wav', '172_1b4_Pl_mc_AKGC417L.txt', '172_1b4_Pl_mc_AKGC417L.wav', '172_1b4_Pr_mc_AKGC417L.txt', '172_1b4_Pr_mc_AKGC417L.wav', '172_1b4_Tc_mc_AKGC417L.txt', '172_1b4_Tc_mc_AKGC417L.wav', '172_1b5_Al_mc_AKGC417L.txt', '172_1b5_Al_mc_AKGC417L.wav', '172_1b5_Ar_mc_AKGC417L.txt', '172_1b5_Ar_mc_AKGC417L.wav', '172_1b5_Ll_mc_AKGC417L.txt', '172_1b5_Ll_mc_AKGC417L.wav', '172_1b5_Lr_mc_AKGC417L.txt', '172_1b5_Lr_mc_AKGC417L.wav', '172_1b5_Pl_mc_AKGC417L.txt', '172_1b5_Pl_mc_AKGC417L.wav', '172_1b5_Pr_mc_AKGC417L.txt', '172_1b5_Pr_mc_AKGC417L.wav', '172_1b5_Tc_mc_AKGC417L.txt', '172_1b5_Tc_mc_AKGC417L.wav', '172_2b5_Al_mc_AKGC417L.txt', '172_2b5_Al_mc_AKGC417L.wav', '172_2b5_Ar_mc_AKGC417L.txt', '172_2b5_Ar_mc_AKGC417L.wav', '172_2b5_Lr_mc_AKGC417L.txt', '172_2b5_Lr_mc_AKGC417L.wav', '172_2b5_Pl_mc_AKGC417L.txt', '172_2b5_Pl_mc_AKGC417L.wav', '172_2b5_Pr_mc_AKGC417L.txt', '172_2b5_Pr_mc_AKGC417L.wav', '172_2b5_Tc_mc_AKGC417L.txt', '172_2b5_Tc_mc_AKGC417L.wav', '173_1b1_Al_sc_Meditron.txt', '173_1b1_Al_sc_Meditron.wav', '174_1p2_Ar_mc_AKGC417L.txt', '174_1p2_Ar_mc_AKGC417L.wav', '174_1p2_Ll_mc_AKGC417L.txt', '174_1p2_Ll_mc_AKGC417L.wav', '174_1p2_Lr_mc_AKGC417L.txt', '174_1p2_Lr_mc_AKGC417L.wav', '174_1p2_Pl_mc_AKGC417L.txt', '174_1p2_Pl_mc_AKGC417L.wav', '174_1p2_Pr_mc_AKGC417L.txt', '174_1p2_Pr_mc_AKGC417L.wav', '174_1p2_Tc_mc_AKGC417L.txt', '174_1p2_Tc_mc_AKGC417L.wav', '174_1p3_Ar_mc_AKGC417L.txt', '174_1p3_Ar_mc_AKGC417L.wav', '174_1p3_Ll_mc_AKGC417L.txt', '174_1p3_Ll_mc_AKGC417L.wav', '174_1p3_Lr_mc_AKGC417L.txt', '174_1p3_Lr_mc_AKGC417L.wav', '174_1p3_Pl_mc_AKGC417L.txt', '174_1p3_Pl_mc_AKGC417L.wav', '174_1p3_Pr_mc_AKGC417L.txt', '174_1p3_Pr_mc_AKGC417L.wav', '174_1p3_Tc_mc_AKGC417L.txt', '174_1p3_Tc_mc_AKGC417L.wav', '174_1p4_Ar_mc_AKGC417L.txt', '174_1p4_Ar_mc_AKGC417L.wav', '174_1p4_Ll_mc_AKGC417L.txt', '174_1p4_Ll_mc_AKGC417L.wav', '174_1p4_Lr_mc_AKGC417L.txt', '174_1p4_Lr_mc_AKGC417L.wav', '174_1p4_Pl_mc_AKGC417L.txt', '174_1p4_Pl_mc_AKGC417L.wav', '174_1p4_Pr_mc_AKGC417L.txt', '174_1p4_Pr_mc_AKGC417L.wav', '174_1p4_Tc_mc_AKGC417L.txt', '174_1p4_Tc_mc_AKGC417L.wav', '174_2p3_Al_mc_AKGC417L.txt', '174_2p3_Al_mc_AKGC417L.wav', '174_2p3_Ar_mc_AKGC417L.txt', '174_2p3_Ar_mc_AKGC417L.wav', '174_2p3_Pl_mc_AKGC417L.txt', '174_2p3_Pl_mc_AKGC417L.wav', '174_2p3_Pr_mc_AKGC417L.txt', '174_2p3_Pr_mc_AKGC417L.wav', '174_2p3_Tc_mc_AKGC417L.txt', '174_2p3_Tc_mc_AKGC417L.wav', '175_1b1_Al_sc_Litt3200.txt', '175_1b1_Al_sc_Litt3200.wav', '175_1b1_Ar_sc_Litt3200.txt', '175_1b1_Ar_sc_Litt3200.wav', '175_1b1_Ll_sc_Litt3200.txt', '175_1b1_Ll_sc_Litt3200.wav', '175_1b1_Lr_sc_Litt3200.txt', '175_1b1_Lr_sc_Litt3200.wav', '175_1b1_Pl_sc_Litt3200.txt', '175_1b1_Pl_sc_Litt3200.wav', '175_1b1_Pr_sc_Litt3200.txt', '175_1b1_Pr_sc_Litt3200.wav', '176_1b3_Al_mc_AKGC417L.txt', '176_1b3_Al_mc_AKGC417L.wav', '176_1b3_Ar_mc_AKGC417L.txt', '176_1b3_Ar_mc_AKGC417L.wav', '176_1b3_Ll_mc_AKGC417L.txt', '176_1b3_Ll_mc_AKGC417L.wav', '176_1b3_Lr_mc_AKGC417L.txt', '176_1b3_Lr_mc_AKGC417L.wav', '176_1b3_Pl_mc_AKGC417L.txt', '176_1b3_Pl_mc_AKGC417L.wav', '176_1b3_Pr_mc_AKGC417L.txt', '176_1b3_Pr_mc_AKGC417L.wav', '176_1b3_Tc_mc_AKGC417L.txt', '176_1b3_Tc_mc_AKGC417L.wav', '176_1b4_Al_mc_AKGC417L.txt', '176_1b4_Al_mc_AKGC417L.wav', '176_1b4_Ar_mc_AKGC417L.txt', '176_1b4_Ar_mc_AKGC417L.wav', '176_1b4_Ll_mc_AKGC417L.txt', '176_1b4_Ll_mc_AKGC417L.wav', '176_1b4_Lr_mc_AKGC417L.txt', '176_1b4_Lr_mc_AKGC417L.wav', '176_1b4_Pl_mc_AKGC417L.txt', '176_1b4_Pl_mc_AKGC417L.wav', '176_1b4_Pr_mc_AKGC417L.txt', '176_1b4_Pr_mc_AKGC417L.wav', '176_1b4_Tc_mc_AKGC417L.txt', '176_1b4_Tc_mc_AKGC417L.wav', '176_2b3_Al_mc_AKGC417L.txt', '176_2b3_Al_mc_AKGC417L.wav', '176_2b3_Ar_mc_AKGC417L.txt', '176_2b3_Ar_mc_AKGC417L.wav', '176_2b3_Ll_mc_AKGC417L.txt', '176_2b3_Ll_mc_AKGC417L.wav', '176_2b3_Lr_mc_AKGC417L.txt', '176_2b3_Lr_mc_AKGC417L.wav', '176_2b3_Pl_mc_AKGC417L.txt', '176_2b3_Pl_mc_AKGC417L.wav', '176_2b3_Pr_mc_AKGC417L.txt', '176_2b3_Pr_mc_AKGC417L.wav', '176_2b3_Tc_mc_AKGC417L.txt', '176_2b3_Tc_mc_AKGC417L.wav', '177_1b2_Al_mc_AKGC417L.txt', '177_1b2_Al_mc_AKGC417L.wav', '177_1b2_Ar_mc_AKGC417L.txt', '177_1b2_Ar_mc_AKGC417L.wav', '177_1b2_Lr_mc_AKGC417L.txt', '177_1b2_Lr_mc_AKGC417L.wav', '177_1b2_Pl_mc_AKGC417L.txt', '177_1b2_Pl_mc_AKGC417L.wav', '177_1b2_Pr_mc_AKGC417L.txt', '177_1b2_Pr_mc_AKGC417L.wav', '177_1b2_Tc_mc_AKGC417L.txt', '177_1b2_Tc_mc_AKGC417L.wav', '177_1b4_Al_mc_AKGC417L.txt', '177_1b4_Al_mc_AKGC417L.wav', '177_1b4_Ar_mc_AKGC417L.txt', '177_1b4_Ar_mc_AKGC417L.wav', '177_1b4_Lr_mc_AKGC417L.txt', '177_1b4_Lr_mc_AKGC417L.wav', '177_1b4_Pl_mc_AKGC417L.txt', '177_1b4_Pl_mc_AKGC417L.wav', '177_1b4_Pr_mc_AKGC417L.txt', '177_1b4_Pr_mc_AKGC417L.wav', '177_1b4_Tc_mc_AKGC417L.txt', '177_1b4_Tc_mc_AKGC417L.wav', '177_2b4_Al_mc_AKGC417L.txt', '177_2b4_Al_mc_AKGC417L.wav', '177_2b4_Lr_mc_AKGC417L.txt', '177_2b4_Lr_mc_AKGC417L.wav', '177_2b4_Pl_mc_AKGC417L.txt', '177_2b4_Pl_mc_AKGC417L.wav', '177_2b4_Pr_mc_AKGC417L.txt', '177_2b4_Pr_mc_AKGC417L.wav', '177_2b4_Tc_mc_AKGC417L.txt', '177_2b4_Tc_mc_AKGC417L.wav', '178_1b2_Al_mc_AKGC417L.txt', '178_1b2_Al_mc_AKGC417L.wav', '178_1b2_Ar_mc_AKGC417L.txt', '178_1b2_Ar_mc_AKGC417L.wav', '178_1b2_Lr_mc_AKGC417L.txt', '178_1b2_Lr_mc_AKGC417L.wav', '178_1b2_Pl_mc_AKGC417L.txt', '178_1b2_Pl_mc_AKGC417L.wav', '178_1b2_Pr_mc_AKGC417L.txt', '178_1b2_Pr_mc_AKGC417L.wav', '178_1b2_Tc_mc_AKGC417L.txt', '178_1b2_Tc_mc_AKGC417L.wav', '178_1b3_Al_mc_AKGC417L.txt', '178_1b3_Al_mc_AKGC417L.wav', '178_1b3_Ar_mc_AKGC417L.txt', '178_1b3_Ar_mc_AKGC417L.wav', '178_1b3_Lr_mc_AKGC417L.txt', '178_1b3_Lr_mc_AKGC417L.wav', '178_1b3_Pl_mc_AKGC417L.txt', '178_1b3_Pl_mc_AKGC417L.wav', '178_1b3_Pr_mc_AKGC417L.txt', '178_1b3_Pr_mc_AKGC417L.wav', '178_1b3_Tc_mc_AKGC417L.txt', '178_1b3_Tc_mc_AKGC417L.wav', '178_1b6_Al_mc_AKGC417L.txt', '178_1b6_Al_mc_AKGC417L.wav', '178_1b6_Ar_mc_AKGC417L.txt', '178_1b6_Ar_mc_AKGC417L.wav', '178_1b6_Ll_mc_AKGC417L.txt', '178_1b6_Ll_mc_AKGC417L.wav', '178_1b6_Lr_mc_AKGC417L.txt', '178_1b6_Lr_mc_AKGC417L.wav', '178_1b6_Pl_mc_AKGC417L.txt', '178_1b6_Pl_mc_AKGC417L.wav', '178_1b6_Pr_mc_AKGC417L.txt', '178_1b6_Pr_mc_AKGC417L.wav', '178_1b6_Tc_mc_AKGC417L.txt', '178_1b6_Tc_mc_AKGC417L.wav', '178_2b2_Al_mc_AKGC417L.txt', '178_2b2_Al_mc_AKGC417L.wav', '178_2b2_Ar_mc_AKGC417L.txt', '178_2b2_Ar_mc_AKGC417L.wav', '178_2b2_Lr_mc_AKGC417L.txt', '178_2b2_Lr_mc_AKGC417L.wav', '178_2b2_Pr_mc_AKGC417L.txt', '178_2b2_Pr_mc_AKGC417L.wav', '178_2b2_Tc_mc_AKGC417L.txt', '178_2b2_Tc_mc_AKGC417L.wav', '179_1b1_Al_sc_Meditron.txt', '179_1b1_Al_sc_Meditron.wav', '179_1b1_Tc_sc_Meditron.txt', '179_1b1_Tc_sc_Meditron.wav', '180_1b4_Al_mc_AKGC417L.txt', '180_1b4_Al_mc_AKGC417L.wav', '180_1b4_Ar_mc_AKGC417L.txt', '180_1b4_Ar_mc_AKGC417L.wav', '180_1b4_Lr_mc_AKGC417L.txt', '180_1b4_Lr_mc_AKGC417L.wav', '180_1b4_Pl_mc_AKGC417L.txt', '180_1b4_Pl_mc_AKGC417L.wav', '180_1b4_Pr_mc_AKGC417L.txt', '180_1b4_Pr_mc_AKGC417L.wav', '181_1b1_Ar_mc_LittC2SE.txt', '181_1b1_Ar_mc_LittC2SE.wav', '181_1b1_Tc_mc_LittC2SE.txt', '181_1b1_Tc_mc_LittC2SE.wav', '181_1b2_Ar_mc_LittC2SE.txt', '181_1b2_Ar_mc_LittC2SE.wav', '181_1b3_Tc_mc_LittC2SE.txt', '181_1b3_Tc_mc_LittC2SE.wav', '182_1b1_Tc_sc_Meditron.txt', '182_1b1_Tc_sc_Meditron.wav', '183_1b1_Pl_sc_Meditron.txt', '183_1b1_Pl_sc_Meditron.wav', '183_1b1_Tc_sc_Meditron.txt', '183_1b1_Tc_sc_Meditron.wav', '184_1b1_Ar_sc_Meditron.txt', '184_1b1_Ar_sc_Meditron.wav', '185_1b1_Al_sc_Litt3200.txt', '185_1b1_Al_sc_Litt3200.wav', '185_1b1_Ar_sc_Litt3200.txt', '185_1b1_Ar_sc_Litt3200.wav', '185_1b1_Ll_sc_Litt3200.txt', '185_1b1_Ll_sc_Litt3200.wav', '185_1b1_Lr_sc_Litt3200.txt', '185_1b1_Lr_sc_Litt3200.wav', '185_1b1_Pl_sc_Litt3200.txt', '185_1b1_Pl_sc_Litt3200.wav', '185_1b1_Pr_sc_Litt3200.txt', '185_1b1_Pr_sc_Litt3200.wav', '186_2b2_Al_mc_AKGC417L.txt', '186_2b2_Al_mc_AKGC417L.wav', '186_2b2_Ar_mc_AKGC417L.txt', '186_2b2_Ar_mc_AKGC417L.wav', '186_2b2_Lr_mc_AKGC417L.txt', '186_2b2_Lr_mc_AKGC417L.wav', '186_2b2_Pl_mc_AKGC417L.txt', '186_2b2_Pl_mc_AKGC417L.wav', '186_2b2_Pr_mc_AKGC417L.txt', '186_2b2_Pr_mc_AKGC417L.wav', '186_2b2_Tc_mc_AKGC417L.txt', '186_2b2_Tc_mc_AKGC417L.wav', '186_2b3_Al_mc_AKGC417L.txt', '186_2b3_Al_mc_AKGC417L.wav', '186_2b3_Ar_mc_AKGC417L.txt', '186_2b3_Ar_mc_AKGC417L.wav', '186_2b3_Lr_mc_AKGC417L.txt', '186_2b3_Lr_mc_AKGC417L.wav', '186_2b3_Pl_mc_AKGC417L.txt', '186_2b3_Pl_mc_AKGC417L.wav', '186_2b3_Pr_mc_AKGC417L.txt', '186_2b3_Pr_mc_AKGC417L.wav', '186_2b3_Tc_mc_AKGC417L.txt', '186_2b3_Tc_mc_AKGC417L.wav', '186_2b4_Al_mc_AKGC417L.txt', '186_2b4_Al_mc_AKGC417L.wav', '186_2b4_Ar_mc_AKGC417L.txt', '186_2b4_Ar_mc_AKGC417L.wav', '186_2b4_Lr_mc_AKGC417L.txt', '186_2b4_Lr_mc_AKGC417L.wav', '186_2b4_Pl_mc_AKGC417L.txt', '186_2b4_Pl_mc_AKGC417L.wav', '186_2b4_Pr_mc_AKGC417L.txt', '186_2b4_Pr_mc_AKGC417L.wav', '186_2b4_Tc_mc_AKGC417L.txt', '186_2b4_Tc_mc_AKGC417L.wav', '186_3b3_Al_mc_AKGC417L.txt', '186_3b3_Al_mc_AKGC417L.wav', '186_3b3_Ar_mc_AKGC417L.txt', '186_3b3_Ar_mc_AKGC417L.wav', '186_3b3_Lr_mc_AKGC417L.txt', '186_3b3_Lr_mc_AKGC417L.wav', '186_3b3_Pl_mc_AKGC417L.txt', '186_3b3_Pl_mc_AKGC417L.wav', '186_3b3_Pr_mc_AKGC417L.txt', '186_3b3_Pr_mc_AKGC417L.wav', '186_3b3_Tc_mc_AKGC417L.txt', '186_3b3_Tc_mc_AKGC417L.wav', '187_1b1_Ll_sc_Meditron.txt', '187_1b1_Ll_sc_Meditron.wav', '188_1b1_Al_sc_Meditron.txt', '188_1b1_Al_sc_Meditron.wav', '188_1b1_Ar_sc_Meditron.txt', '188_1b1_Ar_sc_Meditron.wav', '188_1b1_Pl_sc_Meditron.txt', '188_1b1_Pl_sc_Meditron.wav', '188_1b1_Tc_sc_Meditron.txt', '188_1b1_Tc_sc_Meditron.wav', '189_1b2_Lr_mc_LittC2SE.txt', '189_1b2_Lr_mc_LittC2SE.wav', '190_1b1_Tc_sc_Meditron.txt', '190_1b1_Tc_sc_Meditron.wav', '191_2b1_Pl_mc_LittC2SE.txt', '191_2b1_Pl_mc_LittC2SE.wav', '191_2b1_Pr_mc_LittC2SE.txt', '191_2b1_Pr_mc_LittC2SE.wav', '191_2b2_Tc_mc_LittC2SE.txt', '191_2b2_Tc_mc_LittC2SE.wav', '192_2b1_Al_mc_LittC2SE.txt', '192_2b1_Al_mc_LittC2SE.wav', '192_2b1_Ar_mc_LittC2SE.txt', '192_2b1_Ar_mc_LittC2SE.wav', '192_2b2_Al_mc_LittC2SE.txt', '192_2b2_Al_mc_LittC2SE.wav', '192_2b2_Ar_mc_LittC2SE.txt', '192_2b2_Ar_mc_LittC2SE.wav', '192_2b3_Al_mc_LittC2SE.txt', '192_2b3_Al_mc_LittC2SE.wav', '192_2b3_Ar_mc_LittC2SE.txt', '192_2b3_Ar_mc_LittC2SE.wav', '193_1b2_Al_mc_AKGC417L.txt', '193_1b2_Al_mc_AKGC417L.wav', '193_1b2_Ar_mc_AKGC417L.txt', '193_1b2_Ar_mc_AKGC417L.wav', '193_1b2_Ll_mc_AKGC417L.txt', '193_1b2_Ll_mc_AKGC417L.wav', '193_1b2_Pl_mc_AKGC417L.txt', '193_1b2_Pl_mc_AKGC417L.wav', '193_1b2_Pr_mc_AKGC417L.txt', '193_1b2_Pr_mc_AKGC417L.wav', '193_1b2_Tc_mc_AKGC417L.txt', '193_1b2_Tc_mc_AKGC417L.wav', '193_1b4_Lr_mc_AKGC417L.txt', '193_1b4_Lr_mc_AKGC417L.wav', '193_7b3_Al_mc_AKGC417L.txt', '193_7b3_Al_mc_AKGC417L.wav', '193_7b3_Ar_mc_AKGC417L.txt', '193_7b3_Ar_mc_AKGC417L.wav', '193_7b3_Ll_mc_AKGC417L.txt', '193_7b3_Ll_mc_AKGC417L.wav', '193_7b3_Lr_mc_AKGC417L.txt', '193_7b3_Lr_mc_AKGC417L.wav', '193_7b3_Pl_mc_AKGC417L.txt', '193_7b3_Pl_mc_AKGC417L.wav', '193_7b3_Pr_mc_AKGC417L.txt', '193_7b3_Pr_mc_AKGC417L.wav', '193_7b3_Tc_mc_AKGC417L.txt', '193_7b3_Tc_mc_AKGC417L.wav', '194_1b1_Lr_sc_Meditron.txt', '194_1b1_Lr_sc_Meditron.wav', '194_1b1_Pr_sc_Meditron.txt', '194_1b1_Pr_sc_Meditron.wav', '195_1b1_Al_sc_Litt3200.txt', '195_1b1_Al_sc_Litt3200.wav', '195_1b1_Ar_sc_Litt3200.txt', '195_1b1_Ar_sc_Litt3200.wav', '195_1b1_Ll_sc_Litt3200.txt', '195_1b1_Ll_sc_Litt3200.wav', '195_1b1_Lr_sc_Litt3200.txt', '195_1b1_Lr_sc_Litt3200.wav', '195_1b1_Pl_sc_Litt3200.txt', '195_1b1_Pl_sc_Litt3200.wav', '195_1b1_Pr_sc_Litt3200.txt', '195_1b1_Pr_sc_Litt3200.wav', '196_1b1_Pr_sc_Meditron.txt', '196_1b1_Pr_sc_Meditron.wav', '197_1b1_Al_sc_Meditron.txt', '197_1b1_Al_sc_Meditron.wav', '197_1b1_Tc_sc_Meditron.txt', '197_1b1_Tc_sc_Meditron.wav', '198_1b5_Al_mc_AKGC417L.txt', '198_1b5_Al_mc_AKGC417L.wav', '198_1b5_Ar_mc_AKGC417L.txt', '198_1b5_Ar_mc_AKGC417L.wav', '198_1b5_Ll_mc_AKGC417L.txt', '198_1b5_Ll_mc_AKGC417L.wav', '198_1b5_Lr_mc_AKGC417L.txt', '198_1b5_Lr_mc_AKGC417L.wav', '198_1b5_Pl_mc_AKGC417L.txt', '198_1b5_Pl_mc_AKGC417L.wav', '198_1b5_Pr_mc_AKGC417L.txt', '198_1b5_Pr_mc_AKGC417L.wav', '198_1b5_Tc_mc_AKGC417L.txt', '198_1b5_Tc_mc_AKGC417L.wav', '198_6p1_Al_mc_AKGC417L.txt', '198_6p1_Al_mc_AKGC417L.wav', '198_6p1_Ar_mc_AKGC417L.txt', '198_6p1_Ar_mc_AKGC417L.wav', '198_6p1_Ll_mc_AKGC417L.txt', '198_6p1_Ll_mc_AKGC417L.wav', '198_6p1_Lr_mc_AKGC417L.txt', '198_6p1_Lr_mc_AKGC417L.wav', '198_6p1_Pl_mc_AKGC417L.txt', '198_6p1_Pl_mc_AKGC417L.wav', '198_6p1_Pr_mc_AKGC417L.txt', '198_6p1_Pr_mc_AKGC417L.wav', '198_6p1_Tc_mc_AKGC417L.txt', '198_6p1_Tc_mc_AKGC417L.wav', '199_2b1_Ll_mc_LittC2SE.txt', '199_2b1_Ll_mc_LittC2SE.wav', '199_2b3_Ll_mc_LittC2SE.txt', '199_2b3_Ll_mc_LittC2SE.wav', '200_2p2_Al_mc_AKGC417L.txt', '200_2p2_Al_mc_AKGC417L.wav', '200_2p2_Ar_mc_AKGC417L.txt', '200_2p2_Ar_mc_AKGC417L.wav', '200_2p2_Lr_mc_AKGC417L.txt', '200_2p2_Lr_mc_AKGC417L.wav', '200_2p2_Pl_mc_AKGC417L.txt', '200_2p2_Pl_mc_AKGC417L.wav', '200_2p2_Pr_mc_AKGC417L.txt', '200_2p2_Pr_mc_AKGC417L.wav', '200_2p2_Tc_mc_AKGC417L.txt', '200_2p2_Tc_mc_AKGC417L.wav', '200_2p3_Al_mc_AKGC417L.txt', '200_2p3_Al_mc_AKGC417L.wav', '200_2p3_Ar_mc_AKGC417L.txt', '200_2p3_Ar_mc_AKGC417L.wav', '200_2p3_Lr_mc_AKGC417L.txt', '200_2p3_Lr_mc_AKGC417L.wav', '200_2p3_Pl_mc_AKGC417L.txt', '200_2p3_Pl_mc_AKGC417L.wav', '200_2p3_Pr_mc_AKGC417L.txt', '200_2p3_Pr_mc_AKGC417L.wav', '200_2p3_Tc_mc_AKGC417L.txt', '200_2p3_Tc_mc_AKGC417L.wav', '200_2p4_Al_mc_AKGC417L.txt', '200_2p4_Al_mc_AKGC417L.wav', '200_2p4_Ar_mc_AKGC417L.txt', '200_2p4_Ar_mc_AKGC417L.wav', '200_2p4_Lr_mc_AKGC417L.txt', '200_2p4_Lr_mc_AKGC417L.wav', '200_2p4_Pl_mc_AKGC417L.txt', '200_2p4_Pl_mc_AKGC417L.wav', '200_2p4_Pr_mc_AKGC417L.txt', '200_2p4_Pr_mc_AKGC417L.wav', '200_2p4_Tc_mc_AKGC417L.txt', '200_2p4_Tc_mc_AKGC417L.wav', '200_3p4_Al_mc_AKGC417L.txt', '200_3p4_Al_mc_AKGC417L.wav', '200_3p4_Ar_mc_AKGC417L.txt', '200_3p4_Ar_mc_AKGC417L.wav', '200_3p4_Pl_mc_AKGC417L.txt', '200_3p4_Pl_mc_AKGC417L.wav', '200_3p4_Pr_mc_AKGC417L.txt', '200_3p4_Pr_mc_AKGC417L.wav', '200_3p4_Tc_mc_AKGC417L.txt', '200_3p4_Tc_mc_AKGC417L.wav', '201_1b1_Al_sc_Meditron.txt', '201_1b1_Al_sc_Meditron.wav', '201_1b1_Ar_sc_Meditron.txt', '201_1b1_Ar_sc_Meditron.wav', '201_1b2_Al_sc_Meditron.txt', '201_1b2_Al_sc_Meditron.wav', '201_1b2_Ar_sc_Meditron.txt', '201_1b2_Ar_sc_Meditron.wav', '201_1b3_Al_sc_Meditron.txt', '201_1b3_Al_sc_Meditron.wav', '201_1b3_Ar_sc_Meditron.txt', '201_1b3_Ar_sc_Meditron.wav', '202_1b1_Ar_sc_Meditron.txt', '202_1b1_Ar_sc_Meditron.wav', '203_1p2_Al_mc_AKGC417L.txt', '203_1p2_Al_mc_AKGC417L.wav', '203_1p2_Ar_mc_AKGC417L.txt', '203_1p2_Ar_mc_AKGC417L.wav', '203_1p2_Lr_mc_AKGC417L.txt', '203_1p2_Lr_mc_AKGC417L.wav', '203_1p2_Pl_mc_AKGC417L.txt', '203_1p2_Pl_mc_AKGC417L.wav', '203_1p2_Pr_mc_AKGC417L.txt', '203_1p2_Pr_mc_AKGC417L.wav', '203_1p2_Tc_mc_AKGC417L.txt', '203_1p2_Tc_mc_AKGC417L.wav', '203_1p3_Al_mc_AKGC417L.txt', '203_1p3_Al_mc_AKGC417L.wav', '203_1p3_Ar_mc_AKGC417L.txt', '203_1p3_Ar_mc_AKGC417L.wav', '203_1p3_Pl_mc_AKGC417L.txt', '203_1p3_Pl_mc_AKGC417L.wav', '203_1p3_Pr_mc_AKGC417L.txt', '203_1p3_Pr_mc_AKGC417L.wav', '203_1p3_Tc_mc_AKGC417L.txt', '203_1p3_Tc_mc_AKGC417L.wav', '203_1p4_Al_mc_AKGC417L.txt', '203_1p4_Al_mc_AKGC417L.wav', '203_1p4_Ar_mc_AKGC417L.txt', '203_1p4_Ar_mc_AKGC417L.wav', '203_1p4_Pl_mc_AKGC417L.txt', '203_1p4_Pl_mc_AKGC417L.wav', '203_1p4_Pr_mc_AKGC417L.txt', '203_1p4_Pr_mc_AKGC417L.wav', '203_1p4_Tc_mc_AKGC417L.txt', '203_1p4_Tc_mc_AKGC417L.wav', '203_2p3_Al_mc_AKGC417L.txt', '203_2p3_Al_mc_AKGC417L.wav', '203_2p3_Ar_mc_AKGC417L.txt', '203_2p3_Ar_mc_AKGC417L.wav', '203_2p3_Pl_mc_AKGC417L.txt', '203_2p3_Pl_mc_AKGC417L.wav', '203_2p3_Pr_mc_AKGC417L.txt', '203_2p3_Pr_mc_AKGC417L.wav', '203_2p3_Tc_mc_AKGC417L.txt', '203_2p3_Tc_mc_AKGC417L.wav', '204_2b5_Al_mc_AKGC417L.txt', '204_2b5_Al_mc_AKGC417L.wav', '204_2b5_Ar_mc_AKGC417L.txt', '204_2b5_Ar_mc_AKGC417L.wav', '204_2b5_Ll_mc_AKGC417L.txt', '204_2b5_Ll_mc_AKGC417L.wav', '204_7p5_Al_mc_AKGC417L.txt', '204_7p5_Al_mc_AKGC417L.wav', '204_7p5_Ar_mc_AKGC417L.txt', '204_7p5_Ar_mc_AKGC417L.wav', '204_7p5_Ll_mc_AKGC417L.txt', '204_7p5_Ll_mc_AKGC417L.wav', '204_7p5_Lr_mc_AKGC417L.txt', '204_7p5_Lr_mc_AKGC417L.wav', '204_7p5_Pr_mc_AKGC417L.txt', '204_7p5_Pr_mc_AKGC417L.wav', '204_7p5_Tc_mc_AKGC417L.txt', '204_7p5_Tc_mc_AKGC417L.wav', '205_1b3_Al_mc_AKGC417L.txt', '205_1b3_Al_mc_AKGC417L.wav', '205_1b3_Ar_mc_AKGC417L.txt', '205_1b3_Ar_mc_AKGC417L.wav', '205_1b3_Ll_mc_AKGC417L.txt', '205_1b3_Ll_mc_AKGC417L.wav', '205_1b3_Lr_mc_AKGC417L.txt', '205_1b3_Lr_mc_AKGC417L.wav', '205_1b3_Pl_mc_AKGC417L.txt', '205_1b3_Pl_mc_AKGC417L.wav', '205_1b3_Pr_mc_AKGC417L.txt', '205_1b3_Pr_mc_AKGC417L.wav', '205_2b2_Pr_mc_AKGC417L.txt', '205_2b2_Pr_mc_AKGC417L.wav', '205_2b3_Al_mc_AKGC417L.txt', '205_2b3_Al_mc_AKGC417L.wav', '205_2b3_Ar_mc_AKGC417L.txt', '205_2b3_Ar_mc_AKGC417L.wav', '205_2b3_Ll_mc_AKGC417L.txt', '205_2b3_Ll_mc_AKGC417L.wav', '205_2b4_Pl_mc_AKGC417L.txt', '205_2b4_Pl_mc_AKGC417L.wav', '205_3b4_Al_mc_AKGC417L.txt', '205_3b4_Al_mc_AKGC417L.wav', '205_3b4_Ar_mc_AKGC417L.txt', '205_3b4_Ar_mc_AKGC417L.wav', '205_3b4_Pl_mc_AKGC417L.txt', '205_3b4_Pl_mc_AKGC417L.wav', '205_3b4_Pr_mc_AKGC417L.txt', '205_3b4_Pr_mc_AKGC417L.wav', '205_4b2_Al_mc_AKGC417L.txt', '205_4b2_Al_mc_AKGC417L.wav', '205_4b2_Ar_mc_AKGC417L.txt', '205_4b2_Ar_mc_AKGC417L.wav', '205_4b2_Lr_mc_AKGC417L.txt', '205_4b2_Lr_mc_AKGC417L.wav', '205_4b2_Pl_mc_AKGC417L.txt', '205_4b2_Pl_mc_AKGC417L.wav', '205_4b2_Pr_mc_AKGC417L.txt', '205_4b2_Pr_mc_AKGC417L.wav', '206_1b1_Ar_sc_Meditron.txt', '206_1b1_Ar_sc_Meditron.wav', '206_1b1_Lr_sc_Meditron.txt', '206_1b1_Lr_sc_Meditron.wav', '206_1b1_Pl_sc_Meditron.txt', '206_1b1_Pl_sc_Meditron.wav', '207_2b2_Al_mc_AKGC417L.txt', '207_2b2_Al_mc_AKGC417L.wav', '207_2b2_Ar_mc_AKGC417L.txt', '207_2b2_Ar_mc_AKGC417L.wav', '207_2b2_Pl_mc_AKGC417L.txt', '207_2b2_Pl_mc_AKGC417L.wav', '207_2b2_Pr_mc_AKGC417L.txt', '207_2b2_Pr_mc_AKGC417L.wav', '207_2b2_Tc_mc_AKGC417L.txt', '207_2b2_Tc_mc_AKGC417L.wav', '207_2b3_Al_mc_AKGC417L.txt', '207_2b3_Al_mc_AKGC417L.wav', '207_2b3_Ar_mc_AKGC417L.txt', '207_2b3_Ar_mc_AKGC417L.wav', '207_2b3_Pl_mc_AKGC417L.txt', '207_2b3_Pl_mc_AKGC417L.wav', '207_2b3_Pr_mc_AKGC417L.txt', '207_2b3_Pr_mc_AKGC417L.wav', '207_2b3_Tc_mc_AKGC417L.txt', '207_2b3_Tc_mc_AKGC417L.wav', '207_2b4_Al_mc_AKGC417L.txt', '207_2b4_Al_mc_AKGC417L.wav', '207_2b4_Ar_mc_AKGC417L.txt', '207_2b4_Ar_mc_AKGC417L.wav', '207_2b4_Pl_mc_AKGC417L.txt', '207_2b4_Pl_mc_AKGC417L.wav', '207_2b4_Pr_mc_AKGC417L.txt', '207_2b4_Pr_mc_AKGC417L.wav', '207_2b4_Tc_mc_AKGC417L.txt', '207_2b4_Tc_mc_AKGC417L.wav', '207_3b2_Al_mc_AKGC417L.txt', '207_3b2_Al_mc_AKGC417L.wav', '207_3b2_Ar_mc_AKGC417L.txt', '207_3b2_Ar_mc_AKGC417L.wav', '207_3b2_Lr_mc_AKGC417L.txt', '207_3b2_Lr_mc_AKGC417L.wav', '207_3b2_Pl_mc_AKGC417L.txt', '207_3b2_Pl_mc_AKGC417L.wav', '207_3b2_Pr_mc_AKGC417L.txt', '207_3b2_Pr_mc_AKGC417L.wav', '207_3b2_Tc_mc_AKGC417L.txt', '207_3b2_Tc_mc_AKGC417L.wav', '208_1b1_Ll_sc_Meditron.txt', '208_1b1_Ll_sc_Meditron.wav', '209_1b1_Tc_sc_Meditron.txt', '209_1b1_Tc_sc_Meditron.wav', '210_1b1_Al_sc_Meditron.txt', '210_1b1_Al_sc_Meditron.wav', '210_1b1_Ar_sc_Meditron.txt', '210_1b1_Ar_sc_Meditron.wav', '211_1p2_Ar_mc_AKGC417L.txt', '211_1p2_Ar_mc_AKGC417L.wav', '211_1p2_Pl_mc_AKGC417L.txt', '211_1p2_Pl_mc_AKGC417L.wav', '211_1p2_Pr_mc_AKGC417L.txt', '211_1p2_Pr_mc_AKGC417L.wav', '211_1p3_Ar_mc_AKGC417L.txt', '211_1p3_Ar_mc_AKGC417L.wav', '211_1p5_Ar_mc_AKGC417L.txt', '211_1p5_Ar_mc_AKGC417L.wav', '211_2p2_Tc_mc_AKGC417L.txt', '211_2p2_Tc_mc_AKGC417L.wav', '211_2p3_Tc_mc_AKGC417L.txt', '211_2p3_Tc_mc_AKGC417L.wav', '211_2p4_Tc_mc_AKGC417L.txt', '211_2p4_Tc_mc_AKGC417L.wav', '212_2b2_Tc_mc_LittC2SE.txt', '212_2b2_Tc_mc_LittC2SE.wav', '213_1p2_Al_mc_AKGC417L.txt', '213_1p2_Al_mc_AKGC417L.wav', '213_1p2_Ar_mc_AKGC417L.txt', '213_1p2_Ar_mc_AKGC417L.wav', '213_1p2_Lr_mc_AKGC417L.txt', '213_1p2_Lr_mc_AKGC417L.wav', '213_1p2_Pl_mc_AKGC417L.txt', '213_1p2_Pl_mc_AKGC417L.wav', '213_1p2_Pr_mc_AKGC417L.txt', '213_1p2_Pr_mc_AKGC417L.wav', '213_1p2_Tc_mc_AKGC417L.txt', '213_1p2_Tc_mc_AKGC417L.wav', '213_1p3_Al_mc_AKGC417L.txt', '213_1p3_Al_mc_AKGC417L.wav', '213_1p3_Ar_mc_AKGC417L.txt', '213_1p3_Ar_mc_AKGC417L.wav', '213_1p3_Pl_mc_AKGC417L.txt', '213_1p3_Pl_mc_AKGC417L.wav', '213_1p3_Pr_mc_AKGC417L.txt', '213_1p3_Pr_mc_AKGC417L.wav', '213_1p5_Al_mc_AKGC417L.txt', '213_1p5_Al_mc_AKGC417L.wav', '213_1p5_Ar_mc_AKGC417L.txt', '213_1p5_Ar_mc_AKGC417L.wav', '213_1p5_Pl_mc_AKGC417L.txt', '213_1p5_Pl_mc_AKGC417L.wav', '213_1p5_Pr_mc_AKGC417L.txt', '213_1p5_Pr_mc_AKGC417L.wav', '213_1p5_Tc_mc_AKGC417L.txt', '213_1p5_Tc_mc_AKGC417L.wav', '213_2p2_Al_mc_AKGC417L.txt', '213_2p2_Al_mc_AKGC417L.wav', '213_2p2_Ar_mc_AKGC417L.txt', '213_2p2_Ar_mc_AKGC417L.wav', '213_2p2_Pl_mc_AKGC417L.txt', '213_2p2_Pl_mc_AKGC417L.wav', '213_2p2_Pr_mc_AKGC417L.txt', '213_2p2_Pr_mc_AKGC417L.wav', '213_2p2_Tc_mc_AKGC417L.txt', '213_2p2_Tc_mc_AKGC417L.wav', '214_1b1_Ar_sc_Meditron.txt', '214_1b1_Ar_sc_Meditron.wav', '215_1b2_Ar_sc_Meditron.txt', '215_1b2_Ar_sc_Meditron.wav', '215_1b3_Tc_sc_Meditron.txt', '215_1b3_Tc_sc_Meditron.wav', '216_1b1_Al_sc_Meditron.txt', '216_1b1_Al_sc_Meditron.wav', '216_1b1_Pl_sc_Meditron.txt', '216_1b1_Pl_sc_Meditron.wav', '217_1b1_Tc_sc_Meditron.txt', '217_1b1_Tc_sc_Meditron.wav', '218_1b1_Al_sc_Meditron.txt', '218_1b1_Al_sc_Meditron.wav', '218_1b1_Ar_sc_Meditron.txt', '218_1b1_Ar_sc_Meditron.wav', '218_1b1_Lr_sc_Meditron.txt', '218_1b1_Lr_sc_Meditron.wav', '218_1b1_Pl_sc_Meditron.txt', '218_1b1_Pl_sc_Meditron.wav', '218_1b1_Pr_sc_Meditron.txt', '218_1b1_Pr_sc_Meditron.wav', '218_1p1_Ar_sc_Litt3200.txt', '218_1p1_Ar_sc_Litt3200.wav', '218_1p1_Pl_sc_Litt3200.txt', '218_1p1_Pl_sc_Litt3200.wav', '218_1p1_Pr_sc_Litt3200.txt', '218_1p1_Pr_sc_Litt3200.wav', '219_2b1_Ar_mc_LittC2SE.txt', '219_2b1_Ar_mc_LittC2SE.wav', '219_2b1_Tc_mc_LittC2SE.txt', '219_2b1_Tc_mc_LittC2SE.wav', '219_2b2_Ar_mc_LittC2SE.txt', '219_2b2_Ar_mc_LittC2SE.wav', '219_2b2_Tc_mc_LittC2SE.txt', '219_2b2_Tc_mc_LittC2SE.wav', '219_2b3_Tc_mc_LittC2SE.txt', '219_2b3_Tc_mc_LittC2SE.wav', '220_1b1_Tc_mc_LittC2SE.txt', '220_1b1_Tc_mc_LittC2SE.wav', '220_1b2_Al_mc_LittC2SE.txt', '220_1b2_Al_mc_LittC2SE.wav', '221_2b1_Al_mc_LittC2SE.txt', '221_2b1_Al_mc_LittC2SE.wav', '221_2b1_Ar_mc_LittC2SE.txt', '221_2b1_Ar_mc_LittC2SE.wav', '221_2b1_Lr_mc_LittC2SE.txt', '221_2b1_Lr_mc_LittC2SE.wav', '221_2b1_Pl_mc_LittC2SE.txt', '221_2b1_Pl_mc_LittC2SE.wav', '221_2b2_Al_mc_LittC2SE.txt', '221_2b2_Al_mc_LittC2SE.wav', '221_2b2_Ar_mc_LittC2SE.txt', '221_2b2_Ar_mc_LittC2SE.wav', '221_2b2_Lr_mc_LittC2SE.txt', '221_2b2_Lr_mc_LittC2SE.wav', '221_2b2_Pl_mc_LittC2SE.txt', '221_2b2_Pl_mc_LittC2SE.wav', '221_2b3_Al_mc_LittC2SE.txt', '221_2b3_Al_mc_LittC2SE.wav', '221_2b3_Ar_mc_LittC2SE.txt', '221_2b3_Ar_mc_LittC2SE.wav', '221_2b3_Lr_mc_LittC2SE.txt', '221_2b3_Lr_mc_LittC2SE.wav', '221_2b3_Pr_mc_LittC2SE.txt', '221_2b3_Pr_mc_LittC2SE.wav', '222_1b1_Ar_sc_Meditron.txt', '222_1b1_Ar_sc_Meditron.wav', '222_1b1_Lr_sc_Meditron.txt', '222_1b1_Lr_sc_Meditron.wav', '222_1b1_Pr_sc_Meditron.txt', '222_1b1_Pr_sc_Meditron.wav', '223_1b1_Al_sc_Meditron.txt', '223_1b1_Al_sc_Meditron.wav', '223_1b1_Ar_sc_Meditron.txt', '223_1b1_Ar_sc_Meditron.wav', '223_1b1_Ll_sc_Meditron.txt', '223_1b1_Ll_sc_Meditron.wav', '223_1b1_Lr_sc_Meditron.txt', '223_1b1_Lr_sc_Meditron.wav', '223_1b1_Pl_sc_Meditron.txt', '223_1b1_Pl_sc_Meditron.wav', '223_1b1_Pr_sc_Meditron.txt', '223_1b1_Pr_sc_Meditron.wav', '224_1b1_Tc_sc_Meditron.txt', '224_1b1_Tc_sc_Meditron.wav', '224_1b2_Al_sc_Meditron.txt', '224_1b2_Al_sc_Meditron.wav', '225_1b1_Pl_sc_Meditron.txt', '225_1b1_Pl_sc_Meditron.wav', '226_1b1_Al_sc_Meditron.txt', '226_1b1_Al_sc_Meditron.wav', '226_1b1_Ll_sc_Meditron.txt', '226_1b1_Ll_sc_Meditron.wav', '226_1b1_Pl_sc_LittC2SE.txt', '226_1b1_Pl_sc_LittC2SE.wav']\n"
          ]
        }
      ],
      "source": [
        "print(content)"
      ]
    },
    {
      "cell_type": "code",
      "execution_count": 10,
      "metadata": {
        "id": "_UNDXg7Rdr-r"
      },
      "outputs": [],
      "source": [
        "patient_lung_data = []\n",
        "l = [s for s in content if '.txt' in s]\n",
        "for i in l:\n",
        "  for lines in open(directory+'/'+i,'r').readlines():\n",
        "    patient_lung_data.append([i.split('.')[0].split(\"_\")[0],i.split('.')[0],lines.split()[0],lines.split()[1],lines.split()[2],lines.split()[3]])"
      ]
    },
    {
      "cell_type": "code",
      "execution_count": 11,
      "metadata": {
        "id": "hsRQZooO5cBX"
      },
      "outputs": [],
      "source": [
        "k = 0\n",
        "for m in patient_lung_data:\n",
        "  if m[0] == '151':\n",
        "    k += 1\n",
        "\n",
        "\n"
      ]
    },
    {
      "cell_type": "code",
      "execution_count": 12,
      "metadata": {
        "id": "Ts6giC43AaGn"
      },
      "outputs": [],
      "source": [
        "def patient(x):\n",
        "  patient_list = []\n",
        "  patient_id = x.split('.')[0].split(\"_\")[0]\n",
        "  recording_index = x.split('.')[0].split(\"_\")[1]\n",
        "  chest_location = x.split('.')[0].split(\"_\")[2]\n",
        "  acquisition_mode = x.split('.')[0].split(\"_\")[3]\n",
        "  recording_equipment = x.split('.')[0].split(\"_\")[4]\n",
        "  filename = x.split('.')[0]\n",
        "\n",
        "  patient_list.append(patient_id)\n",
        "  patient_list.append(recording_index)\n",
        "  patient_list.append(chest_location)\n",
        "  patient_list.append(acquisition_mode)\n",
        "  patient_list.append(recording_equipment)\n",
        "  patient_list.append(filename)\n",
        "\n",
        "  return patient_list\n",
        "\n"
      ]
    },
    {
      "cell_type": "code",
      "execution_count": 13,
      "metadata": {
        "colab": {
          "base_uri": "https://localhost:8080/"
        },
        "id": "E2cc7CZLTsSH",
        "outputId": "95532ddd-2b60-4ba5-b22c-a204e8be6f71"
      },
      "outputs": [
        {
          "data": {
            "text/plain": [
              "[['101', '1b1', 'Al', 'sc', 'Meditron', '101_1b1_Al_sc_Meditron'],\n",
              " ['101', '1b1', 'Pr', 'sc', 'Meditron', '101_1b1_Pr_sc_Meditron'],\n",
              " ['102', '1b1', 'Ar', 'sc', 'Meditron', '102_1b1_Ar_sc_Meditron'],\n",
              " ['103', '2b2', 'Ar', 'mc', 'LittC2SE', '103_2b2_Ar_mc_LittC2SE'],\n",
              " ['104', '1b1', 'Al', 'sc', 'Litt3200', '104_1b1_Al_sc_Litt3200'],\n",
              " ['104', '1b1', 'Ar', 'sc', 'Litt3200', '104_1b1_Ar_sc_Litt3200'],\n",
              " ['104', '1b1', 'Ll', 'sc', 'Litt3200', '104_1b1_Ll_sc_Litt3200'],\n",
              " ['104', '1b1', 'Lr', 'sc', 'Litt3200', '104_1b1_Lr_sc_Litt3200'],\n",
              " ['104', '1b1', 'Pl', 'sc', 'Litt3200', '104_1b1_Pl_sc_Litt3200'],\n",
              " ['104', '1b1', 'Pr', 'sc', 'Litt3200', '104_1b1_Pr_sc_Litt3200'],\n",
              " ['105', '1b1', 'Tc', 'sc', 'Meditron', '105_1b1_Tc_sc_Meditron'],\n",
              " ['106', '2b1', 'Pl', 'mc', 'LittC2SE', '106_2b1_Pl_mc_LittC2SE'],\n",
              " ['106', '2b1', 'Pr', 'mc', 'LittC2SE', '106_2b1_Pr_mc_LittC2SE'],\n",
              " ['107', '2b3', 'Al', 'mc', 'AKGC417L', '107_2b3_Al_mc_AKGC417L'],\n",
              " ['107', '2b3', 'Ar', 'mc', 'AKGC417L', '107_2b3_Ar_mc_AKGC417L'],\n",
              " ['107', '2b3', 'Ll', 'mc', 'AKGC417L', '107_2b3_Ll_mc_AKGC417L'],\n",
              " ['107', '2b3', 'Lr', 'mc', 'AKGC417L', '107_2b3_Lr_mc_AKGC417L'],\n",
              " ['107', '2b3', 'Pl', 'mc', 'AKGC417L', '107_2b3_Pl_mc_AKGC417L'],\n",
              " ['107', '2b3', 'Pr', 'mc', 'AKGC417L', '107_2b3_Pr_mc_AKGC417L'],\n",
              " ['107', '2b3', 'Tc', 'mc', 'AKGC417L', '107_2b3_Tc_mc_AKGC417L'],\n",
              " ['107', '2b4', 'Al', 'mc', 'AKGC417L', '107_2b4_Al_mc_AKGC417L'],\n",
              " ['107', '2b4', 'Ar', 'mc', 'AKGC417L', '107_2b4_Ar_mc_AKGC417L'],\n",
              " ['107', '2b4', 'Ll', 'mc', 'AKGC417L', '107_2b4_Ll_mc_AKGC417L'],\n",
              " ['107', '2b4', 'Lr', 'mc', 'AKGC417L', '107_2b4_Lr_mc_AKGC417L'],\n",
              " ['107', '2b4', 'Pl', 'mc', 'AKGC417L', '107_2b4_Pl_mc_AKGC417L'],\n",
              " ['107', '2b4', 'Pr', 'mc', 'AKGC417L', '107_2b4_Pr_mc_AKGC417L'],\n",
              " ['107', '2b4', 'Tc', 'mc', 'AKGC417L', '107_2b4_Tc_mc_AKGC417L'],\n",
              " ['107', '2b5', 'Al', 'mc', 'AKGC417L', '107_2b5_Al_mc_AKGC417L'],\n",
              " ['107', '2b5', 'Ar', 'mc', 'AKGC417L', '107_2b5_Ar_mc_AKGC417L'],\n",
              " ['107', '2b5', 'Ll', 'mc', 'AKGC417L', '107_2b5_Ll_mc_AKGC417L'],\n",
              " ['107', '2b5', 'Lr', 'mc', 'AKGC417L', '107_2b5_Lr_mc_AKGC417L'],\n",
              " ['107', '2b5', 'Pl', 'mc', 'AKGC417L', '107_2b5_Pl_mc_AKGC417L'],\n",
              " ['107', '2b5', 'Pr', 'mc', 'AKGC417L', '107_2b5_Pr_mc_AKGC417L'],\n",
              " ['107', '2b5', 'Tc', 'mc', 'AKGC417L', '107_2b5_Tc_mc_AKGC417L'],\n",
              " ['107', '3p2', 'Al', 'mc', 'AKGC417L', '107_3p2_Al_mc_AKGC417L'],\n",
              " ['107', '3p2', 'Ar', 'mc', 'AKGC417L', '107_3p2_Ar_mc_AKGC417L'],\n",
              " ['107', '3p2', 'Ll', 'mc', 'AKGC417L', '107_3p2_Ll_mc_AKGC417L'],\n",
              " ['107', '3p2', 'Lr', 'mc', 'AKGC417L', '107_3p2_Lr_mc_AKGC417L'],\n",
              " ['107', '3p2', 'Pl', 'mc', 'AKGC417L', '107_3p2_Pl_mc_AKGC417L'],\n",
              " ['107', '3p2', 'Pr', 'mc', 'AKGC417L', '107_3p2_Pr_mc_AKGC417L'],\n",
              " ['107', '3p2', 'Tc', 'mc', 'AKGC417L', '107_3p2_Tc_mc_AKGC417L'],\n",
              " ['108', '1b1', 'Al', 'sc', 'Meditron', '108_1b1_Al_sc_Meditron'],\n",
              " ['109', '1b1', 'Al', 'sc', 'Litt3200', '109_1b1_Al_sc_Litt3200'],\n",
              " ['109', '1b1', 'Ar', 'sc', 'Litt3200', '109_1b1_Ar_sc_Litt3200'],\n",
              " ['109', '1b1', 'Ll', 'sc', 'Litt3200', '109_1b1_Ll_sc_Litt3200'],\n",
              " ['109', '1b1', 'Lr', 'sc', 'Litt3200', '109_1b1_Lr_sc_Litt3200'],\n",
              " ['109', '1b1', 'Pl', 'sc', 'Litt3200', '109_1b1_Pl_sc_Litt3200'],\n",
              " ['109', '1b1', 'Pr', 'sc', 'Litt3200', '109_1b1_Pr_sc_Litt3200'],\n",
              " ['110', '1b1', 'Pr', 'sc', 'Meditron', '110_1b1_Pr_sc_Meditron'],\n",
              " ['110', '1p1', 'Al', 'sc', 'Meditron', '110_1p1_Al_sc_Meditron'],\n",
              " ['110', '1p1', 'Ll', 'sc', 'Meditron', '110_1p1_Ll_sc_Meditron'],\n",
              " ['110', '1p1', 'Lr', 'sc', 'Meditron', '110_1p1_Lr_sc_Meditron'],\n",
              " ['110', '1p1', 'Pr', 'sc', 'Meditron', '110_1p1_Pr_sc_Meditron'],\n",
              " ['111', '1b2', 'Tc', 'sc', 'Meditron', '111_1b2_Tc_sc_Meditron'],\n",
              " ['111', '1b3', 'Tc', 'sc', 'Meditron', '111_1b3_Tc_sc_Meditron'],\n",
              " ['112', '1b1', 'Ar', 'sc', 'Meditron', '112_1b1_Ar_sc_Meditron'],\n",
              " ['112', '1b1', 'Lr', 'sc', 'Meditron', '112_1b1_Lr_sc_Meditron'],\n",
              " ['112', '1p1', 'Ll', 'sc', 'Litt3200', '112_1p1_Ll_sc_Litt3200'],\n",
              " ['112', '1p1', 'Pl', 'sc', 'Litt3200', '112_1p1_Pl_sc_Litt3200'],\n",
              " ['112', '1p1', 'Pr', 'sc', 'Litt3200', '112_1p1_Pr_sc_Litt3200'],\n",
              " ['113', '1b1', 'Al', 'sc', 'Litt3200', '113_1b1_Al_sc_Litt3200'],\n",
              " ['113', '1b1', 'Ar', 'sc', 'Litt3200', '113_1b1_Ar_sc_Litt3200'],\n",
              " ['113', '1b1', 'Ll', 'sc', 'Litt3200', '113_1b1_Ll_sc_Litt3200'],\n",
              " ['113', '1b1', 'Lr', 'sc', 'Litt3200', '113_1b1_Lr_sc_Litt3200'],\n",
              " ['113', '1b1', 'Pl', 'sc', 'Litt3200', '113_1b1_Pl_sc_Litt3200'],\n",
              " ['113', '1b1', 'Pr', 'sc', 'Litt3200', '113_1b1_Pr_sc_Litt3200'],\n",
              " ['114', '1b4', 'Al', 'mc', 'AKGC417L', '114_1b4_Al_mc_AKGC417L'],\n",
              " ['114', '1b4', 'Ar', 'mc', 'AKGC417L', '114_1b4_Ar_mc_AKGC417L'],\n",
              " ['114', '1b4', 'Lr', 'mc', 'AKGC417L', '114_1b4_Lr_mc_AKGC417L'],\n",
              " ['114', '1b4', 'Pl', 'mc', 'AKGC417L', '114_1b4_Pl_mc_AKGC417L'],\n",
              " ['114', '1b4', 'Pr', 'mc', 'AKGC417L', '114_1b4_Pr_mc_AKGC417L'],\n",
              " ['115', '1b1', 'Ar', 'sc', 'Meditron', '115_1b1_Ar_sc_Meditron'],\n",
              " ['116', '1b2', 'Pl', 'sc', 'Meditron', '116_1b2_Pl_sc_Meditron'],\n",
              " ['116', '1b2', 'Tc', 'sc', 'Meditron', '116_1b2_Tc_sc_Meditron'],\n",
              " ['117', '1b2', 'Tc', 'mc', 'LittC2SE', '117_1b2_Tc_mc_LittC2SE'],\n",
              " ['117', '1b3', 'Tc', 'mc', 'LittC2SE', '117_1b3_Tc_mc_LittC2SE'],\n",
              " ['118', '1b1', 'Al', 'sc', 'Litt3200', '118_1b1_Al_sc_Litt3200'],\n",
              " ['118', '1b1', 'Ar', 'sc', 'Litt3200', '118_1b1_Ar_sc_Litt3200'],\n",
              " ['118', '1b1', 'Ll', 'sc', 'Litt3200', '118_1b1_Ll_sc_Litt3200'],\n",
              " ['118', '1b1', 'Lr', 'sc', 'Litt3200', '118_1b1_Lr_sc_Litt3200'],\n",
              " ['118', '1b1', 'Pl', 'sc', 'Litt3200', '118_1b1_Pl_sc_Litt3200'],\n",
              " ['118', '1b1', 'Pr', 'sc', 'Litt3200', '118_1b1_Pr_sc_Litt3200'],\n",
              " ['119', '1b1', 'Ar', 'sc', 'Meditron', '119_1b1_Ar_sc_Meditron'],\n",
              " ['120', '1b1', 'Al', 'sc', 'Meditron', '120_1b1_Al_sc_Meditron'],\n",
              " ['120', '1b1', 'Ar', 'sc', 'Meditron', '120_1b1_Ar_sc_Meditron'],\n",
              " ['120', '1b1', 'Lr', 'sc', 'Meditron', '120_1b1_Lr_sc_Meditron'],\n",
              " ['120', '1b1', 'Pl', 'sc', 'Meditron', '120_1b1_Pl_sc_Meditron'],\n",
              " ['120', '1b1', 'Pr', 'sc', 'Meditron', '120_1b1_Pr_sc_Meditron'],\n",
              " ['121', '1b1', 'Tc', 'sc', 'Meditron', '121_1b1_Tc_sc_Meditron'],\n",
              " ['121', '1p1', 'Tc', 'sc', 'Meditron', '121_1p1_Tc_sc_Meditron'],\n",
              " ['122', '2b1', 'Al', 'mc', 'LittC2SE', '122_2b1_Al_mc_LittC2SE'],\n",
              " ['122', '2b1', 'Ar', 'mc', 'LittC2SE', '122_2b1_Ar_mc_LittC2SE'],\n",
              " ['122', '2b1', 'Tc', 'mc', 'LittC2SE', '122_2b1_Tc_mc_LittC2SE'],\n",
              " ['122', '2b2', 'Al', 'mc', 'LittC2SE', '122_2b2_Al_mc_LittC2SE'],\n",
              " ['122', '2b2', 'Ar', 'mc', 'LittC2SE', '122_2b2_Ar_mc_LittC2SE'],\n",
              " ['122', '2b2', 'Tc', 'mc', 'LittC2SE', '122_2b2_Tc_mc_LittC2SE'],\n",
              " ['122', '2b3', 'Al', 'mc', 'LittC2SE', '122_2b3_Al_mc_LittC2SE'],\n",
              " ['122', '2b3', 'Ar', 'mc', 'LittC2SE', '122_2b3_Ar_mc_LittC2SE'],\n",
              " ['122', '2b3', 'Tc', 'mc', 'LittC2SE', '122_2b3_Tc_mc_LittC2SE'],\n",
              " ['123', '1b1', 'Al', 'sc', 'Meditron', '123_1b1_Al_sc_Meditron'],\n",
              " ['124', '1b1', 'Al', 'sc', 'Litt3200', '124_1b1_Al_sc_Litt3200'],\n",
              " ['124', '1b1', 'Ar', 'sc', 'Litt3200', '124_1b1_Ar_sc_Litt3200'],\n",
              " ['124', '1b1', 'Ll', 'sc', 'Litt3200', '124_1b1_Ll_sc_Litt3200'],\n",
              " ['124', '1b1', 'Lr', 'sc', 'Litt3200', '124_1b1_Lr_sc_Litt3200'],\n",
              " ['124', '1b1', 'Pl', 'sc', 'Litt3200', '124_1b1_Pl_sc_Litt3200'],\n",
              " ['124', '1b1', 'Pr', 'sc', 'Litt3200', '124_1b1_Pr_sc_Litt3200'],\n",
              " ['125', '1b1', 'Tc', 'sc', 'Meditron', '125_1b1_Tc_sc_Meditron'],\n",
              " ['126', '1b1', 'Al', 'sc', 'Meditron', '126_1b1_Al_sc_Meditron'],\n",
              " ['127', '1b1', 'Ar', 'sc', 'Meditron', '127_1b1_Ar_sc_Meditron'],\n",
              " ['128', '1b3', 'Tc', 'mc', 'LittC2SE', '128_1b3_Tc_mc_LittC2SE'],\n",
              " ['129', '1b1', 'Ar', 'sc', 'Meditron', '129_1b1_Ar_sc_Meditron'],\n",
              " ['130', '1p2', 'Al', 'mc', 'AKGC417L', '130_1p2_Al_mc_AKGC417L'],\n",
              " ['130', '1p2', 'Ar', 'mc', 'AKGC417L', '130_1p2_Ar_mc_AKGC417L'],\n",
              " ['130', '1p2', 'Ll', 'mc', 'AKGC417L', '130_1p2_Ll_mc_AKGC417L'],\n",
              " ['130', '1p2', 'Lr', 'mc', 'AKGC417L', '130_1p2_Lr_mc_AKGC417L'],\n",
              " ['130', '1p2', 'Pl', 'mc', 'AKGC417L', '130_1p2_Pl_mc_AKGC417L'],\n",
              " ['130', '1p2', 'Pr', 'mc', 'AKGC417L', '130_1p2_Pr_mc_AKGC417L'],\n",
              " ['130', '1p2', 'Tc', 'mc', 'AKGC417L', '130_1p2_Tc_mc_AKGC417L'],\n",
              " ['130', '1p3', 'Al', 'mc', 'AKGC417L', '130_1p3_Al_mc_AKGC417L'],\n",
              " ['130', '1p3', 'Ar', 'mc', 'AKGC417L', '130_1p3_Ar_mc_AKGC417L'],\n",
              " ['130', '1p3', 'Ll', 'mc', 'AKGC417L', '130_1p3_Ll_mc_AKGC417L'],\n",
              " ['130', '1p3', 'Lr', 'mc', 'AKGC417L', '130_1p3_Lr_mc_AKGC417L'],\n",
              " ['130', '1p3', 'Pl', 'mc', 'AKGC417L', '130_1p3_Pl_mc_AKGC417L'],\n",
              " ['130', '1p3', 'Pr', 'mc', 'AKGC417L', '130_1p3_Pr_mc_AKGC417L'],\n",
              " ['130', '1p3', 'Tc', 'mc', 'AKGC417L', '130_1p3_Tc_mc_AKGC417L'],\n",
              " ['130', '1p4', 'Al', 'mc', 'AKGC417L', '130_1p4_Al_mc_AKGC417L'],\n",
              " ['130', '1p4', 'Ar', 'mc', 'AKGC417L', '130_1p4_Ar_mc_AKGC417L'],\n",
              " ['130', '1p4', 'Ll', 'mc', 'AKGC417L', '130_1p4_Ll_mc_AKGC417L'],\n",
              " ['130', '1p4', 'Lr', 'mc', 'AKGC417L', '130_1p4_Lr_mc_AKGC417L'],\n",
              " ['130', '1p4', 'Pl', 'mc', 'AKGC417L', '130_1p4_Pl_mc_AKGC417L'],\n",
              " ['130', '1p4', 'Pr', 'mc', 'AKGC417L', '130_1p4_Pr_mc_AKGC417L'],\n",
              " ['130', '1p4', 'Tc', 'mc', 'AKGC417L', '130_1p4_Tc_mc_AKGC417L'],\n",
              " ['130', '2b2', 'Al', 'mc', 'AKGC417L', '130_2b2_Al_mc_AKGC417L'],\n",
              " ['130', '2b2', 'Ar', 'mc', 'AKGC417L', '130_2b2_Ar_mc_AKGC417L'],\n",
              " ['130', '2b2', 'Ll', 'mc', 'AKGC417L', '130_2b2_Ll_mc_AKGC417L'],\n",
              " ['130', '2b2', 'Lr', 'mc', 'AKGC417L', '130_2b2_Lr_mc_AKGC417L'],\n",
              " ['130', '2b2', 'Pl', 'mc', 'AKGC417L', '130_2b2_Pl_mc_AKGC417L'],\n",
              " ['130', '2b2', 'Pr', 'mc', 'AKGC417L', '130_2b2_Pr_mc_AKGC417L'],\n",
              " ['130', '2b2', 'Tc', 'mc', 'AKGC417L', '130_2b2_Tc_mc_AKGC417L'],\n",
              " ['130', '2b3', 'Al', 'mc', 'AKGC417L', '130_2b3_Al_mc_AKGC417L'],\n",
              " ['130', '2b3', 'Ar', 'mc', 'AKGC417L', '130_2b3_Ar_mc_AKGC417L'],\n",
              " ['130', '2b3', 'Ll', 'mc', 'AKGC417L', '130_2b3_Ll_mc_AKGC417L'],\n",
              " ['130', '2b3', 'Lr', 'mc', 'AKGC417L', '130_2b3_Lr_mc_AKGC417L'],\n",
              " ['130', '2b3', 'Pl', 'mc', 'AKGC417L', '130_2b3_Pl_mc_AKGC417L'],\n",
              " ['130', '2b3', 'Pr', 'mc', 'AKGC417L', '130_2b3_Pr_mc_AKGC417L'],\n",
              " ['130', '2b3', 'Tc', 'mc', 'AKGC417L', '130_2b3_Tc_mc_AKGC417L'],\n",
              " ['130', '2b4', 'Al', 'mc', 'AKGC417L', '130_2b4_Al_mc_AKGC417L'],\n",
              " ['130', '2b4', 'Ar', 'mc', 'AKGC417L', '130_2b4_Ar_mc_AKGC417L'],\n",
              " ['130', '2b4', 'Ll', 'mc', 'AKGC417L', '130_2b4_Ll_mc_AKGC417L'],\n",
              " ['130', '2b4', 'Lr', 'mc', 'AKGC417L', '130_2b4_Lr_mc_AKGC417L'],\n",
              " ['130', '2b4', 'Pl', 'mc', 'AKGC417L', '130_2b4_Pl_mc_AKGC417L'],\n",
              " ['130', '2p3', 'Pl', 'mc', 'AKGC417L', '130_2p3_Pl_mc_AKGC417L'],\n",
              " ['130', '2p5', 'Al', 'mc', 'AKGC417L', '130_2p5_Al_mc_AKGC417L'],\n",
              " ['130', '2p5', 'Ar', 'mc', 'AKGC417L', '130_2p5_Ar_mc_AKGC417L'],\n",
              " ['130', '2p5', 'Lr', 'mc', 'AKGC417L', '130_2p5_Lr_mc_AKGC417L'],\n",
              " ['130', '2p5', 'Pl', 'mc', 'AKGC417L', '130_2p5_Pl_mc_AKGC417L'],\n",
              " ['130', '2p5', 'Pr', 'mc', 'AKGC417L', '130_2p5_Pr_mc_AKGC417L'],\n",
              " ['130', '2p5', 'Tc', 'mc', 'AKGC417L', '130_2p5_Tc_mc_AKGC417L'],\n",
              " ['130', '3b3', 'Ll', 'mc', 'AKGC417L', '130_3b3_Ll_mc_AKGC417L'],\n",
              " ['130', '3b4', 'Al', 'mc', 'AKGC417L', '130_3b4_Al_mc_AKGC417L'],\n",
              " ['130', '3b4', 'Ar', 'mc', 'AKGC417L', '130_3b4_Ar_mc_AKGC417L'],\n",
              " ['130', '3b4', 'Lr', 'mc', 'AKGC417L', '130_3b4_Lr_mc_AKGC417L'],\n",
              " ['130', '3b4', 'Pl', 'mc', 'AKGC417L', '130_3b4_Pl_mc_AKGC417L'],\n",
              " ['130', '3b4', 'Pr', 'mc', 'AKGC417L', '130_3b4_Pr_mc_AKGC417L'],\n",
              " ['130', '3p2', 'Al', 'mc', 'AKGC417L', '130_3p2_Al_mc_AKGC417L'],\n",
              " ['130', '3p2', 'Ar', 'mc', 'AKGC417L', '130_3p2_Ar_mc_AKGC417L'],\n",
              " ['130', '3p2', 'Pl', 'mc', 'AKGC417L', '130_3p2_Pl_mc_AKGC417L'],\n",
              " ['130', '3p2', 'Pr', 'mc', 'AKGC417L', '130_3p2_Pr_mc_AKGC417L'],\n",
              " ['130', '3p2', 'Tc', 'mc', 'AKGC417L', '130_3p2_Tc_mc_AKGC417L'],\n",
              " ['130', '3p3', 'Al', 'mc', 'AKGC417L', '130_3p3_Al_mc_AKGC417L'],\n",
              " ['130', '3p3', 'Pl', 'mc', 'AKGC417L', '130_3p3_Pl_mc_AKGC417L'],\n",
              " ['130', '3p3', 'Pr', 'mc', 'AKGC417L', '130_3p3_Pr_mc_AKGC417L'],\n",
              " ['130', '3p3', 'Tc', 'mc', 'AKGC417L', '130_3p3_Tc_mc_AKGC417L'],\n",
              " ['130', '3p4', 'Al', 'mc', 'AKGC417L', '130_3p4_Al_mc_AKGC417L'],\n",
              " ['130', '3p4', 'Pl', 'mc', 'AKGC417L', '130_3p4_Pl_mc_AKGC417L'],\n",
              " ['130', '3p4', 'Pr', 'mc', 'AKGC417L', '130_3p4_Pr_mc_AKGC417L'],\n",
              " ['130', '3p4', 'Tc', 'mc', 'AKGC417L', '130_3p4_Tc_mc_AKGC417L'],\n",
              " ['131', '1b1', 'Al', 'sc', 'Meditron', '131_1b1_Al_sc_Meditron'],\n",
              " ['132', '2b1', 'Lr', 'mc', 'LittC2SE', '132_2b1_Lr_mc_LittC2SE'],\n",
              " ['132', '2b2', 'Lr', 'mc', 'LittC2SE', '132_2b2_Lr_mc_LittC2SE'],\n",
              " ['133', '2p2', 'Al', 'mc', 'AKGC417L', '133_2p2_Al_mc_AKGC417L'],\n",
              " ['133', '2p2', 'Ar', 'mc', 'AKGC417L', '133_2p2_Ar_mc_AKGC417L'],\n",
              " ['133', '2p2', 'Pl', 'mc', 'AKGC417L', '133_2p2_Pl_mc_AKGC417L'],\n",
              " ['133', '2p2', 'Tc', 'mc', 'AKGC417L', '133_2p2_Tc_mc_AKGC417L'],\n",
              " ['133', '2p3', 'Al', 'mc', 'AKGC417L', '133_2p3_Al_mc_AKGC417L'],\n",
              " ['133', '2p3', 'Ar', 'mc', 'AKGC417L', '133_2p3_Ar_mc_AKGC417L'],\n",
              " ['133', '2p3', 'Pl', 'mc', 'AKGC417L', '133_2p3_Pl_mc_AKGC417L'],\n",
              " ['133', '2p3', 'Pr', 'mc', 'AKGC417L', '133_2p3_Pr_mc_AKGC417L'],\n",
              " ['133', '2p3', 'Tc', 'mc', 'AKGC417L', '133_2p3_Tc_mc_AKGC417L'],\n",
              " ['133', '2p4', 'Al', 'mc', 'AKGC417L', '133_2p4_Al_mc_AKGC417L'],\n",
              " ['133', '2p4', 'Ar', 'mc', 'AKGC417L', '133_2p4_Ar_mc_AKGC417L'],\n",
              " ['133', '2p4', 'Pl', 'mc', 'AKGC417L', '133_2p4_Pl_mc_AKGC417L'],\n",
              " ['133', '2p4', 'Pr', 'mc', 'AKGC417L', '133_2p4_Pr_mc_AKGC417L'],\n",
              " ['133', '2p4', 'Tc', 'mc', 'AKGC417L', '133_2p4_Tc_mc_AKGC417L'],\n",
              " ['133', '3p2', 'Al', 'mc', 'AKGC417L', '133_3p2_Al_mc_AKGC417L'],\n",
              " ['133', '3p2', 'Ar', 'mc', 'AKGC417L', '133_3p2_Ar_mc_AKGC417L'],\n",
              " ['133', '3p2', 'Pl', 'mc', 'AKGC417L', '133_3p2_Pl_mc_AKGC417L'],\n",
              " ['133', '3p2', 'Pr', 'mc', 'AKGC417L', '133_3p2_Pr_mc_AKGC417L'],\n",
              " ['133', '3p4', 'Tc', 'mc', 'AKGC417L', '133_3p4_Tc_mc_AKGC417L'],\n",
              " ['134', '2b1', 'Al', 'mc', 'LittC2SE', '134_2b1_Al_mc_LittC2SE'],\n",
              " ['134', '2b1', 'Ar', 'mc', 'LittC2SE', '134_2b1_Ar_mc_LittC2SE'],\n",
              " ['134', '2b2', 'Al', 'mc', 'LittC2SE', '134_2b2_Al_mc_LittC2SE'],\n",
              " ['134', '2b2', 'Ar', 'mc', 'LittC2SE', '134_2b2_Ar_mc_LittC2SE'],\n",
              " ['134', '2b3', 'Ar', 'mc', 'LittC2SE', '134_2b3_Ar_mc_LittC2SE'],\n",
              " ['135', '2b1', 'Al', 'mc', 'LittC2SE', '135_2b1_Al_mc_LittC2SE'],\n",
              " ['135', '2b1', 'Ar', 'mc', 'LittC2SE', '135_2b1_Ar_mc_LittC2SE'],\n",
              " ['135', '2b1', 'Pl', 'mc', 'LittC2SE', '135_2b1_Pl_mc_LittC2SE'],\n",
              " ['135', '2b1', 'Tc', 'mc', 'LittC2SE', '135_2b1_Tc_mc_LittC2SE'],\n",
              " ['135', '2b2', 'Al', 'mc', 'LittC2SE', '135_2b2_Al_mc_LittC2SE'],\n",
              " ['135', '2b2', 'Ar', 'mc', 'LittC2SE', '135_2b2_Ar_mc_LittC2SE'],\n",
              " ['135', '2b2', 'Pl', 'mc', 'LittC2SE', '135_2b2_Pl_mc_LittC2SE'],\n",
              " ['135', '2b2', 'Tc', 'mc', 'LittC2SE', '135_2b2_Tc_mc_LittC2SE'],\n",
              " ['135', '2b3', 'Al', 'mc', 'LittC2SE', '135_2b3_Al_mc_LittC2SE'],\n",
              " ['135', '2b3', 'Ar', 'mc', 'LittC2SE', '135_2b3_Ar_mc_LittC2SE'],\n",
              " ['135', '2b3', 'Pl', 'mc', 'LittC2SE', '135_2b3_Pl_mc_LittC2SE'],\n",
              " ['135', '2b3', 'Pr', 'mc', 'LittC2SE', '135_2b3_Pr_mc_LittC2SE'],\n",
              " ['135', '2b3', 'Tc', 'mc', 'LittC2SE', '135_2b3_Tc_mc_LittC2SE'],\n",
              " ['136', '1b1', 'Ar', 'sc', 'Meditron', '136_1b1_Ar_sc_Meditron'],\n",
              " ['137', '1b1', 'Ar', 'sc', 'Meditron', '137_1b1_Ar_sc_Meditron'],\n",
              " ['137', '1b1', 'Ll', 'sc', 'Meditron', '137_1b1_Ll_sc_Meditron'],\n",
              " ['138', '1p2', 'Al', 'mc', 'AKGC417L', '138_1p2_Al_mc_AKGC417L'],\n",
              " ['138', '1p2', 'Ar', 'mc', 'AKGC417L', '138_1p2_Ar_mc_AKGC417L'],\n",
              " ['138', '1p2', 'Ll', 'mc', 'AKGC417L', '138_1p2_Ll_mc_AKGC417L'],\n",
              " ['138', '1p2', 'Lr', 'mc', 'AKGC417L', '138_1p2_Lr_mc_AKGC417L'],\n",
              " ['138', '1p2', 'Pl', 'mc', 'AKGC417L', '138_1p2_Pl_mc_AKGC417L'],\n",
              " ['138', '1p2', 'Pr', 'mc', 'AKGC417L', '138_1p2_Pr_mc_AKGC417L'],\n",
              " ['138', '1p2', 'Tc', 'mc', 'AKGC417L', '138_1p2_Tc_mc_AKGC417L'],\n",
              " ['138', '1p3', 'Al', 'mc', 'AKGC417L', '138_1p3_Al_mc_AKGC417L'],\n",
              " ['138', '1p3', 'Ar', 'mc', 'AKGC417L', '138_1p3_Ar_mc_AKGC417L'],\n",
              " ['138', '1p3', 'Ll', 'mc', 'AKGC417L', '138_1p3_Ll_mc_AKGC417L'],\n",
              " ['138', '1p3', 'Lr', 'mc', 'AKGC417L', '138_1p3_Lr_mc_AKGC417L'],\n",
              " ['138', '1p3', 'Pl', 'mc', 'AKGC417L', '138_1p3_Pl_mc_AKGC417L'],\n",
              " ['138', '1p3', 'Pr', 'mc', 'AKGC417L', '138_1p3_Pr_mc_AKGC417L'],\n",
              " ['138', '1p3', 'Tc', 'mc', 'AKGC417L', '138_1p3_Tc_mc_AKGC417L'],\n",
              " ['138', '1p4', 'Ar', 'mc', 'AKGC417L', '138_1p4_Ar_mc_AKGC417L'],\n",
              " ['138', '1p4', 'Ll', 'mc', 'AKGC417L', '138_1p4_Ll_mc_AKGC417L'],\n",
              " ['138', '1p4', 'Lr', 'mc', 'AKGC417L', '138_1p4_Lr_mc_AKGC417L'],\n",
              " ['138', '1p4', 'Pl', 'mc', 'AKGC417L', '138_1p4_Pl_mc_AKGC417L'],\n",
              " ['138', '1p4', 'Pr', 'mc', 'AKGC417L', '138_1p4_Pr_mc_AKGC417L'],\n",
              " ['138', '1p4', 'Tc', 'mc', 'AKGC417L', '138_1p4_Tc_mc_AKGC417L'],\n",
              " ['138', '2p2', 'Al', 'mc', 'AKGC417L', '138_2p2_Al_mc_AKGC417L'],\n",
              " ['138', '2p2', 'Ar', 'mc', 'AKGC417L', '138_2p2_Ar_mc_AKGC417L'],\n",
              " ['138', '2p2', 'Ll', 'mc', 'AKGC417L', '138_2p2_Ll_mc_AKGC417L'],\n",
              " ['138', '2p2', 'Lr', 'mc', 'AKGC417L', '138_2p2_Lr_mc_AKGC417L'],\n",
              " ['138', '2p2', 'Pl', 'mc', 'AKGC417L', '138_2p2_Pl_mc_AKGC417L'],\n",
              " ['138', '2p2', 'Pr', 'mc', 'AKGC417L', '138_2p2_Pr_mc_AKGC417L'],\n",
              " ['138', '2p2', 'Tc', 'mc', 'AKGC417L', '138_2p2_Tc_mc_AKGC417L'],\n",
              " ['139', '1b1', 'Al', 'sc', 'Litt3200', '139_1b1_Al_sc_Litt3200'],\n",
              " ['139', '1b1', 'Ar', 'sc', 'Litt3200', '139_1b1_Ar_sc_Litt3200'],\n",
              " ['139', '1b1', 'Ll', 'sc', 'Litt3200', '139_1b1_Ll_sc_Litt3200'],\n",
              " ['139', '1b1', 'Lr', 'sc', 'Litt3200', '139_1b1_Lr_sc_Litt3200'],\n",
              " ['139', '1b1', 'Pl', 'sc', 'Litt3200', '139_1b1_Pl_sc_Litt3200'],\n",
              " ['139', '1b1', 'Pr', 'sc', 'Litt3200', '139_1b1_Pr_sc_Litt3200'],\n",
              " ['140', '2b2', 'Ll', 'mc', 'LittC2SE', '140_2b2_Ll_mc_LittC2SE'],\n",
              " ['140', '2b2', 'Tc', 'mc', 'LittC2SE', '140_2b2_Tc_mc_LittC2SE'],\n",
              " ['140', '2b3', 'Ll', 'mc', 'LittC2SE', '140_2b3_Ll_mc_LittC2SE'],\n",
              " ['140', '2b3', 'Tc', 'mc', 'LittC2SE', '140_2b3_Tc_mc_LittC2SE'],\n",
              " ['141', '1b1', 'Pr', 'mc', 'LittC2SE', '141_1b1_Pr_mc_LittC2SE'],\n",
              " ['141', '1b2', 'Ar', 'mc', 'LittC2SE', '141_1b2_Ar_mc_LittC2SE'],\n",
              " ['141', '1b2', 'Lr', 'mc', 'LittC2SE', '141_1b2_Lr_mc_LittC2SE'],\n",
              " ['141', '1b2', 'Pr', 'mc', 'LittC2SE', '141_1b2_Pr_mc_LittC2SE'],\n",
              " ['141', '1b2', 'Tc', 'mc', 'LittC2SE', '141_1b2_Tc_mc_LittC2SE'],\n",
              " ['141', '1b3', 'Al', 'mc', 'LittC2SE', '141_1b3_Al_mc_LittC2SE'],\n",
              " ['141', '1b3', 'Ar', 'mc', 'LittC2SE', '141_1b3_Ar_mc_LittC2SE'],\n",
              " ['141', '1b3', 'Pr', 'mc', 'LittC2SE', '141_1b3_Pr_mc_LittC2SE'],\n",
              " ['142', '1b1', 'Pl', 'mc', 'LittC2SE', '142_1b1_Pl_mc_LittC2SE'],\n",
              " ['143', '1b1', 'Al', 'sc', 'Meditron', '143_1b1_Al_sc_Meditron'],\n",
              " ['144', '1b1', 'Al', 'sc', 'Meditron', '144_1b1_Al_sc_Meditron'],\n",
              " ['144', '1b1', 'Tc', 'sc', 'Meditron', '144_1b1_Tc_sc_Meditron'],\n",
              " ['145', '2b2', 'Al', 'mc', 'AKGC417L', '145_2b2_Al_mc_AKGC417L'],\n",
              " ['145', '2b2', 'Ar', 'mc', 'AKGC417L', '145_2b2_Ar_mc_AKGC417L'],\n",
              " ['145', '2b2', 'Lr', 'mc', 'AKGC417L', '145_2b2_Lr_mc_AKGC417L'],\n",
              " ['145', '2b2', 'Pr', 'mc', 'AKGC417L', '145_2b2_Pr_mc_AKGC417L'],\n",
              " ['145', '3b2', 'Ar', 'mc', 'AKGC417L', '145_3b2_Ar_mc_AKGC417L'],\n",
              " ['145', '3b2', 'Lr', 'mc', 'AKGC417L', '145_3b2_Lr_mc_AKGC417L'],\n",
              " ['145', '3b4', 'Pl', 'mc', 'AKGC417L', '145_3b4_Pl_mc_AKGC417L'],\n",
              " ['146', '2b2', 'Pl', 'mc', 'AKGC417L', '146_2b2_Pl_mc_AKGC417L'],\n",
              " ['146', '2b4', 'Al', 'mc', 'AKGC417L', '146_2b4_Al_mc_AKGC417L'],\n",
              " ['146', '2b4', 'Ar', 'mc', 'AKGC417L', '146_2b4_Ar_mc_AKGC417L'],\n",
              " ['146', '2b4', 'Ll', 'mc', 'AKGC417L', '146_2b4_Ll_mc_AKGC417L'],\n",
              " ['146', '2b4', 'Lr', 'mc', 'AKGC417L', '146_2b4_Lr_mc_AKGC417L'],\n",
              " ['146', '2b4', 'Pr', 'mc', 'AKGC417L', '146_2b4_Pr_mc_AKGC417L'],\n",
              " ['146', '8p3', 'Al', 'mc', 'AKGC417L', '146_8p3_Al_mc_AKGC417L'],\n",
              " ['146', '8p3', 'Ar', 'mc', 'AKGC417L', '146_8p3_Ar_mc_AKGC417L'],\n",
              " ['146', '8p3', 'Lr', 'mc', 'AKGC417L', '146_8p3_Lr_mc_AKGC417L'],\n",
              " ['146', '8p3', 'Pl', 'mc', 'AKGC417L', '146_8p3_Pl_mc_AKGC417L'],\n",
              " ['146', '8p3', 'Pr', 'mc', 'AKGC417L', '146_8p3_Pr_mc_AKGC417L'],\n",
              " ['147', '1b2', 'Tc', 'mc', 'AKGC417L', '147_1b2_Tc_mc_AKGC417L'],\n",
              " ['147', '1b3', 'Tc', 'mc', 'AKGC417L', '147_1b3_Tc_mc_AKGC417L'],\n",
              " ['147', '1b4', 'Tc', 'mc', 'AKGC417L', '147_1b4_Tc_mc_AKGC417L'],\n",
              " ['147', '2b2', 'Al', 'mc', 'AKGC417L', '147_2b2_Al_mc_AKGC417L'],\n",
              " ['147', '2b2', 'Ar', 'mc', 'AKGC417L', '147_2b2_Ar_mc_AKGC417L'],\n",
              " ['147', '2b2', 'Pl', 'mc', 'AKGC417L', '147_2b2_Pl_mc_AKGC417L'],\n",
              " ['147', '2b3', 'Al', 'mc', 'AKGC417L', '147_2b3_Al_mc_AKGC417L'],\n",
              " ['147', '2b3', 'Ar', 'mc', 'AKGC417L', '147_2b3_Ar_mc_AKGC417L'],\n",
              " ['147', '2b3', 'Ll', 'mc', 'AKGC417L', '147_2b3_Ll_mc_AKGC417L'],\n",
              " ['147', '2b3', 'Lr', 'mc', 'AKGC417L', '147_2b3_Lr_mc_AKGC417L'],\n",
              " ['147', '2b3', 'Pl', 'mc', 'AKGC417L', '147_2b3_Pl_mc_AKGC417L'],\n",
              " ['147', '2b4', 'Al', 'mc', 'AKGC417L', '147_2b4_Al_mc_AKGC417L'],\n",
              " ['147', '2b4', 'Ar', 'mc', 'AKGC417L', '147_2b4_Ar_mc_AKGC417L'],\n",
              " ['147', '2b4', 'Ll', 'mc', 'AKGC417L', '147_2b4_Ll_mc_AKGC417L'],\n",
              " ['147', '2b4', 'Lr', 'mc', 'AKGC417L', '147_2b4_Lr_mc_AKGC417L'],\n",
              " ['147', '2b4', 'Pl', 'mc', 'AKGC417L', '147_2b4_Pl_mc_AKGC417L'],\n",
              " ['148', '1b1', 'Al', 'sc', 'Meditron', '148_1b1_Al_sc_Meditron'],\n",
              " ['149', '1b1', 'Al', 'sc', 'Meditron', '149_1b1_Al_sc_Meditron'],\n",
              " ['149', '1b1', 'Lr', 'sc', 'Meditron', '149_1b1_Lr_sc_Meditron'],\n",
              " ['149', '1b1', 'Pl', 'sc', 'Meditron', '149_1b1_Pl_sc_Meditron'],\n",
              " ['150', '1b2', 'Al', 'sc', 'Meditron', '150_1b2_Al_sc_Meditron'],\n",
              " ['151', '2p2', 'Al', 'mc', 'AKGC417L', '151_2p2_Al_mc_AKGC417L'],\n",
              " ['151', '2p2', 'Ar', 'mc', 'AKGC417L', '151_2p2_Ar_mc_AKGC417L'],\n",
              " ['151', '2p2', 'Ll', 'mc', 'AKGC417L', '151_2p2_Ll_mc_AKGC417L'],\n",
              " ['151', '2p2', 'Lr', 'mc', 'AKGC417L', '151_2p2_Lr_mc_AKGC417L'],\n",
              " ['151', '2p2', 'Pl', 'mc', 'AKGC417L', '151_2p2_Pl_mc_AKGC417L'],\n",
              " ['151', '2p2', 'Pr', 'mc', 'AKGC417L', '151_2p2_Pr_mc_AKGC417L'],\n",
              " ['151', '2p2', 'Tc', 'mc', 'AKGC417L', '151_2p2_Tc_mc_AKGC417L'],\n",
              " ['151', '2p3', 'Al', 'mc', 'AKGC417L', '151_2p3_Al_mc_AKGC417L'],\n",
              " ['151', '2p3', 'Ar', 'mc', 'AKGC417L', '151_2p3_Ar_mc_AKGC417L'],\n",
              " ['151', '2p3', 'Ll', 'mc', 'AKGC417L', '151_2p3_Ll_mc_AKGC417L'],\n",
              " ['151', '2p3', 'Lr', 'mc', 'AKGC417L', '151_2p3_Lr_mc_AKGC417L'],\n",
              " ['151', '2p3', 'Pl', 'mc', 'AKGC417L', '151_2p3_Pl_mc_AKGC417L'],\n",
              " ['151', '2p3', 'Pr', 'mc', 'AKGC417L', '151_2p3_Pr_mc_AKGC417L'],\n",
              " ['151', '2p3', 'Tc', 'mc', 'AKGC417L', '151_2p3_Tc_mc_AKGC417L'],\n",
              " ['151', '2p4', 'Al', 'mc', 'AKGC417L', '151_2p4_Al_mc_AKGC417L'],\n",
              " ['151', '2p4', 'Ar', 'mc', 'AKGC417L', '151_2p4_Ar_mc_AKGC417L'],\n",
              " ['151', '2p4', 'Ll', 'mc', 'AKGC417L', '151_2p4_Ll_mc_AKGC417L'],\n",
              " ['151', '2p4', 'Lr', 'mc', 'AKGC417L', '151_2p4_Lr_mc_AKGC417L'],\n",
              " ['151', '2p4', 'Pl', 'mc', 'AKGC417L', '151_2p4_Pl_mc_AKGC417L'],\n",
              " ['151', '2p4', 'Pr', 'mc', 'AKGC417L', '151_2p4_Pr_mc_AKGC417L'],\n",
              " ['151', '2p4', 'Tc', 'mc', 'AKGC417L', '151_2p4_Tc_mc_AKGC417L'],\n",
              " ['151', '3p2', 'Al', 'mc', 'AKGC417L', '151_3p2_Al_mc_AKGC417L'],\n",
              " ['151', '3p2', 'Ar', 'mc', 'AKGC417L', '151_3p2_Ar_mc_AKGC417L'],\n",
              " ['151', '3p2', 'Lr', 'mc', 'AKGC417L', '151_3p2_Lr_mc_AKGC417L'],\n",
              " ['151', '3p2', 'Pl', 'mc', 'AKGC417L', '151_3p2_Pl_mc_AKGC417L'],\n",
              " ['151', '3p2', 'Pr', 'mc', 'AKGC417L', '151_3p2_Pr_mc_AKGC417L'],\n",
              " ['151', '3p2', 'Tc', 'mc', 'AKGC417L', '151_3p2_Tc_mc_AKGC417L'],\n",
              " ['151', '3p3', 'Ll', 'mc', 'AKGC417L', '151_3p3_Ll_mc_AKGC417L'],\n",
              " ['152', '1b1', 'Al', 'sc', 'Meditron', '152_1b1_Al_sc_Meditron'],\n",
              " ['153', '1b1', 'Al', 'sc', 'Meditron', '153_1b1_Al_sc_Meditron'],\n",
              " ['154', '1b3', 'Al', 'mc', 'AKGC417L', '154_1b3_Al_mc_AKGC417L'],\n",
              " ['154', '1b3', 'Ar', 'mc', 'AKGC417L', '154_1b3_Ar_mc_AKGC417L'],\n",
              " ['154', '1b3', 'Ll', 'mc', 'AKGC417L', '154_1b3_Ll_mc_AKGC417L'],\n",
              " ['154', '1b3', 'Lr', 'mc', 'AKGC417L', '154_1b3_Lr_mc_AKGC417L'],\n",
              " ['154', '1b3', 'Pl', 'mc', 'AKGC417L', '154_1b3_Pl_mc_AKGC417L'],\n",
              " ['154', '1b3', 'Pr', 'mc', 'AKGC417L', '154_1b3_Pr_mc_AKGC417L'],\n",
              " ['154', '1b3', 'Tc', 'mc', 'AKGC417L', '154_1b3_Tc_mc_AKGC417L'],\n",
              " ['154', '2b4', 'Al', 'mc', 'AKGC417L', '154_2b4_Al_mc_AKGC417L'],\n",
              " ['154', '2b4', 'Ar', 'mc', 'AKGC417L', '154_2b4_Ar_mc_AKGC417L'],\n",
              " ['154', '2b4', 'Ll', 'mc', 'AKGC417L', '154_2b4_Ll_mc_AKGC417L'],\n",
              " ['154', '2b4', 'Lr', 'mc', 'AKGC417L', '154_2b4_Lr_mc_AKGC417L'],\n",
              " ['154', '2b4', 'Pl', 'mc', 'AKGC417L', '154_2b4_Pl_mc_AKGC417L'],\n",
              " ['154', '2b4', 'Pr', 'mc', 'AKGC417L', '154_2b4_Pr_mc_AKGC417L'],\n",
              " ['154', '2b4', 'Tc', 'mc', 'AKGC417L', '154_2b4_Tc_mc_AKGC417L'],\n",
              " ['154', '3b3', 'Al', 'mc', 'AKGC417L', '154_3b3_Al_mc_AKGC417L'],\n",
              " ['154', '3b3', 'Ar', 'mc', 'AKGC417L', '154_3b3_Ar_mc_AKGC417L'],\n",
              " ['154', '3b3', 'Ll', 'mc', 'AKGC417L', '154_3b3_Ll_mc_AKGC417L'],\n",
              " ['154', '4b4', 'Al', 'mc', 'AKGC417L', '154_4b4_Al_mc_AKGC417L'],\n",
              " ['154', '4b4', 'Ar', 'mc', 'AKGC417L', '154_4b4_Ar_mc_AKGC417L'],\n",
              " ['154', '4b4', 'Ll', 'mc', 'AKGC417L', '154_4b4_Ll_mc_AKGC417L'],\n",
              " ['154', '4b4', 'Lr', 'mc', 'AKGC417L', '154_4b4_Lr_mc_AKGC417L'],\n",
              " ['154', '4b4', 'Pl', 'mc', 'AKGC417L', '154_4b4_Pl_mc_AKGC417L'],\n",
              " ['154', '4b4', 'Pr', 'mc', 'AKGC417L', '154_4b4_Pr_mc_AKGC417L'],\n",
              " ['155', '2b1', 'Al', 'mc', 'LittC2SE', '155_2b1_Al_mc_LittC2SE'],\n",
              " ['156', '2b3', 'Al', 'mc', 'AKGC417L', '156_2b3_Al_mc_AKGC417L'],\n",
              " ['156', '2b3', 'Ar', 'mc', 'AKGC417L', '156_2b3_Ar_mc_AKGC417L'],\n",
              " ['156', '2b3', 'Ll', 'mc', 'AKGC417L', '156_2b3_Ll_mc_AKGC417L'],\n",
              " ['156', '2b3', 'Lr', 'mc', 'AKGC417L', '156_2b3_Lr_mc_AKGC417L'],\n",
              " ['156', '2b3', 'Pl', 'mc', 'AKGC417L', '156_2b3_Pl_mc_AKGC417L'],\n",
              " ['156', '2b3', 'Pr', 'mc', 'AKGC417L', '156_2b3_Pr_mc_AKGC417L'],\n",
              " ['156', '5b3', 'Al', 'mc', 'AKGC417L', '156_5b3_Al_mc_AKGC417L'],\n",
              " ['156', '5b3', 'Ar', 'mc', 'AKGC417L', '156_5b3_Ar_mc_AKGC417L'],\n",
              " ['156', '5b3', 'Ll', 'mc', 'AKGC417L', '156_5b3_Ll_mc_AKGC417L'],\n",
              " ['156', '5b3', 'Lr', 'mc', 'AKGC417L', '156_5b3_Lr_mc_AKGC417L'],\n",
              " ['156', '5b3', 'Pl', 'mc', 'AKGC417L', '156_5b3_Pl_mc_AKGC417L'],\n",
              " ['156', '5b3', 'Pr', 'mc', 'AKGC417L', '156_5b3_Pr_mc_AKGC417L'],\n",
              " ['156', '8b3', 'Al', 'mc', 'AKGC417L', '156_8b3_Al_mc_AKGC417L'],\n",
              " ['156', '8b3', 'Ar', 'mc', 'AKGC417L', '156_8b3_Ar_mc_AKGC417L'],\n",
              " ['156', '8b3', 'Ll', 'mc', 'AKGC417L', '156_8b3_Ll_mc_AKGC417L'],\n",
              " ['156', '8b3', 'Lr', 'mc', 'AKGC417L', '156_8b3_Lr_mc_AKGC417L'],\n",
              " ['156', '8b3', 'Pl', 'mc', 'AKGC417L', '156_8b3_Pl_mc_AKGC417L'],\n",
              " ['157', '1b1', 'Al', 'sc', 'Meditron', '157_1b1_Al_sc_Meditron'],\n",
              " ['157', '1b1', 'Ar', 'sc', 'Meditron', '157_1b1_Ar_sc_Meditron'],\n",
              " ['157', '1b1', 'Lr', 'sc', 'Meditron', '157_1b1_Lr_sc_Meditron'],\n",
              " ['157', '1b1', 'Pl', 'sc', 'Meditron', '157_1b1_Pl_sc_Meditron'],\n",
              " ['157', '1b1', 'Pr', 'sc', 'Meditron', '157_1b1_Pr_sc_Meditron'],\n",
              " ['158', '1b3', 'Ar', 'mc', 'LittC2SE', '158_1b3_Ar_mc_LittC2SE'],\n",
              " ['158', '1p2', 'Al', 'mc', 'AKGC417L', '158_1p2_Al_mc_AKGC417L'],\n",
              " ['158', '1p2', 'Ar', 'mc', 'AKGC417L', '158_1p2_Ar_mc_AKGC417L'],\n",
              " ['158', '1p2', 'Ll', 'mc', 'AKGC417L', '158_1p2_Ll_mc_AKGC417L'],\n",
              " ['158', '1p2', 'Lr', 'mc', 'AKGC417L', '158_1p2_Lr_mc_AKGC417L'],\n",
              " ['158', '1p2', 'Pl', 'mc', 'AKGC417L', '158_1p2_Pl_mc_AKGC417L'],\n",
              " ['158', '1p2', 'Pr', 'mc', 'AKGC417L', '158_1p2_Pr_mc_AKGC417L'],\n",
              " ['158', '1p2', 'Tc', 'mc', 'AKGC417L', '158_1p2_Tc_mc_AKGC417L'],\n",
              " ['158', '1p3', 'Al', 'mc', 'AKGC417L', '158_1p3_Al_mc_AKGC417L'],\n",
              " ['158', '1p3', 'Ar', 'mc', 'AKGC417L', '158_1p3_Ar_mc_AKGC417L'],\n",
              " ['158', '1p3', 'Ll', 'mc', 'AKGC417L', '158_1p3_Ll_mc_AKGC417L'],\n",
              " ['158', '1p3', 'Lr', 'mc', 'AKGC417L', '158_1p3_Lr_mc_AKGC417L'],\n",
              " ['158', '1p3', 'Pl', 'mc', 'AKGC417L', '158_1p3_Pl_mc_AKGC417L'],\n",
              " ['158', '1p3', 'Pr', 'mc', 'AKGC417L', '158_1p3_Pr_mc_AKGC417L'],\n",
              " ['158', '1p3', 'Tc', 'mc', 'AKGC417L', '158_1p3_Tc_mc_AKGC417L'],\n",
              " ['158', '1p4', 'Al', 'mc', 'AKGC417L', '158_1p4_Al_mc_AKGC417L'],\n",
              " ['158', '1p4', 'Ar', 'mc', 'AKGC417L', '158_1p4_Ar_mc_AKGC417L'],\n",
              " ['158', '1p4', 'Lr', 'mc', 'AKGC417L', '158_1p4_Lr_mc_AKGC417L'],\n",
              " ['158', '1p4', 'Pl', 'mc', 'AKGC417L', '158_1p4_Pl_mc_AKGC417L'],\n",
              " ['158', '1p4', 'Pr', 'mc', 'AKGC417L', '158_1p4_Pr_mc_AKGC417L'],\n",
              " ['158', '1p4', 'Tc', 'mc', 'AKGC417L', '158_1p4_Tc_mc_AKGC417L'],\n",
              " ['158', '2p2', 'Ar', 'mc', 'AKGC417L', '158_2p2_Ar_mc_AKGC417L'],\n",
              " ['158', '2p3', 'Lr', 'mc', 'AKGC417L', '158_2p3_Lr_mc_AKGC417L'],\n",
              " ['158', '2p3', 'Tc', 'mc', 'AKGC417L', '158_2p3_Tc_mc_AKGC417L'],\n",
              " ['159', '1b1', 'Al', 'sc', 'Meditron', '159_1b1_Al_sc_Meditron'],\n",
              " ['159', '1b1', 'Ar', 'sc', 'Meditron', '159_1b1_Ar_sc_Meditron'],\n",
              " ['159', '1b1', 'Ll', 'sc', 'Meditron', '159_1b1_Ll_sc_Meditron'],\n",
              " ['159', '1b1', 'Pr', 'sc', 'Meditron', '159_1b1_Pr_sc_Meditron'],\n",
              " ['160', '1b2', 'Al', 'mc', 'AKGC417L', '160_1b2_Al_mc_AKGC417L'],\n",
              " ['160', '1b2', 'Ar', 'mc', 'AKGC417L', '160_1b2_Ar_mc_AKGC417L'],\n",
              " ['160', '1b2', 'Lr', 'mc', 'AKGC417L', '160_1b2_Lr_mc_AKGC417L'],\n",
              " ['160', '1b2', 'Pl', 'mc', 'AKGC417L', '160_1b2_Pl_mc_AKGC417L'],\n",
              " ['160', '1b2', 'Pr', 'mc', 'AKGC417L', '160_1b2_Pr_mc_AKGC417L'],\n",
              " ['160', '1b2', 'Tc', 'mc', 'AKGC417L', '160_1b2_Tc_mc_AKGC417L'],\n",
              " ['160', '1b3', 'Al', 'mc', 'AKGC417L', '160_1b3_Al_mc_AKGC417L'],\n",
              " ['160', '1b3', 'Ar', 'mc', 'AKGC417L', '160_1b3_Ar_mc_AKGC417L'],\n",
              " ['160', '1b3', 'Lr', 'mc', 'AKGC417L', '160_1b3_Lr_mc_AKGC417L'],\n",
              " ['160', '1b3', 'Pl', 'mc', 'AKGC417L', '160_1b3_Pl_mc_AKGC417L'],\n",
              " ['160', '1b3', 'Pr', 'mc', 'AKGC417L', '160_1b3_Pr_mc_AKGC417L'],\n",
              " ['160', '1b3', 'Tc', 'mc', 'AKGC417L', '160_1b3_Tc_mc_AKGC417L'],\n",
              " ['160', '1b4', 'Al', 'mc', 'AKGC417L', '160_1b4_Al_mc_AKGC417L'],\n",
              " ['160', '1b4', 'Ar', 'mc', 'AKGC417L', '160_1b4_Ar_mc_AKGC417L'],\n",
              " ['160', '1b4', 'Lr', 'mc', 'AKGC417L', '160_1b4_Lr_mc_AKGC417L'],\n",
              " ['160', '1b4', 'Pl', 'mc', 'AKGC417L', '160_1b4_Pl_mc_AKGC417L'],\n",
              " ['160', '1b4', 'Pr', 'mc', 'AKGC417L', '160_1b4_Pr_mc_AKGC417L'],\n",
              " ['160', '1b4', 'Tc', 'mc', 'AKGC417L', '160_1b4_Tc_mc_AKGC417L'],\n",
              " ['160', '2b3', 'Lr', 'mc', 'AKGC417L', '160_2b3_Lr_mc_AKGC417L'],\n",
              " ['160', '2b4', 'Ar', 'mc', 'AKGC417L', '160_2b4_Ar_mc_AKGC417L'],\n",
              " ['160', '2b4', 'Pl', 'mc', 'AKGC417L', '160_2b4_Pl_mc_AKGC417L'],\n",
              " ['160', '2b4', 'Pr', 'mc', 'AKGC417L', '160_2b4_Pr_mc_AKGC417L'],\n",
              " ['160', '2b4', 'Tc', 'mc', 'AKGC417L', '160_2b4_Tc_mc_AKGC417L'],\n",
              " ['161', '1b1', 'Al', 'sc', 'Meditron', '161_1b1_Al_sc_Meditron'],\n",
              " ['161', '1b1', 'Pl', 'sc', 'Meditron', '161_1b1_Pl_sc_Meditron'],\n",
              " ['162', '1b2', 'Al', 'mc', 'AKGC417L', '162_1b2_Al_mc_AKGC417L'],\n",
              " ['162', '1b2', 'Ar', 'mc', 'AKGC417L', '162_1b2_Ar_mc_AKGC417L'],\n",
              " ['162', '1b2', 'Ll', 'mc', 'AKGC417L', '162_1b2_Ll_mc_AKGC417L'],\n",
              " ['162', '1b2', 'Lr', 'mc', 'AKGC417L', '162_1b2_Lr_mc_AKGC417L'],\n",
              " ['162', '1b2', 'Pl', 'mc', 'AKGC417L', '162_1b2_Pl_mc_AKGC417L'],\n",
              " ['162', '1b2', 'Pr', 'mc', 'AKGC417L', '162_1b2_Pr_mc_AKGC417L'],\n",
              " ['162', '1b2', 'Tc', 'mc', 'AKGC417L', '162_1b2_Tc_mc_AKGC417L'],\n",
              " ['162', '2b2', 'Al', 'mc', 'AKGC417L', '162_2b2_Al_mc_AKGC417L'],\n",
              " ['162', '2b2', 'Ar', 'mc', 'AKGC417L', '162_2b2_Ar_mc_AKGC417L'],\n",
              " ['162', '2b2', 'Pl', 'mc', 'AKGC417L', '162_2b2_Pl_mc_AKGC417L'],\n",
              " ['162', '2b2', 'Pr', 'mc', 'AKGC417L', '162_2b2_Pr_mc_AKGC417L'],\n",
              " ['162', '2b2', 'Tc', 'mc', 'AKGC417L', '162_2b2_Tc_mc_AKGC417L'],\n",
              " ['162', '2b3', 'Al', 'mc', 'AKGC417L', '162_2b3_Al_mc_AKGC417L'],\n",
              " ['162', '2b3', 'Ar', 'mc', 'AKGC417L', '162_2b3_Ar_mc_AKGC417L'],\n",
              " ['162', '2b3', 'Lr', 'mc', 'AKGC417L', '162_2b3_Lr_mc_AKGC417L'],\n",
              " ['162', '2b3', 'Pl', 'mc', 'AKGC417L', '162_2b3_Pl_mc_AKGC417L'],\n",
              " ['162', '2b3', 'Pr', 'mc', 'AKGC417L', '162_2b3_Pr_mc_AKGC417L'],\n",
              " ['162', '2b3', 'Tc', 'mc', 'AKGC417L', '162_2b3_Tc_mc_AKGC417L'],\n",
              " ['162', '2b4', 'Al', 'mc', 'AKGC417L', '162_2b4_Al_mc_AKGC417L'],\n",
              " ['162', '2b4', 'Ar', 'mc', 'AKGC417L', '162_2b4_Ar_mc_AKGC417L'],\n",
              " ['162', '2b4', 'Lr', 'mc', 'AKGC417L', '162_2b4_Lr_mc_AKGC417L'],\n",
              " ['162', '2b4', 'Pl', 'mc', 'AKGC417L', '162_2b4_Pl_mc_AKGC417L'],\n",
              " ['162', '2b4', 'Pr', 'mc', 'AKGC417L', '162_2b4_Pr_mc_AKGC417L'],\n",
              " ['162', '2b4', 'Tc', 'mc', 'AKGC417L', '162_2b4_Tc_mc_AKGC417L'],\n",
              " ['163', '2b2', 'Al', 'mc', 'AKGC417L', '163_2b2_Al_mc_AKGC417L'],\n",
              " ['163', '2b2', 'Ar', 'mc', 'AKGC417L', '163_2b2_Ar_mc_AKGC417L'],\n",
              " ['163', '2b2', 'Ll', 'mc', 'AKGC417L', '163_2b2_Ll_mc_AKGC417L'],\n",
              " ['163', '2b2', 'Lr', 'mc', 'AKGC417L', '163_2b2_Lr_mc_AKGC417L'],\n",
              " ['163', '2b2', 'Pl', 'mc', 'AKGC417L', '163_2b2_Pl_mc_AKGC417L'],\n",
              " ['163', '2b2', 'Pr', 'mc', 'AKGC417L', '163_2b2_Pr_mc_AKGC417L'],\n",
              " ['163', '2b2', 'Tc', 'mc', 'AKGC417L', '163_2b2_Tc_mc_AKGC417L'],\n",
              " ['163', '8b3', 'Al', 'mc', 'AKGC417L', '163_8b3_Al_mc_AKGC417L'],\n",
              " ['163', '8b3', 'Ar', 'mc', 'AKGC417L', '163_8b3_Ar_mc_AKGC417L'],\n",
              " ['163', '8b3', 'Ll', 'mc', 'AKGC417L', '163_8b3_Ll_mc_AKGC417L'],\n",
              " ['163', '8b3', 'Lr', 'mc', 'AKGC417L', '163_8b3_Lr_mc_AKGC417L'],\n",
              " ['163', '8b3', 'Pl', 'mc', 'AKGC417L', '163_8b3_Pl_mc_AKGC417L'],\n",
              " ['163', '8b3', 'Pr', 'mc', 'AKGC417L', '163_8b3_Pr_mc_AKGC417L'],\n",
              " ['164', '1b1', 'Ll', 'sc', 'Meditron', '164_1b1_Ll_sc_Meditron'],\n",
              " ['165', '1b1', 'Ar', 'sc', 'Meditron', '165_1b1_Ar_sc_Meditron'],\n",
              " ['165', '1b1', 'Pl', 'sc', 'Meditron', '165_1b1_Pl_sc_Meditron'],\n",
              " ['165', '1b1', 'Pr', 'sc', 'Meditron', '165_1b1_Pr_sc_Meditron'],\n",
              " ['166', '1p1', 'Al', 'sc', 'Meditron', '166_1p1_Al_sc_Meditron'],\n",
              " ['166', '1p1', 'Ar', 'sc', 'Meditron', '166_1p1_Ar_sc_Meditron'],\n",
              " ['166', '1p1', 'Ll', 'sc', 'Meditron', '166_1p1_Ll_sc_Meditron'],\n",
              " ['166', '1p1', 'Pl', 'sc', 'Meditron', '166_1p1_Pl_sc_Meditron'],\n",
              " ['166', '1p1', 'Pr', 'sc', 'Meditron', '166_1p1_Pr_sc_Meditron'],\n",
              " ['167', '1b1', 'Al', 'sc', 'Meditron', '167_1b1_Al_sc_Meditron'],\n",
              " ['167', '1b1', 'Pr', 'sc', 'Meditron', '167_1b1_Pr_sc_Meditron'],\n",
              " ['168', '1b1', 'Al', 'sc', 'Meditron', '168_1b1_Al_sc_Meditron'],\n",
              " ['169', '1b1', 'Lr', 'sc', 'Meditron', '169_1b1_Lr_sc_Meditron'],\n",
              " ['169', '1b2', 'Ll', 'sc', 'Meditron', '169_1b2_Ll_sc_Meditron'],\n",
              " ['170', '1b2', 'Al', 'mc', 'AKGC417L', '170_1b2_Al_mc_AKGC417L'],\n",
              " ['170', '1b2', 'Ar', 'mc', 'AKGC417L', '170_1b2_Ar_mc_AKGC417L'],\n",
              " ['170', '1b2', 'Lr', 'mc', 'AKGC417L', '170_1b2_Lr_mc_AKGC417L'],\n",
              " ['170', '1b2', 'Pl', 'mc', 'AKGC417L', '170_1b2_Pl_mc_AKGC417L'],\n",
              " ['170', '1b2', 'Pr', 'mc', 'AKGC417L', '170_1b2_Pr_mc_AKGC417L'],\n",
              " ['170', '1b2', 'Tc', 'mc', 'AKGC417L', '170_1b2_Tc_mc_AKGC417L'],\n",
              " ['170', '1b3', 'Al', 'mc', 'AKGC417L', '170_1b3_Al_mc_AKGC417L'],\n",
              " ['170', '1b3', 'Ar', 'mc', 'AKGC417L', '170_1b3_Ar_mc_AKGC417L'],\n",
              " ['170', '1b3', 'Ll', 'mc', 'AKGC417L', '170_1b3_Ll_mc_AKGC417L'],\n",
              " ['170', '1b3', 'Lr', 'mc', 'AKGC417L', '170_1b3_Lr_mc_AKGC417L'],\n",
              " ['170', '1b3', 'Pl', 'mc', 'AKGC417L', '170_1b3_Pl_mc_AKGC417L'],\n",
              " ['170', '1b3', 'Pr', 'mc', 'AKGC417L', '170_1b3_Pr_mc_AKGC417L'],\n",
              " ['170', '1b3', 'Tc', 'mc', 'AKGC417L', '170_1b3_Tc_mc_AKGC417L'],\n",
              " ['170', '1b4', 'Al', 'mc', 'AKGC417L', '170_1b4_Al_mc_AKGC417L'],\n",
              " ['170', '1b4', 'Ar', 'mc', 'AKGC417L', '170_1b4_Ar_mc_AKGC417L'],\n",
              " ['170', '1b4', 'Lr', 'mc', 'AKGC417L', '170_1b4_Lr_mc_AKGC417L'],\n",
              " ['170', '1b4', 'Pl', 'mc', 'AKGC417L', '170_1b4_Pl_mc_AKGC417L'],\n",
              " ['170', '1b4', 'Pr', 'mc', 'AKGC417L', '170_1b4_Pr_mc_AKGC417L'],\n",
              " ['170', '1b4', 'Tc', 'mc', 'AKGC417L', '170_1b4_Tc_mc_AKGC417L'],\n",
              " ['170', '2b2', 'Al', 'mc', 'AKGC417L', '170_2b2_Al_mc_AKGC417L'],\n",
              " ['170', '2b2', 'Ar', 'mc', 'AKGC417L', '170_2b2_Ar_mc_AKGC417L'],\n",
              " ['170', '2b2', 'Lr', 'mc', 'AKGC417L', '170_2b2_Lr_mc_AKGC417L'],\n",
              " ['170', '2b2', 'Pl', 'mc', 'AKGC417L', '170_2b2_Pl_mc_AKGC417L'],\n",
              " ['170', '2b2', 'Pr', 'mc', 'AKGC417L', '170_2b2_Pr_mc_AKGC417L'],\n",
              " ['170', '2b2', 'Tc', 'mc', 'AKGC417L', '170_2b2_Tc_mc_AKGC417L'],\n",
              " ['171', '1b1', 'Al', 'sc', 'Meditron', '171_1b1_Al_sc_Meditron'],\n",
              " ['172', '1b3', 'Al', 'mc', 'AKGC417L', '172_1b3_Al_mc_AKGC417L'],\n",
              " ['172', '1b3', 'Ar', 'mc', 'AKGC417L', '172_1b3_Ar_mc_AKGC417L'],\n",
              " ['172', '1b3', 'Ll', 'mc', 'AKGC417L', '172_1b3_Ll_mc_AKGC417L'],\n",
              " ['172', '1b3', 'Lr', 'mc', 'AKGC417L', '172_1b3_Lr_mc_AKGC417L'],\n",
              " ['172', '1b3', 'Pl', 'mc', 'AKGC417L', '172_1b3_Pl_mc_AKGC417L'],\n",
              " ['172', '1b3', 'Pr', 'mc', 'AKGC417L', '172_1b3_Pr_mc_AKGC417L'],\n",
              " ['172', '1b3', 'Tc', 'mc', 'AKGC417L', '172_1b3_Tc_mc_AKGC417L'],\n",
              " ['172', '1b4', 'Al', 'mc', 'AKGC417L', '172_1b4_Al_mc_AKGC417L'],\n",
              " ['172', '1b4', 'Ar', 'mc', 'AKGC417L', '172_1b4_Ar_mc_AKGC417L'],\n",
              " ['172', '1b4', 'Ll', 'mc', 'AKGC417L', '172_1b4_Ll_mc_AKGC417L'],\n",
              " ['172', '1b4', 'Lr', 'mc', 'AKGC417L', '172_1b4_Lr_mc_AKGC417L'],\n",
              " ['172', '1b4', 'Pl', 'mc', 'AKGC417L', '172_1b4_Pl_mc_AKGC417L'],\n",
              " ['172', '1b4', 'Pr', 'mc', 'AKGC417L', '172_1b4_Pr_mc_AKGC417L'],\n",
              " ['172', '1b4', 'Tc', 'mc', 'AKGC417L', '172_1b4_Tc_mc_AKGC417L'],\n",
              " ['172', '1b5', 'Al', 'mc', 'AKGC417L', '172_1b5_Al_mc_AKGC417L'],\n",
              " ['172', '1b5', 'Ar', 'mc', 'AKGC417L', '172_1b5_Ar_mc_AKGC417L'],\n",
              " ['172', '1b5', 'Ll', 'mc', 'AKGC417L', '172_1b5_Ll_mc_AKGC417L'],\n",
              " ['172', '1b5', 'Lr', 'mc', 'AKGC417L', '172_1b5_Lr_mc_AKGC417L'],\n",
              " ['172', '1b5', 'Pl', 'mc', 'AKGC417L', '172_1b5_Pl_mc_AKGC417L'],\n",
              " ['172', '1b5', 'Pr', 'mc', 'AKGC417L', '172_1b5_Pr_mc_AKGC417L'],\n",
              " ['172', '1b5', 'Tc', 'mc', 'AKGC417L', '172_1b5_Tc_mc_AKGC417L'],\n",
              " ['172', '2b5', 'Al', 'mc', 'AKGC417L', '172_2b5_Al_mc_AKGC417L'],\n",
              " ['172', '2b5', 'Ar', 'mc', 'AKGC417L', '172_2b5_Ar_mc_AKGC417L'],\n",
              " ['172', '2b5', 'Lr', 'mc', 'AKGC417L', '172_2b5_Lr_mc_AKGC417L'],\n",
              " ['172', '2b5', 'Pl', 'mc', 'AKGC417L', '172_2b5_Pl_mc_AKGC417L'],\n",
              " ['172', '2b5', 'Pr', 'mc', 'AKGC417L', '172_2b5_Pr_mc_AKGC417L'],\n",
              " ['172', '2b5', 'Tc', 'mc', 'AKGC417L', '172_2b5_Tc_mc_AKGC417L'],\n",
              " ['173', '1b1', 'Al', 'sc', 'Meditron', '173_1b1_Al_sc_Meditron'],\n",
              " ['174', '1p2', 'Ar', 'mc', 'AKGC417L', '174_1p2_Ar_mc_AKGC417L'],\n",
              " ['174', '1p2', 'Ll', 'mc', 'AKGC417L', '174_1p2_Ll_mc_AKGC417L'],\n",
              " ['174', '1p2', 'Lr', 'mc', 'AKGC417L', '174_1p2_Lr_mc_AKGC417L'],\n",
              " ['174', '1p2', 'Pl', 'mc', 'AKGC417L', '174_1p2_Pl_mc_AKGC417L'],\n",
              " ['174', '1p2', 'Pr', 'mc', 'AKGC417L', '174_1p2_Pr_mc_AKGC417L'],\n",
              " ['174', '1p2', 'Tc', 'mc', 'AKGC417L', '174_1p2_Tc_mc_AKGC417L'],\n",
              " ['174', '1p3', 'Ar', 'mc', 'AKGC417L', '174_1p3_Ar_mc_AKGC417L'],\n",
              " ['174', '1p3', 'Ll', 'mc', 'AKGC417L', '174_1p3_Ll_mc_AKGC417L'],\n",
              " ['174', '1p3', 'Lr', 'mc', 'AKGC417L', '174_1p3_Lr_mc_AKGC417L'],\n",
              " ['174', '1p3', 'Pl', 'mc', 'AKGC417L', '174_1p3_Pl_mc_AKGC417L'],\n",
              " ['174', '1p3', 'Pr', 'mc', 'AKGC417L', '174_1p3_Pr_mc_AKGC417L'],\n",
              " ['174', '1p3', 'Tc', 'mc', 'AKGC417L', '174_1p3_Tc_mc_AKGC417L'],\n",
              " ['174', '1p4', 'Ar', 'mc', 'AKGC417L', '174_1p4_Ar_mc_AKGC417L'],\n",
              " ['174', '1p4', 'Ll', 'mc', 'AKGC417L', '174_1p4_Ll_mc_AKGC417L'],\n",
              " ['174', '1p4', 'Lr', 'mc', 'AKGC417L', '174_1p4_Lr_mc_AKGC417L'],\n",
              " ['174', '1p4', 'Pl', 'mc', 'AKGC417L', '174_1p4_Pl_mc_AKGC417L'],\n",
              " ['174', '1p4', 'Pr', 'mc', 'AKGC417L', '174_1p4_Pr_mc_AKGC417L'],\n",
              " ['174', '1p4', 'Tc', 'mc', 'AKGC417L', '174_1p4_Tc_mc_AKGC417L'],\n",
              " ['174', '2p3', 'Al', 'mc', 'AKGC417L', '174_2p3_Al_mc_AKGC417L'],\n",
              " ['174', '2p3', 'Ar', 'mc', 'AKGC417L', '174_2p3_Ar_mc_AKGC417L'],\n",
              " ['174', '2p3', 'Pl', 'mc', 'AKGC417L', '174_2p3_Pl_mc_AKGC417L'],\n",
              " ['174', '2p3', 'Pr', 'mc', 'AKGC417L', '174_2p3_Pr_mc_AKGC417L'],\n",
              " ['174', '2p3', 'Tc', 'mc', 'AKGC417L', '174_2p3_Tc_mc_AKGC417L'],\n",
              " ['175', '1b1', 'Al', 'sc', 'Litt3200', '175_1b1_Al_sc_Litt3200'],\n",
              " ['175', '1b1', 'Ar', 'sc', 'Litt3200', '175_1b1_Ar_sc_Litt3200'],\n",
              " ['175', '1b1', 'Ll', 'sc', 'Litt3200', '175_1b1_Ll_sc_Litt3200'],\n",
              " ['175', '1b1', 'Lr', 'sc', 'Litt3200', '175_1b1_Lr_sc_Litt3200'],\n",
              " ['175', '1b1', 'Pl', 'sc', 'Litt3200', '175_1b1_Pl_sc_Litt3200'],\n",
              " ['175', '1b1', 'Pr', 'sc', 'Litt3200', '175_1b1_Pr_sc_Litt3200'],\n",
              " ['176', '1b3', 'Al', 'mc', 'AKGC417L', '176_1b3_Al_mc_AKGC417L'],\n",
              " ['176', '1b3', 'Ar', 'mc', 'AKGC417L', '176_1b3_Ar_mc_AKGC417L'],\n",
              " ['176', '1b3', 'Ll', 'mc', 'AKGC417L', '176_1b3_Ll_mc_AKGC417L'],\n",
              " ['176', '1b3', 'Lr', 'mc', 'AKGC417L', '176_1b3_Lr_mc_AKGC417L'],\n",
              " ['176', '1b3', 'Pl', 'mc', 'AKGC417L', '176_1b3_Pl_mc_AKGC417L'],\n",
              " ['176', '1b3', 'Pr', 'mc', 'AKGC417L', '176_1b3_Pr_mc_AKGC417L'],\n",
              " ['176', '1b3', 'Tc', 'mc', 'AKGC417L', '176_1b3_Tc_mc_AKGC417L'],\n",
              " ['176', '1b4', 'Al', 'mc', 'AKGC417L', '176_1b4_Al_mc_AKGC417L'],\n",
              " ['176', '1b4', 'Ar', 'mc', 'AKGC417L', '176_1b4_Ar_mc_AKGC417L'],\n",
              " ['176', '1b4', 'Ll', 'mc', 'AKGC417L', '176_1b4_Ll_mc_AKGC417L'],\n",
              " ['176', '1b4', 'Lr', 'mc', 'AKGC417L', '176_1b4_Lr_mc_AKGC417L'],\n",
              " ['176', '1b4', 'Pl', 'mc', 'AKGC417L', '176_1b4_Pl_mc_AKGC417L'],\n",
              " ['176', '1b4', 'Pr', 'mc', 'AKGC417L', '176_1b4_Pr_mc_AKGC417L'],\n",
              " ['176', '1b4', 'Tc', 'mc', 'AKGC417L', '176_1b4_Tc_mc_AKGC417L'],\n",
              " ['176', '2b3', 'Al', 'mc', 'AKGC417L', '176_2b3_Al_mc_AKGC417L'],\n",
              " ['176', '2b3', 'Ar', 'mc', 'AKGC417L', '176_2b3_Ar_mc_AKGC417L'],\n",
              " ['176', '2b3', 'Ll', 'mc', 'AKGC417L', '176_2b3_Ll_mc_AKGC417L'],\n",
              " ['176', '2b3', 'Lr', 'mc', 'AKGC417L', '176_2b3_Lr_mc_AKGC417L'],\n",
              " ['176', '2b3', 'Pl', 'mc', 'AKGC417L', '176_2b3_Pl_mc_AKGC417L'],\n",
              " ['176', '2b3', 'Pr', 'mc', 'AKGC417L', '176_2b3_Pr_mc_AKGC417L'],\n",
              " ['176', '2b3', 'Tc', 'mc', 'AKGC417L', '176_2b3_Tc_mc_AKGC417L'],\n",
              " ['177', '1b2', 'Al', 'mc', 'AKGC417L', '177_1b2_Al_mc_AKGC417L'],\n",
              " ['177', '1b2', 'Ar', 'mc', 'AKGC417L', '177_1b2_Ar_mc_AKGC417L'],\n",
              " ['177', '1b2', 'Lr', 'mc', 'AKGC417L', '177_1b2_Lr_mc_AKGC417L'],\n",
              " ['177', '1b2', 'Pl', 'mc', 'AKGC417L', '177_1b2_Pl_mc_AKGC417L'],\n",
              " ['177', '1b2', 'Pr', 'mc', 'AKGC417L', '177_1b2_Pr_mc_AKGC417L'],\n",
              " ['177', '1b2', 'Tc', 'mc', 'AKGC417L', '177_1b2_Tc_mc_AKGC417L'],\n",
              " ['177', '1b4', 'Al', 'mc', 'AKGC417L', '177_1b4_Al_mc_AKGC417L'],\n",
              " ['177', '1b4', 'Ar', 'mc', 'AKGC417L', '177_1b4_Ar_mc_AKGC417L'],\n",
              " ['177', '1b4', 'Lr', 'mc', 'AKGC417L', '177_1b4_Lr_mc_AKGC417L'],\n",
              " ['177', '1b4', 'Pl', 'mc', 'AKGC417L', '177_1b4_Pl_mc_AKGC417L'],\n",
              " ['177', '1b4', 'Pr', 'mc', 'AKGC417L', '177_1b4_Pr_mc_AKGC417L'],\n",
              " ['177', '1b4', 'Tc', 'mc', 'AKGC417L', '177_1b4_Tc_mc_AKGC417L'],\n",
              " ['177', '2b4', 'Al', 'mc', 'AKGC417L', '177_2b4_Al_mc_AKGC417L'],\n",
              " ['177', '2b4', 'Lr', 'mc', 'AKGC417L', '177_2b4_Lr_mc_AKGC417L'],\n",
              " ['177', '2b4', 'Pl', 'mc', 'AKGC417L', '177_2b4_Pl_mc_AKGC417L'],\n",
              " ['177', '2b4', 'Pr', 'mc', 'AKGC417L', '177_2b4_Pr_mc_AKGC417L'],\n",
              " ['177', '2b4', 'Tc', 'mc', 'AKGC417L', '177_2b4_Tc_mc_AKGC417L'],\n",
              " ['178', '1b2', 'Al', 'mc', 'AKGC417L', '178_1b2_Al_mc_AKGC417L'],\n",
              " ['178', '1b2', 'Ar', 'mc', 'AKGC417L', '178_1b2_Ar_mc_AKGC417L'],\n",
              " ['178', '1b2', 'Lr', 'mc', 'AKGC417L', '178_1b2_Lr_mc_AKGC417L'],\n",
              " ['178', '1b2', 'Pl', 'mc', 'AKGC417L', '178_1b2_Pl_mc_AKGC417L'],\n",
              " ['178', '1b2', 'Pr', 'mc', 'AKGC417L', '178_1b2_Pr_mc_AKGC417L'],\n",
              " ['178', '1b2', 'Tc', 'mc', 'AKGC417L', '178_1b2_Tc_mc_AKGC417L'],\n",
              " ['178', '1b3', 'Al', 'mc', 'AKGC417L', '178_1b3_Al_mc_AKGC417L'],\n",
              " ['178', '1b3', 'Ar', 'mc', 'AKGC417L', '178_1b3_Ar_mc_AKGC417L'],\n",
              " ['178', '1b3', 'Lr', 'mc', 'AKGC417L', '178_1b3_Lr_mc_AKGC417L'],\n",
              " ['178', '1b3', 'Pl', 'mc', 'AKGC417L', '178_1b3_Pl_mc_AKGC417L'],\n",
              " ['178', '1b3', 'Pr', 'mc', 'AKGC417L', '178_1b3_Pr_mc_AKGC417L'],\n",
              " ['178', '1b3', 'Tc', 'mc', 'AKGC417L', '178_1b3_Tc_mc_AKGC417L'],\n",
              " ['178', '1b6', 'Al', 'mc', 'AKGC417L', '178_1b6_Al_mc_AKGC417L'],\n",
              " ['178', '1b6', 'Ar', 'mc', 'AKGC417L', '178_1b6_Ar_mc_AKGC417L'],\n",
              " ['178', '1b6', 'Ll', 'mc', 'AKGC417L', '178_1b6_Ll_mc_AKGC417L'],\n",
              " ['178', '1b6', 'Lr', 'mc', 'AKGC417L', '178_1b6_Lr_mc_AKGC417L'],\n",
              " ['178', '1b6', 'Pl', 'mc', 'AKGC417L', '178_1b6_Pl_mc_AKGC417L'],\n",
              " ['178', '1b6', 'Pr', 'mc', 'AKGC417L', '178_1b6_Pr_mc_AKGC417L'],\n",
              " ['178', '1b6', 'Tc', 'mc', 'AKGC417L', '178_1b6_Tc_mc_AKGC417L'],\n",
              " ['178', '2b2', 'Al', 'mc', 'AKGC417L', '178_2b2_Al_mc_AKGC417L'],\n",
              " ['178', '2b2', 'Ar', 'mc', 'AKGC417L', '178_2b2_Ar_mc_AKGC417L'],\n",
              " ['178', '2b2', 'Lr', 'mc', 'AKGC417L', '178_2b2_Lr_mc_AKGC417L'],\n",
              " ['178', '2b2', 'Pr', 'mc', 'AKGC417L', '178_2b2_Pr_mc_AKGC417L'],\n",
              " ['178', '2b2', 'Tc', 'mc', 'AKGC417L', '178_2b2_Tc_mc_AKGC417L'],\n",
              " ['179', '1b1', 'Al', 'sc', 'Meditron', '179_1b1_Al_sc_Meditron'],\n",
              " ['179', '1b1', 'Tc', 'sc', 'Meditron', '179_1b1_Tc_sc_Meditron'],\n",
              " ['180', '1b4', 'Al', 'mc', 'AKGC417L', '180_1b4_Al_mc_AKGC417L'],\n",
              " ['180', '1b4', 'Ar', 'mc', 'AKGC417L', '180_1b4_Ar_mc_AKGC417L'],\n",
              " ['180', '1b4', 'Lr', 'mc', 'AKGC417L', '180_1b4_Lr_mc_AKGC417L'],\n",
              " ['180', '1b4', 'Pl', 'mc', 'AKGC417L', '180_1b4_Pl_mc_AKGC417L'],\n",
              " ['180', '1b4', 'Pr', 'mc', 'AKGC417L', '180_1b4_Pr_mc_AKGC417L'],\n",
              " ['181', '1b1', 'Ar', 'mc', 'LittC2SE', '181_1b1_Ar_mc_LittC2SE'],\n",
              " ['181', '1b1', 'Tc', 'mc', 'LittC2SE', '181_1b1_Tc_mc_LittC2SE'],\n",
              " ['181', '1b2', 'Ar', 'mc', 'LittC2SE', '181_1b2_Ar_mc_LittC2SE'],\n",
              " ['181', '1b3', 'Tc', 'mc', 'LittC2SE', '181_1b3_Tc_mc_LittC2SE'],\n",
              " ['182', '1b1', 'Tc', 'sc', 'Meditron', '182_1b1_Tc_sc_Meditron'],\n",
              " ['183', '1b1', 'Pl', 'sc', 'Meditron', '183_1b1_Pl_sc_Meditron'],\n",
              " ['183', '1b1', 'Tc', 'sc', 'Meditron', '183_1b1_Tc_sc_Meditron'],\n",
              " ['184', '1b1', 'Ar', 'sc', 'Meditron', '184_1b1_Ar_sc_Meditron'],\n",
              " ['185', '1b1', 'Al', 'sc', 'Litt3200', '185_1b1_Al_sc_Litt3200'],\n",
              " ['185', '1b1', 'Ar', 'sc', 'Litt3200', '185_1b1_Ar_sc_Litt3200'],\n",
              " ['185', '1b1', 'Ll', 'sc', 'Litt3200', '185_1b1_Ll_sc_Litt3200'],\n",
              " ['185', '1b1', 'Lr', 'sc', 'Litt3200', '185_1b1_Lr_sc_Litt3200'],\n",
              " ['185', '1b1', 'Pl', 'sc', 'Litt3200', '185_1b1_Pl_sc_Litt3200'],\n",
              " ['185', '1b1', 'Pr', 'sc', 'Litt3200', '185_1b1_Pr_sc_Litt3200'],\n",
              " ['186', '2b2', 'Al', 'mc', 'AKGC417L', '186_2b2_Al_mc_AKGC417L'],\n",
              " ['186', '2b2', 'Ar', 'mc', 'AKGC417L', '186_2b2_Ar_mc_AKGC417L'],\n",
              " ['186', '2b2', 'Lr', 'mc', 'AKGC417L', '186_2b2_Lr_mc_AKGC417L'],\n",
              " ['186', '2b2', 'Pl', 'mc', 'AKGC417L', '186_2b2_Pl_mc_AKGC417L'],\n",
              " ['186', '2b2', 'Pr', 'mc', 'AKGC417L', '186_2b2_Pr_mc_AKGC417L'],\n",
              " ['186', '2b2', 'Tc', 'mc', 'AKGC417L', '186_2b2_Tc_mc_AKGC417L'],\n",
              " ['186', '2b3', 'Al', 'mc', 'AKGC417L', '186_2b3_Al_mc_AKGC417L'],\n",
              " ['186', '2b3', 'Ar', 'mc', 'AKGC417L', '186_2b3_Ar_mc_AKGC417L'],\n",
              " ['186', '2b3', 'Lr', 'mc', 'AKGC417L', '186_2b3_Lr_mc_AKGC417L'],\n",
              " ['186', '2b3', 'Pl', 'mc', 'AKGC417L', '186_2b3_Pl_mc_AKGC417L'],\n",
              " ['186', '2b3', 'Pr', 'mc', 'AKGC417L', '186_2b3_Pr_mc_AKGC417L'],\n",
              " ['186', '2b3', 'Tc', 'mc', 'AKGC417L', '186_2b3_Tc_mc_AKGC417L'],\n",
              " ['186', '2b4', 'Al', 'mc', 'AKGC417L', '186_2b4_Al_mc_AKGC417L'],\n",
              " ['186', '2b4', 'Ar', 'mc', 'AKGC417L', '186_2b4_Ar_mc_AKGC417L'],\n",
              " ['186', '2b4', 'Lr', 'mc', 'AKGC417L', '186_2b4_Lr_mc_AKGC417L'],\n",
              " ['186', '2b4', 'Pl', 'mc', 'AKGC417L', '186_2b4_Pl_mc_AKGC417L'],\n",
              " ['186', '2b4', 'Pr', 'mc', 'AKGC417L', '186_2b4_Pr_mc_AKGC417L'],\n",
              " ['186', '2b4', 'Tc', 'mc', 'AKGC417L', '186_2b4_Tc_mc_AKGC417L'],\n",
              " ['186', '3b3', 'Al', 'mc', 'AKGC417L', '186_3b3_Al_mc_AKGC417L'],\n",
              " ['186', '3b3', 'Ar', 'mc', 'AKGC417L', '186_3b3_Ar_mc_AKGC417L'],\n",
              " ['186', '3b3', 'Lr', 'mc', 'AKGC417L', '186_3b3_Lr_mc_AKGC417L'],\n",
              " ['186', '3b3', 'Pl', 'mc', 'AKGC417L', '186_3b3_Pl_mc_AKGC417L'],\n",
              " ['186', '3b3', 'Pr', 'mc', 'AKGC417L', '186_3b3_Pr_mc_AKGC417L'],\n",
              " ['186', '3b3', 'Tc', 'mc', 'AKGC417L', '186_3b3_Tc_mc_AKGC417L'],\n",
              " ['187', '1b1', 'Ll', 'sc', 'Meditron', '187_1b1_Ll_sc_Meditron'],\n",
              " ['188', '1b1', 'Al', 'sc', 'Meditron', '188_1b1_Al_sc_Meditron'],\n",
              " ['188', '1b1', 'Ar', 'sc', 'Meditron', '188_1b1_Ar_sc_Meditron'],\n",
              " ['188', '1b1', 'Pl', 'sc', 'Meditron', '188_1b1_Pl_sc_Meditron'],\n",
              " ['188', '1b1', 'Tc', 'sc', 'Meditron', '188_1b1_Tc_sc_Meditron'],\n",
              " ['189', '1b2', 'Lr', 'mc', 'LittC2SE', '189_1b2_Lr_mc_LittC2SE'],\n",
              " ['190', '1b1', 'Tc', 'sc', 'Meditron', '190_1b1_Tc_sc_Meditron'],\n",
              " ['191', '2b1', 'Pl', 'mc', 'LittC2SE', '191_2b1_Pl_mc_LittC2SE'],\n",
              " ['191', '2b1', 'Pr', 'mc', 'LittC2SE', '191_2b1_Pr_mc_LittC2SE'],\n",
              " ['191', '2b2', 'Tc', 'mc', 'LittC2SE', '191_2b2_Tc_mc_LittC2SE'],\n",
              " ['192', '2b1', 'Al', 'mc', 'LittC2SE', '192_2b1_Al_mc_LittC2SE'],\n",
              " ['192', '2b1', 'Ar', 'mc', 'LittC2SE', '192_2b1_Ar_mc_LittC2SE'],\n",
              " ['192', '2b2', 'Al', 'mc', 'LittC2SE', '192_2b2_Al_mc_LittC2SE'],\n",
              " ['192', '2b2', 'Ar', 'mc', 'LittC2SE', '192_2b2_Ar_mc_LittC2SE'],\n",
              " ['192', '2b3', 'Al', 'mc', 'LittC2SE', '192_2b3_Al_mc_LittC2SE'],\n",
              " ['192', '2b3', 'Ar', 'mc', 'LittC2SE', '192_2b3_Ar_mc_LittC2SE'],\n",
              " ['193', '1b2', 'Al', 'mc', 'AKGC417L', '193_1b2_Al_mc_AKGC417L'],\n",
              " ['193', '1b2', 'Ar', 'mc', 'AKGC417L', '193_1b2_Ar_mc_AKGC417L'],\n",
              " ['193', '1b2', 'Ll', 'mc', 'AKGC417L', '193_1b2_Ll_mc_AKGC417L'],\n",
              " ['193', '1b2', 'Pl', 'mc', 'AKGC417L', '193_1b2_Pl_mc_AKGC417L'],\n",
              " ['193', '1b2', 'Pr', 'mc', 'AKGC417L', '193_1b2_Pr_mc_AKGC417L'],\n",
              " ['193', '1b2', 'Tc', 'mc', 'AKGC417L', '193_1b2_Tc_mc_AKGC417L'],\n",
              " ['193', '1b4', 'Lr', 'mc', 'AKGC417L', '193_1b4_Lr_mc_AKGC417L'],\n",
              " ['193', '7b3', 'Al', 'mc', 'AKGC417L', '193_7b3_Al_mc_AKGC417L'],\n",
              " ['193', '7b3', 'Ar', 'mc', 'AKGC417L', '193_7b3_Ar_mc_AKGC417L'],\n",
              " ['193', '7b3', 'Ll', 'mc', 'AKGC417L', '193_7b3_Ll_mc_AKGC417L'],\n",
              " ['193', '7b3', 'Lr', 'mc', 'AKGC417L', '193_7b3_Lr_mc_AKGC417L'],\n",
              " ['193', '7b3', 'Pl', 'mc', 'AKGC417L', '193_7b3_Pl_mc_AKGC417L'],\n",
              " ['193', '7b3', 'Pr', 'mc', 'AKGC417L', '193_7b3_Pr_mc_AKGC417L'],\n",
              " ['193', '7b3', 'Tc', 'mc', 'AKGC417L', '193_7b3_Tc_mc_AKGC417L'],\n",
              " ['194', '1b1', 'Lr', 'sc', 'Meditron', '194_1b1_Lr_sc_Meditron'],\n",
              " ['194', '1b1', 'Pr', 'sc', 'Meditron', '194_1b1_Pr_sc_Meditron'],\n",
              " ['195', '1b1', 'Al', 'sc', 'Litt3200', '195_1b1_Al_sc_Litt3200'],\n",
              " ['195', '1b1', 'Ar', 'sc', 'Litt3200', '195_1b1_Ar_sc_Litt3200'],\n",
              " ['195', '1b1', 'Ll', 'sc', 'Litt3200', '195_1b1_Ll_sc_Litt3200'],\n",
              " ['195', '1b1', 'Lr', 'sc', 'Litt3200', '195_1b1_Lr_sc_Litt3200'],\n",
              " ['195', '1b1', 'Pl', 'sc', 'Litt3200', '195_1b1_Pl_sc_Litt3200'],\n",
              " ['195', '1b1', 'Pr', 'sc', 'Litt3200', '195_1b1_Pr_sc_Litt3200'],\n",
              " ['196', '1b1', 'Pr', 'sc', 'Meditron', '196_1b1_Pr_sc_Meditron'],\n",
              " ['197', '1b1', 'Al', 'sc', 'Meditron', '197_1b1_Al_sc_Meditron'],\n",
              " ['197', '1b1', 'Tc', 'sc', 'Meditron', '197_1b1_Tc_sc_Meditron'],\n",
              " ['198', '1b5', 'Al', 'mc', 'AKGC417L', '198_1b5_Al_mc_AKGC417L'],\n",
              " ['198', '1b5', 'Ar', 'mc', 'AKGC417L', '198_1b5_Ar_mc_AKGC417L'],\n",
              " ['198', '1b5', 'Ll', 'mc', 'AKGC417L', '198_1b5_Ll_mc_AKGC417L'],\n",
              " ['198', '1b5', 'Lr', 'mc', 'AKGC417L', '198_1b5_Lr_mc_AKGC417L'],\n",
              " ['198', '1b5', 'Pl', 'mc', 'AKGC417L', '198_1b5_Pl_mc_AKGC417L'],\n",
              " ['198', '1b5', 'Pr', 'mc', 'AKGC417L', '198_1b5_Pr_mc_AKGC417L'],\n",
              " ['198', '1b5', 'Tc', 'mc', 'AKGC417L', '198_1b5_Tc_mc_AKGC417L'],\n",
              " ['198', '6p1', 'Al', 'mc', 'AKGC417L', '198_6p1_Al_mc_AKGC417L'],\n",
              " ['198', '6p1', 'Ar', 'mc', 'AKGC417L', '198_6p1_Ar_mc_AKGC417L'],\n",
              " ['198', '6p1', 'Ll', 'mc', 'AKGC417L', '198_6p1_Ll_mc_AKGC417L'],\n",
              " ['198', '6p1', 'Lr', 'mc', 'AKGC417L', '198_6p1_Lr_mc_AKGC417L'],\n",
              " ['198', '6p1', 'Pl', 'mc', 'AKGC417L', '198_6p1_Pl_mc_AKGC417L'],\n",
              " ['198', '6p1', 'Pr', 'mc', 'AKGC417L', '198_6p1_Pr_mc_AKGC417L'],\n",
              " ['198', '6p1', 'Tc', 'mc', 'AKGC417L', '198_6p1_Tc_mc_AKGC417L'],\n",
              " ['199', '2b1', 'Ll', 'mc', 'LittC2SE', '199_2b1_Ll_mc_LittC2SE'],\n",
              " ['199', '2b3', 'Ll', 'mc', 'LittC2SE', '199_2b3_Ll_mc_LittC2SE'],\n",
              " ['200', '2p2', 'Al', 'mc', 'AKGC417L', '200_2p2_Al_mc_AKGC417L'],\n",
              " ['200', '2p2', 'Ar', 'mc', 'AKGC417L', '200_2p2_Ar_mc_AKGC417L'],\n",
              " ['200', '2p2', 'Lr', 'mc', 'AKGC417L', '200_2p2_Lr_mc_AKGC417L'],\n",
              " ['200', '2p2', 'Pl', 'mc', 'AKGC417L', '200_2p2_Pl_mc_AKGC417L'],\n",
              " ['200', '2p2', 'Pr', 'mc', 'AKGC417L', '200_2p2_Pr_mc_AKGC417L'],\n",
              " ['200', '2p2', 'Tc', 'mc', 'AKGC417L', '200_2p2_Tc_mc_AKGC417L'],\n",
              " ['200', '2p3', 'Al', 'mc', 'AKGC417L', '200_2p3_Al_mc_AKGC417L'],\n",
              " ['200', '2p3', 'Ar', 'mc', 'AKGC417L', '200_2p3_Ar_mc_AKGC417L'],\n",
              " ['200', '2p3', 'Lr', 'mc', 'AKGC417L', '200_2p3_Lr_mc_AKGC417L'],\n",
              " ['200', '2p3', 'Pl', 'mc', 'AKGC417L', '200_2p3_Pl_mc_AKGC417L'],\n",
              " ['200', '2p3', 'Pr', 'mc', 'AKGC417L', '200_2p3_Pr_mc_AKGC417L'],\n",
              " ['200', '2p3', 'Tc', 'mc', 'AKGC417L', '200_2p3_Tc_mc_AKGC417L'],\n",
              " ['200', '2p4', 'Al', 'mc', 'AKGC417L', '200_2p4_Al_mc_AKGC417L'],\n",
              " ['200', '2p4', 'Ar', 'mc', 'AKGC417L', '200_2p4_Ar_mc_AKGC417L'],\n",
              " ['200', '2p4', 'Lr', 'mc', 'AKGC417L', '200_2p4_Lr_mc_AKGC417L'],\n",
              " ['200', '2p4', 'Pl', 'mc', 'AKGC417L', '200_2p4_Pl_mc_AKGC417L'],\n",
              " ['200', '2p4', 'Pr', 'mc', 'AKGC417L', '200_2p4_Pr_mc_AKGC417L'],\n",
              " ['200', '2p4', 'Tc', 'mc', 'AKGC417L', '200_2p4_Tc_mc_AKGC417L'],\n",
              " ['200', '3p4', 'Al', 'mc', 'AKGC417L', '200_3p4_Al_mc_AKGC417L'],\n",
              " ['200', '3p4', 'Ar', 'mc', 'AKGC417L', '200_3p4_Ar_mc_AKGC417L'],\n",
              " ['200', '3p4', 'Pl', 'mc', 'AKGC417L', '200_3p4_Pl_mc_AKGC417L'],\n",
              " ['200', '3p4', 'Pr', 'mc', 'AKGC417L', '200_3p4_Pr_mc_AKGC417L'],\n",
              " ['200', '3p4', 'Tc', 'mc', 'AKGC417L', '200_3p4_Tc_mc_AKGC417L'],\n",
              " ['201', '1b1', 'Al', 'sc', 'Meditron', '201_1b1_Al_sc_Meditron'],\n",
              " ['201', '1b1', 'Ar', 'sc', 'Meditron', '201_1b1_Ar_sc_Meditron'],\n",
              " ['201', '1b2', 'Al', 'sc', 'Meditron', '201_1b2_Al_sc_Meditron'],\n",
              " ['201', '1b2', 'Ar', 'sc', 'Meditron', '201_1b2_Ar_sc_Meditron'],\n",
              " ['201', '1b3', 'Al', 'sc', 'Meditron', '201_1b3_Al_sc_Meditron'],\n",
              " ['201', '1b3', 'Ar', 'sc', 'Meditron', '201_1b3_Ar_sc_Meditron'],\n",
              " ['202', '1b1', 'Ar', 'sc', 'Meditron', '202_1b1_Ar_sc_Meditron'],\n",
              " ['203', '1p2', 'Al', 'mc', 'AKGC417L', '203_1p2_Al_mc_AKGC417L'],\n",
              " ['203', '1p2', 'Ar', 'mc', 'AKGC417L', '203_1p2_Ar_mc_AKGC417L'],\n",
              " ['203', '1p2', 'Lr', 'mc', 'AKGC417L', '203_1p2_Lr_mc_AKGC417L'],\n",
              " ['203', '1p2', 'Pl', 'mc', 'AKGC417L', '203_1p2_Pl_mc_AKGC417L'],\n",
              " ['203', '1p2', 'Pr', 'mc', 'AKGC417L', '203_1p2_Pr_mc_AKGC417L'],\n",
              " ['203', '1p2', 'Tc', 'mc', 'AKGC417L', '203_1p2_Tc_mc_AKGC417L'],\n",
              " ['203', '1p3', 'Al', 'mc', 'AKGC417L', '203_1p3_Al_mc_AKGC417L'],\n",
              " ['203', '1p3', 'Ar', 'mc', 'AKGC417L', '203_1p3_Ar_mc_AKGC417L'],\n",
              " ['203', '1p3', 'Pl', 'mc', 'AKGC417L', '203_1p3_Pl_mc_AKGC417L'],\n",
              " ['203', '1p3', 'Pr', 'mc', 'AKGC417L', '203_1p3_Pr_mc_AKGC417L'],\n",
              " ['203', '1p3', 'Tc', 'mc', 'AKGC417L', '203_1p3_Tc_mc_AKGC417L'],\n",
              " ['203', '1p4', 'Al', 'mc', 'AKGC417L', '203_1p4_Al_mc_AKGC417L'],\n",
              " ['203', '1p4', 'Ar', 'mc', 'AKGC417L', '203_1p4_Ar_mc_AKGC417L'],\n",
              " ['203', '1p4', 'Pl', 'mc', 'AKGC417L', '203_1p4_Pl_mc_AKGC417L'],\n",
              " ['203', '1p4', 'Pr', 'mc', 'AKGC417L', '203_1p4_Pr_mc_AKGC417L'],\n",
              " ['203', '1p4', 'Tc', 'mc', 'AKGC417L', '203_1p4_Tc_mc_AKGC417L'],\n",
              " ['203', '2p3', 'Al', 'mc', 'AKGC417L', '203_2p3_Al_mc_AKGC417L'],\n",
              " ['203', '2p3', 'Ar', 'mc', 'AKGC417L', '203_2p3_Ar_mc_AKGC417L'],\n",
              " ['203', '2p3', 'Pl', 'mc', 'AKGC417L', '203_2p3_Pl_mc_AKGC417L'],\n",
              " ['203', '2p3', 'Pr', 'mc', 'AKGC417L', '203_2p3_Pr_mc_AKGC417L'],\n",
              " ['203', '2p3', 'Tc', 'mc', 'AKGC417L', '203_2p3_Tc_mc_AKGC417L'],\n",
              " ['204', '2b5', 'Al', 'mc', 'AKGC417L', '204_2b5_Al_mc_AKGC417L'],\n",
              " ['204', '2b5', 'Ar', 'mc', 'AKGC417L', '204_2b5_Ar_mc_AKGC417L'],\n",
              " ['204', '2b5', 'Ll', 'mc', 'AKGC417L', '204_2b5_Ll_mc_AKGC417L'],\n",
              " ['204', '7p5', 'Al', 'mc', 'AKGC417L', '204_7p5_Al_mc_AKGC417L'],\n",
              " ['204', '7p5', 'Ar', 'mc', 'AKGC417L', '204_7p5_Ar_mc_AKGC417L'],\n",
              " ['204', '7p5', 'Ll', 'mc', 'AKGC417L', '204_7p5_Ll_mc_AKGC417L'],\n",
              " ['204', '7p5', 'Lr', 'mc', 'AKGC417L', '204_7p5_Lr_mc_AKGC417L'],\n",
              " ['204', '7p5', 'Pr', 'mc', 'AKGC417L', '204_7p5_Pr_mc_AKGC417L'],\n",
              " ['204', '7p5', 'Tc', 'mc', 'AKGC417L', '204_7p5_Tc_mc_AKGC417L'],\n",
              " ['205', '1b3', 'Al', 'mc', 'AKGC417L', '205_1b3_Al_mc_AKGC417L'],\n",
              " ['205', '1b3', 'Ar', 'mc', 'AKGC417L', '205_1b3_Ar_mc_AKGC417L'],\n",
              " ['205', '1b3', 'Ll', 'mc', 'AKGC417L', '205_1b3_Ll_mc_AKGC417L'],\n",
              " ['205', '1b3', 'Lr', 'mc', 'AKGC417L', '205_1b3_Lr_mc_AKGC417L'],\n",
              " ['205', '1b3', 'Pl', 'mc', 'AKGC417L', '205_1b3_Pl_mc_AKGC417L'],\n",
              " ['205', '1b3', 'Pr', 'mc', 'AKGC417L', '205_1b3_Pr_mc_AKGC417L'],\n",
              " ['205', '2b2', 'Pr', 'mc', 'AKGC417L', '205_2b2_Pr_mc_AKGC417L'],\n",
              " ['205', '2b3', 'Al', 'mc', 'AKGC417L', '205_2b3_Al_mc_AKGC417L'],\n",
              " ['205', '2b3', 'Ar', 'mc', 'AKGC417L', '205_2b3_Ar_mc_AKGC417L'],\n",
              " ['205', '2b3', 'Ll', 'mc', 'AKGC417L', '205_2b3_Ll_mc_AKGC417L'],\n",
              " ['205', '2b4', 'Pl', 'mc', 'AKGC417L', '205_2b4_Pl_mc_AKGC417L'],\n",
              " ['205', '3b4', 'Al', 'mc', 'AKGC417L', '205_3b4_Al_mc_AKGC417L'],\n",
              " ['205', '3b4', 'Ar', 'mc', 'AKGC417L', '205_3b4_Ar_mc_AKGC417L'],\n",
              " ['205', '3b4', 'Pl', 'mc', 'AKGC417L', '205_3b4_Pl_mc_AKGC417L'],\n",
              " ['205', '3b4', 'Pr', 'mc', 'AKGC417L', '205_3b4_Pr_mc_AKGC417L'],\n",
              " ['205', '4b2', 'Al', 'mc', 'AKGC417L', '205_4b2_Al_mc_AKGC417L'],\n",
              " ['205', '4b2', 'Ar', 'mc', 'AKGC417L', '205_4b2_Ar_mc_AKGC417L'],\n",
              " ['205', '4b2', 'Lr', 'mc', 'AKGC417L', '205_4b2_Lr_mc_AKGC417L'],\n",
              " ['205', '4b2', 'Pl', 'mc', 'AKGC417L', '205_4b2_Pl_mc_AKGC417L'],\n",
              " ['205', '4b2', 'Pr', 'mc', 'AKGC417L', '205_4b2_Pr_mc_AKGC417L'],\n",
              " ['206', '1b1', 'Ar', 'sc', 'Meditron', '206_1b1_Ar_sc_Meditron'],\n",
              " ['206', '1b1', 'Lr', 'sc', 'Meditron', '206_1b1_Lr_sc_Meditron'],\n",
              " ['206', '1b1', 'Pl', 'sc', 'Meditron', '206_1b1_Pl_sc_Meditron'],\n",
              " ['207', '2b2', 'Al', 'mc', 'AKGC417L', '207_2b2_Al_mc_AKGC417L'],\n",
              " ['207', '2b2', 'Ar', 'mc', 'AKGC417L', '207_2b2_Ar_mc_AKGC417L'],\n",
              " ['207', '2b2', 'Pl', 'mc', 'AKGC417L', '207_2b2_Pl_mc_AKGC417L'],\n",
              " ['207', '2b2', 'Pr', 'mc', 'AKGC417L', '207_2b2_Pr_mc_AKGC417L'],\n",
              " ['207', '2b2', 'Tc', 'mc', 'AKGC417L', '207_2b2_Tc_mc_AKGC417L'],\n",
              " ['207', '2b3', 'Al', 'mc', 'AKGC417L', '207_2b3_Al_mc_AKGC417L'],\n",
              " ['207', '2b3', 'Ar', 'mc', 'AKGC417L', '207_2b3_Ar_mc_AKGC417L'],\n",
              " ['207', '2b3', 'Pl', 'mc', 'AKGC417L', '207_2b3_Pl_mc_AKGC417L'],\n",
              " ['207', '2b3', 'Pr', 'mc', 'AKGC417L', '207_2b3_Pr_mc_AKGC417L'],\n",
              " ['207', '2b3', 'Tc', 'mc', 'AKGC417L', '207_2b3_Tc_mc_AKGC417L'],\n",
              " ['207', '2b4', 'Al', 'mc', 'AKGC417L', '207_2b4_Al_mc_AKGC417L'],\n",
              " ['207', '2b4', 'Ar', 'mc', 'AKGC417L', '207_2b4_Ar_mc_AKGC417L'],\n",
              " ['207', '2b4', 'Pl', 'mc', 'AKGC417L', '207_2b4_Pl_mc_AKGC417L'],\n",
              " ['207', '2b4', 'Pr', 'mc', 'AKGC417L', '207_2b4_Pr_mc_AKGC417L'],\n",
              " ['207', '2b4', 'Tc', 'mc', 'AKGC417L', '207_2b4_Tc_mc_AKGC417L'],\n",
              " ['207', '3b2', 'Al', 'mc', 'AKGC417L', '207_3b2_Al_mc_AKGC417L'],\n",
              " ['207', '3b2', 'Ar', 'mc', 'AKGC417L', '207_3b2_Ar_mc_AKGC417L'],\n",
              " ['207', '3b2', 'Lr', 'mc', 'AKGC417L', '207_3b2_Lr_mc_AKGC417L'],\n",
              " ['207', '3b2', 'Pl', 'mc', 'AKGC417L', '207_3b2_Pl_mc_AKGC417L'],\n",
              " ['207', '3b2', 'Pr', 'mc', 'AKGC417L', '207_3b2_Pr_mc_AKGC417L'],\n",
              " ['207', '3b2', 'Tc', 'mc', 'AKGC417L', '207_3b2_Tc_mc_AKGC417L'],\n",
              " ['208', '1b1', 'Ll', 'sc', 'Meditron', '208_1b1_Ll_sc_Meditron'],\n",
              " ['209', '1b1', 'Tc', 'sc', 'Meditron', '209_1b1_Tc_sc_Meditron'],\n",
              " ['210', '1b1', 'Al', 'sc', 'Meditron', '210_1b1_Al_sc_Meditron'],\n",
              " ['210', '1b1', 'Ar', 'sc', 'Meditron', '210_1b1_Ar_sc_Meditron'],\n",
              " ['211', '1p2', 'Ar', 'mc', 'AKGC417L', '211_1p2_Ar_mc_AKGC417L'],\n",
              " ['211', '1p2', 'Pl', 'mc', 'AKGC417L', '211_1p2_Pl_mc_AKGC417L'],\n",
              " ['211', '1p2', 'Pr', 'mc', 'AKGC417L', '211_1p2_Pr_mc_AKGC417L'],\n",
              " ['211', '1p3', 'Ar', 'mc', 'AKGC417L', '211_1p3_Ar_mc_AKGC417L'],\n",
              " ['211', '1p5', 'Ar', 'mc', 'AKGC417L', '211_1p5_Ar_mc_AKGC417L'],\n",
              " ['211', '2p2', 'Tc', 'mc', 'AKGC417L', '211_2p2_Tc_mc_AKGC417L'],\n",
              " ['211', '2p3', 'Tc', 'mc', 'AKGC417L', '211_2p3_Tc_mc_AKGC417L'],\n",
              " ['211', '2p4', 'Tc', 'mc', 'AKGC417L', '211_2p4_Tc_mc_AKGC417L'],\n",
              " ['212', '2b2', 'Tc', 'mc', 'LittC2SE', '212_2b2_Tc_mc_LittC2SE'],\n",
              " ['213', '1p2', 'Al', 'mc', 'AKGC417L', '213_1p2_Al_mc_AKGC417L'],\n",
              " ['213', '1p2', 'Ar', 'mc', 'AKGC417L', '213_1p2_Ar_mc_AKGC417L'],\n",
              " ['213', '1p2', 'Lr', 'mc', 'AKGC417L', '213_1p2_Lr_mc_AKGC417L'],\n",
              " ['213', '1p2', 'Pl', 'mc', 'AKGC417L', '213_1p2_Pl_mc_AKGC417L'],\n",
              " ['213', '1p2', 'Pr', 'mc', 'AKGC417L', '213_1p2_Pr_mc_AKGC417L'],\n",
              " ['213', '1p2', 'Tc', 'mc', 'AKGC417L', '213_1p2_Tc_mc_AKGC417L'],\n",
              " ['213', '1p3', 'Al', 'mc', 'AKGC417L', '213_1p3_Al_mc_AKGC417L'],\n",
              " ['213', '1p3', 'Ar', 'mc', 'AKGC417L', '213_1p3_Ar_mc_AKGC417L'],\n",
              " ['213', '1p3', 'Pl', 'mc', 'AKGC417L', '213_1p3_Pl_mc_AKGC417L'],\n",
              " ['213', '1p3', 'Pr', 'mc', 'AKGC417L', '213_1p3_Pr_mc_AKGC417L'],\n",
              " ['213', '1p5', 'Al', 'mc', 'AKGC417L', '213_1p5_Al_mc_AKGC417L'],\n",
              " ['213', '1p5', 'Ar', 'mc', 'AKGC417L', '213_1p5_Ar_mc_AKGC417L'],\n",
              " ['213', '1p5', 'Pl', 'mc', 'AKGC417L', '213_1p5_Pl_mc_AKGC417L'],\n",
              " ['213', '1p5', 'Pr', 'mc', 'AKGC417L', '213_1p5_Pr_mc_AKGC417L'],\n",
              " ['213', '1p5', 'Tc', 'mc', 'AKGC417L', '213_1p5_Tc_mc_AKGC417L'],\n",
              " ['213', '2p2', 'Al', 'mc', 'AKGC417L', '213_2p2_Al_mc_AKGC417L'],\n",
              " ['213', '2p2', 'Ar', 'mc', 'AKGC417L', '213_2p2_Ar_mc_AKGC417L'],\n",
              " ['213', '2p2', 'Pl', 'mc', 'AKGC417L', '213_2p2_Pl_mc_AKGC417L'],\n",
              " ['213', '2p2', 'Pr', 'mc', 'AKGC417L', '213_2p2_Pr_mc_AKGC417L'],\n",
              " ['213', '2p2', 'Tc', 'mc', 'AKGC417L', '213_2p2_Tc_mc_AKGC417L'],\n",
              " ['214', '1b1', 'Ar', 'sc', 'Meditron', '214_1b1_Ar_sc_Meditron'],\n",
              " ['215', '1b2', 'Ar', 'sc', 'Meditron', '215_1b2_Ar_sc_Meditron'],\n",
              " ['215', '1b3', 'Tc', 'sc', 'Meditron', '215_1b3_Tc_sc_Meditron'],\n",
              " ['216', '1b1', 'Al', 'sc', 'Meditron', '216_1b1_Al_sc_Meditron'],\n",
              " ['216', '1b1', 'Pl', 'sc', 'Meditron', '216_1b1_Pl_sc_Meditron'],\n",
              " ['217', '1b1', 'Tc', 'sc', 'Meditron', '217_1b1_Tc_sc_Meditron'],\n",
              " ['218', '1b1', 'Al', 'sc', 'Meditron', '218_1b1_Al_sc_Meditron'],\n",
              " ['218', '1b1', 'Ar', 'sc', 'Meditron', '218_1b1_Ar_sc_Meditron'],\n",
              " ['218', '1b1', 'Lr', 'sc', 'Meditron', '218_1b1_Lr_sc_Meditron'],\n",
              " ['218', '1b1', 'Pl', 'sc', 'Meditron', '218_1b1_Pl_sc_Meditron'],\n",
              " ['218', '1b1', 'Pr', 'sc', 'Meditron', '218_1b1_Pr_sc_Meditron'],\n",
              " ['218', '1p1', 'Ar', 'sc', 'Litt3200', '218_1p1_Ar_sc_Litt3200'],\n",
              " ['218', '1p1', 'Pl', 'sc', 'Litt3200', '218_1p1_Pl_sc_Litt3200'],\n",
              " ['218', '1p1', 'Pr', 'sc', 'Litt3200', '218_1p1_Pr_sc_Litt3200'],\n",
              " ['219', '2b1', 'Ar', 'mc', 'LittC2SE', '219_2b1_Ar_mc_LittC2SE'],\n",
              " ['219', '2b1', 'Tc', 'mc', 'LittC2SE', '219_2b1_Tc_mc_LittC2SE'],\n",
              " ['219', '2b2', 'Ar', 'mc', 'LittC2SE', '219_2b2_Ar_mc_LittC2SE'],\n",
              " ['219', '2b2', 'Tc', 'mc', 'LittC2SE', '219_2b2_Tc_mc_LittC2SE'],\n",
              " ['219', '2b3', 'Tc', 'mc', 'LittC2SE', '219_2b3_Tc_mc_LittC2SE'],\n",
              " ['220', '1b1', 'Tc', 'mc', 'LittC2SE', '220_1b1_Tc_mc_LittC2SE'],\n",
              " ['220', '1b2', 'Al', 'mc', 'LittC2SE', '220_1b2_Al_mc_LittC2SE'],\n",
              " ['221', '2b1', 'Al', 'mc', 'LittC2SE', '221_2b1_Al_mc_LittC2SE'],\n",
              " ['221', '2b1', 'Ar', 'mc', 'LittC2SE', '221_2b1_Ar_mc_LittC2SE'],\n",
              " ['221', '2b1', 'Lr', 'mc', 'LittC2SE', '221_2b1_Lr_mc_LittC2SE'],\n",
              " ['221', '2b1', 'Pl', 'mc', 'LittC2SE', '221_2b1_Pl_mc_LittC2SE'],\n",
              " ['221', '2b2', 'Al', 'mc', 'LittC2SE', '221_2b2_Al_mc_LittC2SE'],\n",
              " ['221', '2b2', 'Ar', 'mc', 'LittC2SE', '221_2b2_Ar_mc_LittC2SE'],\n",
              " ['221', '2b2', 'Lr', 'mc', 'LittC2SE', '221_2b2_Lr_mc_LittC2SE'],\n",
              " ['221', '2b2', 'Pl', 'mc', 'LittC2SE', '221_2b2_Pl_mc_LittC2SE'],\n",
              " ['221', '2b3', 'Al', 'mc', 'LittC2SE', '221_2b3_Al_mc_LittC2SE'],\n",
              " ['221', '2b3', 'Ar', 'mc', 'LittC2SE', '221_2b3_Ar_mc_LittC2SE'],\n",
              " ['221', '2b3', 'Lr', 'mc', 'LittC2SE', '221_2b3_Lr_mc_LittC2SE'],\n",
              " ['221', '2b3', 'Pr', 'mc', 'LittC2SE', '221_2b3_Pr_mc_LittC2SE'],\n",
              " ['222', '1b1', 'Ar', 'sc', 'Meditron', '222_1b1_Ar_sc_Meditron'],\n",
              " ['222', '1b1', 'Lr', 'sc', 'Meditron', '222_1b1_Lr_sc_Meditron'],\n",
              " ['222', '1b1', 'Pr', 'sc', 'Meditron', '222_1b1_Pr_sc_Meditron'],\n",
              " ['223', '1b1', 'Al', 'sc', 'Meditron', '223_1b1_Al_sc_Meditron'],\n",
              " ['223', '1b1', 'Ar', 'sc', 'Meditron', '223_1b1_Ar_sc_Meditron'],\n",
              " ['223', '1b1', 'Ll', 'sc', 'Meditron', '223_1b1_Ll_sc_Meditron'],\n",
              " ['223', '1b1', 'Lr', 'sc', 'Meditron', '223_1b1_Lr_sc_Meditron'],\n",
              " ['223', '1b1', 'Pl', 'sc', 'Meditron', '223_1b1_Pl_sc_Meditron'],\n",
              " ['223', '1b1', 'Pr', 'sc', 'Meditron', '223_1b1_Pr_sc_Meditron'],\n",
              " ['224', '1b1', 'Tc', 'sc', 'Meditron', '224_1b1_Tc_sc_Meditron'],\n",
              " ['224', '1b2', 'Al', 'sc', 'Meditron', '224_1b2_Al_sc_Meditron'],\n",
              " ['225', '1b1', 'Pl', 'sc', 'Meditron', '225_1b1_Pl_sc_Meditron'],\n",
              " ['226', '1b1', 'Al', 'sc', 'Meditron', '226_1b1_Al_sc_Meditron'],\n",
              " ['226', '1b1', 'Ll', 'sc', 'Meditron', '226_1b1_Ll_sc_Meditron'],\n",
              " ['226', '1b1', 'Pl', 'sc', 'LittC2SE', '226_1b1_Pl_sc_LittC2SE']]"
            ]
          },
          "execution_count": 13,
          "metadata": {},
          "output_type": "execute_result"
        }
      ],
      "source": [
        "\n",
        "df = [patient(s) for s in content if '.txt' in s]\n",
        "df"
      ]
    },
    {
      "cell_type": "code",
      "execution_count": 14,
      "metadata": {
        "id": "sVdeNSw5Zii3"
      },
      "outputs": [],
      "source": [
        "data = pd.DataFrame(df)"
      ]
    },
    {
      "cell_type": "code",
      "execution_count": 15,
      "metadata": {
        "colab": {
          "base_uri": "https://localhost:8080/",
          "height": 206
        },
        "id": "wrEXh0x7bhgH",
        "outputId": "47032332-a704-40da-a240-b5d6964e5d44"
      },
      "outputs": [
        {
          "data": {
            "text/html": [
              "<div>\n",
              "<style scoped>\n",
              "    .dataframe tbody tr th:only-of-type {\n",
              "        vertical-align: middle;\n",
              "    }\n",
              "\n",
              "    .dataframe tbody tr th {\n",
              "        vertical-align: top;\n",
              "    }\n",
              "\n",
              "    .dataframe thead th {\n",
              "        text-align: right;\n",
              "    }\n",
              "</style>\n",
              "<table border=\"1\" class=\"dataframe\">\n",
              "  <thead>\n",
              "    <tr style=\"text-align: right;\">\n",
              "      <th></th>\n",
              "      <th>0</th>\n",
              "      <th>1</th>\n",
              "      <th>2</th>\n",
              "      <th>3</th>\n",
              "      <th>4</th>\n",
              "      <th>5</th>\n",
              "    </tr>\n",
              "  </thead>\n",
              "  <tbody>\n",
              "    <tr>\n",
              "      <th>0</th>\n",
              "      <td>101</td>\n",
              "      <td>1b1</td>\n",
              "      <td>Al</td>\n",
              "      <td>sc</td>\n",
              "      <td>Meditron</td>\n",
              "      <td>101_1b1_Al_sc_Meditron</td>\n",
              "    </tr>\n",
              "    <tr>\n",
              "      <th>1</th>\n",
              "      <td>101</td>\n",
              "      <td>1b1</td>\n",
              "      <td>Pr</td>\n",
              "      <td>sc</td>\n",
              "      <td>Meditron</td>\n",
              "      <td>101_1b1_Pr_sc_Meditron</td>\n",
              "    </tr>\n",
              "    <tr>\n",
              "      <th>2</th>\n",
              "      <td>102</td>\n",
              "      <td>1b1</td>\n",
              "      <td>Ar</td>\n",
              "      <td>sc</td>\n",
              "      <td>Meditron</td>\n",
              "      <td>102_1b1_Ar_sc_Meditron</td>\n",
              "    </tr>\n",
              "    <tr>\n",
              "      <th>3</th>\n",
              "      <td>103</td>\n",
              "      <td>2b2</td>\n",
              "      <td>Ar</td>\n",
              "      <td>mc</td>\n",
              "      <td>LittC2SE</td>\n",
              "      <td>103_2b2_Ar_mc_LittC2SE</td>\n",
              "    </tr>\n",
              "    <tr>\n",
              "      <th>4</th>\n",
              "      <td>104</td>\n",
              "      <td>1b1</td>\n",
              "      <td>Al</td>\n",
              "      <td>sc</td>\n",
              "      <td>Litt3200</td>\n",
              "      <td>104_1b1_Al_sc_Litt3200</td>\n",
              "    </tr>\n",
              "  </tbody>\n",
              "</table>\n",
              "</div>"
            ],
            "text/plain": [
              "     0    1   2   3         4                       5\n",
              "0  101  1b1  Al  sc  Meditron  101_1b1_Al_sc_Meditron\n",
              "1  101  1b1  Pr  sc  Meditron  101_1b1_Pr_sc_Meditron\n",
              "2  102  1b1  Ar  sc  Meditron  102_1b1_Ar_sc_Meditron\n",
              "3  103  2b2  Ar  mc  LittC2SE  103_2b2_Ar_mc_LittC2SE\n",
              "4  104  1b1  Al  sc  Litt3200  104_1b1_Al_sc_Litt3200"
            ]
          },
          "execution_count": 15,
          "metadata": {},
          "output_type": "execute_result"
        }
      ],
      "source": [
        "data.head()"
      ]
    },
    {
      "cell_type": "code",
      "execution_count": 16,
      "metadata": {
        "id": "J5Ery7ifctrM"
      },
      "outputs": [],
      "source": [
        "data.columns = ['patient_id','recording_index','chest_location','acquisition_mode','recording_equipment' ,'filename']"
      ]
    },
    {
      "cell_type": "code",
      "execution_count": null,
      "metadata": {
        "id": "l6vJSnNKc-CX"
      },
      "outputs": [],
      "source": []
    },
    {
      "cell_type": "code",
      "execution_count": 17,
      "metadata": {
        "colab": {
          "base_uri": "https://localhost:8080/",
          "height": 206
        },
        "id": "4XwItaH2dQeD",
        "outputId": "40ac682a-a63c-4756-d12c-17956149399c"
      },
      "outputs": [
        {
          "data": {
            "text/html": [
              "<div>\n",
              "<style scoped>\n",
              "    .dataframe tbody tr th:only-of-type {\n",
              "        vertical-align: middle;\n",
              "    }\n",
              "\n",
              "    .dataframe tbody tr th {\n",
              "        vertical-align: top;\n",
              "    }\n",
              "\n",
              "    .dataframe thead th {\n",
              "        text-align: right;\n",
              "    }\n",
              "</style>\n",
              "<table border=\"1\" class=\"dataframe\">\n",
              "  <thead>\n",
              "    <tr style=\"text-align: right;\">\n",
              "      <th></th>\n",
              "      <th>patient_id</th>\n",
              "      <th>recording_index</th>\n",
              "      <th>chest_location</th>\n",
              "      <th>acquisition_mode</th>\n",
              "      <th>recording_equipment</th>\n",
              "      <th>filename</th>\n",
              "    </tr>\n",
              "  </thead>\n",
              "  <tbody>\n",
              "    <tr>\n",
              "      <th>0</th>\n",
              "      <td>101</td>\n",
              "      <td>1b1</td>\n",
              "      <td>Al</td>\n",
              "      <td>sc</td>\n",
              "      <td>Meditron</td>\n",
              "      <td>101_1b1_Al_sc_Meditron</td>\n",
              "    </tr>\n",
              "    <tr>\n",
              "      <th>1</th>\n",
              "      <td>101</td>\n",
              "      <td>1b1</td>\n",
              "      <td>Pr</td>\n",
              "      <td>sc</td>\n",
              "      <td>Meditron</td>\n",
              "      <td>101_1b1_Pr_sc_Meditron</td>\n",
              "    </tr>\n",
              "    <tr>\n",
              "      <th>2</th>\n",
              "      <td>102</td>\n",
              "      <td>1b1</td>\n",
              "      <td>Ar</td>\n",
              "      <td>sc</td>\n",
              "      <td>Meditron</td>\n",
              "      <td>102_1b1_Ar_sc_Meditron</td>\n",
              "    </tr>\n",
              "    <tr>\n",
              "      <th>3</th>\n",
              "      <td>103</td>\n",
              "      <td>2b2</td>\n",
              "      <td>Ar</td>\n",
              "      <td>mc</td>\n",
              "      <td>LittC2SE</td>\n",
              "      <td>103_2b2_Ar_mc_LittC2SE</td>\n",
              "    </tr>\n",
              "    <tr>\n",
              "      <th>4</th>\n",
              "      <td>104</td>\n",
              "      <td>1b1</td>\n",
              "      <td>Al</td>\n",
              "      <td>sc</td>\n",
              "      <td>Litt3200</td>\n",
              "      <td>104_1b1_Al_sc_Litt3200</td>\n",
              "    </tr>\n",
              "  </tbody>\n",
              "</table>\n",
              "</div>"
            ],
            "text/plain": [
              "  patient_id recording_index chest_location acquisition_mode  \\\n",
              "0        101             1b1             Al               sc   \n",
              "1        101             1b1             Pr               sc   \n",
              "2        102             1b1             Ar               sc   \n",
              "3        103             2b2             Ar               mc   \n",
              "4        104             1b1             Al               sc   \n",
              "\n",
              "  recording_equipment                filename  \n",
              "0            Meditron  101_1b1_Al_sc_Meditron  \n",
              "1            Meditron  101_1b1_Pr_sc_Meditron  \n",
              "2            Meditron  102_1b1_Ar_sc_Meditron  \n",
              "3            LittC2SE  103_2b2_Ar_mc_LittC2SE  \n",
              "4            Litt3200  104_1b1_Al_sc_Litt3200  "
            ]
          },
          "execution_count": 17,
          "metadata": {},
          "output_type": "execute_result"
        }
      ],
      "source": [
        "data.head()"
      ]
    },
    {
      "cell_type": "code",
      "execution_count": 18,
      "metadata": {
        "colab": {
          "base_uri": "https://localhost:8080/"
        },
        "id": "gvJ4uAyddR0U",
        "outputId": "c73e412d-2341-4a34-afd8-6103616dd0be"
      },
      "outputs": [
        {
          "data": {
            "text/plain": [
              "array(['Al', 'Pr', 'Ar', 'Ll', 'Lr', 'Pl', 'Tc'], dtype=object)"
            ]
          },
          "execution_count": 18,
          "metadata": {},
          "output_type": "execute_result"
        }
      ],
      "source": [
        "data['chest_location'].unique()"
      ]
    },
    {
      "cell_type": "code",
      "execution_count": 19,
      "metadata": {
        "colab": {
          "base_uri": "https://localhost:8080/"
        },
        "id": "xVVt-AEDdVO9",
        "outputId": "598f0cbf-b01a-4511-c805-104b57d96279"
      },
      "outputs": [
        {
          "data": {
            "text/plain": [
              "array(['Meditron', 'LittC2SE', 'Litt3200', 'AKGC417L'], dtype=object)"
            ]
          },
          "execution_count": 19,
          "metadata": {},
          "output_type": "execute_result"
        }
      ],
      "source": [
        "data['recording_equipment'].unique()"
      ]
    },
    {
      "cell_type": "code",
      "execution_count": 20,
      "metadata": {
        "colab": {
          "base_uri": "https://localhost:8080/"
        },
        "id": "O9hIaoAc6jwW",
        "outputId": "85d05130-71d6-426e-aa80-6107a7826bf0"
      },
      "outputs": [
        {
          "data": {
            "text/plain": [
              "array(['1b1', '2b2', '2b1', '2b3', '2b4', '2b5', '3p2', '1p1', '1b2',\n",
              "       '1b3', '1b4', '1p2', '1p3', '1p4', '2p3', '2p5', '3b3', '3b4',\n",
              "       '3p3', '3p4', '2p2', '2p4', '3b2', '8p3', '4b4', '5b3', '8b3',\n",
              "       '1b5', '1b6', '7b3', '6p1', '7p5', '4b2', '1p5'], dtype=object)"
            ]
          },
          "execution_count": 20,
          "metadata": {},
          "output_type": "execute_result"
        }
      ],
      "source": [
        "data['recording_index'].unique()"
      ]
    },
    {
      "cell_type": "code",
      "execution_count": 21,
      "metadata": {
        "colab": {
          "base_uri": "https://localhost:8080/"
        },
        "id": "BjyCLE-I6vp2",
        "outputId": "87fbb60e-7fad-4862-f949-57495a095da8"
      },
      "outputs": [
        {
          "name": "stdout",
          "output_type": "stream",
          "text": [
            "    patient_id recording_index chest_location acquisition_mode  \\\n",
            "308        151             2p2             Al               mc   \n",
            "309        151             2p2             Ar               mc   \n",
            "310        151             2p2             Ll               mc   \n",
            "311        151             2p2             Lr               mc   \n",
            "312        151             2p2             Pl               mc   \n",
            "313        151             2p2             Pr               mc   \n",
            "314        151             2p2             Tc               mc   \n",
            "315        151             2p3             Al               mc   \n",
            "316        151             2p3             Ar               mc   \n",
            "317        151             2p3             Ll               mc   \n",
            "318        151             2p3             Lr               mc   \n",
            "319        151             2p3             Pl               mc   \n",
            "320        151             2p3             Pr               mc   \n",
            "321        151             2p3             Tc               mc   \n",
            "322        151             2p4             Al               mc   \n",
            "323        151             2p4             Ar               mc   \n",
            "324        151             2p4             Ll               mc   \n",
            "325        151             2p4             Lr               mc   \n",
            "326        151             2p4             Pl               mc   \n",
            "327        151             2p4             Pr               mc   \n",
            "328        151             2p4             Tc               mc   \n",
            "329        151             3p2             Al               mc   \n",
            "330        151             3p2             Ar               mc   \n",
            "331        151             3p2             Lr               mc   \n",
            "332        151             3p2             Pl               mc   \n",
            "333        151             3p2             Pr               mc   \n",
            "334        151             3p2             Tc               mc   \n",
            "335        151             3p3             Ll               mc   \n",
            "\n",
            "    recording_equipment                filename  \n",
            "308            AKGC417L  151_2p2_Al_mc_AKGC417L  \n",
            "309            AKGC417L  151_2p2_Ar_mc_AKGC417L  \n",
            "310            AKGC417L  151_2p2_Ll_mc_AKGC417L  \n",
            "311            AKGC417L  151_2p2_Lr_mc_AKGC417L  \n",
            "312            AKGC417L  151_2p2_Pl_mc_AKGC417L  \n",
            "313            AKGC417L  151_2p2_Pr_mc_AKGC417L  \n",
            "314            AKGC417L  151_2p2_Tc_mc_AKGC417L  \n",
            "315            AKGC417L  151_2p3_Al_mc_AKGC417L  \n",
            "316            AKGC417L  151_2p3_Ar_mc_AKGC417L  \n",
            "317            AKGC417L  151_2p3_Ll_mc_AKGC417L  \n",
            "318            AKGC417L  151_2p3_Lr_mc_AKGC417L  \n",
            "319            AKGC417L  151_2p3_Pl_mc_AKGC417L  \n",
            "320            AKGC417L  151_2p3_Pr_mc_AKGC417L  \n",
            "321            AKGC417L  151_2p3_Tc_mc_AKGC417L  \n",
            "322            AKGC417L  151_2p4_Al_mc_AKGC417L  \n",
            "323            AKGC417L  151_2p4_Ar_mc_AKGC417L  \n",
            "324            AKGC417L  151_2p4_Ll_mc_AKGC417L  \n",
            "325            AKGC417L  151_2p4_Lr_mc_AKGC417L  \n",
            "326            AKGC417L  151_2p4_Pl_mc_AKGC417L  \n",
            "327            AKGC417L  151_2p4_Pr_mc_AKGC417L  \n",
            "328            AKGC417L  151_2p4_Tc_mc_AKGC417L  \n",
            "329            AKGC417L  151_3p2_Al_mc_AKGC417L  \n",
            "330            AKGC417L  151_3p2_Ar_mc_AKGC417L  \n",
            "331            AKGC417L  151_3p2_Lr_mc_AKGC417L  \n",
            "332            AKGC417L  151_3p2_Pl_mc_AKGC417L  \n",
            "333            AKGC417L  151_3p2_Pr_mc_AKGC417L  \n",
            "334            AKGC417L  151_3p2_Tc_mc_AKGC417L  \n",
            "335            AKGC417L  151_3p3_Ll_mc_AKGC417L  \n"
          ]
        }
      ],
      "source": [
        "print(data[data['patient_id']== '151'])"
      ]
    },
    {
      "cell_type": "code",
      "execution_count": 22,
      "metadata": {
        "colab": {
          "base_uri": "https://localhost:8080/"
        },
        "id": "73PHBAFq644f",
        "outputId": "0450801c-b3c3-4737-aa8e-814874ff7944"
      },
      "outputs": [
        {
          "name": "stdout",
          "output_type": "stream",
          "text": [
            "<class 'pandas.core.frame.DataFrame'>\n",
            "RangeIndex: 920 entries, 0 to 919\n",
            "Data columns (total 6 columns):\n",
            " #   Column               Non-Null Count  Dtype \n",
            "---  ------               --------------  ----- \n",
            " 0   patient_id           920 non-null    object\n",
            " 1   recording_index      920 non-null    object\n",
            " 2   chest_location       920 non-null    object\n",
            " 3   acquisition_mode     920 non-null    object\n",
            " 4   recording_equipment  920 non-null    object\n",
            " 5   filename             920 non-null    object\n",
            "dtypes: object(6)\n",
            "memory usage: 43.3+ KB\n"
          ]
        }
      ],
      "source": [
        "data.info()"
      ]
    },
    {
      "cell_type": "code",
      "execution_count": 23,
      "metadata": {
        "colab": {
          "base_uri": "https://localhost:8080/",
          "height": 363
        },
        "id": "QYNsdFhH7Lqp",
        "outputId": "7a05f52c-872c-469e-cc88-2b582a05976f"
      },
      "outputs": [
        {
          "data": {
            "text/html": [
              "<div>\n",
              "<style scoped>\n",
              "    .dataframe tbody tr th:only-of-type {\n",
              "        vertical-align: middle;\n",
              "    }\n",
              "\n",
              "    .dataframe tbody tr th {\n",
              "        vertical-align: top;\n",
              "    }\n",
              "\n",
              "    .dataframe thead th {\n",
              "        text-align: right;\n",
              "    }\n",
              "</style>\n",
              "<table border=\"1\" class=\"dataframe\">\n",
              "  <thead>\n",
              "    <tr style=\"text-align: right;\">\n",
              "      <th></th>\n",
              "      <th>patient_id</th>\n",
              "      <th>recording_index</th>\n",
              "      <th>chest_location</th>\n",
              "      <th>acquisition_mode</th>\n",
              "      <th>recording_equipment</th>\n",
              "      <th>filename</th>\n",
              "    </tr>\n",
              "  </thead>\n",
              "  <tbody>\n",
              "    <tr>\n",
              "      <th>0</th>\n",
              "      <td>101</td>\n",
              "      <td>1b1</td>\n",
              "      <td>Al</td>\n",
              "      <td>sc</td>\n",
              "      <td>Meditron</td>\n",
              "      <td>101_1b1_Al_sc_Meditron</td>\n",
              "    </tr>\n",
              "    <tr>\n",
              "      <th>1</th>\n",
              "      <td>101</td>\n",
              "      <td>1b1</td>\n",
              "      <td>Pr</td>\n",
              "      <td>sc</td>\n",
              "      <td>Meditron</td>\n",
              "      <td>101_1b1_Pr_sc_Meditron</td>\n",
              "    </tr>\n",
              "    <tr>\n",
              "      <th>2</th>\n",
              "      <td>102</td>\n",
              "      <td>1b1</td>\n",
              "      <td>Ar</td>\n",
              "      <td>sc</td>\n",
              "      <td>Meditron</td>\n",
              "      <td>102_1b1_Ar_sc_Meditron</td>\n",
              "    </tr>\n",
              "    <tr>\n",
              "      <th>3</th>\n",
              "      <td>103</td>\n",
              "      <td>2b2</td>\n",
              "      <td>Ar</td>\n",
              "      <td>mc</td>\n",
              "      <td>LittC2SE</td>\n",
              "      <td>103_2b2_Ar_mc_LittC2SE</td>\n",
              "    </tr>\n",
              "    <tr>\n",
              "      <th>4</th>\n",
              "      <td>104</td>\n",
              "      <td>1b1</td>\n",
              "      <td>Al</td>\n",
              "      <td>sc</td>\n",
              "      <td>Litt3200</td>\n",
              "      <td>104_1b1_Al_sc_Litt3200</td>\n",
              "    </tr>\n",
              "    <tr>\n",
              "      <th>5</th>\n",
              "      <td>104</td>\n",
              "      <td>1b1</td>\n",
              "      <td>Ar</td>\n",
              "      <td>sc</td>\n",
              "      <td>Litt3200</td>\n",
              "      <td>104_1b1_Ar_sc_Litt3200</td>\n",
              "    </tr>\n",
              "    <tr>\n",
              "      <th>6</th>\n",
              "      <td>104</td>\n",
              "      <td>1b1</td>\n",
              "      <td>Ll</td>\n",
              "      <td>sc</td>\n",
              "      <td>Litt3200</td>\n",
              "      <td>104_1b1_Ll_sc_Litt3200</td>\n",
              "    </tr>\n",
              "    <tr>\n",
              "      <th>7</th>\n",
              "      <td>104</td>\n",
              "      <td>1b1</td>\n",
              "      <td>Lr</td>\n",
              "      <td>sc</td>\n",
              "      <td>Litt3200</td>\n",
              "      <td>104_1b1_Lr_sc_Litt3200</td>\n",
              "    </tr>\n",
              "    <tr>\n",
              "      <th>8</th>\n",
              "      <td>104</td>\n",
              "      <td>1b1</td>\n",
              "      <td>Pl</td>\n",
              "      <td>sc</td>\n",
              "      <td>Litt3200</td>\n",
              "      <td>104_1b1_Pl_sc_Litt3200</td>\n",
              "    </tr>\n",
              "    <tr>\n",
              "      <th>9</th>\n",
              "      <td>104</td>\n",
              "      <td>1b1</td>\n",
              "      <td>Pr</td>\n",
              "      <td>sc</td>\n",
              "      <td>Litt3200</td>\n",
              "      <td>104_1b1_Pr_sc_Litt3200</td>\n",
              "    </tr>\n",
              "  </tbody>\n",
              "</table>\n",
              "</div>"
            ],
            "text/plain": [
              "  patient_id recording_index chest_location acquisition_mode  \\\n",
              "0        101             1b1             Al               sc   \n",
              "1        101             1b1             Pr               sc   \n",
              "2        102             1b1             Ar               sc   \n",
              "3        103             2b2             Ar               mc   \n",
              "4        104             1b1             Al               sc   \n",
              "5        104             1b1             Ar               sc   \n",
              "6        104             1b1             Ll               sc   \n",
              "7        104             1b1             Lr               sc   \n",
              "8        104             1b1             Pl               sc   \n",
              "9        104             1b1             Pr               sc   \n",
              "\n",
              "  recording_equipment                filename  \n",
              "0            Meditron  101_1b1_Al_sc_Meditron  \n",
              "1            Meditron  101_1b1_Pr_sc_Meditron  \n",
              "2            Meditron  102_1b1_Ar_sc_Meditron  \n",
              "3            LittC2SE  103_2b2_Ar_mc_LittC2SE  \n",
              "4            Litt3200  104_1b1_Al_sc_Litt3200  \n",
              "5            Litt3200  104_1b1_Ar_sc_Litt3200  \n",
              "6            Litt3200  104_1b1_Ll_sc_Litt3200  \n",
              "7            Litt3200  104_1b1_Lr_sc_Litt3200  \n",
              "8            Litt3200  104_1b1_Pl_sc_Litt3200  \n",
              "9            Litt3200  104_1b1_Pr_sc_Litt3200  "
            ]
          },
          "execution_count": 23,
          "metadata": {},
          "output_type": "execute_result"
        }
      ],
      "source": [
        "data[:10]"
      ]
    },
    {
      "cell_type": "code",
      "execution_count": 24,
      "metadata": {
        "colab": {
          "base_uri": "https://localhost:8080/"
        },
        "id": "XB1MbAAy7Pil",
        "outputId": "6e56a1f2-fa02-4f2e-bdd3-bda960570402"
      },
      "outputs": [
        {
          "name": "stdout",
          "output_type": "stream",
          "text": [
            "<class 'pandas.core.frame.DataFrame'>\n",
            "RangeIndex: 920 entries, 0 to 919\n",
            "Data columns (total 6 columns):\n",
            " #   Column               Non-Null Count  Dtype \n",
            "---  ------               --------------  ----- \n",
            " 0   patient_id           920 non-null    object\n",
            " 1   recording_index      920 non-null    object\n",
            " 2   chest_location       920 non-null    object\n",
            " 3   acquisition_mode     920 non-null    object\n",
            " 4   recording_equipment  920 non-null    object\n",
            " 5   filename             920 non-null    object\n",
            "dtypes: object(6)\n",
            "memory usage: 43.3+ KB\n"
          ]
        }
      ],
      "source": [
        "data.info()"
      ]
    },
    {
      "cell_type": "code",
      "execution_count": 25,
      "metadata": {
        "colab": {
          "base_uri": "https://localhost:8080/",
          "height": 206
        },
        "id": "1dI65ROW7SiG",
        "outputId": "dc933172-279a-4f00-d774-75ad09225436"
      },
      "outputs": [
        {
          "data": {
            "text/html": [
              "<div>\n",
              "<style scoped>\n",
              "    .dataframe tbody tr th:only-of-type {\n",
              "        vertical-align: middle;\n",
              "    }\n",
              "\n",
              "    .dataframe tbody tr th {\n",
              "        vertical-align: top;\n",
              "    }\n",
              "\n",
              "    .dataframe thead th {\n",
              "        text-align: right;\n",
              "    }\n",
              "</style>\n",
              "<table border=\"1\" class=\"dataframe\">\n",
              "  <thead>\n",
              "    <tr style=\"text-align: right;\">\n",
              "      <th></th>\n",
              "      <th>0</th>\n",
              "      <th>1</th>\n",
              "      <th>2</th>\n",
              "      <th>3</th>\n",
              "      <th>4</th>\n",
              "      <th>5</th>\n",
              "    </tr>\n",
              "  </thead>\n",
              "  <tbody>\n",
              "    <tr>\n",
              "      <th>0</th>\n",
              "      <td>101</td>\n",
              "      <td>101_1b1_Al_sc_Meditron</td>\n",
              "      <td>0.036</td>\n",
              "      <td>0.579</td>\n",
              "      <td>0</td>\n",
              "      <td>0</td>\n",
              "    </tr>\n",
              "    <tr>\n",
              "      <th>1</th>\n",
              "      <td>101</td>\n",
              "      <td>101_1b1_Al_sc_Meditron</td>\n",
              "      <td>0.579</td>\n",
              "      <td>2.45</td>\n",
              "      <td>0</td>\n",
              "      <td>0</td>\n",
              "    </tr>\n",
              "    <tr>\n",
              "      <th>2</th>\n",
              "      <td>101</td>\n",
              "      <td>101_1b1_Al_sc_Meditron</td>\n",
              "      <td>2.45</td>\n",
              "      <td>3.893</td>\n",
              "      <td>0</td>\n",
              "      <td>0</td>\n",
              "    </tr>\n",
              "    <tr>\n",
              "      <th>3</th>\n",
              "      <td>101</td>\n",
              "      <td>101_1b1_Al_sc_Meditron</td>\n",
              "      <td>3.893</td>\n",
              "      <td>5.793</td>\n",
              "      <td>0</td>\n",
              "      <td>0</td>\n",
              "    </tr>\n",
              "    <tr>\n",
              "      <th>4</th>\n",
              "      <td>101</td>\n",
              "      <td>101_1b1_Al_sc_Meditron</td>\n",
              "      <td>5.793</td>\n",
              "      <td>7.521</td>\n",
              "      <td>0</td>\n",
              "      <td>0</td>\n",
              "    </tr>\n",
              "  </tbody>\n",
              "</table>\n",
              "</div>"
            ],
            "text/plain": [
              "     0                       1      2      3  4  5\n",
              "0  101  101_1b1_Al_sc_Meditron  0.036  0.579  0  0\n",
              "1  101  101_1b1_Al_sc_Meditron  0.579   2.45  0  0\n",
              "2  101  101_1b1_Al_sc_Meditron   2.45  3.893  0  0\n",
              "3  101  101_1b1_Al_sc_Meditron  3.893  5.793  0  0\n",
              "4  101  101_1b1_Al_sc_Meditron  5.793  7.521  0  0"
            ]
          },
          "execution_count": 25,
          "metadata": {},
          "output_type": "execute_result"
        }
      ],
      "source": [
        "lung_data = pd.DataFrame(patient_lung_data)\n",
        "lung_data.head()"
      ]
    },
    {
      "cell_type": "code",
      "execution_count": 26,
      "metadata": {
        "id": "LWl12al5-lRW"
      },
      "outputs": [],
      "source": [
        "lung_data.columns = ['patient_id','filename','start','end','crackles','wheezes']"
      ]
    },
    {
      "cell_type": "code",
      "execution_count": 27,
      "metadata": {
        "colab": {
          "base_uri": "https://localhost:8080/",
          "height": 363
        },
        "id": "5ZN3DKUCCSbk",
        "outputId": "06d4b489-c4cc-4487-9153-52082743bdd5"
      },
      "outputs": [
        {
          "data": {
            "text/html": [
              "<div>\n",
              "<style scoped>\n",
              "    .dataframe tbody tr th:only-of-type {\n",
              "        vertical-align: middle;\n",
              "    }\n",
              "\n",
              "    .dataframe tbody tr th {\n",
              "        vertical-align: top;\n",
              "    }\n",
              "\n",
              "    .dataframe thead th {\n",
              "        text-align: right;\n",
              "    }\n",
              "</style>\n",
              "<table border=\"1\" class=\"dataframe\">\n",
              "  <thead>\n",
              "    <tr style=\"text-align: right;\">\n",
              "      <th></th>\n",
              "      <th>patient_id</th>\n",
              "      <th>filename</th>\n",
              "      <th>start</th>\n",
              "      <th>end</th>\n",
              "      <th>crackles</th>\n",
              "      <th>wheezes</th>\n",
              "    </tr>\n",
              "  </thead>\n",
              "  <tbody>\n",
              "    <tr>\n",
              "      <th>0</th>\n",
              "      <td>101</td>\n",
              "      <td>101_1b1_Al_sc_Meditron</td>\n",
              "      <td>0.036</td>\n",
              "      <td>0.579</td>\n",
              "      <td>0</td>\n",
              "      <td>0</td>\n",
              "    </tr>\n",
              "    <tr>\n",
              "      <th>1</th>\n",
              "      <td>101</td>\n",
              "      <td>101_1b1_Al_sc_Meditron</td>\n",
              "      <td>0.579</td>\n",
              "      <td>2.45</td>\n",
              "      <td>0</td>\n",
              "      <td>0</td>\n",
              "    </tr>\n",
              "    <tr>\n",
              "      <th>2</th>\n",
              "      <td>101</td>\n",
              "      <td>101_1b1_Al_sc_Meditron</td>\n",
              "      <td>2.45</td>\n",
              "      <td>3.893</td>\n",
              "      <td>0</td>\n",
              "      <td>0</td>\n",
              "    </tr>\n",
              "    <tr>\n",
              "      <th>3</th>\n",
              "      <td>101</td>\n",
              "      <td>101_1b1_Al_sc_Meditron</td>\n",
              "      <td>3.893</td>\n",
              "      <td>5.793</td>\n",
              "      <td>0</td>\n",
              "      <td>0</td>\n",
              "    </tr>\n",
              "    <tr>\n",
              "      <th>4</th>\n",
              "      <td>101</td>\n",
              "      <td>101_1b1_Al_sc_Meditron</td>\n",
              "      <td>5.793</td>\n",
              "      <td>7.521</td>\n",
              "      <td>0</td>\n",
              "      <td>0</td>\n",
              "    </tr>\n",
              "    <tr>\n",
              "      <th>5</th>\n",
              "      <td>101</td>\n",
              "      <td>101_1b1_Al_sc_Meditron</td>\n",
              "      <td>7.521</td>\n",
              "      <td>9.279</td>\n",
              "      <td>0</td>\n",
              "      <td>0</td>\n",
              "    </tr>\n",
              "    <tr>\n",
              "      <th>6</th>\n",
              "      <td>101</td>\n",
              "      <td>101_1b1_Al_sc_Meditron</td>\n",
              "      <td>9.279</td>\n",
              "      <td>11.15</td>\n",
              "      <td>0</td>\n",
              "      <td>0</td>\n",
              "    </tr>\n",
              "    <tr>\n",
              "      <th>7</th>\n",
              "      <td>101</td>\n",
              "      <td>101_1b1_Al_sc_Meditron</td>\n",
              "      <td>11.15</td>\n",
              "      <td>13.036</td>\n",
              "      <td>0</td>\n",
              "      <td>0</td>\n",
              "    </tr>\n",
              "    <tr>\n",
              "      <th>8</th>\n",
              "      <td>101</td>\n",
              "      <td>101_1b1_Al_sc_Meditron</td>\n",
              "      <td>13.036</td>\n",
              "      <td>14.721</td>\n",
              "      <td>0</td>\n",
              "      <td>0</td>\n",
              "    </tr>\n",
              "    <tr>\n",
              "      <th>9</th>\n",
              "      <td>101</td>\n",
              "      <td>101_1b1_Al_sc_Meditron</td>\n",
              "      <td>14.721</td>\n",
              "      <td>16.707</td>\n",
              "      <td>0</td>\n",
              "      <td>0</td>\n",
              "    </tr>\n",
              "  </tbody>\n",
              "</table>\n",
              "</div>"
            ],
            "text/plain": [
              "  patient_id                filename   start     end crackles wheezes\n",
              "0        101  101_1b1_Al_sc_Meditron   0.036   0.579        0       0\n",
              "1        101  101_1b1_Al_sc_Meditron   0.579    2.45        0       0\n",
              "2        101  101_1b1_Al_sc_Meditron    2.45   3.893        0       0\n",
              "3        101  101_1b1_Al_sc_Meditron   3.893   5.793        0       0\n",
              "4        101  101_1b1_Al_sc_Meditron   5.793   7.521        0       0\n",
              "5        101  101_1b1_Al_sc_Meditron   7.521   9.279        0       0\n",
              "6        101  101_1b1_Al_sc_Meditron   9.279   11.15        0       0\n",
              "7        101  101_1b1_Al_sc_Meditron   11.15  13.036        0       0\n",
              "8        101  101_1b1_Al_sc_Meditron  13.036  14.721        0       0\n",
              "9        101  101_1b1_Al_sc_Meditron  14.721  16.707        0       0"
            ]
          },
          "execution_count": 27,
          "metadata": {},
          "output_type": "execute_result"
        }
      ],
      "source": [
        "lung_data.head(10)"
      ]
    },
    {
      "cell_type": "code",
      "execution_count": 28,
      "metadata": {
        "id": "EAfwRkcWC-i1"
      },
      "outputs": [],
      "source": [
        "datax = pd.concat([data,lung_data], join = 'inner', axis = 1)"
      ]
    },
    {
      "cell_type": "code",
      "execution_count": 29,
      "metadata": {
        "colab": {
          "base_uri": "https://localhost:8080/",
          "height": 423
        },
        "id": "YDrXh1fYiroV",
        "outputId": "b6af26c3-8712-47d4-e988-da03426c613b"
      },
      "outputs": [
        {
          "data": {
            "text/html": [
              "<div>\n",
              "<style scoped>\n",
              "    .dataframe tbody tr th:only-of-type {\n",
              "        vertical-align: middle;\n",
              "    }\n",
              "\n",
              "    .dataframe tbody tr th {\n",
              "        vertical-align: top;\n",
              "    }\n",
              "\n",
              "    .dataframe thead th {\n",
              "        text-align: right;\n",
              "    }\n",
              "</style>\n",
              "<table border=\"1\" class=\"dataframe\">\n",
              "  <thead>\n",
              "    <tr style=\"text-align: right;\">\n",
              "      <th></th>\n",
              "      <th>patient_id</th>\n",
              "      <th>recording_index</th>\n",
              "      <th>chest_location</th>\n",
              "      <th>acquisition_mode</th>\n",
              "      <th>recording_equipment</th>\n",
              "      <th>filename</th>\n",
              "      <th>patient_id</th>\n",
              "      <th>filename</th>\n",
              "      <th>start</th>\n",
              "      <th>end</th>\n",
              "      <th>crackles</th>\n",
              "      <th>wheezes</th>\n",
              "    </tr>\n",
              "  </thead>\n",
              "  <tbody>\n",
              "    <tr>\n",
              "      <th>0</th>\n",
              "      <td>101</td>\n",
              "      <td>1b1</td>\n",
              "      <td>Al</td>\n",
              "      <td>sc</td>\n",
              "      <td>Meditron</td>\n",
              "      <td>101_1b1_Al_sc_Meditron</td>\n",
              "      <td>101</td>\n",
              "      <td>101_1b1_Al_sc_Meditron</td>\n",
              "      <td>0.036</td>\n",
              "      <td>0.579</td>\n",
              "      <td>0</td>\n",
              "      <td>0</td>\n",
              "    </tr>\n",
              "    <tr>\n",
              "      <th>1</th>\n",
              "      <td>101</td>\n",
              "      <td>1b1</td>\n",
              "      <td>Pr</td>\n",
              "      <td>sc</td>\n",
              "      <td>Meditron</td>\n",
              "      <td>101_1b1_Pr_sc_Meditron</td>\n",
              "      <td>101</td>\n",
              "      <td>101_1b1_Al_sc_Meditron</td>\n",
              "      <td>0.579</td>\n",
              "      <td>2.45</td>\n",
              "      <td>0</td>\n",
              "      <td>0</td>\n",
              "    </tr>\n",
              "    <tr>\n",
              "      <th>2</th>\n",
              "      <td>102</td>\n",
              "      <td>1b1</td>\n",
              "      <td>Ar</td>\n",
              "      <td>sc</td>\n",
              "      <td>Meditron</td>\n",
              "      <td>102_1b1_Ar_sc_Meditron</td>\n",
              "      <td>101</td>\n",
              "      <td>101_1b1_Al_sc_Meditron</td>\n",
              "      <td>2.45</td>\n",
              "      <td>3.893</td>\n",
              "      <td>0</td>\n",
              "      <td>0</td>\n",
              "    </tr>\n",
              "    <tr>\n",
              "      <th>3</th>\n",
              "      <td>103</td>\n",
              "      <td>2b2</td>\n",
              "      <td>Ar</td>\n",
              "      <td>mc</td>\n",
              "      <td>LittC2SE</td>\n",
              "      <td>103_2b2_Ar_mc_LittC2SE</td>\n",
              "      <td>101</td>\n",
              "      <td>101_1b1_Al_sc_Meditron</td>\n",
              "      <td>3.893</td>\n",
              "      <td>5.793</td>\n",
              "      <td>0</td>\n",
              "      <td>0</td>\n",
              "    </tr>\n",
              "    <tr>\n",
              "      <th>4</th>\n",
              "      <td>104</td>\n",
              "      <td>1b1</td>\n",
              "      <td>Al</td>\n",
              "      <td>sc</td>\n",
              "      <td>Litt3200</td>\n",
              "      <td>104_1b1_Al_sc_Litt3200</td>\n",
              "      <td>101</td>\n",
              "      <td>101_1b1_Al_sc_Meditron</td>\n",
              "      <td>5.793</td>\n",
              "      <td>7.521</td>\n",
              "      <td>0</td>\n",
              "      <td>0</td>\n",
              "    </tr>\n",
              "    <tr>\n",
              "      <th>...</th>\n",
              "      <td>...</td>\n",
              "      <td>...</td>\n",
              "      <td>...</td>\n",
              "      <td>...</td>\n",
              "      <td>...</td>\n",
              "      <td>...</td>\n",
              "      <td>...</td>\n",
              "      <td>...</td>\n",
              "      <td>...</td>\n",
              "      <td>...</td>\n",
              "      <td>...</td>\n",
              "      <td>...</td>\n",
              "    </tr>\n",
              "    <tr>\n",
              "      <th>915</th>\n",
              "      <td>224</td>\n",
              "      <td>1b2</td>\n",
              "      <td>Al</td>\n",
              "      <td>sc</td>\n",
              "      <td>Meditron</td>\n",
              "      <td>224_1b2_Al_sc_Meditron</td>\n",
              "      <td>122</td>\n",
              "      <td>122_2b3_Tc_mc_LittC2SE</td>\n",
              "      <td>16.607</td>\n",
              "      <td>19.993</td>\n",
              "      <td>0</td>\n",
              "      <td>0</td>\n",
              "    </tr>\n",
              "    <tr>\n",
              "      <th>916</th>\n",
              "      <td>225</td>\n",
              "      <td>1b1</td>\n",
              "      <td>Pl</td>\n",
              "      <td>sc</td>\n",
              "      <td>Meditron</td>\n",
              "      <td>225_1b1_Pl_sc_Meditron</td>\n",
              "      <td>123</td>\n",
              "      <td>123_1b1_Al_sc_Meditron</td>\n",
              "      <td>0.45</td>\n",
              "      <td>2.979</td>\n",
              "      <td>0</td>\n",
              "      <td>0</td>\n",
              "    </tr>\n",
              "    <tr>\n",
              "      <th>917</th>\n",
              "      <td>226</td>\n",
              "      <td>1b1</td>\n",
              "      <td>Al</td>\n",
              "      <td>sc</td>\n",
              "      <td>Meditron</td>\n",
              "      <td>226_1b1_Al_sc_Meditron</td>\n",
              "      <td>123</td>\n",
              "      <td>123_1b1_Al_sc_Meditron</td>\n",
              "      <td>2.979</td>\n",
              "      <td>5.593</td>\n",
              "      <td>0</td>\n",
              "      <td>0</td>\n",
              "    </tr>\n",
              "    <tr>\n",
              "      <th>918</th>\n",
              "      <td>226</td>\n",
              "      <td>1b1</td>\n",
              "      <td>Ll</td>\n",
              "      <td>sc</td>\n",
              "      <td>Meditron</td>\n",
              "      <td>226_1b1_Ll_sc_Meditron</td>\n",
              "      <td>123</td>\n",
              "      <td>123_1b1_Al_sc_Meditron</td>\n",
              "      <td>5.593</td>\n",
              "      <td>8.207</td>\n",
              "      <td>0</td>\n",
              "      <td>0</td>\n",
              "    </tr>\n",
              "    <tr>\n",
              "      <th>919</th>\n",
              "      <td>226</td>\n",
              "      <td>1b1</td>\n",
              "      <td>Pl</td>\n",
              "      <td>sc</td>\n",
              "      <td>LittC2SE</td>\n",
              "      <td>226_1b1_Pl_sc_LittC2SE</td>\n",
              "      <td>123</td>\n",
              "      <td>123_1b1_Al_sc_Meditron</td>\n",
              "      <td>8.207</td>\n",
              "      <td>10.779</td>\n",
              "      <td>0</td>\n",
              "      <td>0</td>\n",
              "    </tr>\n",
              "  </tbody>\n",
              "</table>\n",
              "<p>920 rows × 12 columns</p>\n",
              "</div>"
            ],
            "text/plain": [
              "    patient_id recording_index chest_location acquisition_mode  \\\n",
              "0          101             1b1             Al               sc   \n",
              "1          101             1b1             Pr               sc   \n",
              "2          102             1b1             Ar               sc   \n",
              "3          103             2b2             Ar               mc   \n",
              "4          104             1b1             Al               sc   \n",
              "..         ...             ...            ...              ...   \n",
              "915        224             1b2             Al               sc   \n",
              "916        225             1b1             Pl               sc   \n",
              "917        226             1b1             Al               sc   \n",
              "918        226             1b1             Ll               sc   \n",
              "919        226             1b1             Pl               sc   \n",
              "\n",
              "    recording_equipment                filename patient_id  \\\n",
              "0              Meditron  101_1b1_Al_sc_Meditron        101   \n",
              "1              Meditron  101_1b1_Pr_sc_Meditron        101   \n",
              "2              Meditron  102_1b1_Ar_sc_Meditron        101   \n",
              "3              LittC2SE  103_2b2_Ar_mc_LittC2SE        101   \n",
              "4              Litt3200  104_1b1_Al_sc_Litt3200        101   \n",
              "..                  ...                     ...        ...   \n",
              "915            Meditron  224_1b2_Al_sc_Meditron        122   \n",
              "916            Meditron  225_1b1_Pl_sc_Meditron        123   \n",
              "917            Meditron  226_1b1_Al_sc_Meditron        123   \n",
              "918            Meditron  226_1b1_Ll_sc_Meditron        123   \n",
              "919            LittC2SE  226_1b1_Pl_sc_LittC2SE        123   \n",
              "\n",
              "                   filename   start     end crackles wheezes  \n",
              "0    101_1b1_Al_sc_Meditron   0.036   0.579        0       0  \n",
              "1    101_1b1_Al_sc_Meditron   0.579    2.45        0       0  \n",
              "2    101_1b1_Al_sc_Meditron    2.45   3.893        0       0  \n",
              "3    101_1b1_Al_sc_Meditron   3.893   5.793        0       0  \n",
              "4    101_1b1_Al_sc_Meditron   5.793   7.521        0       0  \n",
              "..                      ...     ...     ...      ...     ...  \n",
              "915  122_2b3_Tc_mc_LittC2SE  16.607  19.993        0       0  \n",
              "916  123_1b1_Al_sc_Meditron    0.45   2.979        0       0  \n",
              "917  123_1b1_Al_sc_Meditron   2.979   5.593        0       0  \n",
              "918  123_1b1_Al_sc_Meditron   5.593   8.207        0       0  \n",
              "919  123_1b1_Al_sc_Meditron   8.207  10.779        0       0  \n",
              "\n",
              "[920 rows x 12 columns]"
            ]
          },
          "execution_count": 29,
          "metadata": {},
          "output_type": "execute_result"
        }
      ],
      "source": [
        "datax"
      ]
    },
    {
      "cell_type": "code",
      "execution_count": 30,
      "metadata": {
        "colab": {
          "base_uri": "https://localhost:8080/",
          "height": 423
        },
        "id": "wO3TAVuRitck",
        "outputId": "f0160f4b-97a2-4cc2-a7eb-39ae11eaa6c9"
      },
      "outputs": [
        {
          "data": {
            "text/html": [
              "<div>\n",
              "<style scoped>\n",
              "    .dataframe tbody tr th:only-of-type {\n",
              "        vertical-align: middle;\n",
              "    }\n",
              "\n",
              "    .dataframe tbody tr th {\n",
              "        vertical-align: top;\n",
              "    }\n",
              "\n",
              "    .dataframe thead th {\n",
              "        text-align: right;\n",
              "    }\n",
              "</style>\n",
              "<table border=\"1\" class=\"dataframe\">\n",
              "  <thead>\n",
              "    <tr style=\"text-align: right;\">\n",
              "      <th></th>\n",
              "      <th>patient_id_x</th>\n",
              "      <th>recording_index</th>\n",
              "      <th>chest_location</th>\n",
              "      <th>acquisition_mode</th>\n",
              "      <th>recording_equipment</th>\n",
              "      <th>filename</th>\n",
              "      <th>patient_id_y</th>\n",
              "      <th>start</th>\n",
              "      <th>end</th>\n",
              "      <th>crackles</th>\n",
              "      <th>wheezes</th>\n",
              "    </tr>\n",
              "  </thead>\n",
              "  <tbody>\n",
              "    <tr>\n",
              "      <th>0</th>\n",
              "      <td>101</td>\n",
              "      <td>1b1</td>\n",
              "      <td>Al</td>\n",
              "      <td>sc</td>\n",
              "      <td>Meditron</td>\n",
              "      <td>101_1b1_Al_sc_Meditron</td>\n",
              "      <td>101</td>\n",
              "      <td>0.036</td>\n",
              "      <td>0.579</td>\n",
              "      <td>0</td>\n",
              "      <td>0</td>\n",
              "    </tr>\n",
              "    <tr>\n",
              "      <th>1</th>\n",
              "      <td>101</td>\n",
              "      <td>1b1</td>\n",
              "      <td>Al</td>\n",
              "      <td>sc</td>\n",
              "      <td>Meditron</td>\n",
              "      <td>101_1b1_Al_sc_Meditron</td>\n",
              "      <td>101</td>\n",
              "      <td>0.579</td>\n",
              "      <td>2.45</td>\n",
              "      <td>0</td>\n",
              "      <td>0</td>\n",
              "    </tr>\n",
              "    <tr>\n",
              "      <th>2</th>\n",
              "      <td>101</td>\n",
              "      <td>1b1</td>\n",
              "      <td>Al</td>\n",
              "      <td>sc</td>\n",
              "      <td>Meditron</td>\n",
              "      <td>101_1b1_Al_sc_Meditron</td>\n",
              "      <td>101</td>\n",
              "      <td>2.45</td>\n",
              "      <td>3.893</td>\n",
              "      <td>0</td>\n",
              "      <td>0</td>\n",
              "    </tr>\n",
              "    <tr>\n",
              "      <th>3</th>\n",
              "      <td>101</td>\n",
              "      <td>1b1</td>\n",
              "      <td>Al</td>\n",
              "      <td>sc</td>\n",
              "      <td>Meditron</td>\n",
              "      <td>101_1b1_Al_sc_Meditron</td>\n",
              "      <td>101</td>\n",
              "      <td>3.893</td>\n",
              "      <td>5.793</td>\n",
              "      <td>0</td>\n",
              "      <td>0</td>\n",
              "    </tr>\n",
              "    <tr>\n",
              "      <th>4</th>\n",
              "      <td>101</td>\n",
              "      <td>1b1</td>\n",
              "      <td>Al</td>\n",
              "      <td>sc</td>\n",
              "      <td>Meditron</td>\n",
              "      <td>101_1b1_Al_sc_Meditron</td>\n",
              "      <td>101</td>\n",
              "      <td>5.793</td>\n",
              "      <td>7.521</td>\n",
              "      <td>0</td>\n",
              "      <td>0</td>\n",
              "    </tr>\n",
              "    <tr>\n",
              "      <th>...</th>\n",
              "      <td>...</td>\n",
              "      <td>...</td>\n",
              "      <td>...</td>\n",
              "      <td>...</td>\n",
              "      <td>...</td>\n",
              "      <td>...</td>\n",
              "      <td>...</td>\n",
              "      <td>...</td>\n",
              "      <td>...</td>\n",
              "      <td>...</td>\n",
              "      <td>...</td>\n",
              "    </tr>\n",
              "    <tr>\n",
              "      <th>6893</th>\n",
              "      <td>226</td>\n",
              "      <td>1b1</td>\n",
              "      <td>Pl</td>\n",
              "      <td>sc</td>\n",
              "      <td>LittC2SE</td>\n",
              "      <td>226_1b1_Pl_sc_LittC2SE</td>\n",
              "      <td>226</td>\n",
              "      <td>11.721</td>\n",
              "      <td>13.693</td>\n",
              "      <td>1</td>\n",
              "      <td>0</td>\n",
              "    </tr>\n",
              "    <tr>\n",
              "      <th>6894</th>\n",
              "      <td>226</td>\n",
              "      <td>1b1</td>\n",
              "      <td>Pl</td>\n",
              "      <td>sc</td>\n",
              "      <td>LittC2SE</td>\n",
              "      <td>226_1b1_Pl_sc_LittC2SE</td>\n",
              "      <td>226</td>\n",
              "      <td>13.693</td>\n",
              "      <td>15.536</td>\n",
              "      <td>0</td>\n",
              "      <td>0</td>\n",
              "    </tr>\n",
              "    <tr>\n",
              "      <th>6895</th>\n",
              "      <td>226</td>\n",
              "      <td>1b1</td>\n",
              "      <td>Pl</td>\n",
              "      <td>sc</td>\n",
              "      <td>LittC2SE</td>\n",
              "      <td>226_1b1_Pl_sc_LittC2SE</td>\n",
              "      <td>226</td>\n",
              "      <td>15.536</td>\n",
              "      <td>17.493</td>\n",
              "      <td>0</td>\n",
              "      <td>0</td>\n",
              "    </tr>\n",
              "    <tr>\n",
              "      <th>6896</th>\n",
              "      <td>226</td>\n",
              "      <td>1b1</td>\n",
              "      <td>Pl</td>\n",
              "      <td>sc</td>\n",
              "      <td>LittC2SE</td>\n",
              "      <td>226_1b1_Pl_sc_LittC2SE</td>\n",
              "      <td>226</td>\n",
              "      <td>17.493</td>\n",
              "      <td>19.436</td>\n",
              "      <td>1</td>\n",
              "      <td>0</td>\n",
              "    </tr>\n",
              "    <tr>\n",
              "      <th>6897</th>\n",
              "      <td>226</td>\n",
              "      <td>1b1</td>\n",
              "      <td>Pl</td>\n",
              "      <td>sc</td>\n",
              "      <td>LittC2SE</td>\n",
              "      <td>226_1b1_Pl_sc_LittC2SE</td>\n",
              "      <td>226</td>\n",
              "      <td>19.436</td>\n",
              "      <td>19.979</td>\n",
              "      <td>0</td>\n",
              "      <td>0</td>\n",
              "    </tr>\n",
              "  </tbody>\n",
              "</table>\n",
              "<p>6898 rows × 11 columns</p>\n",
              "</div>"
            ],
            "text/plain": [
              "     patient_id_x recording_index chest_location acquisition_mode  \\\n",
              "0             101             1b1             Al               sc   \n",
              "1             101             1b1             Al               sc   \n",
              "2             101             1b1             Al               sc   \n",
              "3             101             1b1             Al               sc   \n",
              "4             101             1b1             Al               sc   \n",
              "...           ...             ...            ...              ...   \n",
              "6893          226             1b1             Pl               sc   \n",
              "6894          226             1b1             Pl               sc   \n",
              "6895          226             1b1             Pl               sc   \n",
              "6896          226             1b1             Pl               sc   \n",
              "6897          226             1b1             Pl               sc   \n",
              "\n",
              "     recording_equipment                filename patient_id_y   start     end  \\\n",
              "0               Meditron  101_1b1_Al_sc_Meditron          101   0.036   0.579   \n",
              "1               Meditron  101_1b1_Al_sc_Meditron          101   0.579    2.45   \n",
              "2               Meditron  101_1b1_Al_sc_Meditron          101    2.45   3.893   \n",
              "3               Meditron  101_1b1_Al_sc_Meditron          101   3.893   5.793   \n",
              "4               Meditron  101_1b1_Al_sc_Meditron          101   5.793   7.521   \n",
              "...                  ...                     ...          ...     ...     ...   \n",
              "6893            LittC2SE  226_1b1_Pl_sc_LittC2SE          226  11.721  13.693   \n",
              "6894            LittC2SE  226_1b1_Pl_sc_LittC2SE          226  13.693  15.536   \n",
              "6895            LittC2SE  226_1b1_Pl_sc_LittC2SE          226  15.536  17.493   \n",
              "6896            LittC2SE  226_1b1_Pl_sc_LittC2SE          226  17.493  19.436   \n",
              "6897            LittC2SE  226_1b1_Pl_sc_LittC2SE          226  19.436  19.979   \n",
              "\n",
              "     crackles wheezes  \n",
              "0           0       0  \n",
              "1           0       0  \n",
              "2           0       0  \n",
              "3           0       0  \n",
              "4           0       0  \n",
              "...       ...     ...  \n",
              "6893        1       0  \n",
              "6894        0       0  \n",
              "6895        0       0  \n",
              "6896        1       0  \n",
              "6897        0       0  \n",
              "\n",
              "[6898 rows x 11 columns]"
            ]
          },
          "execution_count": 30,
          "metadata": {},
          "output_type": "execute_result"
        }
      ],
      "source": [
        "datay = data.merge(lung_data, how = 'outer',on = 'patient_id' and  'filename')\n",
        "datay"
      ]
    },
    {
      "cell_type": "code",
      "execution_count": null,
      "metadata": {
        "id": "cZrAuYfSlrMe"
      },
      "outputs": [],
      "source": []
    },
    {
      "cell_type": "code",
      "execution_count": 31,
      "metadata": {
        "colab": {
          "base_uri": "https://localhost:8080/",
          "height": 519
        },
        "id": "utk6LzAjkUpU",
        "outputId": "448159c5-430a-4e8a-ff4c-3daa32d800af"
      },
      "outputs": [
        {
          "data": {
            "text/html": [
              "<div>\n",
              "<style scoped>\n",
              "    .dataframe tbody tr th:only-of-type {\n",
              "        vertical-align: middle;\n",
              "    }\n",
              "\n",
              "    .dataframe tbody tr th {\n",
              "        vertical-align: top;\n",
              "    }\n",
              "\n",
              "    .dataframe thead th {\n",
              "        text-align: right;\n",
              "    }\n",
              "</style>\n",
              "<table border=\"1\" class=\"dataframe\">\n",
              "  <thead>\n",
              "    <tr style=\"text-align: right;\">\n",
              "      <th></th>\n",
              "      <th>patient_id_x</th>\n",
              "      <th>recording_index</th>\n",
              "      <th>chest_location</th>\n",
              "      <th>acquisition_mode</th>\n",
              "      <th>recording_equipment</th>\n",
              "      <th>filename</th>\n",
              "      <th>patient_id_y</th>\n",
              "      <th>start</th>\n",
              "      <th>end</th>\n",
              "      <th>crackles</th>\n",
              "      <th>wheezes</th>\n",
              "    </tr>\n",
              "  </thead>\n",
              "  <tbody>\n",
              "    <tr>\n",
              "      <th>3349</th>\n",
              "      <td>160</td>\n",
              "      <td>1b2</td>\n",
              "      <td>Al</td>\n",
              "      <td>mc</td>\n",
              "      <td>AKGC417L</td>\n",
              "      <td>160_1b2_Al_mc_AKGC417L</td>\n",
              "      <td>160</td>\n",
              "      <td>0.109</td>\n",
              "      <td>4.766</td>\n",
              "      <td>1</td>\n",
              "      <td>1</td>\n",
              "    </tr>\n",
              "    <tr>\n",
              "      <th>3350</th>\n",
              "      <td>160</td>\n",
              "      <td>1b2</td>\n",
              "      <td>Al</td>\n",
              "      <td>mc</td>\n",
              "      <td>AKGC417L</td>\n",
              "      <td>160_1b2_Al_mc_AKGC417L</td>\n",
              "      <td>160</td>\n",
              "      <td>4.766</td>\n",
              "      <td>10.342</td>\n",
              "      <td>1</td>\n",
              "      <td>1</td>\n",
              "    </tr>\n",
              "    <tr>\n",
              "      <th>3351</th>\n",
              "      <td>160</td>\n",
              "      <td>1b2</td>\n",
              "      <td>Ar</td>\n",
              "      <td>mc</td>\n",
              "      <td>AKGC417L</td>\n",
              "      <td>160_1b2_Ar_mc_AKGC417L</td>\n",
              "      <td>160</td>\n",
              "      <td>0.109</td>\n",
              "      <td>4.766</td>\n",
              "      <td>0</td>\n",
              "      <td>1</td>\n",
              "    </tr>\n",
              "    <tr>\n",
              "      <th>3352</th>\n",
              "      <td>160</td>\n",
              "      <td>1b2</td>\n",
              "      <td>Ar</td>\n",
              "      <td>mc</td>\n",
              "      <td>AKGC417L</td>\n",
              "      <td>160_1b2_Ar_mc_AKGC417L</td>\n",
              "      <td>160</td>\n",
              "      <td>4.766</td>\n",
              "      <td>10.342</td>\n",
              "      <td>0</td>\n",
              "      <td>1</td>\n",
              "    </tr>\n",
              "    <tr>\n",
              "      <th>3353</th>\n",
              "      <td>160</td>\n",
              "      <td>1b2</td>\n",
              "      <td>Lr</td>\n",
              "      <td>mc</td>\n",
              "      <td>AKGC417L</td>\n",
              "      <td>160_1b2_Lr_mc_AKGC417L</td>\n",
              "      <td>160</td>\n",
              "      <td>0.109</td>\n",
              "      <td>4.766</td>\n",
              "      <td>1</td>\n",
              "      <td>0</td>\n",
              "    </tr>\n",
              "    <tr>\n",
              "      <th>3354</th>\n",
              "      <td>160</td>\n",
              "      <td>1b2</td>\n",
              "      <td>Lr</td>\n",
              "      <td>mc</td>\n",
              "      <td>AKGC417L</td>\n",
              "      <td>160_1b2_Lr_mc_AKGC417L</td>\n",
              "      <td>160</td>\n",
              "      <td>4.766</td>\n",
              "      <td>10.342</td>\n",
              "      <td>0</td>\n",
              "      <td>1</td>\n",
              "    </tr>\n",
              "    <tr>\n",
              "      <th>3355</th>\n",
              "      <td>160</td>\n",
              "      <td>1b2</td>\n",
              "      <td>Pl</td>\n",
              "      <td>mc</td>\n",
              "      <td>AKGC417L</td>\n",
              "      <td>160_1b2_Pl_mc_AKGC417L</td>\n",
              "      <td>160</td>\n",
              "      <td>0.109</td>\n",
              "      <td>4.766</td>\n",
              "      <td>0</td>\n",
              "      <td>1</td>\n",
              "    </tr>\n",
              "    <tr>\n",
              "      <th>3356</th>\n",
              "      <td>160</td>\n",
              "      <td>1b2</td>\n",
              "      <td>Pl</td>\n",
              "      <td>mc</td>\n",
              "      <td>AKGC417L</td>\n",
              "      <td>160_1b2_Pl_mc_AKGC417L</td>\n",
              "      <td>160</td>\n",
              "      <td>4.766</td>\n",
              "      <td>10.342</td>\n",
              "      <td>0</td>\n",
              "      <td>1</td>\n",
              "    </tr>\n",
              "    <tr>\n",
              "      <th>3357</th>\n",
              "      <td>160</td>\n",
              "      <td>1b2</td>\n",
              "      <td>Pr</td>\n",
              "      <td>mc</td>\n",
              "      <td>AKGC417L</td>\n",
              "      <td>160_1b2_Pr_mc_AKGC417L</td>\n",
              "      <td>160</td>\n",
              "      <td>0.109</td>\n",
              "      <td>4.766</td>\n",
              "      <td>1</td>\n",
              "      <td>1</td>\n",
              "    </tr>\n",
              "    <tr>\n",
              "      <th>3358</th>\n",
              "      <td>160</td>\n",
              "      <td>1b2</td>\n",
              "      <td>Pr</td>\n",
              "      <td>mc</td>\n",
              "      <td>AKGC417L</td>\n",
              "      <td>160_1b2_Pr_mc_AKGC417L</td>\n",
              "      <td>160</td>\n",
              "      <td>4.766</td>\n",
              "      <td>10.342</td>\n",
              "      <td>0</td>\n",
              "      <td>1</td>\n",
              "    </tr>\n",
              "    <tr>\n",
              "      <th>3359</th>\n",
              "      <td>160</td>\n",
              "      <td>1b2</td>\n",
              "      <td>Tc</td>\n",
              "      <td>mc</td>\n",
              "      <td>AKGC417L</td>\n",
              "      <td>160_1b2_Tc_mc_AKGC417L</td>\n",
              "      <td>160</td>\n",
              "      <td>0.109</td>\n",
              "      <td>4.766</td>\n",
              "      <td>0</td>\n",
              "      <td>0</td>\n",
              "    </tr>\n",
              "    <tr>\n",
              "      <th>3360</th>\n",
              "      <td>160</td>\n",
              "      <td>1b2</td>\n",
              "      <td>Tc</td>\n",
              "      <td>mc</td>\n",
              "      <td>AKGC417L</td>\n",
              "      <td>160_1b2_Tc_mc_AKGC417L</td>\n",
              "      <td>160</td>\n",
              "      <td>4.766</td>\n",
              "      <td>10.342</td>\n",
              "      <td>0</td>\n",
              "      <td>1</td>\n",
              "    </tr>\n",
              "    <tr>\n",
              "      <th>3361</th>\n",
              "      <td>160</td>\n",
              "      <td>1b3</td>\n",
              "      <td>Al</td>\n",
              "      <td>mc</td>\n",
              "      <td>AKGC417L</td>\n",
              "      <td>160_1b3_Al_mc_AKGC417L</td>\n",
              "      <td>160</td>\n",
              "      <td>1.862</td>\n",
              "      <td>5.718</td>\n",
              "      <td>0</td>\n",
              "      <td>1</td>\n",
              "    </tr>\n",
              "    <tr>\n",
              "      <th>3362</th>\n",
              "      <td>160</td>\n",
              "      <td>1b3</td>\n",
              "      <td>Al</td>\n",
              "      <td>mc</td>\n",
              "      <td>AKGC417L</td>\n",
              "      <td>160_1b3_Al_mc_AKGC417L</td>\n",
              "      <td>160</td>\n",
              "      <td>5.718</td>\n",
              "      <td>9.725</td>\n",
              "      <td>1</td>\n",
              "      <td>1</td>\n",
              "    </tr>\n",
              "    <tr>\n",
              "      <th>3363</th>\n",
              "      <td>160</td>\n",
              "      <td>1b3</td>\n",
              "      <td>Al</td>\n",
              "      <td>mc</td>\n",
              "      <td>AKGC417L</td>\n",
              "      <td>160_1b3_Al_mc_AKGC417L</td>\n",
              "      <td>160</td>\n",
              "      <td>9.725</td>\n",
              "      <td>13.614</td>\n",
              "      <td>0</td>\n",
              "      <td>1</td>\n",
              "    </tr>\n",
              "  </tbody>\n",
              "</table>\n",
              "</div>"
            ],
            "text/plain": [
              "     patient_id_x recording_index chest_location acquisition_mode  \\\n",
              "3349          160             1b2             Al               mc   \n",
              "3350          160             1b2             Al               mc   \n",
              "3351          160             1b2             Ar               mc   \n",
              "3352          160             1b2             Ar               mc   \n",
              "3353          160             1b2             Lr               mc   \n",
              "3354          160             1b2             Lr               mc   \n",
              "3355          160             1b2             Pl               mc   \n",
              "3356          160             1b2             Pl               mc   \n",
              "3357          160             1b2             Pr               mc   \n",
              "3358          160             1b2             Pr               mc   \n",
              "3359          160             1b2             Tc               mc   \n",
              "3360          160             1b2             Tc               mc   \n",
              "3361          160             1b3             Al               mc   \n",
              "3362          160             1b3             Al               mc   \n",
              "3363          160             1b3             Al               mc   \n",
              "\n",
              "     recording_equipment                filename patient_id_y  start     end  \\\n",
              "3349            AKGC417L  160_1b2_Al_mc_AKGC417L          160  0.109   4.766   \n",
              "3350            AKGC417L  160_1b2_Al_mc_AKGC417L          160  4.766  10.342   \n",
              "3351            AKGC417L  160_1b2_Ar_mc_AKGC417L          160  0.109   4.766   \n",
              "3352            AKGC417L  160_1b2_Ar_mc_AKGC417L          160  4.766  10.342   \n",
              "3353            AKGC417L  160_1b2_Lr_mc_AKGC417L          160  0.109   4.766   \n",
              "3354            AKGC417L  160_1b2_Lr_mc_AKGC417L          160  4.766  10.342   \n",
              "3355            AKGC417L  160_1b2_Pl_mc_AKGC417L          160  0.109   4.766   \n",
              "3356            AKGC417L  160_1b2_Pl_mc_AKGC417L          160  4.766  10.342   \n",
              "3357            AKGC417L  160_1b2_Pr_mc_AKGC417L          160  0.109   4.766   \n",
              "3358            AKGC417L  160_1b2_Pr_mc_AKGC417L          160  4.766  10.342   \n",
              "3359            AKGC417L  160_1b2_Tc_mc_AKGC417L          160  0.109   4.766   \n",
              "3360            AKGC417L  160_1b2_Tc_mc_AKGC417L          160  4.766  10.342   \n",
              "3361            AKGC417L  160_1b3_Al_mc_AKGC417L          160  1.862   5.718   \n",
              "3362            AKGC417L  160_1b3_Al_mc_AKGC417L          160  5.718   9.725   \n",
              "3363            AKGC417L  160_1b3_Al_mc_AKGC417L          160  9.725  13.614   \n",
              "\n",
              "     crackles wheezes  \n",
              "3349        1       1  \n",
              "3350        1       1  \n",
              "3351        0       1  \n",
              "3352        0       1  \n",
              "3353        1       0  \n",
              "3354        0       1  \n",
              "3355        0       1  \n",
              "3356        0       1  \n",
              "3357        1       1  \n",
              "3358        0       1  \n",
              "3359        0       0  \n",
              "3360        0       1  \n",
              "3361        0       1  \n",
              "3362        1       1  \n",
              "3363        0       1  "
            ]
          },
          "execution_count": 31,
          "metadata": {},
          "output_type": "execute_result"
        }
      ],
      "source": [
        "datay[datay['patient_id_x'] == '160'].head(15)"
      ]
    },
    {
      "cell_type": "code",
      "execution_count": 32,
      "metadata": {
        "colab": {
          "base_uri": "https://localhost:8080/",
          "height": 423
        },
        "id": "nI7X6y3wkysx",
        "outputId": "63364185-2d83-45bc-b101-fce8573abc3a"
      },
      "outputs": [
        {
          "data": {
            "text/html": [
              "<div>\n",
              "<style scoped>\n",
              "    .dataframe tbody tr th:only-of-type {\n",
              "        vertical-align: middle;\n",
              "    }\n",
              "\n",
              "    .dataframe tbody tr th {\n",
              "        vertical-align: top;\n",
              "    }\n",
              "\n",
              "    .dataframe thead th {\n",
              "        text-align: right;\n",
              "    }\n",
              "</style>\n",
              "<table border=\"1\" class=\"dataframe\">\n",
              "  <thead>\n",
              "    <tr style=\"text-align: right;\">\n",
              "      <th></th>\n",
              "      <th>patient_id_x</th>\n",
              "      <th>recording_index</th>\n",
              "      <th>chest_location</th>\n",
              "      <th>acquisition_mode</th>\n",
              "      <th>recording_equipment</th>\n",
              "      <th>filename</th>\n",
              "      <th>patient_id_y</th>\n",
              "      <th>start</th>\n",
              "      <th>end</th>\n",
              "      <th>crackles</th>\n",
              "      <th>wheezes</th>\n",
              "    </tr>\n",
              "  </thead>\n",
              "  <tbody>\n",
              "    <tr>\n",
              "      <th>0</th>\n",
              "      <td>101</td>\n",
              "      <td>1b1</td>\n",
              "      <td>Al</td>\n",
              "      <td>sc</td>\n",
              "      <td>Meditron</td>\n",
              "      <td>101_1b1_Al_sc_Meditron</td>\n",
              "      <td>101</td>\n",
              "      <td>0.036</td>\n",
              "      <td>0.579</td>\n",
              "      <td>0</td>\n",
              "      <td>0</td>\n",
              "    </tr>\n",
              "    <tr>\n",
              "      <th>1</th>\n",
              "      <td>101</td>\n",
              "      <td>1b1</td>\n",
              "      <td>Al</td>\n",
              "      <td>sc</td>\n",
              "      <td>Meditron</td>\n",
              "      <td>101_1b1_Al_sc_Meditron</td>\n",
              "      <td>101</td>\n",
              "      <td>0.579</td>\n",
              "      <td>2.45</td>\n",
              "      <td>0</td>\n",
              "      <td>0</td>\n",
              "    </tr>\n",
              "    <tr>\n",
              "      <th>2</th>\n",
              "      <td>101</td>\n",
              "      <td>1b1</td>\n",
              "      <td>Al</td>\n",
              "      <td>sc</td>\n",
              "      <td>Meditron</td>\n",
              "      <td>101_1b1_Al_sc_Meditron</td>\n",
              "      <td>101</td>\n",
              "      <td>2.45</td>\n",
              "      <td>3.893</td>\n",
              "      <td>0</td>\n",
              "      <td>0</td>\n",
              "    </tr>\n",
              "    <tr>\n",
              "      <th>3</th>\n",
              "      <td>101</td>\n",
              "      <td>1b1</td>\n",
              "      <td>Al</td>\n",
              "      <td>sc</td>\n",
              "      <td>Meditron</td>\n",
              "      <td>101_1b1_Al_sc_Meditron</td>\n",
              "      <td>101</td>\n",
              "      <td>3.893</td>\n",
              "      <td>5.793</td>\n",
              "      <td>0</td>\n",
              "      <td>0</td>\n",
              "    </tr>\n",
              "    <tr>\n",
              "      <th>4</th>\n",
              "      <td>101</td>\n",
              "      <td>1b1</td>\n",
              "      <td>Al</td>\n",
              "      <td>sc</td>\n",
              "      <td>Meditron</td>\n",
              "      <td>101_1b1_Al_sc_Meditron</td>\n",
              "      <td>101</td>\n",
              "      <td>5.793</td>\n",
              "      <td>7.521</td>\n",
              "      <td>0</td>\n",
              "      <td>0</td>\n",
              "    </tr>\n",
              "    <tr>\n",
              "      <th>...</th>\n",
              "      <td>...</td>\n",
              "      <td>...</td>\n",
              "      <td>...</td>\n",
              "      <td>...</td>\n",
              "      <td>...</td>\n",
              "      <td>...</td>\n",
              "      <td>...</td>\n",
              "      <td>...</td>\n",
              "      <td>...</td>\n",
              "      <td>...</td>\n",
              "      <td>...</td>\n",
              "    </tr>\n",
              "    <tr>\n",
              "      <th>6893</th>\n",
              "      <td>226</td>\n",
              "      <td>1b1</td>\n",
              "      <td>Pl</td>\n",
              "      <td>sc</td>\n",
              "      <td>LittC2SE</td>\n",
              "      <td>226_1b1_Pl_sc_LittC2SE</td>\n",
              "      <td>226</td>\n",
              "      <td>11.721</td>\n",
              "      <td>13.693</td>\n",
              "      <td>1</td>\n",
              "      <td>0</td>\n",
              "    </tr>\n",
              "    <tr>\n",
              "      <th>6894</th>\n",
              "      <td>226</td>\n",
              "      <td>1b1</td>\n",
              "      <td>Pl</td>\n",
              "      <td>sc</td>\n",
              "      <td>LittC2SE</td>\n",
              "      <td>226_1b1_Pl_sc_LittC2SE</td>\n",
              "      <td>226</td>\n",
              "      <td>13.693</td>\n",
              "      <td>15.536</td>\n",
              "      <td>0</td>\n",
              "      <td>0</td>\n",
              "    </tr>\n",
              "    <tr>\n",
              "      <th>6895</th>\n",
              "      <td>226</td>\n",
              "      <td>1b1</td>\n",
              "      <td>Pl</td>\n",
              "      <td>sc</td>\n",
              "      <td>LittC2SE</td>\n",
              "      <td>226_1b1_Pl_sc_LittC2SE</td>\n",
              "      <td>226</td>\n",
              "      <td>15.536</td>\n",
              "      <td>17.493</td>\n",
              "      <td>0</td>\n",
              "      <td>0</td>\n",
              "    </tr>\n",
              "    <tr>\n",
              "      <th>6896</th>\n",
              "      <td>226</td>\n",
              "      <td>1b1</td>\n",
              "      <td>Pl</td>\n",
              "      <td>sc</td>\n",
              "      <td>LittC2SE</td>\n",
              "      <td>226_1b1_Pl_sc_LittC2SE</td>\n",
              "      <td>226</td>\n",
              "      <td>17.493</td>\n",
              "      <td>19.436</td>\n",
              "      <td>1</td>\n",
              "      <td>0</td>\n",
              "    </tr>\n",
              "    <tr>\n",
              "      <th>6897</th>\n",
              "      <td>226</td>\n",
              "      <td>1b1</td>\n",
              "      <td>Pl</td>\n",
              "      <td>sc</td>\n",
              "      <td>LittC2SE</td>\n",
              "      <td>226_1b1_Pl_sc_LittC2SE</td>\n",
              "      <td>226</td>\n",
              "      <td>19.436</td>\n",
              "      <td>19.979</td>\n",
              "      <td>0</td>\n",
              "      <td>0</td>\n",
              "    </tr>\n",
              "  </tbody>\n",
              "</table>\n",
              "<p>6898 rows × 11 columns</p>\n",
              "</div>"
            ],
            "text/plain": [
              "     patient_id_x recording_index chest_location acquisition_mode  \\\n",
              "0             101             1b1             Al               sc   \n",
              "1             101             1b1             Al               sc   \n",
              "2             101             1b1             Al               sc   \n",
              "3             101             1b1             Al               sc   \n",
              "4             101             1b1             Al               sc   \n",
              "...           ...             ...            ...              ...   \n",
              "6893          226             1b1             Pl               sc   \n",
              "6894          226             1b1             Pl               sc   \n",
              "6895          226             1b1             Pl               sc   \n",
              "6896          226             1b1             Pl               sc   \n",
              "6897          226             1b1             Pl               sc   \n",
              "\n",
              "     recording_equipment                filename patient_id_y   start     end  \\\n",
              "0               Meditron  101_1b1_Al_sc_Meditron          101   0.036   0.579   \n",
              "1               Meditron  101_1b1_Al_sc_Meditron          101   0.579    2.45   \n",
              "2               Meditron  101_1b1_Al_sc_Meditron          101    2.45   3.893   \n",
              "3               Meditron  101_1b1_Al_sc_Meditron          101   3.893   5.793   \n",
              "4               Meditron  101_1b1_Al_sc_Meditron          101   5.793   7.521   \n",
              "...                  ...                     ...          ...     ...     ...   \n",
              "6893            LittC2SE  226_1b1_Pl_sc_LittC2SE          226  11.721  13.693   \n",
              "6894            LittC2SE  226_1b1_Pl_sc_LittC2SE          226  13.693  15.536   \n",
              "6895            LittC2SE  226_1b1_Pl_sc_LittC2SE          226  15.536  17.493   \n",
              "6896            LittC2SE  226_1b1_Pl_sc_LittC2SE          226  17.493  19.436   \n",
              "6897            LittC2SE  226_1b1_Pl_sc_LittC2SE          226  19.436  19.979   \n",
              "\n",
              "     crackles wheezes  \n",
              "0           0       0  \n",
              "1           0       0  \n",
              "2           0       0  \n",
              "3           0       0  \n",
              "4           0       0  \n",
              "...       ...     ...  \n",
              "6893        1       0  \n",
              "6894        0       0  \n",
              "6895        0       0  \n",
              "6896        1       0  \n",
              "6897        0       0  \n",
              "\n",
              "[6898 rows x 11 columns]"
            ]
          },
          "execution_count": 32,
          "metadata": {},
          "output_type": "execute_result"
        }
      ],
      "source": [
        "datay.drop_duplicates()"
      ]
    },
    {
      "cell_type": "code",
      "execution_count": 33,
      "metadata": {
        "colab": {
          "base_uri": "https://localhost:8080/",
          "height": 363
        },
        "id": "6It4E3RvljX0",
        "outputId": "8284a54b-db30-4ea1-b11f-0a0db091eaf4"
      },
      "outputs": [
        {
          "data": {
            "text/html": [
              "<div>\n",
              "<style scoped>\n",
              "    .dataframe tbody tr th:only-of-type {\n",
              "        vertical-align: middle;\n",
              "    }\n",
              "\n",
              "    .dataframe tbody tr th {\n",
              "        vertical-align: top;\n",
              "    }\n",
              "\n",
              "    .dataframe thead th {\n",
              "        text-align: right;\n",
              "    }\n",
              "</style>\n",
              "<table border=\"1\" class=\"dataframe\">\n",
              "  <thead>\n",
              "    <tr style=\"text-align: right;\">\n",
              "      <th></th>\n",
              "      <th>101</th>\n",
              "      <th>URTI</th>\n",
              "    </tr>\n",
              "  </thead>\n",
              "  <tbody>\n",
              "    <tr>\n",
              "      <th>0</th>\n",
              "      <td>102</td>\n",
              "      <td>Healthy</td>\n",
              "    </tr>\n",
              "    <tr>\n",
              "      <th>1</th>\n",
              "      <td>103</td>\n",
              "      <td>Asthma</td>\n",
              "    </tr>\n",
              "    <tr>\n",
              "      <th>2</th>\n",
              "      <td>104</td>\n",
              "      <td>COPD</td>\n",
              "    </tr>\n",
              "    <tr>\n",
              "      <th>3</th>\n",
              "      <td>105</td>\n",
              "      <td>URTI</td>\n",
              "    </tr>\n",
              "    <tr>\n",
              "      <th>4</th>\n",
              "      <td>106</td>\n",
              "      <td>COPD</td>\n",
              "    </tr>\n",
              "    <tr>\n",
              "      <th>5</th>\n",
              "      <td>107</td>\n",
              "      <td>COPD</td>\n",
              "    </tr>\n",
              "    <tr>\n",
              "      <th>6</th>\n",
              "      <td>108</td>\n",
              "      <td>LRTI</td>\n",
              "    </tr>\n",
              "    <tr>\n",
              "      <th>7</th>\n",
              "      <td>109</td>\n",
              "      <td>COPD</td>\n",
              "    </tr>\n",
              "    <tr>\n",
              "      <th>8</th>\n",
              "      <td>110</td>\n",
              "      <td>COPD</td>\n",
              "    </tr>\n",
              "    <tr>\n",
              "      <th>9</th>\n",
              "      <td>111</td>\n",
              "      <td>Bronchiectasis</td>\n",
              "    </tr>\n",
              "  </tbody>\n",
              "</table>\n",
              "</div>"
            ],
            "text/plain": [
              "   101            URTI\n",
              "0  102         Healthy\n",
              "1  103          Asthma\n",
              "2  104            COPD\n",
              "3  105            URTI\n",
              "4  106            COPD\n",
              "5  107            COPD\n",
              "6  108            LRTI\n",
              "7  109            COPD\n",
              "8  110            COPD\n",
              "9  111  Bronchiectasis"
            ]
          },
          "execution_count": 33,
          "metadata": {},
          "output_type": "execute_result"
        }
      ],
      "source": [
        "patient_demographic = pd.read_csv('C:/Users/mahii/OneDrive/Desktop/practice/MajorProject/Respiratory sounds/patient_diagnosis.csv')\n",
        "patient_demographic.head(10)"
      ]
    },
    {
      "cell_type": "code",
      "execution_count": 34,
      "metadata": {
        "id": "wXINyxgImQ9M"
      },
      "outputs": [],
      "source": [
        "patient_demographic.columns = ['patient_id','disease']"
      ]
    },
    {
      "cell_type": "code",
      "execution_count": 35,
      "metadata": {
        "colab": {
          "base_uri": "https://localhost:8080/",
          "height": 206
        },
        "id": "eQgoiGcbnGI8",
        "outputId": "cea4102f-a847-415c-d50a-80c2ad7255ec"
      },
      "outputs": [
        {
          "data": {
            "text/html": [
              "<div>\n",
              "<style scoped>\n",
              "    .dataframe tbody tr th:only-of-type {\n",
              "        vertical-align: middle;\n",
              "    }\n",
              "\n",
              "    .dataframe tbody tr th {\n",
              "        vertical-align: top;\n",
              "    }\n",
              "\n",
              "    .dataframe thead th {\n",
              "        text-align: right;\n",
              "    }\n",
              "</style>\n",
              "<table border=\"1\" class=\"dataframe\">\n",
              "  <thead>\n",
              "    <tr style=\"text-align: right;\">\n",
              "      <th></th>\n",
              "      <th>patient_id</th>\n",
              "      <th>disease</th>\n",
              "    </tr>\n",
              "  </thead>\n",
              "  <tbody>\n",
              "    <tr>\n",
              "      <th>0</th>\n",
              "      <td>102</td>\n",
              "      <td>Healthy</td>\n",
              "    </tr>\n",
              "    <tr>\n",
              "      <th>1</th>\n",
              "      <td>103</td>\n",
              "      <td>Asthma</td>\n",
              "    </tr>\n",
              "    <tr>\n",
              "      <th>2</th>\n",
              "      <td>104</td>\n",
              "      <td>COPD</td>\n",
              "    </tr>\n",
              "    <tr>\n",
              "      <th>3</th>\n",
              "      <td>105</td>\n",
              "      <td>URTI</td>\n",
              "    </tr>\n",
              "    <tr>\n",
              "      <th>4</th>\n",
              "      <td>106</td>\n",
              "      <td>COPD</td>\n",
              "    </tr>\n",
              "  </tbody>\n",
              "</table>\n",
              "</div>"
            ],
            "text/plain": [
              "   patient_id  disease\n",
              "0         102  Healthy\n",
              "1         103   Asthma\n",
              "2         104     COPD\n",
              "3         105     URTI\n",
              "4         106     COPD"
            ]
          },
          "execution_count": 35,
          "metadata": {},
          "output_type": "execute_result"
        }
      ],
      "source": [
        "patient_demographic.head()"
      ]
    },
    {
      "cell_type": "code",
      "execution_count": 36,
      "metadata": {
        "colab": {
          "base_uri": "https://localhost:8080/"
        },
        "id": "Q5jZIgnM8LM_",
        "outputId": "1fe9784e-098f-4b6b-f1f5-422c63ea176b"
      },
      "outputs": [
        {
          "name": "stdout",
          "output_type": "stream",
          "text": [
            "<class 'pandas.core.frame.DataFrame'>\n",
            "RangeIndex: 125 entries, 0 to 124\n",
            "Data columns (total 2 columns):\n",
            " #   Column      Non-Null Count  Dtype \n",
            "---  ------      --------------  ----- \n",
            " 0   patient_id  125 non-null    int64 \n",
            " 1   disease     125 non-null    object\n",
            "dtypes: int64(1), object(1)\n",
            "memory usage: 2.1+ KB\n"
          ]
        }
      ],
      "source": [
        "patient_demographic.info()"
      ]
    },
    {
      "cell_type": "code",
      "execution_count": 37,
      "metadata": {
        "colab": {
          "base_uri": "https://localhost:8080/"
        },
        "id": "Wlj5jIfCnI6S",
        "outputId": "af8809dd-3719-4b27-c7c7-2364ed48b304"
      },
      "outputs": [
        {
          "name": "stdout",
          "output_type": "stream",
          "text": [
            "<class 'pandas.core.frame.DataFrame'>\n",
            "RangeIndex: 1 entries, 0 to 0\n",
            "Data columns (total 2 columns):\n",
            " #   Column      Non-Null Count  Dtype \n",
            "---  ------      --------------  ----- \n",
            " 0   patient_id  1 non-null      int64 \n",
            " 1   disease     1 non-null      object\n",
            "dtypes: int64(1), object(1)\n",
            "memory usage: 148.0+ bytes\n"
          ]
        }
      ],
      "source": [
        "c1 = pd.DataFrame({'patient_id':[101],\n",
        "                   'disease':['URTI']})\n",
        "c1.info()"
      ]
    },
    {
      "cell_type": "code",
      "execution_count": 38,
      "metadata": {
        "id": "soowHJ1zsY7y"
      },
      "outputs": [],
      "source": [
        "patient_demographic = pd.concat([patient_demographic,c1])"
      ]
    },
    {
      "cell_type": "code",
      "execution_count": 39,
      "metadata": {
        "colab": {
          "base_uri": "https://localhost:8080/"
        },
        "id": "Fg9n4SeVEpNr",
        "outputId": "e4f3da7a-1187-41f1-b8e7-929ab5baa50a"
      },
      "outputs": [
        {
          "data": {
            "text/plain": [
              "array([102, 103, 104, 105, 106, 107, 108, 109, 110, 111, 112, 113, 114,\n",
              "       115, 116, 117, 118, 119, 120, 121, 122, 123, 124, 125, 126, 127,\n",
              "       128, 129, 130, 131, 132, 133, 134, 135, 136, 137, 138, 139, 140,\n",
              "       141, 142, 143, 144, 145, 146, 147, 148, 149, 150, 151, 152, 153,\n",
              "       154, 155, 156, 157, 158, 159, 160, 161, 162, 163, 164, 165, 166,\n",
              "       167, 168, 169, 170, 171, 172, 173, 174, 175, 176, 177, 178, 179,\n",
              "       180, 181, 182, 183, 184, 185, 186, 187, 188, 189, 190, 191, 192,\n",
              "       193, 194, 195, 196, 197, 198, 199, 200, 201, 202, 203, 204, 205,\n",
              "       206, 207, 208, 209, 210, 211, 212, 213, 214, 215, 216, 217, 218,\n",
              "       219, 220, 221, 222, 223, 224, 225, 226, 101], dtype=int64)"
            ]
          },
          "execution_count": 39,
          "metadata": {},
          "output_type": "execute_result"
        }
      ],
      "source": [
        "patient_demographic['patient_id'].unique()"
      ]
    },
    {
      "cell_type": "code",
      "execution_count": 40,
      "metadata": {
        "id": "EdPJ8ZTSBMFm"
      },
      "outputs": [],
      "source": [
        "datay = datay.drop('patient_id_y',axis= 1)"
      ]
    },
    {
      "cell_type": "code",
      "execution_count": 41,
      "metadata": {
        "id": "_ohZXGEEBhHb"
      },
      "outputs": [],
      "source": [
        "datay.rename(columns = {'patient_id_x':'patient_id'}, inplace = True)"
      ]
    },
    {
      "cell_type": "code",
      "execution_count": 42,
      "metadata": {
        "colab": {
          "base_uri": "https://localhost:8080/",
          "height": 206
        },
        "id": "yLK-EvLfCYQC",
        "outputId": "10d74486-3a11-4222-d9e0-9bccaaa9b576"
      },
      "outputs": [
        {
          "data": {
            "text/html": [
              "<div>\n",
              "<style scoped>\n",
              "    .dataframe tbody tr th:only-of-type {\n",
              "        vertical-align: middle;\n",
              "    }\n",
              "\n",
              "    .dataframe tbody tr th {\n",
              "        vertical-align: top;\n",
              "    }\n",
              "\n",
              "    .dataframe thead th {\n",
              "        text-align: right;\n",
              "    }\n",
              "</style>\n",
              "<table border=\"1\" class=\"dataframe\">\n",
              "  <thead>\n",
              "    <tr style=\"text-align: right;\">\n",
              "      <th></th>\n",
              "      <th>patient_id</th>\n",
              "      <th>recording_index</th>\n",
              "      <th>chest_location</th>\n",
              "      <th>acquisition_mode</th>\n",
              "      <th>recording_equipment</th>\n",
              "      <th>filename</th>\n",
              "      <th>start</th>\n",
              "      <th>end</th>\n",
              "      <th>crackles</th>\n",
              "      <th>wheezes</th>\n",
              "    </tr>\n",
              "  </thead>\n",
              "  <tbody>\n",
              "    <tr>\n",
              "      <th>0</th>\n",
              "      <td>101</td>\n",
              "      <td>1b1</td>\n",
              "      <td>Al</td>\n",
              "      <td>sc</td>\n",
              "      <td>Meditron</td>\n",
              "      <td>101_1b1_Al_sc_Meditron</td>\n",
              "      <td>0.036</td>\n",
              "      <td>0.579</td>\n",
              "      <td>0</td>\n",
              "      <td>0</td>\n",
              "    </tr>\n",
              "    <tr>\n",
              "      <th>1</th>\n",
              "      <td>101</td>\n",
              "      <td>1b1</td>\n",
              "      <td>Al</td>\n",
              "      <td>sc</td>\n",
              "      <td>Meditron</td>\n",
              "      <td>101_1b1_Al_sc_Meditron</td>\n",
              "      <td>0.579</td>\n",
              "      <td>2.45</td>\n",
              "      <td>0</td>\n",
              "      <td>0</td>\n",
              "    </tr>\n",
              "    <tr>\n",
              "      <th>2</th>\n",
              "      <td>101</td>\n",
              "      <td>1b1</td>\n",
              "      <td>Al</td>\n",
              "      <td>sc</td>\n",
              "      <td>Meditron</td>\n",
              "      <td>101_1b1_Al_sc_Meditron</td>\n",
              "      <td>2.45</td>\n",
              "      <td>3.893</td>\n",
              "      <td>0</td>\n",
              "      <td>0</td>\n",
              "    </tr>\n",
              "    <tr>\n",
              "      <th>3</th>\n",
              "      <td>101</td>\n",
              "      <td>1b1</td>\n",
              "      <td>Al</td>\n",
              "      <td>sc</td>\n",
              "      <td>Meditron</td>\n",
              "      <td>101_1b1_Al_sc_Meditron</td>\n",
              "      <td>3.893</td>\n",
              "      <td>5.793</td>\n",
              "      <td>0</td>\n",
              "      <td>0</td>\n",
              "    </tr>\n",
              "    <tr>\n",
              "      <th>4</th>\n",
              "      <td>101</td>\n",
              "      <td>1b1</td>\n",
              "      <td>Al</td>\n",
              "      <td>sc</td>\n",
              "      <td>Meditron</td>\n",
              "      <td>101_1b1_Al_sc_Meditron</td>\n",
              "      <td>5.793</td>\n",
              "      <td>7.521</td>\n",
              "      <td>0</td>\n",
              "      <td>0</td>\n",
              "    </tr>\n",
              "  </tbody>\n",
              "</table>\n",
              "</div>"
            ],
            "text/plain": [
              "  patient_id recording_index chest_location acquisition_mode  \\\n",
              "0        101             1b1             Al               sc   \n",
              "1        101             1b1             Al               sc   \n",
              "2        101             1b1             Al               sc   \n",
              "3        101             1b1             Al               sc   \n",
              "4        101             1b1             Al               sc   \n",
              "\n",
              "  recording_equipment                filename  start    end crackles wheezes  \n",
              "0            Meditron  101_1b1_Al_sc_Meditron  0.036  0.579        0       0  \n",
              "1            Meditron  101_1b1_Al_sc_Meditron  0.579   2.45        0       0  \n",
              "2            Meditron  101_1b1_Al_sc_Meditron   2.45  3.893        0       0  \n",
              "3            Meditron  101_1b1_Al_sc_Meditron  3.893  5.793        0       0  \n",
              "4            Meditron  101_1b1_Al_sc_Meditron  5.793  7.521        0       0  "
            ]
          },
          "execution_count": 42,
          "metadata": {},
          "output_type": "execute_result"
        }
      ],
      "source": [
        "datay.head()"
      ]
    },
    {
      "cell_type": "code",
      "execution_count": 43,
      "metadata": {
        "id": "ByspQjvxCzFm"
      },
      "outputs": [],
      "source": [
        "daty = datay.convert_dtypes()"
      ]
    },
    {
      "cell_type": "code",
      "execution_count": 44,
      "metadata": {
        "colab": {
          "base_uri": "https://localhost:8080/"
        },
        "id": "EXgMf8m4C3jO",
        "outputId": "f712b1b2-c6e6-4b0c-deb9-393afceb4b62"
      },
      "outputs": [
        {
          "name": "stdout",
          "output_type": "stream",
          "text": [
            "<class 'pandas.core.frame.DataFrame'>\n",
            "RangeIndex: 6898 entries, 0 to 6897\n",
            "Data columns (total 10 columns):\n",
            " #   Column               Non-Null Count  Dtype \n",
            "---  ------               --------------  ----- \n",
            " 0   patient_id           6898 non-null   object\n",
            " 1   recording_index      6898 non-null   object\n",
            " 2   chest_location       6898 non-null   object\n",
            " 3   acquisition_mode     6898 non-null   object\n",
            " 4   recording_equipment  6898 non-null   object\n",
            " 5   filename             6898 non-null   object\n",
            " 6   start                6898 non-null   object\n",
            " 7   end                  6898 non-null   object\n",
            " 8   crackles             6898 non-null   object\n",
            " 9   wheezes              6898 non-null   object\n",
            "dtypes: object(10)\n",
            "memory usage: 539.0+ KB\n"
          ]
        }
      ],
      "source": [
        "datay.info()"
      ]
    },
    {
      "cell_type": "code",
      "execution_count": 45,
      "metadata": {
        "id": "yjnuuxAWDcHm"
      },
      "outputs": [],
      "source": [
        "datay['patient_id'] = datay['patient_id'].astype('int64')"
      ]
    },
    {
      "cell_type": "code",
      "execution_count": 46,
      "metadata": {
        "colab": {
          "base_uri": "https://localhost:8080/"
        },
        "id": "THdm8YUaCtsK",
        "outputId": "fd684196-c660-41fb-c4f6-2929514ed206"
      },
      "outputs": [
        {
          "data": {
            "text/plain": [
              "dtype('int64')"
            ]
          },
          "execution_count": 46,
          "metadata": {},
          "output_type": "execute_result"
        }
      ],
      "source": [
        "datay['patient_id'].dtype"
      ]
    },
    {
      "cell_type": "code",
      "execution_count": 47,
      "metadata": {
        "colab": {
          "base_uri": "https://localhost:8080/",
          "height": 81
        },
        "id": "Y_eb_tZmDG34",
        "outputId": "202f7b09-3d30-4cfb-ca4d-f8dfa5f6920c"
      },
      "outputs": [
        {
          "data": {
            "text/html": [
              "<div>\n",
              "<style scoped>\n",
              "    .dataframe tbody tr th:only-of-type {\n",
              "        vertical-align: middle;\n",
              "    }\n",
              "\n",
              "    .dataframe tbody tr th {\n",
              "        vertical-align: top;\n",
              "    }\n",
              "\n",
              "    .dataframe thead th {\n",
              "        text-align: right;\n",
              "    }\n",
              "</style>\n",
              "<table border=\"1\" class=\"dataframe\">\n",
              "  <thead>\n",
              "    <tr style=\"text-align: right;\">\n",
              "      <th></th>\n",
              "      <th>patient_id</th>\n",
              "      <th>disease</th>\n",
              "    </tr>\n",
              "  </thead>\n",
              "  <tbody>\n",
              "    <tr>\n",
              "      <th>0</th>\n",
              "      <td>101</td>\n",
              "      <td>URTI</td>\n",
              "    </tr>\n",
              "  </tbody>\n",
              "</table>\n",
              "</div>"
            ],
            "text/plain": [
              "   patient_id disease\n",
              "0         101    URTI"
            ]
          },
          "execution_count": 47,
          "metadata": {},
          "output_type": "execute_result"
        }
      ],
      "source": [
        "patient_demographic[patient_demographic['patient_id'] == 101]"
      ]
    },
    {
      "cell_type": "code",
      "execution_count": 48,
      "metadata": {
        "id": "PsA_KlbNMV6w"
      },
      "outputs": [],
      "source": [
        "datay['start'] = datay['start'].astype('float64')\n",
        "datay['end'] = datay['end'].astype('float64')\n",
        "datay['crackles'] = datay['crackles'].astype('int64')\n",
        "datay['wheezes'] = datay['wheezes'].astype('int64')"
      ]
    },
    {
      "cell_type": "code",
      "execution_count": 49,
      "metadata": {
        "colab": {
          "base_uri": "https://localhost:8080/"
        },
        "id": "seMTeJt6NJhW",
        "outputId": "f2c3eb40-ac73-4f92-dc98-6f8c3bfceb06"
      },
      "outputs": [
        {
          "name": "stdout",
          "output_type": "stream",
          "text": [
            "<class 'pandas.core.frame.DataFrame'>\n",
            "RangeIndex: 6898 entries, 0 to 6897\n",
            "Data columns (total 10 columns):\n",
            " #   Column               Non-Null Count  Dtype  \n",
            "---  ------               --------------  -----  \n",
            " 0   patient_id           6898 non-null   int64  \n",
            " 1   recording_index      6898 non-null   object \n",
            " 2   chest_location       6898 non-null   object \n",
            " 3   acquisition_mode     6898 non-null   object \n",
            " 4   recording_equipment  6898 non-null   object \n",
            " 5   filename             6898 non-null   object \n",
            " 6   start                6898 non-null   float64\n",
            " 7   end                  6898 non-null   float64\n",
            " 8   crackles             6898 non-null   int64  \n",
            " 9   wheezes              6898 non-null   int64  \n",
            "dtypes: float64(2), int64(3), object(5)\n",
            "memory usage: 539.0+ KB\n"
          ]
        }
      ],
      "source": [
        "datay.info()"
      ]
    },
    {
      "cell_type": "code",
      "execution_count": 50,
      "metadata": {
        "id": "4F-ozSdj87UQ"
      },
      "outputs": [],
      "source": [
        "def recording_to_clips(root, start, end, sr = 44100):\n",
        "\n",
        "  maximum_index = len(root)\n",
        "  start_index = min(int(start*sr), maximum_index)\n",
        "  end_index = min(int(end*sr), maximum_index)\n",
        "  return root[start_index:end_index]"
      ]
    },
    {
      "cell_type": "code",
      "execution_count": 63,
      "metadata": {
        "id": "ERdEE5UCGh3z"
      },
      "outputs": [],
      "source": [
        "os.makedirs('/content/sample_data/processed_clips')"
      ]
    },
    {
      "cell_type": "code",
      "execution_count": 65,
      "metadata": {
        "colab": {
          "base_uri": "https://localhost:8080/"
        },
        "id": "CVe0rfAiG8YT",
        "outputId": "c9e04671-95a5-4ffc-9289-218725bd5817"
      },
      "outputs": [
        {
          "name": "stderr",
          "output_type": "stream",
          "text": [
            "0it [00:00, ?it/s]"
          ]
        },
        {
          "name": "stderr",
          "output_type": "stream",
          "text": [
            "6898it [04:10, 27.53it/s]\n"
          ]
        }
      ],
      "source": [
        "i = 0\n",
        "n = 0\n",
        "for index, rows in tqdm.tqdm(datay.iterrows()):\n",
        "  max_length = 6\n",
        "  start_time = rows['start']\n",
        "  end_time = rows['end']\n",
        "  filename = rows['filename']\n",
        "\n",
        "  if end_time - start_time > max_length:\n",
        "    end = start_time + max_length\n",
        "\n",
        "  audio_file_path = directory + '/' + filename + '.wav'\n",
        "\n",
        "  if index > 0:\n",
        "    if datay.iloc[index-1]['filename'] == filename:\n",
        "      i += 1\n",
        "    else:\n",
        "      i = 0\n",
        "\n",
        "  filename = filename + '_' + str(i) + '.wav'\n",
        "  save_path = '/content/sample_data/processed_clips/'+filename\n",
        "  n += 1\n",
        "\n",
        "  audio, sample_rate = librosa.load(audio_file_path)\n",
        "  sample = recording_to_clips(audio,start_time,end_time,sample_rate)\n",
        "\n",
        "  required_length = max( 6*sample_rate, len(sample))\n",
        "  padded_data = librosa.util.pad_center(sample,size = required_length)\n",
        "\n",
        "  sf.write(file = save_path,data = padded_data, samplerate = sample_rate)\n",
        "\n",
        "  # print('total files processed:', n)"
      ]
    },
    {
      "cell_type": "code",
      "execution_count": 66,
      "metadata": {
        "id": "PdBEBCQbGz8B"
      },
      "outputs": [],
      "source": [
        "path = '/content/sample_data/processed_clips/'\n"
      ]
    },
    {
      "cell_type": "code",
      "execution_count": 67,
      "metadata": {
        "colab": {
          "base_uri": "https://localhost:8080/",
          "height": 423
        },
        "id": "53lxd4uDUO72",
        "outputId": "f5dc3e65-ed12-45d8-c160-059d6c62bb86"
      },
      "outputs": [
        {
          "data": {
            "text/html": [
              "<div>\n",
              "<style scoped>\n",
              "    .dataframe tbody tr th:only-of-type {\n",
              "        vertical-align: middle;\n",
              "    }\n",
              "\n",
              "    .dataframe tbody tr th {\n",
              "        vertical-align: top;\n",
              "    }\n",
              "\n",
              "    .dataframe thead th {\n",
              "        text-align: right;\n",
              "    }\n",
              "</style>\n",
              "<table border=\"1\" class=\"dataframe\">\n",
              "  <thead>\n",
              "    <tr style=\"text-align: right;\">\n",
              "      <th></th>\n",
              "      <th>patient_id</th>\n",
              "      <th>filename</th>\n",
              "    </tr>\n",
              "  </thead>\n",
              "  <tbody>\n",
              "    <tr>\n",
              "      <th>0</th>\n",
              "      <td>101</td>\n",
              "      <td>101_1b1_Al_sc_Meditron_0.wav</td>\n",
              "    </tr>\n",
              "    <tr>\n",
              "      <th>1</th>\n",
              "      <td>101</td>\n",
              "      <td>101_1b1_Al_sc_Meditron_1.wav</td>\n",
              "    </tr>\n",
              "    <tr>\n",
              "      <th>2</th>\n",
              "      <td>101</td>\n",
              "      <td>101_1b1_Al_sc_Meditron_10.wav</td>\n",
              "    </tr>\n",
              "    <tr>\n",
              "      <th>3</th>\n",
              "      <td>101</td>\n",
              "      <td>101_1b1_Al_sc_Meditron_11.wav</td>\n",
              "    </tr>\n",
              "    <tr>\n",
              "      <th>4</th>\n",
              "      <td>101</td>\n",
              "      <td>101_1b1_Al_sc_Meditron_2.wav</td>\n",
              "    </tr>\n",
              "    <tr>\n",
              "      <th>...</th>\n",
              "      <td>...</td>\n",
              "      <td>...</td>\n",
              "    </tr>\n",
              "    <tr>\n",
              "      <th>6893</th>\n",
              "      <td>226</td>\n",
              "      <td>226_1b1_Pl_sc_LittC2SE_5.wav</td>\n",
              "    </tr>\n",
              "    <tr>\n",
              "      <th>6894</th>\n",
              "      <td>226</td>\n",
              "      <td>226_1b1_Pl_sc_LittC2SE_6.wav</td>\n",
              "    </tr>\n",
              "    <tr>\n",
              "      <th>6895</th>\n",
              "      <td>226</td>\n",
              "      <td>226_1b1_Pl_sc_LittC2SE_7.wav</td>\n",
              "    </tr>\n",
              "    <tr>\n",
              "      <th>6896</th>\n",
              "      <td>226</td>\n",
              "      <td>226_1b1_Pl_sc_LittC2SE_8.wav</td>\n",
              "    </tr>\n",
              "    <tr>\n",
              "      <th>6897</th>\n",
              "      <td>226</td>\n",
              "      <td>226_1b1_Pl_sc_LittC2SE_9.wav</td>\n",
              "    </tr>\n",
              "  </tbody>\n",
              "</table>\n",
              "<p>6898 rows × 2 columns</p>\n",
              "</div>"
            ],
            "text/plain": [
              "     patient_id                       filename\n",
              "0           101   101_1b1_Al_sc_Meditron_0.wav\n",
              "1           101   101_1b1_Al_sc_Meditron_1.wav\n",
              "2           101  101_1b1_Al_sc_Meditron_10.wav\n",
              "3           101  101_1b1_Al_sc_Meditron_11.wav\n",
              "4           101   101_1b1_Al_sc_Meditron_2.wav\n",
              "...         ...                            ...\n",
              "6893        226   226_1b1_Pl_sc_LittC2SE_5.wav\n",
              "6894        226   226_1b1_Pl_sc_LittC2SE_6.wav\n",
              "6895        226   226_1b1_Pl_sc_LittC2SE_7.wav\n",
              "6896        226   226_1b1_Pl_sc_LittC2SE_8.wav\n",
              "6897        226   226_1b1_Pl_sc_LittC2SE_9.wav\n",
              "\n",
              "[6898 rows x 2 columns]"
            ]
          },
          "execution_count": 67,
          "metadata": {},
          "output_type": "execute_result"
        }
      ],
      "source": [
        "lll = [[s.split(\"_\")[0],s] for s in os.listdir(path = path)]\n",
        "patient_data = pd.DataFrame(lll,columns = ['patient_id','filename'])\n",
        "patient_data"
      ]
    },
    {
      "cell_type": "code",
      "execution_count": 68,
      "metadata": {
        "id": "87r_Bj7WRIgN"
      },
      "outputs": [],
      "source": [
        "patient_data['patient_id'] = patient_data['patient_id'].astype('int64')"
      ]
    },
    {
      "cell_type": "code",
      "execution_count": 69,
      "metadata": {
        "colab": {
          "base_uri": "https://localhost:8080/"
        },
        "id": "Qf8845-TSIWA",
        "outputId": "dc4d1dcb-8165-4ac5-e2b2-dcef455834d9"
      },
      "outputs": [
        {
          "name": "stdout",
          "output_type": "stream",
          "text": [
            "<class 'pandas.core.frame.DataFrame'>\n",
            "RangeIndex: 6898 entries, 0 to 6897\n",
            "Data columns (total 2 columns):\n",
            " #   Column      Non-Null Count  Dtype \n",
            "---  ------      --------------  ----- \n",
            " 0   patient_id  6898 non-null   int64 \n",
            " 1   filename    6898 non-null   object\n",
            "dtypes: int64(1), object(1)\n",
            "memory usage: 107.9+ KB\n"
          ]
        }
      ],
      "source": [
        "patient_data.info()"
      ]
    },
    {
      "cell_type": "code",
      "execution_count": 70,
      "metadata": {
        "colab": {
          "base_uri": "https://localhost:8080/",
          "height": 423
        },
        "id": "wVbOERRBS_ot",
        "outputId": "cb618f94-b4ba-457b-aa72-91b4bcb6bcac"
      },
      "outputs": [
        {
          "data": {
            "text/html": [
              "<div>\n",
              "<style scoped>\n",
              "    .dataframe tbody tr th:only-of-type {\n",
              "        vertical-align: middle;\n",
              "    }\n",
              "\n",
              "    .dataframe tbody tr th {\n",
              "        vertical-align: top;\n",
              "    }\n",
              "\n",
              "    .dataframe thead th {\n",
              "        text-align: right;\n",
              "    }\n",
              "</style>\n",
              "<table border=\"1\" class=\"dataframe\">\n",
              "  <thead>\n",
              "    <tr style=\"text-align: right;\">\n",
              "      <th></th>\n",
              "      <th>patient_id</th>\n",
              "      <th>filename</th>\n",
              "      <th>disease</th>\n",
              "    </tr>\n",
              "  </thead>\n",
              "  <tbody>\n",
              "    <tr>\n",
              "      <th>0</th>\n",
              "      <td>101</td>\n",
              "      <td>101_1b1_Al_sc_Meditron_0.wav</td>\n",
              "      <td>URTI</td>\n",
              "    </tr>\n",
              "    <tr>\n",
              "      <th>1</th>\n",
              "      <td>101</td>\n",
              "      <td>101_1b1_Al_sc_Meditron_1.wav</td>\n",
              "      <td>URTI</td>\n",
              "    </tr>\n",
              "    <tr>\n",
              "      <th>2</th>\n",
              "      <td>101</td>\n",
              "      <td>101_1b1_Al_sc_Meditron_10.wav</td>\n",
              "      <td>URTI</td>\n",
              "    </tr>\n",
              "    <tr>\n",
              "      <th>3</th>\n",
              "      <td>101</td>\n",
              "      <td>101_1b1_Al_sc_Meditron_11.wav</td>\n",
              "      <td>URTI</td>\n",
              "    </tr>\n",
              "    <tr>\n",
              "      <th>4</th>\n",
              "      <td>101</td>\n",
              "      <td>101_1b1_Al_sc_Meditron_2.wav</td>\n",
              "      <td>URTI</td>\n",
              "    </tr>\n",
              "    <tr>\n",
              "      <th>...</th>\n",
              "      <td>...</td>\n",
              "      <td>...</td>\n",
              "      <td>...</td>\n",
              "    </tr>\n",
              "    <tr>\n",
              "      <th>6893</th>\n",
              "      <td>226</td>\n",
              "      <td>226_1b1_Pl_sc_LittC2SE_5.wav</td>\n",
              "      <td>Pneumonia</td>\n",
              "    </tr>\n",
              "    <tr>\n",
              "      <th>6894</th>\n",
              "      <td>226</td>\n",
              "      <td>226_1b1_Pl_sc_LittC2SE_6.wav</td>\n",
              "      <td>Pneumonia</td>\n",
              "    </tr>\n",
              "    <tr>\n",
              "      <th>6895</th>\n",
              "      <td>226</td>\n",
              "      <td>226_1b1_Pl_sc_LittC2SE_7.wav</td>\n",
              "      <td>Pneumonia</td>\n",
              "    </tr>\n",
              "    <tr>\n",
              "      <th>6896</th>\n",
              "      <td>226</td>\n",
              "      <td>226_1b1_Pl_sc_LittC2SE_8.wav</td>\n",
              "      <td>Pneumonia</td>\n",
              "    </tr>\n",
              "    <tr>\n",
              "      <th>6897</th>\n",
              "      <td>226</td>\n",
              "      <td>226_1b1_Pl_sc_LittC2SE_9.wav</td>\n",
              "      <td>Pneumonia</td>\n",
              "    </tr>\n",
              "  </tbody>\n",
              "</table>\n",
              "<p>6898 rows × 3 columns</p>\n",
              "</div>"
            ],
            "text/plain": [
              "      patient_id                       filename    disease\n",
              "0            101   101_1b1_Al_sc_Meditron_0.wav       URTI\n",
              "1            101   101_1b1_Al_sc_Meditron_1.wav       URTI\n",
              "2            101  101_1b1_Al_sc_Meditron_10.wav       URTI\n",
              "3            101  101_1b1_Al_sc_Meditron_11.wav       URTI\n",
              "4            101   101_1b1_Al_sc_Meditron_2.wav       URTI\n",
              "...          ...                            ...        ...\n",
              "6893         226   226_1b1_Pl_sc_LittC2SE_5.wav  Pneumonia\n",
              "6894         226   226_1b1_Pl_sc_LittC2SE_6.wav  Pneumonia\n",
              "6895         226   226_1b1_Pl_sc_LittC2SE_7.wav  Pneumonia\n",
              "6896         226   226_1b1_Pl_sc_LittC2SE_8.wav  Pneumonia\n",
              "6897         226   226_1b1_Pl_sc_LittC2SE_9.wav  Pneumonia\n",
              "\n",
              "[6898 rows x 3 columns]"
            ]
          },
          "execution_count": 70,
          "metadata": {},
          "output_type": "execute_result"
        }
      ],
      "source": [
        "final_data = patient_data.merge(patient_demographic, how = 'outer', on = 'patient_id')\n",
        "final_data"
      ]
    },
    {
      "cell_type": "code",
      "execution_count": 71,
      "metadata": {
        "colab": {
          "base_uri": "https://localhost:8080/"
        },
        "id": "4L3eumNUVt_Q",
        "outputId": "3305ca64-9e71-4bd0-fc26-af672a53cc4a"
      },
      "outputs": [
        {
          "data": {
            "text/plain": [
              "patient_id  disease       \n",
              "130         COPD              507\n",
              "107         COPD              231\n",
              "158         COPD              217\n",
              "154         COPD              208\n",
              "178         COPD              208\n",
              "                             ... \n",
              "196         Bronchiectasis      6\n",
              "189         COPD                5\n",
              "128         COPD                5\n",
              "209         Healthy             4\n",
              "190         URTI                4\n",
              "Name: count, Length: 126, dtype: int64"
            ]
          },
          "execution_count": 71,
          "metadata": {},
          "output_type": "execute_result"
        }
      ],
      "source": [
        "final_data[['patient_id','disease']].value_counts()"
      ]
    },
    {
      "cell_type": "code",
      "execution_count": 72,
      "metadata": {
        "id": "7SL2Yfly2gS8"
      },
      "outputs": [],
      "source": [
        "import sklearn as sk\n",
        "from sklearn.model_selection import train_test_split"
      ]
    },
    {
      "cell_type": "code",
      "execution_count": 73,
      "metadata": {
        "id": "h_EcKvaNV3Er"
      },
      "outputs": [],
      "source": [
        "X_train,X_test, Y_train, Y_test = train_test_split(final_data, final_data['disease'],stratify  = final_data['disease'], random_state = 43, test_size = 0.25)"
      ]
    },
    {
      "cell_type": "code",
      "execution_count": 74,
      "metadata": {
        "colab": {
          "base_uri": "https://localhost:8080/"
        },
        "id": "GkdfMsvD2d9V",
        "outputId": "3a228c48-cc6a-4f46-cfaf-63a586e97f70"
      },
      "outputs": [
        {
          "name": "stdout",
          "output_type": "stream",
          "text": [
            "(5173, 3)\n",
            "(5173,)\n",
            "(1725, 3)\n",
            "(1725,)\n"
          ]
        }
      ],
      "source": [
        "print(X_train.shape)\n",
        "print(Y_train.shape)\n",
        "print(X_test.shape)\n",
        "print(Y_test.shape)"
      ]
    },
    {
      "cell_type": "code",
      "execution_count": 75,
      "metadata": {
        "colab": {
          "base_uri": "https://localhost:8080/",
          "height": 206
        },
        "id": "rhqc8Ey926jP",
        "outputId": "7cd20b67-dc4e-4539-bcb1-291fa5dab859"
      },
      "outputs": [
        {
          "data": {
            "text/html": [
              "<div>\n",
              "<style scoped>\n",
              "    .dataframe tbody tr th:only-of-type {\n",
              "        vertical-align: middle;\n",
              "    }\n",
              "\n",
              "    .dataframe tbody tr th {\n",
              "        vertical-align: top;\n",
              "    }\n",
              "\n",
              "    .dataframe thead th {\n",
              "        text-align: right;\n",
              "    }\n",
              "</style>\n",
              "<table border=\"1\" class=\"dataframe\">\n",
              "  <thead>\n",
              "    <tr style=\"text-align: right;\">\n",
              "      <th></th>\n",
              "      <th>patient_id</th>\n",
              "      <th>filename</th>\n",
              "      <th>disease</th>\n",
              "    </tr>\n",
              "  </thead>\n",
              "  <tbody>\n",
              "    <tr>\n",
              "      <th>157</th>\n",
              "      <td>107</td>\n",
              "      <td>107_2b3_Pl_mc_AKGC417L_2.wav</td>\n",
              "      <td>COPD</td>\n",
              "    </tr>\n",
              "    <tr>\n",
              "      <th>4901</th>\n",
              "      <td>186</td>\n",
              "      <td>186_2b3_Al_mc_AKGC417L_4.wav</td>\n",
              "      <td>COPD</td>\n",
              "    </tr>\n",
              "    <tr>\n",
              "      <th>6225</th>\n",
              "      <td>211</td>\n",
              "      <td>211_1p2_Ar_mc_AKGC417L_0.wav</td>\n",
              "      <td>COPD</td>\n",
              "    </tr>\n",
              "    <tr>\n",
              "      <th>6461</th>\n",
              "      <td>213</td>\n",
              "      <td>213_2p2_Pr_mc_AKGC417L_3.wav</td>\n",
              "      <td>COPD</td>\n",
              "    </tr>\n",
              "    <tr>\n",
              "      <th>294</th>\n",
              "      <td>107</td>\n",
              "      <td>107_3p2_Al_mc_AKGC417L_3.wav</td>\n",
              "      <td>COPD</td>\n",
              "    </tr>\n",
              "  </tbody>\n",
              "</table>\n",
              "</div>"
            ],
            "text/plain": [
              "      patient_id                      filename disease\n",
              "157          107  107_2b3_Pl_mc_AKGC417L_2.wav    COPD\n",
              "4901         186  186_2b3_Al_mc_AKGC417L_4.wav    COPD\n",
              "6225         211  211_1p2_Ar_mc_AKGC417L_0.wav    COPD\n",
              "6461         213  213_2p2_Pr_mc_AKGC417L_3.wav    COPD\n",
              "294          107  107_3p2_Al_mc_AKGC417L_3.wav    COPD"
            ]
          },
          "execution_count": 75,
          "metadata": {},
          "output_type": "execute_result"
        }
      ],
      "source": [
        "X_train.head()"
      ]
    },
    {
      "cell_type": "code",
      "execution_count": null,
      "metadata": {
        "id": "eurgSh0fAl39"
      },
      "outputs": [],
      "source": []
    },
    {
      "cell_type": "code",
      "execution_count": 76,
      "metadata": {
        "id": "hOplIY6sUHSA"
      },
      "outputs": [],
      "source": [
        "from sklearn.preprocessing import LabelEncoder\n",
        "\n",
        "le = LabelEncoder()\n",
        "\n",
        "Y_train = le.fit_transform(Y_train)\n",
        "Y_test = le.fit_transform(Y_test)"
      ]
    },
    {
      "cell_type": "code",
      "execution_count": null,
      "metadata": {
        "id": "3_7Dgp_ZU2uk"
      },
      "outputs": [],
      "source": []
    },
    {
      "cell_type": "code",
      "execution_count": 77,
      "metadata": {
        "id": "JpVv6Iy9HZEl"
      },
      "outputs": [],
      "source": [
        "def feature_shape(feature):\n",
        "  ushape = [np.shape(sub_list) for sub_list in feature]\n",
        "  return set(ushape)\n",
        "\n",
        "\n",
        "def feature_padding(feature):\n",
        "  min_shape = min(sub_array.shape for sub_list in feature for sub_array in sub_list)\n",
        "  print(min_shape, type(min_shape))\n",
        "  # Padding each subarray to the minimum shape with zeros\n",
        "  feature_padded = [[sub_array[:min_shape[0]] for sub_array in sub_list] for sub_list in feature]\n",
        "  return feature_padded\n",
        "\n"
      ]
    },
    {
      "cell_type": "code",
      "execution_count": null,
      "metadata": {
        "id": "DikUmZq7RnAI"
      },
      "outputs": [],
      "source": []
    },
    {
      "cell_type": "code",
      "execution_count": 78,
      "metadata": {
        "id": "rS2UOFwiynHq"
      },
      "outputs": [],
      "source": [
        "def get_features_from_audio(path):\n",
        "    soundArr,sample_rate= librosa.load(path)\n",
        "    mfcc=librosa.feature.mfcc(y=soundArr,sr=sample_rate)\n",
        "    cstft=librosa.feature.chroma_stft(y=soundArr,sr=sample_rate)\n",
        "    mSpec=librosa.feature.melspectrogram(y=soundArr,sr=sample_rate)\n",
        "    tone = librosa.feature.tonnetz(y=soundArr,sr=sample_rate)\n",
        "    specCen = librosa.feature.spectral_centroid(y=soundArr,sr=sample_rate)\n",
        "\n",
        "    return mfcc,cstft,mSpec,tone, specCen"
      ]
    },
    {
      "cell_type": "code",
      "execution_count": 79,
      "metadata": {
        "colab": {
          "base_uri": "https://localhost:8080/"
        },
        "id": "JpjE7AtJ2g16",
        "outputId": "351ad05c-942b-4fa7-c1de-10aaf09a63a2"
      },
      "outputs": [
        {
          "name": "stderr",
          "output_type": "stream",
          "text": [
            "2it [00:01,  1.45it/s]c:\\Users\\mahii\\AppData\\Local\\Programs\\Python\\Python311\\Lib\\site-packages\\librosa\\core\\pitch.py:101: UserWarning: Trying to estimate tuning from empty frequency set.\n",
            "  return pitch_tuning(\n",
            "1725it [09:13,  3.12it/s]\n"
          ]
        }
      ],
      "source": [
        "root = '/content/sample_data/processed_clips/'\n",
        "mfcc,cstft,mSpec=[],[],[]\n",
        "\n",
        "for idx,row in tqdm.tqdm(X_test.iterrows()):\n",
        "    path=root + row['filename']\n",
        "    a,b,c,d,e=get_features_from_audio(path)\n",
        "    mfcc.append(a)\n",
        "    cstft.append(b)\n",
        "    mSpec.append(c)"
      ]
    },
    {
      "cell_type": "code",
      "execution_count": 80,
      "metadata": {
        "colab": {
          "base_uri": "https://localhost:8080/"
        },
        "id": "3nd_HnYe5h9I",
        "outputId": "61dee23b-10a9-4af1-8ce5-67815003a336"
      },
      "outputs": [
        {
          "name": "stdout",
          "output_type": "stream",
          "text": [
            "{(20, 377), (20, 267), (20, 276), (20, 697), (20, 288), (20, 315), (20, 260), (20, 263), (20, 269), (20, 272), (20, 336), (20, 278), (20, 284), (20, 348), (20, 287), (20, 259), (20, 274), (20, 338), (20, 277), (20, 356)}\n"
          ]
        }
      ],
      "source": [
        "print(feature_shape(mfcc))"
      ]
    },
    {
      "cell_type": "code",
      "execution_count": 81,
      "metadata": {
        "colab": {
          "base_uri": "https://localhost:8080/"
        },
        "id": "6qBFr0Iv5eSI",
        "outputId": "95b507d3-32fe-4a24-9951-f62ffa73029c"
      },
      "outputs": [
        {
          "name": "stdout",
          "output_type": "stream",
          "text": [
            "{(12, 315), (12, 260), (12, 263), (12, 272), (12, 269), (12, 336), (12, 278), (12, 284), (12, 348), (12, 287), (12, 259), (12, 274), (12, 338), (12, 277), (12, 356), (12, 377), (12, 267), (12, 697), (12, 276), (12, 288)}\n"
          ]
        }
      ],
      "source": [
        "print(feature_shape(cstft))"
      ]
    },
    {
      "cell_type": "code",
      "execution_count": 82,
      "metadata": {
        "colab": {
          "base_uri": "https://localhost:8080/"
        },
        "id": "G9DY1Iue5wsM",
        "outputId": "8de4c515-6fb7-49f4-8b70-c2dd7a3f2f3c"
      },
      "outputs": [
        {
          "name": "stdout",
          "output_type": "stream",
          "text": [
            "{(128, 377), (128, 267), (128, 697), (128, 276), (128, 288), (128, 315), (128, 260), (128, 263), (128, 269), (128, 272), (128, 278), (128, 336), (128, 287), (128, 284), (128, 348), (128, 259), (128, 274), (128, 338), (128, 277), (128, 356)}\n"
          ]
        }
      ],
      "source": [
        "print(feature_shape(mSpec))"
      ]
    },
    {
      "cell_type": "code",
      "execution_count": 83,
      "metadata": {
        "colab": {
          "base_uri": "https://localhost:8080/"
        },
        "id": "4HO02YJw54sE",
        "outputId": "d720a123-18b4-443a-bdeb-a3eeea977d8e"
      },
      "outputs": [
        {
          "name": "stdout",
          "output_type": "stream",
          "text": [
            "(259,) <class 'tuple'>\n"
          ]
        }
      ],
      "source": [
        "mfcc_padded = feature_padding(mfcc)"
      ]
    },
    {
      "cell_type": "code",
      "execution_count": 84,
      "metadata": {
        "colab": {
          "base_uri": "https://localhost:8080/"
        },
        "id": "BEBW0rUO6Lge",
        "outputId": "f91d85c8-0809-422c-849b-666034a139d3"
      },
      "outputs": [
        {
          "name": "stdout",
          "output_type": "stream",
          "text": [
            "(259,) <class 'tuple'>\n"
          ]
        }
      ],
      "source": [
        "cstft_padded = feature_padding(cstft)"
      ]
    },
    {
      "cell_type": "code",
      "execution_count": 85,
      "metadata": {
        "colab": {
          "base_uri": "https://localhost:8080/"
        },
        "id": "_7sMnBoU6L1X",
        "outputId": "c64d855b-5cb4-42db-a205-032fc3bbd6c8"
      },
      "outputs": [
        {
          "name": "stdout",
          "output_type": "stream",
          "text": [
            "(259,) <class 'tuple'>\n"
          ]
        }
      ],
      "source": [
        "mSpec_padded = feature_padding(mSpec)"
      ]
    },
    {
      "cell_type": "code",
      "execution_count": 86,
      "metadata": {
        "colab": {
          "base_uri": "https://localhost:8080/"
        },
        "id": "TH3_T9e22gcc",
        "outputId": "ac9952eb-4210-4f95-c4b3-bdab6c5936ba"
      },
      "outputs": [
        {
          "name": "stdout",
          "output_type": "stream",
          "text": [
            "mfcc: (1725, 20, 259)\n",
            "cstft: (1725, 12, 259)\n",
            "mSpec: (1725, 128, 259)\n"
          ]
        }
      ],
      "source": [
        "mfcc_test = np.array(mfcc_padded)\n",
        "cstft_test = np.array(cstft_padded)\n",
        "mSpec_test = np.array(mSpec_padded)\n",
        "\n",
        "print(f\"mfcc: {mfcc_test.shape}\")\n",
        "print(f\"cstft: {cstft_test.shape}\")\n",
        "print(f\"mSpec: {mSpec_test.shape}\")"
      ]
    },
    {
      "cell_type": "code",
      "execution_count": 87,
      "metadata": {
        "colab": {
          "base_uri": "https://localhost:8080/"
        },
        "id": "ebsrC1a7P53l",
        "outputId": "de3e91f5-d1d4-4b41-8286-19b5928e3dde"
      },
      "outputs": [
        {
          "name": "stderr",
          "output_type": "stream",
          "text": [
            "5173it [22:32,  3.83it/s]\n"
          ]
        }
      ],
      "source": [
        "root = '/content/sample_data/processed_clips/'\n",
        "mfcc,cstft,mSpec=[],[],[]\n",
        "\n",
        "for idx,row in tqdm.tqdm(X_train.iterrows()):\n",
        "    path=root + row['filename']\n",
        "    a,b,c,d,e=get_features_from_audio(path)\n",
        "    mfcc.append(a)\n",
        "    cstft.append(b)\n",
        "    mSpec.append(c)\n",
        "\n",
        "\n"
      ]
    },
    {
      "cell_type": "code",
      "execution_count": 88,
      "metadata": {
        "id": "kliVVNKCQ1di"
      },
      "outputs": [
        {
          "name": "stdout",
          "output_type": "stream",
          "text": [
            "{(20, 304), (20, 371), (20, 328), (20, 267), (20, 264), (20, 270), (20, 276), (20, 273), (20, 288), (20, 407), (20, 285), (20, 300), (20, 483), (20, 303), (20, 428), (20, 370), (20, 309), (20, 315), (20, 321), (20, 260), (20, 263), (20, 269), (20, 397), (20, 281), (20, 278), (20, 287), (20, 351), (20, 357), (20, 302), (20, 299), (20, 314), (20, 311), (20, 317), (20, 375), (20, 262), (20, 259), (20, 329), (20, 268), (20, 274), (20, 338), (20, 277), (20, 286), (20, 295), (20, 353), (20, 362), (20, 301)}\n"
          ]
        }
      ],
      "source": [
        "mfcc_shape = feature_shape(mfcc)\n",
        "print(mfcc_shape)"
      ]
    },
    {
      "cell_type": "code",
      "execution_count": 89,
      "metadata": {
        "id": "kBlhA1ekMaIj"
      },
      "outputs": [
        {
          "name": "stdout",
          "output_type": "stream",
          "text": [
            "{(12, 483), (12, 303), (12, 428), (12, 370), (12, 309), (12, 315), (12, 260), (12, 263), (12, 321), (12, 397), (12, 269), (12, 281), (12, 278), (12, 287), (12, 351), (12, 357), (12, 299), (12, 302), (12, 311), (12, 317), (12, 375), (12, 262), (12, 314), (12, 259), (12, 329), (12, 268), (12, 274), (12, 338), (12, 277), (12, 286), (12, 353), (12, 362), (12, 301), (12, 295), (12, 304), (12, 371), (12, 267), (12, 264), (12, 270), (12, 328), (12, 273), (12, 276), (12, 407), (12, 285), (12, 288), (12, 300)}\n"
          ]
        }
      ],
      "source": [
        "cstft_shape = feature_shape(cstft)\n",
        "print(cstft_shape)"
      ]
    },
    {
      "cell_type": "code",
      "execution_count": 90,
      "metadata": {
        "id": "diJTXD12McwU"
      },
      "outputs": [
        {
          "name": "stdout",
          "output_type": "stream",
          "text": [
            "{(128, 264), (128, 328), (128, 267), (128, 273), (128, 270), (128, 276), (128, 285), (128, 288), (128, 407), (128, 300), (128, 370), (128, 309), (128, 428), (128, 483), (128, 303), (128, 315), (128, 321), (128, 260), (128, 263), (128, 269), (128, 278), (128, 397), (128, 281), (128, 287), (128, 351), (128, 299), (128, 357), (128, 302), (128, 311), (128, 375), (128, 314), (128, 259), (128, 317), (128, 262), (128, 329), (128, 268), (128, 274), (128, 338), (128, 277), (128, 286), (128, 295), (128, 353), (128, 304), (128, 362), (128, 301), (128, 371)}\n"
          ]
        }
      ],
      "source": [
        "mspec = feature_shape(mSpec)\n",
        "print(mspec)"
      ]
    },
    {
      "cell_type": "code",
      "execution_count": 91,
      "metadata": {
        "id": "Th3_IkRaRIQr"
      },
      "outputs": [
        {
          "name": "stdout",
          "output_type": "stream",
          "text": [
            "(259,) <class 'tuple'>\n",
            "(259,) <class 'tuple'>\n",
            "(259,) <class 'tuple'>\n"
          ]
        }
      ],
      "source": [
        "mfcc_padded = feature_padding(mfcc)\n",
        "cstft_padded = feature_padding(cstft)\n",
        "mSpec_padded = feature_padding(mSpec)"
      ]
    },
    {
      "cell_type": "code",
      "execution_count": 92,
      "metadata": {
        "id": "Qla1AbjHRk13"
      },
      "outputs": [
        {
          "name": "stdout",
          "output_type": "stream",
          "text": [
            "(5173, 20, 259)\n",
            "(5173, 12, 259)\n",
            "(5173, 128, 259)\n"
          ]
        }
      ],
      "source": [
        "mfcc_train = np.array(mfcc_padded)\n",
        "cstft_train = np.array(cstft_padded)\n",
        "mSpec_train = np.array(mSpec_padded)\n",
        "\n",
        "print(mfcc_train.shape)\n",
        "print(cstft_train.shape)\n",
        "print(mSpec_train.shape)"
      ]
    },
    {
      "cell_type": "code",
      "execution_count": 93,
      "metadata": {
        "id": "2hBvFxlZR0g4"
      },
      "outputs": [],
      "source": [
        "import tensorflow as tf\n",
        "from tensorflow import keras\n",
        "import seaborn as sns\n",
        "import matplotlib.pyplot as plt"
      ]
    },
    {
      "cell_type": "code",
      "execution_count": 94,
      "metadata": {
        "id": "SbnOVjkuVnEC"
      },
      "outputs": [],
      "source": [
        "my_callbacks = [\n",
        "    tf.keras.callbacks.EarlyStopping(\n",
        "    monitor=\"val_loss\",\n",
        "    patience=5,\n",
        "    verbose=1,\n",
        "),\n",
        "    tf.keras.callbacks.ReduceLROnPlateau(\n",
        "    monitor=\"val_loss\",\n",
        "    factor=0.1,\n",
        "    patience=5,\n",
        "    verbose=1,\n",
        "    mode=\"min\",\n",
        "    min_lr=0.00001,\n",
        ")\n",
        "]"
      ]
    },
    {
      "cell_type": "code",
      "execution_count": 95,
      "metadata": {
        "id": "81CqwV0AgwwX"
      },
      "outputs": [
        {
          "name": "stderr",
          "output_type": "stream",
          "text": [
            "C:\\Users\\mahii\\AppData\\Local\\Temp\\ipykernel_3680\\237117300.py:1: FutureWarning: \n",
            "\n",
            "Passing `palette` without assigning `hue` is deprecated and will be removed in v0.14.0. Assign the `x` variable to `hue` and set `legend=False` for the same effect.\n",
            "\n",
            "  sns.countplot(x = final_data['disease'],palette = \"pastel\")\n"
          ]
        },
        {
          "data": {
            "text/plain": [
              "([0, 1, 2, 3, 4, 5, 6, 7],\n",
              " [Text(0, 0, 'URTI'),\n",
              "  Text(1, 0, 'Healthy'),\n",
              "  Text(2, 0, 'Asthma'),\n",
              "  Text(3, 0, 'COPD'),\n",
              "  Text(4, 0, 'LRTI'),\n",
              "  Text(5, 0, 'Bronchiectasis'),\n",
              "  Text(6, 0, 'Pneumonia'),\n",
              "  Text(7, 0, 'Bronchiolitis')])"
            ]
          },
          "execution_count": 95,
          "metadata": {},
          "output_type": "execute_result"
        },
        {
          "data": {
            "image/png": "[encoded data removed]",
            "text/plain": [
              "<Figure size 640x480 with 1 Axes>"
            ]
          },
          "metadata": {},
          "output_type": "display_data"
        }
      ],
      "source": [
        "sns.countplot(x = final_data['disease'],palette = \"pastel\")\n",
        "plt.xticks(rotation = 45)"
      ]
    },
    {
      "cell_type": "code",
      "execution_count": 96,
      "metadata": {
        "id": "kCGM0tHugwkz"
      },
      "outputs": [
        {
          "name": "stderr",
          "output_type": "stream",
          "text": [
            "C:\\Users\\mahii\\AppData\\Local\\Temp\\ipykernel_3680\\3365851312.py:1: FutureWarning: \n",
            "\n",
            "Passing `palette` without assigning `hue` is deprecated and will be removed in v0.14.0. Assign the `x` variable to `hue` and set `legend=False` for the same effect.\n",
            "\n",
            "  sns.countplot(x = patient_demographic['disease'],palette = \"pastel\")\n"
          ]
        },
        {
          "data": {
            "text/plain": [
              "([0, 1, 2, 3, 4, 5, 6, 7],\n",
              " [Text(0, 0, 'Healthy'),\n",
              "  Text(1, 0, 'Asthma'),\n",
              "  Text(2, 0, 'COPD'),\n",
              "  Text(3, 0, 'URTI'),\n",
              "  Text(4, 0, 'LRTI'),\n",
              "  Text(5, 0, 'Bronchiectasis'),\n",
              "  Text(6, 0, 'Pneumonia'),\n",
              "  Text(7, 0, 'Bronchiolitis')])"
            ]
          },
          "execution_count": 96,
          "metadata": {},
          "output_type": "execute_result"
        },
        {
          "data": {
            "image/png": "[encoded data removed]",
            "text/plain": [
              "<Figure size 640x480 with 1 Axes>"
            ]
          },
          "metadata": {},
          "output_type": "display_data"
        }
      ],
      "source": [
        "sns.countplot(x = patient_demographic['disease'],palette = \"pastel\")\n",
        "plt.xticks(rotation = 45)"
      ]
    },
    {
      "cell_type": "code",
      "execution_count": 97,
      "metadata": {
        "id": "CV3ngibaC4O8"
      },
      "outputs": [],
      "source": [
        "mfcc_input=keras.layers.Input(shape=(20,259,1),name=\"mfccInput\")\n",
        "x=keras.layers.Conv2D(32,5,strides=(1,3),padding='same')(mfcc_input)\n",
        "x=keras.layers.BatchNormalization()(x)\n",
        "x=keras.layers.Activation(keras.activations.relu)(x)\n",
        "x=keras.layers.MaxPooling2D(pool_size=2,padding='valid')(x)\n",
        "\n",
        "x=keras.layers.Conv2D(64,3,strides=(1,2),padding='same')(x)\n",
        "x=keras.layers.BatchNormalization()(x)\n",
        "x=keras.layers.Activation(keras.activations.relu)(x)\n",
        "x=keras.layers.MaxPooling2D(pool_size=2,padding='valid')(x)\n",
        "\n",
        "x=keras.layers.Conv2D(96,2,padding='same')(x)\n",
        "x=keras.layers.BatchNormalization()(x)\n",
        "x=keras.layers.Activation(keras.activations.relu)(x)\n",
        "x=keras.layers.MaxPooling2D(pool_size=2,padding='valid')(x)\n",
        "\n",
        "x=keras.layers.Conv2D(128,2,padding='same')(x)\n",
        "x=keras.layers.BatchNormalization()(x)\n",
        "x=keras.layers.Activation(keras.activations.relu)(x)\n",
        "mfcc_output=keras.layers.GlobalMaxPooling2D()(x)\n",
        "\n",
        "mfcc_model=keras.Model(mfcc_input, mfcc_output, name=\"mfccModel\")"
      ]
    },
    {
      "cell_type": "code",
      "execution_count": 98,
      "metadata": {
        "id": "Ykap_CMxDLy4"
      },
      "outputs": [
        {
          "data": {
            "text/html": [
              "<pre style=\"white-space:pre;overflow-x:auto;line-height:normal;font-family:Menlo,'DejaVu Sans Mono',consolas,'Courier New',monospace\"><span style=\"font-weight: bold\">Model: \"mfccModel\"</span>\n",
              "</pre>\n"
            ],
            "text/plain": [
              "\u001b[1mModel: \"mfccModel\"\u001b[0m\n"
            ]
          },
          "metadata": {},
          "output_type": "display_data"
        },
        {
          "data": {
            "text/html": [
              "<pre style=\"white-space:pre;overflow-x:auto;line-height:normal;font-family:Menlo,'DejaVu Sans Mono',consolas,'Courier New',monospace\">┏━━━━━━━━━━━━━━━━━━━━━━━━━━━━━━━━━┳━━━━━━━━━━━━━━━━━━━━━━━━┳━━━━━━━━━━━━━━━┓\n",
              "┃<span style=\"font-weight: bold\"> Layer (type)                    </span>┃<span style=\"font-weight: bold\"> Output Shape           </span>┃<span style=\"font-weight: bold\">       Param # </span>┃\n",
              "┡━━━━━━━━━━━━━━━━━━━━━━━━━━━━━━━━━╇━━━━━━━━━━━━━━━━━━━━━━━━╇━━━━━━━━━━━━━━━┩\n",
              "│ mfccInput (<span style=\"color: #0087ff; text-decoration-color: #0087ff\">InputLayer</span>)          │ (<span style=\"color: #00d7ff; text-decoration-color: #00d7ff\">None</span>, <span style=\"color: #00af00; text-decoration-color: #00af00\">20</span>, <span style=\"color: #00af00; text-decoration-color: #00af00\">259</span>, <span style=\"color: #00af00; text-decoration-color: #00af00\">1</span>)     │             <span style=\"color: #00af00; text-decoration-color: #00af00\">0</span> │\n",
              "├─────────────────────────────────┼────────────────────────┼───────────────┤\n",
              "│ conv2d (<span style=\"color: #0087ff; text-decoration-color: #0087ff\">Conv2D</span>)                 │ (<span style=\"color: #00d7ff; text-decoration-color: #00d7ff\">None</span>, <span style=\"color: #00af00; text-decoration-color: #00af00\">20</span>, <span style=\"color: #00af00; text-decoration-color: #00af00\">87</span>, <span style=\"color: #00af00; text-decoration-color: #00af00\">32</span>)     │           <span style=\"color: #00af00; text-decoration-color: #00af00\">832</span> │\n",
              "├─────────────────────────────────┼────────────────────────┼───────────────┤\n",
              "│ batch_normalization             │ (<span style=\"color: #00d7ff; text-decoration-color: #00d7ff\">None</span>, <span style=\"color: #00af00; text-decoration-color: #00af00\">20</span>, <span style=\"color: #00af00; text-decoration-color: #00af00\">87</span>, <span style=\"color: #00af00; text-decoration-color: #00af00\">32</span>)     │           <span style=\"color: #00af00; text-decoration-color: #00af00\">128</span> │\n",
              "│ (<span style=\"color: #0087ff; text-decoration-color: #0087ff\">BatchNormalization</span>)            │                        │               │\n",
              "├─────────────────────────────────┼────────────────────────┼───────────────┤\n",
              "│ activation (<span style=\"color: #0087ff; text-decoration-color: #0087ff\">Activation</span>)         │ (<span style=\"color: #00d7ff; text-decoration-color: #00d7ff\">None</span>, <span style=\"color: #00af00; text-decoration-color: #00af00\">20</span>, <span style=\"color: #00af00; text-decoration-color: #00af00\">87</span>, <span style=\"color: #00af00; text-decoration-color: #00af00\">32</span>)     │             <span style=\"color: #00af00; text-decoration-color: #00af00\">0</span> │\n",
              "├─────────────────────────────────┼────────────────────────┼───────────────┤\n",
              "│ max_pooling2d (<span style=\"color: #0087ff; text-decoration-color: #0087ff\">MaxPooling2D</span>)    │ (<span style=\"color: #00d7ff; text-decoration-color: #00d7ff\">None</span>, <span style=\"color: #00af00; text-decoration-color: #00af00\">10</span>, <span style=\"color: #00af00; text-decoration-color: #00af00\">43</span>, <span style=\"color: #00af00; text-decoration-color: #00af00\">32</span>)     │             <span style=\"color: #00af00; text-decoration-color: #00af00\">0</span> │\n",
              "├─────────────────────────────────┼────────────────────────┼───────────────┤\n",
              "│ conv2d_1 (<span style=\"color: #0087ff; text-decoration-color: #0087ff\">Conv2D</span>)               │ (<span style=\"color: #00d7ff; text-decoration-color: #00d7ff\">None</span>, <span style=\"color: #00af00; text-decoration-color: #00af00\">10</span>, <span style=\"color: #00af00; text-decoration-color: #00af00\">22</span>, <span style=\"color: #00af00; text-decoration-color: #00af00\">64</span>)     │        <span style=\"color: #00af00; text-decoration-color: #00af00\">18,496</span> │\n",
              "├─────────────────────────────────┼────────────────────────┼───────────────┤\n",
              "│ batch_normalization_1           │ (<span style=\"color: #00d7ff; text-decoration-color: #00d7ff\">None</span>, <span style=\"color: #00af00; text-decoration-color: #00af00\">10</span>, <span style=\"color: #00af00; text-decoration-color: #00af00\">22</span>, <span style=\"color: #00af00; text-decoration-color: #00af00\">64</span>)     │           <span style=\"color: #00af00; text-decoration-color: #00af00\">256</span> │\n",
              "│ (<span style=\"color: #0087ff; text-decoration-color: #0087ff\">BatchNormalization</span>)            │                        │               │\n",
              "├─────────────────────────────────┼────────────────────────┼───────────────┤\n",
              "│ activation_1 (<span style=\"color: #0087ff; text-decoration-color: #0087ff\">Activation</span>)       │ (<span style=\"color: #00d7ff; text-decoration-color: #00d7ff\">None</span>, <span style=\"color: #00af00; text-decoration-color: #00af00\">10</span>, <span style=\"color: #00af00; text-decoration-color: #00af00\">22</span>, <span style=\"color: #00af00; text-decoration-color: #00af00\">64</span>)     │             <span style=\"color: #00af00; text-decoration-color: #00af00\">0</span> │\n",
              "├─────────────────────────────────┼────────────────────────┼───────────────┤\n",
              "│ max_pooling2d_1 (<span style=\"color: #0087ff; text-decoration-color: #0087ff\">MaxPooling2D</span>)  │ (<span style=\"color: #00d7ff; text-decoration-color: #00d7ff\">None</span>, <span style=\"color: #00af00; text-decoration-color: #00af00\">5</span>, <span style=\"color: #00af00; text-decoration-color: #00af00\">11</span>, <span style=\"color: #00af00; text-decoration-color: #00af00\">64</span>)      │             <span style=\"color: #00af00; text-decoration-color: #00af00\">0</span> │\n",
              "├─────────────────────────────────┼────────────────────────┼───────────────┤\n",
              "│ conv2d_2 (<span style=\"color: #0087ff; text-decoration-color: #0087ff\">Conv2D</span>)               │ (<span style=\"color: #00d7ff; text-decoration-color: #00d7ff\">None</span>, <span style=\"color: #00af00; text-decoration-color: #00af00\">5</span>, <span style=\"color: #00af00; text-decoration-color: #00af00\">11</span>, <span style=\"color: #00af00; text-decoration-color: #00af00\">96</span>)      │        <span style=\"color: #00af00; text-decoration-color: #00af00\">24,672</span> │\n",
              "├─────────────────────────────────┼────────────────────────┼───────────────┤\n",
              "│ batch_normalization_2           │ (<span style=\"color: #00d7ff; text-decoration-color: #00d7ff\">None</span>, <span style=\"color: #00af00; text-decoration-color: #00af00\">5</span>, <span style=\"color: #00af00; text-decoration-color: #00af00\">11</span>, <span style=\"color: #00af00; text-decoration-color: #00af00\">96</span>)      │           <span style=\"color: #00af00; text-decoration-color: #00af00\">384</span> │\n",
              "│ (<span style=\"color: #0087ff; text-decoration-color: #0087ff\">BatchNormalization</span>)            │                        │               │\n",
              "├─────────────────────────────────┼────────────────────────┼───────────────┤\n",
              "│ activation_2 (<span style=\"color: #0087ff; text-decoration-color: #0087ff\">Activation</span>)       │ (<span style=\"color: #00d7ff; text-decoration-color: #00d7ff\">None</span>, <span style=\"color: #00af00; text-decoration-color: #00af00\">5</span>, <span style=\"color: #00af00; text-decoration-color: #00af00\">11</span>, <span style=\"color: #00af00; text-decoration-color: #00af00\">96</span>)      │             <span style=\"color: #00af00; text-decoration-color: #00af00\">0</span> │\n",
              "├─────────────────────────────────┼────────────────────────┼───────────────┤\n",
              "│ max_pooling2d_2 (<span style=\"color: #0087ff; text-decoration-color: #0087ff\">MaxPooling2D</span>)  │ (<span style=\"color: #00d7ff; text-decoration-color: #00d7ff\">None</span>, <span style=\"color: #00af00; text-decoration-color: #00af00\">2</span>, <span style=\"color: #00af00; text-decoration-color: #00af00\">5</span>, <span style=\"color: #00af00; text-decoration-color: #00af00\">96</span>)       │             <span style=\"color: #00af00; text-decoration-color: #00af00\">0</span> │\n",
              "├─────────────────────────────────┼────────────────────────┼───────────────┤\n",
              "│ conv2d_3 (<span style=\"color: #0087ff; text-decoration-color: #0087ff\">Conv2D</span>)               │ (<span style=\"color: #00d7ff; text-decoration-color: #00d7ff\">None</span>, <span style=\"color: #00af00; text-decoration-color: #00af00\">2</span>, <span style=\"color: #00af00; text-decoration-color: #00af00\">5</span>, <span style=\"color: #00af00; text-decoration-color: #00af00\">128</span>)      │        <span style=\"color: #00af00; text-decoration-color: #00af00\">49,280</span> │\n",
              "├─────────────────────────────────┼────────────────────────┼───────────────┤\n",
              "│ batch_normalization_3           │ (<span style=\"color: #00d7ff; text-decoration-color: #00d7ff\">None</span>, <span style=\"color: #00af00; text-decoration-color: #00af00\">2</span>, <span style=\"color: #00af00; text-decoration-color: #00af00\">5</span>, <span style=\"color: #00af00; text-decoration-color: #00af00\">128</span>)      │           <span style=\"color: #00af00; text-decoration-color: #00af00\">512</span> │\n",
              "│ (<span style=\"color: #0087ff; text-decoration-color: #0087ff\">BatchNormalization</span>)            │                        │               │\n",
              "├─────────────────────────────────┼────────────────────────┼───────────────┤\n",
              "│ activation_3 (<span style=\"color: #0087ff; text-decoration-color: #0087ff\">Activation</span>)       │ (<span style=\"color: #00d7ff; text-decoration-color: #00d7ff\">None</span>, <span style=\"color: #00af00; text-decoration-color: #00af00\">2</span>, <span style=\"color: #00af00; text-decoration-color: #00af00\">5</span>, <span style=\"color: #00af00; text-decoration-color: #00af00\">128</span>)      │             <span style=\"color: #00af00; text-decoration-color: #00af00\">0</span> │\n",
              "├─────────────────────────────────┼────────────────────────┼───────────────┤\n",
              "│ global_max_pooling2d            │ (<span style=\"color: #00d7ff; text-decoration-color: #00d7ff\">None</span>, <span style=\"color: #00af00; text-decoration-color: #00af00\">128</span>)            │             <span style=\"color: #00af00; text-decoration-color: #00af00\">0</span> │\n",
              "│ (<span style=\"color: #0087ff; text-decoration-color: #0087ff\">GlobalMaxPooling2D</span>)            │                        │               │\n",
              "└─────────────────────────────────┴────────────────────────┴───────────────┘\n",
              "</pre>\n"
            ],
            "text/plain": [
              "┏━━━━━━━━━━━━━━━━━━━━━━━━━━━━━━━━━┳━━━━━━━━━━━━━━━━━━━━━━━━┳━━━━━━━━━━━━━━━┓\n",
              "┃\u001b[1m \u001b[0m\u001b[1mLayer (type)                   \u001b[0m\u001b[1m \u001b[0m┃\u001b[1m \u001b[0m\u001b[1mOutput Shape          \u001b[0m\u001b[1m \u001b[0m┃\u001b[1m \u001b[0m\u001b[1m      Param #\u001b[0m\u001b[1m \u001b[0m┃\n",
              "┡━━━━━━━━━━━━━━━━━━━━━━━━━━━━━━━━━╇━━━━━━━━━━━━━━━━━━━━━━━━╇━━━━━━━━━━━━━━━┩\n",
              "│ mfccInput (\u001b[38;5;33mInputLayer\u001b[0m)          │ (\u001b[38;5;45mNone\u001b[0m, \u001b[38;5;34m20\u001b[0m, \u001b[38;5;34m259\u001b[0m, \u001b[38;5;34m1\u001b[0m)     │             \u001b[38;5;34m0\u001b[0m │\n",
              "├─────────────────────────────────┼────────────────────────┼───────────────┤\n",
              "│ conv2d (\u001b[38;5;33mConv2D\u001b[0m)                 │ (\u001b[38;5;45mNone\u001b[0m, \u001b[38;5;34m20\u001b[0m, \u001b[38;5;34m87\u001b[0m, \u001b[38;5;34m32\u001b[0m)     │           \u001b[38;5;34m832\u001b[0m │\n",
              "├─────────────────────────────────┼────────────────────────┼───────────────┤\n",
              "│ batch_normalization             │ (\u001b[38;5;45mNone\u001b[0m, \u001b[38;5;34m20\u001b[0m, \u001b[38;5;34m87\u001b[0m, \u001b[38;5;34m32\u001b[0m)     │           \u001b[38;5;34m128\u001b[0m │\n",
              "│ (\u001b[38;5;33mBatchNormalization\u001b[0m)            │                        │               │\n",
              "├─────────────────────────────────┼────────────────────────┼───────────────┤\n",
              "│ activation (\u001b[38;5;33mActivation\u001b[0m)         │ (\u001b[38;5;45mNone\u001b[0m, \u001b[38;5;34m20\u001b[0m, \u001b[38;5;34m87\u001b[0m, \u001b[38;5;34m32\u001b[0m)     │             \u001b[38;5;34m0\u001b[0m │\n",
              "├─────────────────────────────────┼────────────────────────┼───────────────┤\n",
              "│ max_pooling2d (\u001b[38;5;33mMaxPooling2D\u001b[0m)    │ (\u001b[38;5;45mNone\u001b[0m, \u001b[38;5;34m10\u001b[0m, \u001b[38;5;34m43\u001b[0m, \u001b[38;5;34m32\u001b[0m)     │             \u001b[38;5;34m0\u001b[0m │\n",
              "├─────────────────────────────────┼────────────────────────┼───────────────┤\n",
              "│ conv2d_1 (\u001b[38;5;33mConv2D\u001b[0m)               │ (\u001b[38;5;45mNone\u001b[0m, \u001b[38;5;34m10\u001b[0m, \u001b[38;5;34m22\u001b[0m, \u001b[38;5;34m64\u001b[0m)     │        \u001b[38;5;34m18,496\u001b[0m │\n",
              "├─────────────────────────────────┼────────────────────────┼───────────────┤\n",
              "│ batch_normalization_1           │ (\u001b[38;5;45mNone\u001b[0m, \u001b[38;5;34m10\u001b[0m, \u001b[38;5;34m22\u001b[0m, \u001b[38;5;34m64\u001b[0m)     │           \u001b[38;5;34m256\u001b[0m │\n",
              "│ (\u001b[38;5;33mBatchNormalization\u001b[0m)            │                        │               │\n",
              "├─────────────────────────────────┼────────────────────────┼───────────────┤\n",
              "│ activation_1 (\u001b[38;5;33mActivation\u001b[0m)       │ (\u001b[38;5;45mNone\u001b[0m, \u001b[38;5;34m10\u001b[0m, \u001b[38;5;34m22\u001b[0m, \u001b[38;5;34m64\u001b[0m)     │             \u001b[38;5;34m0\u001b[0m │\n",
              "├─────────────────────────────────┼────────────────────────┼───────────────┤\n",
              "│ max_pooling2d_1 (\u001b[38;5;33mMaxPooling2D\u001b[0m)  │ (\u001b[38;5;45mNone\u001b[0m, \u001b[38;5;34m5\u001b[0m, \u001b[38;5;34m11\u001b[0m, \u001b[38;5;34m64\u001b[0m)      │             \u001b[38;5;34m0\u001b[0m │\n",
              "├─────────────────────────────────┼────────────────────────┼───────────────┤\n",
              "│ conv2d_2 (\u001b[38;5;33mConv2D\u001b[0m)               │ (\u001b[38;5;45mNone\u001b[0m, \u001b[38;5;34m5\u001b[0m, \u001b[38;5;34m11\u001b[0m, \u001b[38;5;34m96\u001b[0m)      │        \u001b[38;5;34m24,672\u001b[0m │\n",
              "├─────────────────────────────────┼────────────────────────┼───────────────┤\n",
              "│ batch_normalization_2           │ (\u001b[38;5;45mNone\u001b[0m, \u001b[38;5;34m5\u001b[0m, \u001b[38;5;34m11\u001b[0m, \u001b[38;5;34m96\u001b[0m)      │           \u001b[38;5;34m384\u001b[0m │\n",
              "│ (\u001b[38;5;33mBatchNormalization\u001b[0m)            │                        │               │\n",
              "├─────────────────────────────────┼────────────────────────┼───────────────┤\n",
              "│ activation_2 (\u001b[38;5;33mActivation\u001b[0m)       │ (\u001b[38;5;45mNone\u001b[0m, \u001b[38;5;34m5\u001b[0m, \u001b[38;5;34m11\u001b[0m, \u001b[38;5;34m96\u001b[0m)      │             \u001b[38;5;34m0\u001b[0m │\n",
              "├─────────────────────────────────┼────────────────────────┼───────────────┤\n",
              "│ max_pooling2d_2 (\u001b[38;5;33mMaxPooling2D\u001b[0m)  │ (\u001b[38;5;45mNone\u001b[0m, \u001b[38;5;34m2\u001b[0m, \u001b[38;5;34m5\u001b[0m, \u001b[38;5;34m96\u001b[0m)       │             \u001b[38;5;34m0\u001b[0m │\n",
              "├─────────────────────────────────┼────────────────────────┼───────────────┤\n",
              "│ conv2d_3 (\u001b[38;5;33mConv2D\u001b[0m)               │ (\u001b[38;5;45mNone\u001b[0m, \u001b[38;5;34m2\u001b[0m, \u001b[38;5;34m5\u001b[0m, \u001b[38;5;34m128\u001b[0m)      │        \u001b[38;5;34m49,280\u001b[0m │\n",
              "├─────────────────────────────────┼────────────────────────┼───────────────┤\n",
              "│ batch_normalization_3           │ (\u001b[38;5;45mNone\u001b[0m, \u001b[38;5;34m2\u001b[0m, \u001b[38;5;34m5\u001b[0m, \u001b[38;5;34m128\u001b[0m)      │           \u001b[38;5;34m512\u001b[0m │\n",
              "│ (\u001b[38;5;33mBatchNormalization\u001b[0m)            │                        │               │\n",
              "├─────────────────────────────────┼────────────────────────┼───────────────┤\n",
              "│ activation_3 (\u001b[38;5;33mActivation\u001b[0m)       │ (\u001b[38;5;45mNone\u001b[0m, \u001b[38;5;34m2\u001b[0m, \u001b[38;5;34m5\u001b[0m, \u001b[38;5;34m128\u001b[0m)      │             \u001b[38;5;34m0\u001b[0m │\n",
              "├─────────────────────────────────┼────────────────────────┼───────────────┤\n",
              "│ global_max_pooling2d            │ (\u001b[38;5;45mNone\u001b[0m, \u001b[38;5;34m128\u001b[0m)            │             \u001b[38;5;34m0\u001b[0m │\n",
              "│ (\u001b[38;5;33mGlobalMaxPooling2D\u001b[0m)            │                        │               │\n",
              "└─────────────────────────────────┴────────────────────────┴───────────────┘\n"
            ]
          },
          "metadata": {},
          "output_type": "display_data"
        },
        {
          "data": {
            "text/html": [
              "<pre style=\"white-space:pre;overflow-x:auto;line-height:normal;font-family:Menlo,'DejaVu Sans Mono',consolas,'Courier New',monospace\"><span style=\"font-weight: bold\"> Total params: </span><span style=\"color: #00af00; text-decoration-color: #00af00\">94,560</span> (369.38 KB)\n",
              "</pre>\n"
            ],
            "text/plain": [
              "\u001b[1m Total params: \u001b[0m\u001b[38;5;34m94,560\u001b[0m (369.38 KB)\n"
            ]
          },
          "metadata": {},
          "output_type": "display_data"
        },
        {
          "data": {
            "text/html": [
              "<pre style=\"white-space:pre;overflow-x:auto;line-height:normal;font-family:Menlo,'DejaVu Sans Mono',consolas,'Courier New',monospace\"><span style=\"font-weight: bold\"> Trainable params: </span><span style=\"color: #00af00; text-decoration-color: #00af00\">93,920</span> (366.88 KB)\n",
              "</pre>\n"
            ],
            "text/plain": [
              "\u001b[1m Trainable params: \u001b[0m\u001b[38;5;34m93,920\u001b[0m (366.88 KB)\n"
            ]
          },
          "metadata": {},
          "output_type": "display_data"
        },
        {
          "data": {
            "text/html": [
              "<pre style=\"white-space:pre;overflow-x:auto;line-height:normal;font-family:Menlo,'DejaVu Sans Mono',consolas,'Courier New',monospace\"><span style=\"font-weight: bold\"> Non-trainable params: </span><span style=\"color: #00af00; text-decoration-color: #00af00\">640</span> (2.50 KB)\n",
              "</pre>\n"
            ],
            "text/plain": [
              "\u001b[1m Non-trainable params: \u001b[0m\u001b[38;5;34m640\u001b[0m (2.50 KB)\n"
            ]
          },
          "metadata": {},
          "output_type": "display_data"
        }
      ],
      "source": [
        "mfcc_model.summary()"
      ]
    },
    {
      "cell_type": "code",
      "execution_count": 99,
      "metadata": {
        "id": "QrASui6CDMBJ"
      },
      "outputs": [],
      "source": [
        "cstft_input=keras.layers.Input(shape=(12,259,1),name=\"cstftInput\")\n",
        "x=keras.layers.Conv2D(32,5,strides=(1,3),padding='same')(cstft_input)\n",
        "x=keras.layers.BatchNormalization()(x)\n",
        "x=keras.layers.Activation(keras.activations.relu)(x)\n",
        "x=keras.layers.MaxPooling2D(pool_size=2,padding='valid')(x)\n",
        "\n",
        "x=keras.layers.Conv2D(64,3,strides=(1,2),padding='same')(x)\n",
        "x=keras.layers.BatchNormalization()(x)\n",
        "x=keras.layers.Activation(keras.activations.relu)(x)\n",
        "x=keras.layers.MaxPooling2D(pool_size=2,padding='valid')(x)\n",
        "\n",
        "x=keras.layers.Conv2D(96,2,padding='same')(x)\n",
        "x=keras.layers.BatchNormalization()(x)\n",
        "x=keras.layers.Activation(keras.activations.relu)(x)\n",
        "x=keras.layers.MaxPooling2D(pool_size=2,padding='valid')(x)\n",
        "\n",
        "x=keras.layers.Conv2D(128,2,padding='same')(x)\n",
        "x=keras.layers.BatchNormalization()(x)\n",
        "x=keras.layers.Activation(keras.activations.relu)(x)\n",
        "cstft_output=keras.layers.GlobalMaxPooling2D()(x)\n",
        "\n",
        "cstft_model=keras.Model(cstft_input, cstft_output, name=\"cstftModel\")"
      ]
    },
    {
      "cell_type": "code",
      "execution_count": 100,
      "metadata": {
        "id": "mwnOnimpDMNb"
      },
      "outputs": [
        {
          "data": {
            "text/html": [
              "<pre style=\"white-space:pre;overflow-x:auto;line-height:normal;font-family:Menlo,'DejaVu Sans Mono',consolas,'Courier New',monospace\"><span style=\"font-weight: bold\">Model: \"cstftModel\"</span>\n",
              "</pre>\n"
            ],
            "text/plain": [
              "\u001b[1mModel: \"cstftModel\"\u001b[0m\n"
            ]
          },
          "metadata": {},
          "output_type": "display_data"
        },
        {
          "data": {
            "text/html": [
              "<pre style=\"white-space:pre;overflow-x:auto;line-height:normal;font-family:Menlo,'DejaVu Sans Mono',consolas,'Courier New',monospace\">┏━━━━━━━━━━━━━━━━━━━━━━━━━━━━━━━━━┳━━━━━━━━━━━━━━━━━━━━━━━━┳━━━━━━━━━━━━━━━┓\n",
              "┃<span style=\"font-weight: bold\"> Layer (type)                    </span>┃<span style=\"font-weight: bold\"> Output Shape           </span>┃<span style=\"font-weight: bold\">       Param # </span>┃\n",
              "┡━━━━━━━━━━━━━━━━━━━━━━━━━━━━━━━━━╇━━━━━━━━━━━━━━━━━━━━━━━━╇━━━━━━━━━━━━━━━┩\n",
              "│ cstftInput (<span style=\"color: #0087ff; text-decoration-color: #0087ff\">InputLayer</span>)         │ (<span style=\"color: #00d7ff; text-decoration-color: #00d7ff\">None</span>, <span style=\"color: #00af00; text-decoration-color: #00af00\">12</span>, <span style=\"color: #00af00; text-decoration-color: #00af00\">259</span>, <span style=\"color: #00af00; text-decoration-color: #00af00\">1</span>)     │             <span style=\"color: #00af00; text-decoration-color: #00af00\">0</span> │\n",
              "├─────────────────────────────────┼────────────────────────┼───────────────┤\n",
              "│ conv2d_4 (<span style=\"color: #0087ff; text-decoration-color: #0087ff\">Conv2D</span>)               │ (<span style=\"color: #00d7ff; text-decoration-color: #00d7ff\">None</span>, <span style=\"color: #00af00; text-decoration-color: #00af00\">12</span>, <span style=\"color: #00af00; text-decoration-color: #00af00\">87</span>, <span style=\"color: #00af00; text-decoration-color: #00af00\">32</span>)     │           <span style=\"color: #00af00; text-decoration-color: #00af00\">832</span> │\n",
              "├─────────────────────────────────┼────────────────────────┼───────────────┤\n",
              "│ batch_normalization_4           │ (<span style=\"color: #00d7ff; text-decoration-color: #00d7ff\">None</span>, <span style=\"color: #00af00; text-decoration-color: #00af00\">12</span>, <span style=\"color: #00af00; text-decoration-color: #00af00\">87</span>, <span style=\"color: #00af00; text-decoration-color: #00af00\">32</span>)     │           <span style=\"color: #00af00; text-decoration-color: #00af00\">128</span> │\n",
              "│ (<span style=\"color: #0087ff; text-decoration-color: #0087ff\">BatchNormalization</span>)            │                        │               │\n",
              "├─────────────────────────────────┼────────────────────────┼───────────────┤\n",
              "│ activation_4 (<span style=\"color: #0087ff; text-decoration-color: #0087ff\">Activation</span>)       │ (<span style=\"color: #00d7ff; text-decoration-color: #00d7ff\">None</span>, <span style=\"color: #00af00; text-decoration-color: #00af00\">12</span>, <span style=\"color: #00af00; text-decoration-color: #00af00\">87</span>, <span style=\"color: #00af00; text-decoration-color: #00af00\">32</span>)     │             <span style=\"color: #00af00; text-decoration-color: #00af00\">0</span> │\n",
              "├─────────────────────────────────┼────────────────────────┼───────────────┤\n",
              "│ max_pooling2d_3 (<span style=\"color: #0087ff; text-decoration-color: #0087ff\">MaxPooling2D</span>)  │ (<span style=\"color: #00d7ff; text-decoration-color: #00d7ff\">None</span>, <span style=\"color: #00af00; text-decoration-color: #00af00\">6</span>, <span style=\"color: #00af00; text-decoration-color: #00af00\">43</span>, <span style=\"color: #00af00; text-decoration-color: #00af00\">32</span>)      │             <span style=\"color: #00af00; text-decoration-color: #00af00\">0</span> │\n",
              "├─────────────────────────────────┼────────────────────────┼───────────────┤\n",
              "│ conv2d_5 (<span style=\"color: #0087ff; text-decoration-color: #0087ff\">Conv2D</span>)               │ (<span style=\"color: #00d7ff; text-decoration-color: #00d7ff\">None</span>, <span style=\"color: #00af00; text-decoration-color: #00af00\">6</span>, <span style=\"color: #00af00; text-decoration-color: #00af00\">22</span>, <span style=\"color: #00af00; text-decoration-color: #00af00\">64</span>)      │        <span style=\"color: #00af00; text-decoration-color: #00af00\">18,496</span> │\n",
              "├─────────────────────────────────┼────────────────────────┼───────────────┤\n",
              "│ batch_normalization_5           │ (<span style=\"color: #00d7ff; text-decoration-color: #00d7ff\">None</span>, <span style=\"color: #00af00; text-decoration-color: #00af00\">6</span>, <span style=\"color: #00af00; text-decoration-color: #00af00\">22</span>, <span style=\"color: #00af00; text-decoration-color: #00af00\">64</span>)      │           <span style=\"color: #00af00; text-decoration-color: #00af00\">256</span> │\n",
              "│ (<span style=\"color: #0087ff; text-decoration-color: #0087ff\">BatchNormalization</span>)            │                        │               │\n",
              "├─────────────────────────────────┼────────────────────────┼───────────────┤\n",
              "│ activation_5 (<span style=\"color: #0087ff; text-decoration-color: #0087ff\">Activation</span>)       │ (<span style=\"color: #00d7ff; text-decoration-color: #00d7ff\">None</span>, <span style=\"color: #00af00; text-decoration-color: #00af00\">6</span>, <span style=\"color: #00af00; text-decoration-color: #00af00\">22</span>, <span style=\"color: #00af00; text-decoration-color: #00af00\">64</span>)      │             <span style=\"color: #00af00; text-decoration-color: #00af00\">0</span> │\n",
              "├─────────────────────────────────┼────────────────────────┼───────────────┤\n",
              "│ max_pooling2d_4 (<span style=\"color: #0087ff; text-decoration-color: #0087ff\">MaxPooling2D</span>)  │ (<span style=\"color: #00d7ff; text-decoration-color: #00d7ff\">None</span>, <span style=\"color: #00af00; text-decoration-color: #00af00\">3</span>, <span style=\"color: #00af00; text-decoration-color: #00af00\">11</span>, <span style=\"color: #00af00; text-decoration-color: #00af00\">64</span>)      │             <span style=\"color: #00af00; text-decoration-color: #00af00\">0</span> │\n",
              "├─────────────────────────────────┼────────────────────────┼───────────────┤\n",
              "│ conv2d_6 (<span style=\"color: #0087ff; text-decoration-color: #0087ff\">Conv2D</span>)               │ (<span style=\"color: #00d7ff; text-decoration-color: #00d7ff\">None</span>, <span style=\"color: #00af00; text-decoration-color: #00af00\">3</span>, <span style=\"color: #00af00; text-decoration-color: #00af00\">11</span>, <span style=\"color: #00af00; text-decoration-color: #00af00\">96</span>)      │        <span style=\"color: #00af00; text-decoration-color: #00af00\">24,672</span> │\n",
              "├─────────────────────────────────┼────────────────────────┼───────────────┤\n",
              "│ batch_normalization_6           │ (<span style=\"color: #00d7ff; text-decoration-color: #00d7ff\">None</span>, <span style=\"color: #00af00; text-decoration-color: #00af00\">3</span>, <span style=\"color: #00af00; text-decoration-color: #00af00\">11</span>, <span style=\"color: #00af00; text-decoration-color: #00af00\">96</span>)      │           <span style=\"color: #00af00; text-decoration-color: #00af00\">384</span> │\n",
              "│ (<span style=\"color: #0087ff; text-decoration-color: #0087ff\">BatchNormalization</span>)            │                        │               │\n",
              "├─────────────────────────────────┼────────────────────────┼───────────────┤\n",
              "│ activation_6 (<span style=\"color: #0087ff; text-decoration-color: #0087ff\">Activation</span>)       │ (<span style=\"color: #00d7ff; text-decoration-color: #00d7ff\">None</span>, <span style=\"color: #00af00; text-decoration-color: #00af00\">3</span>, <span style=\"color: #00af00; text-decoration-color: #00af00\">11</span>, <span style=\"color: #00af00; text-decoration-color: #00af00\">96</span>)      │             <span style=\"color: #00af00; text-decoration-color: #00af00\">0</span> │\n",
              "├─────────────────────────────────┼────────────────────────┼───────────────┤\n",
              "│ max_pooling2d_5 (<span style=\"color: #0087ff; text-decoration-color: #0087ff\">MaxPooling2D</span>)  │ (<span style=\"color: #00d7ff; text-decoration-color: #00d7ff\">None</span>, <span style=\"color: #00af00; text-decoration-color: #00af00\">1</span>, <span style=\"color: #00af00; text-decoration-color: #00af00\">5</span>, <span style=\"color: #00af00; text-decoration-color: #00af00\">96</span>)       │             <span style=\"color: #00af00; text-decoration-color: #00af00\">0</span> │\n",
              "├─────────────────────────────────┼────────────────────────┼───────────────┤\n",
              "│ conv2d_7 (<span style=\"color: #0087ff; text-decoration-color: #0087ff\">Conv2D</span>)               │ (<span style=\"color: #00d7ff; text-decoration-color: #00d7ff\">None</span>, <span style=\"color: #00af00; text-decoration-color: #00af00\">1</span>, <span style=\"color: #00af00; text-decoration-color: #00af00\">5</span>, <span style=\"color: #00af00; text-decoration-color: #00af00\">128</span>)      │        <span style=\"color: #00af00; text-decoration-color: #00af00\">49,280</span> │\n",
              "├─────────────────────────────────┼────────────────────────┼───────────────┤\n",
              "│ batch_normalization_7           │ (<span style=\"color: #00d7ff; text-decoration-color: #00d7ff\">None</span>, <span style=\"color: #00af00; text-decoration-color: #00af00\">1</span>, <span style=\"color: #00af00; text-decoration-color: #00af00\">5</span>, <span style=\"color: #00af00; text-decoration-color: #00af00\">128</span>)      │           <span style=\"color: #00af00; text-decoration-color: #00af00\">512</span> │\n",
              "│ (<span style=\"color: #0087ff; text-decoration-color: #0087ff\">BatchNormalization</span>)            │                        │               │\n",
              "├─────────────────────────────────┼────────────────────────┼───────────────┤\n",
              "│ activation_7 (<span style=\"color: #0087ff; text-decoration-color: #0087ff\">Activation</span>)       │ (<span style=\"color: #00d7ff; text-decoration-color: #00d7ff\">None</span>, <span style=\"color: #00af00; text-decoration-color: #00af00\">1</span>, <span style=\"color: #00af00; text-decoration-color: #00af00\">5</span>, <span style=\"color: #00af00; text-decoration-color: #00af00\">128</span>)      │             <span style=\"color: #00af00; text-decoration-color: #00af00\">0</span> │\n",
              "├─────────────────────────────────┼────────────────────────┼───────────────┤\n",
              "│ global_max_pooling2d_1          │ (<span style=\"color: #00d7ff; text-decoration-color: #00d7ff\">None</span>, <span style=\"color: #00af00; text-decoration-color: #00af00\">128</span>)            │             <span style=\"color: #00af00; text-decoration-color: #00af00\">0</span> │\n",
              "│ (<span style=\"color: #0087ff; text-decoration-color: #0087ff\">GlobalMaxPooling2D</span>)            │                        │               │\n",
              "└─────────────────────────────────┴────────────────────────┴───────────────┘\n",
              "</pre>\n"
            ],
            "text/plain": [
              "┏━━━━━━━━━━━━━━━━━━━━━━━━━━━━━━━━━┳━━━━━━━━━━━━━━━━━━━━━━━━┳━━━━━━━━━━━━━━━┓\n",
              "┃\u001b[1m \u001b[0m\u001b[1mLayer (type)                   \u001b[0m\u001b[1m \u001b[0m┃\u001b[1m \u001b[0m\u001b[1mOutput Shape          \u001b[0m\u001b[1m \u001b[0m┃\u001b[1m \u001b[0m\u001b[1m      Param #\u001b[0m\u001b[1m \u001b[0m┃\n",
              "┡━━━━━━━━━━━━━━━━━━━━━━━━━━━━━━━━━╇━━━━━━━━━━━━━━━━━━━━━━━━╇━━━━━━━━━━━━━━━┩\n",
              "│ cstftInput (\u001b[38;5;33mInputLayer\u001b[0m)         │ (\u001b[38;5;45mNone\u001b[0m, \u001b[38;5;34m12\u001b[0m, \u001b[38;5;34m259\u001b[0m, \u001b[38;5;34m1\u001b[0m)     │             \u001b[38;5;34m0\u001b[0m │\n",
              "├─────────────────────────────────┼────────────────────────┼───────────────┤\n",
              "│ conv2d_4 (\u001b[38;5;33mConv2D\u001b[0m)               │ (\u001b[38;5;45mNone\u001b[0m, \u001b[38;5;34m12\u001b[0m, \u001b[38;5;34m87\u001b[0m, \u001b[38;5;34m32\u001b[0m)     │           \u001b[38;5;34m832\u001b[0m │\n",
              "├─────────────────────────────────┼────────────────────────┼───────────────┤\n",
              "│ batch_normalization_4           │ (\u001b[38;5;45mNone\u001b[0m, \u001b[38;5;34m12\u001b[0m, \u001b[38;5;34m87\u001b[0m, \u001b[38;5;34m32\u001b[0m)     │           \u001b[38;5;34m128\u001b[0m │\n",
              "│ (\u001b[38;5;33mBatchNormalization\u001b[0m)            │                        │               │\n",
              "├─────────────────────────────────┼────────────────────────┼───────────────┤\n",
              "│ activation_4 (\u001b[38;5;33mActivation\u001b[0m)       │ (\u001b[38;5;45mNone\u001b[0m, \u001b[38;5;34m12\u001b[0m, \u001b[38;5;34m87\u001b[0m, \u001b[38;5;34m32\u001b[0m)     │             \u001b[38;5;34m0\u001b[0m │\n",
              "├─────────────────────────────────┼────────────────────────┼───────────────┤\n",
              "│ max_pooling2d_3 (\u001b[38;5;33mMaxPooling2D\u001b[0m)  │ (\u001b[38;5;45mNone\u001b[0m, \u001b[38;5;34m6\u001b[0m, \u001b[38;5;34m43\u001b[0m, \u001b[38;5;34m32\u001b[0m)      │             \u001b[38;5;34m0\u001b[0m │\n",
              "├─────────────────────────────────┼────────────────────────┼───────────────┤\n",
              "│ conv2d_5 (\u001b[38;5;33mConv2D\u001b[0m)               │ (\u001b[38;5;45mNone\u001b[0m, \u001b[38;5;34m6\u001b[0m, \u001b[38;5;34m22\u001b[0m, \u001b[38;5;34m64\u001b[0m)      │        \u001b[38;5;34m18,496\u001b[0m │\n",
              "├─────────────────────────────────┼────────────────────────┼───────────────┤\n",
              "│ batch_normalization_5           │ (\u001b[38;5;45mNone\u001b[0m, \u001b[38;5;34m6\u001b[0m, \u001b[38;5;34m22\u001b[0m, \u001b[38;5;34m64\u001b[0m)      │           \u001b[38;5;34m256\u001b[0m │\n",
              "│ (\u001b[38;5;33mBatchNormalization\u001b[0m)            │                        │               │\n",
              "├─────────────────────────────────┼────────────────────────┼───────────────┤\n",
              "│ activation_5 (\u001b[38;5;33mActivation\u001b[0m)       │ (\u001b[38;5;45mNone\u001b[0m, \u001b[38;5;34m6\u001b[0m, \u001b[38;5;34m22\u001b[0m, \u001b[38;5;34m64\u001b[0m)      │             \u001b[38;5;34m0\u001b[0m │\n",
              "├─────────────────────────────────┼────────────────────────┼───────────────┤\n",
              "│ max_pooling2d_4 (\u001b[38;5;33mMaxPooling2D\u001b[0m)  │ (\u001b[38;5;45mNone\u001b[0m, \u001b[38;5;34m3\u001b[0m, \u001b[38;5;34m11\u001b[0m, \u001b[38;5;34m64\u001b[0m)      │             \u001b[38;5;34m0\u001b[0m │\n",
              "├─────────────────────────────────┼────────────────────────┼───────────────┤\n",
              "│ conv2d_6 (\u001b[38;5;33mConv2D\u001b[0m)               │ (\u001b[38;5;45mNone\u001b[0m, \u001b[38;5;34m3\u001b[0m, \u001b[38;5;34m11\u001b[0m, \u001b[38;5;34m96\u001b[0m)      │        \u001b[38;5;34m24,672\u001b[0m │\n",
              "├─────────────────────────────────┼────────────────────────┼───────────────┤\n",
              "│ batch_normalization_6           │ (\u001b[38;5;45mNone\u001b[0m, \u001b[38;5;34m3\u001b[0m, \u001b[38;5;34m11\u001b[0m, \u001b[38;5;34m96\u001b[0m)      │           \u001b[38;5;34m384\u001b[0m │\n",
              "│ (\u001b[38;5;33mBatchNormalization\u001b[0m)            │                        │               │\n",
              "├─────────────────────────────────┼────────────────────────┼───────────────┤\n",
              "│ activation_6 (\u001b[38;5;33mActivation\u001b[0m)       │ (\u001b[38;5;45mNone\u001b[0m, \u001b[38;5;34m3\u001b[0m, \u001b[38;5;34m11\u001b[0m, \u001b[38;5;34m96\u001b[0m)      │             \u001b[38;5;34m0\u001b[0m │\n",
              "├─────────────────────────────────┼────────────────────────┼───────────────┤\n",
              "│ max_pooling2d_5 (\u001b[38;5;33mMaxPooling2D\u001b[0m)  │ (\u001b[38;5;45mNone\u001b[0m, \u001b[38;5;34m1\u001b[0m, \u001b[38;5;34m5\u001b[0m, \u001b[38;5;34m96\u001b[0m)       │             \u001b[38;5;34m0\u001b[0m │\n",
              "├─────────────────────────────────┼────────────────────────┼───────────────┤\n",
              "│ conv2d_7 (\u001b[38;5;33mConv2D\u001b[0m)               │ (\u001b[38;5;45mNone\u001b[0m, \u001b[38;5;34m1\u001b[0m, \u001b[38;5;34m5\u001b[0m, \u001b[38;5;34m128\u001b[0m)      │        \u001b[38;5;34m49,280\u001b[0m │\n",
              "├─────────────────────────────────┼────────────────────────┼───────────────┤\n",
              "│ batch_normalization_7           │ (\u001b[38;5;45mNone\u001b[0m, \u001b[38;5;34m1\u001b[0m, \u001b[38;5;34m5\u001b[0m, \u001b[38;5;34m128\u001b[0m)      │           \u001b[38;5;34m512\u001b[0m │\n",
              "│ (\u001b[38;5;33mBatchNormalization\u001b[0m)            │                        │               │\n",
              "├─────────────────────────────────┼────────────────────────┼───────────────┤\n",
              "│ activation_7 (\u001b[38;5;33mActivation\u001b[0m)       │ (\u001b[38;5;45mNone\u001b[0m, \u001b[38;5;34m1\u001b[0m, \u001b[38;5;34m5\u001b[0m, \u001b[38;5;34m128\u001b[0m)      │             \u001b[38;5;34m0\u001b[0m │\n",
              "├─────────────────────────────────┼────────────────────────┼───────────────┤\n",
              "│ global_max_pooling2d_1          │ (\u001b[38;5;45mNone\u001b[0m, \u001b[38;5;34m128\u001b[0m)            │             \u001b[38;5;34m0\u001b[0m │\n",
              "│ (\u001b[38;5;33mGlobalMaxPooling2D\u001b[0m)            │                        │               │\n",
              "└─────────────────────────────────┴────────────────────────┴───────────────┘\n"
            ]
          },
          "metadata": {},
          "output_type": "display_data"
        },
        {
          "data": {
            "text/html": [
              "<pre style=\"white-space:pre;overflow-x:auto;line-height:normal;font-family:Menlo,'DejaVu Sans Mono',consolas,'Courier New',monospace\"><span style=\"font-weight: bold\"> Total params: </span><span style=\"color: #00af00; text-decoration-color: #00af00\">94,560</span> (369.38 KB)\n",
              "</pre>\n"
            ],
            "text/plain": [
              "\u001b[1m Total params: \u001b[0m\u001b[38;5;34m94,560\u001b[0m (369.38 KB)\n"
            ]
          },
          "metadata": {},
          "output_type": "display_data"
        },
        {
          "data": {
            "text/html": [
              "<pre style=\"white-space:pre;overflow-x:auto;line-height:normal;font-family:Menlo,'DejaVu Sans Mono',consolas,'Courier New',monospace\"><span style=\"font-weight: bold\"> Trainable params: </span><span style=\"color: #00af00; text-decoration-color: #00af00\">93,920</span> (366.88 KB)\n",
              "</pre>\n"
            ],
            "text/plain": [
              "\u001b[1m Trainable params: \u001b[0m\u001b[38;5;34m93,920\u001b[0m (366.88 KB)\n"
            ]
          },
          "metadata": {},
          "output_type": "display_data"
        },
        {
          "data": {
            "text/html": [
              "<pre style=\"white-space:pre;overflow-x:auto;line-height:normal;font-family:Menlo,'DejaVu Sans Mono',consolas,'Courier New',monospace\"><span style=\"font-weight: bold\"> Non-trainable params: </span><span style=\"color: #00af00; text-decoration-color: #00af00\">640</span> (2.50 KB)\n",
              "</pre>\n"
            ],
            "text/plain": [
              "\u001b[1m Non-trainable params: \u001b[0m\u001b[38;5;34m640\u001b[0m (2.50 KB)\n"
            ]
          },
          "metadata": {},
          "output_type": "display_data"
        }
      ],
      "source": [
        "cstft_model.summary()"
      ]
    },
    {
      "cell_type": "code",
      "execution_count": 101,
      "metadata": {
        "id": "FUG_cfmYDMc9"
      },
      "outputs": [],
      "source": [
        "mspec_input=keras.layers.Input(shape=(128,259,1),name=\"mspecInput\")\n",
        "x=keras.layers.Conv2D(32,5,strides=(1,3),padding='same')(mspec_input)\n",
        "x=keras.layers.BatchNormalization()(x)\n",
        "x=keras.layers.Activation(keras.activations.relu)(x)\n",
        "x=keras.layers.MaxPooling2D(pool_size=2,padding='valid')(x)\n",
        "\n",
        "x=keras.layers.Conv2D(64,3,strides=(1,2),padding='same')(x)\n",
        "x=keras.layers.BatchNormalization()(x)\n",
        "x=keras.layers.Activation(keras.activations.relu)(x)\n",
        "x=keras.layers.MaxPooling2D(pool_size=2,padding='valid')(x)\n",
        "\n",
        "x=keras.layers.Conv2D(96,2,padding='same')(x)\n",
        "x=keras.layers.BatchNormalization()(x)\n",
        "x=keras.layers.Activation(keras.activations.relu)(x)\n",
        "x=keras.layers.MaxPooling2D(pool_size=2,padding='valid')(x)\n",
        "\n",
        "x=keras.layers.Conv2D(128,2,padding='same')(x)\n",
        "x=keras.layers.BatchNormalization()(x)\n",
        "x=keras.layers.Activation(keras.activations.relu)(x)\n",
        "mspec_output=keras.layers.GlobalMaxPooling2D()(x)\n",
        "\n",
        "mspec_model=keras.Model(mspec_input, mspec_output, name=\"mspecModel\")\n",
        "\n"
      ]
    },
    {
      "cell_type": "code",
      "execution_count": 102,
      "metadata": {
        "id": "Erdr1RelWRNS"
      },
      "outputs": [
        {
          "name": "stdout",
          "output_type": "stream",
          "text": [
            "<class 'keras.src.models.functional.Functional'>\n"
          ]
        }
      ],
      "source": [
        "print(type(mspec_model))"
      ]
    },
    {
      "cell_type": "code",
      "execution_count": 103,
      "metadata": {
        "id": "tWPWt7yFDMub"
      },
      "outputs": [
        {
          "data": {
            "text/html": [
              "<pre style=\"white-space:pre;overflow-x:auto;line-height:normal;font-family:Menlo,'DejaVu Sans Mono',consolas,'Courier New',monospace\"><span style=\"font-weight: bold\">Model: \"mspecModel\"</span>\n",
              "</pre>\n"
            ],
            "text/plain": [
              "\u001b[1mModel: \"mspecModel\"\u001b[0m\n"
            ]
          },
          "metadata": {},
          "output_type": "display_data"
        },
        {
          "data": {
            "text/html": [
              "<pre style=\"white-space:pre;overflow-x:auto;line-height:normal;font-family:Menlo,'DejaVu Sans Mono',consolas,'Courier New',monospace\">┏━━━━━━━━━━━━━━━━━━━━━━━━━━━━━━━━━┳━━━━━━━━━━━━━━━━━━━━━━━━┳━━━━━━━━━━━━━━━┓\n",
              "┃<span style=\"font-weight: bold\"> Layer (type)                    </span>┃<span style=\"font-weight: bold\"> Output Shape           </span>┃<span style=\"font-weight: bold\">       Param # </span>┃\n",
              "┡━━━━━━━━━━━━━━━━━━━━━━━━━━━━━━━━━╇━━━━━━━━━━━━━━━━━━━━━━━━╇━━━━━━━━━━━━━━━┩\n",
              "│ mspecInput (<span style=\"color: #0087ff; text-decoration-color: #0087ff\">InputLayer</span>)         │ (<span style=\"color: #00d7ff; text-decoration-color: #00d7ff\">None</span>, <span style=\"color: #00af00; text-decoration-color: #00af00\">128</span>, <span style=\"color: #00af00; text-decoration-color: #00af00\">259</span>, <span style=\"color: #00af00; text-decoration-color: #00af00\">1</span>)    │             <span style=\"color: #00af00; text-decoration-color: #00af00\">0</span> │\n",
              "├─────────────────────────────────┼────────────────────────┼───────────────┤\n",
              "│ conv2d_8 (<span style=\"color: #0087ff; text-decoration-color: #0087ff\">Conv2D</span>)               │ (<span style=\"color: #00d7ff; text-decoration-color: #00d7ff\">None</span>, <span style=\"color: #00af00; text-decoration-color: #00af00\">128</span>, <span style=\"color: #00af00; text-decoration-color: #00af00\">87</span>, <span style=\"color: #00af00; text-decoration-color: #00af00\">32</span>)    │           <span style=\"color: #00af00; text-decoration-color: #00af00\">832</span> │\n",
              "├─────────────────────────────────┼────────────────────────┼───────────────┤\n",
              "│ batch_normalization_8           │ (<span style=\"color: #00d7ff; text-decoration-color: #00d7ff\">None</span>, <span style=\"color: #00af00; text-decoration-color: #00af00\">128</span>, <span style=\"color: #00af00; text-decoration-color: #00af00\">87</span>, <span style=\"color: #00af00; text-decoration-color: #00af00\">32</span>)    │           <span style=\"color: #00af00; text-decoration-color: #00af00\">128</span> │\n",
              "│ (<span style=\"color: #0087ff; text-decoration-color: #0087ff\">BatchNormalization</span>)            │                        │               │\n",
              "├─────────────────────────────────┼────────────────────────┼───────────────┤\n",
              "│ activation_8 (<span style=\"color: #0087ff; text-decoration-color: #0087ff\">Activation</span>)       │ (<span style=\"color: #00d7ff; text-decoration-color: #00d7ff\">None</span>, <span style=\"color: #00af00; text-decoration-color: #00af00\">128</span>, <span style=\"color: #00af00; text-decoration-color: #00af00\">87</span>, <span style=\"color: #00af00; text-decoration-color: #00af00\">32</span>)    │             <span style=\"color: #00af00; text-decoration-color: #00af00\">0</span> │\n",
              "├─────────────────────────────────┼────────────────────────┼───────────────┤\n",
              "│ max_pooling2d_6 (<span style=\"color: #0087ff; text-decoration-color: #0087ff\">MaxPooling2D</span>)  │ (<span style=\"color: #00d7ff; text-decoration-color: #00d7ff\">None</span>, <span style=\"color: #00af00; text-decoration-color: #00af00\">64</span>, <span style=\"color: #00af00; text-decoration-color: #00af00\">43</span>, <span style=\"color: #00af00; text-decoration-color: #00af00\">32</span>)     │             <span style=\"color: #00af00; text-decoration-color: #00af00\">0</span> │\n",
              "├─────────────────────────────────┼────────────────────────┼───────────────┤\n",
              "│ conv2d_9 (<span style=\"color: #0087ff; text-decoration-color: #0087ff\">Conv2D</span>)               │ (<span style=\"color: #00d7ff; text-decoration-color: #00d7ff\">None</span>, <span style=\"color: #00af00; text-decoration-color: #00af00\">64</span>, <span style=\"color: #00af00; text-decoration-color: #00af00\">22</span>, <span style=\"color: #00af00; text-decoration-color: #00af00\">64</span>)     │        <span style=\"color: #00af00; text-decoration-color: #00af00\">18,496</span> │\n",
              "├─────────────────────────────────┼────────────────────────┼───────────────┤\n",
              "│ batch_normalization_9           │ (<span style=\"color: #00d7ff; text-decoration-color: #00d7ff\">None</span>, <span style=\"color: #00af00; text-decoration-color: #00af00\">64</span>, <span style=\"color: #00af00; text-decoration-color: #00af00\">22</span>, <span style=\"color: #00af00; text-decoration-color: #00af00\">64</span>)     │           <span style=\"color: #00af00; text-decoration-color: #00af00\">256</span> │\n",
              "│ (<span style=\"color: #0087ff; text-decoration-color: #0087ff\">BatchNormalization</span>)            │                        │               │\n",
              "├─────────────────────────────────┼────────────────────────┼───────────────┤\n",
              "│ activation_9 (<span style=\"color: #0087ff; text-decoration-color: #0087ff\">Activation</span>)       │ (<span style=\"color: #00d7ff; text-decoration-color: #00d7ff\">None</span>, <span style=\"color: #00af00; text-decoration-color: #00af00\">64</span>, <span style=\"color: #00af00; text-decoration-color: #00af00\">22</span>, <span style=\"color: #00af00; text-decoration-color: #00af00\">64</span>)     │             <span style=\"color: #00af00; text-decoration-color: #00af00\">0</span> │\n",
              "├─────────────────────────────────┼────────────────────────┼───────────────┤\n",
              "│ max_pooling2d_7 (<span style=\"color: #0087ff; text-decoration-color: #0087ff\">MaxPooling2D</span>)  │ (<span style=\"color: #00d7ff; text-decoration-color: #00d7ff\">None</span>, <span style=\"color: #00af00; text-decoration-color: #00af00\">32</span>, <span style=\"color: #00af00; text-decoration-color: #00af00\">11</span>, <span style=\"color: #00af00; text-decoration-color: #00af00\">64</span>)     │             <span style=\"color: #00af00; text-decoration-color: #00af00\">0</span> │\n",
              "├─────────────────────────────────┼────────────────────────┼───────────────┤\n",
              "│ conv2d_10 (<span style=\"color: #0087ff; text-decoration-color: #0087ff\">Conv2D</span>)              │ (<span style=\"color: #00d7ff; text-decoration-color: #00d7ff\">None</span>, <span style=\"color: #00af00; text-decoration-color: #00af00\">32</span>, <span style=\"color: #00af00; text-decoration-color: #00af00\">11</span>, <span style=\"color: #00af00; text-decoration-color: #00af00\">96</span>)     │        <span style=\"color: #00af00; text-decoration-color: #00af00\">24,672</span> │\n",
              "├─────────────────────────────────┼────────────────────────┼───────────────┤\n",
              "│ batch_normalization_10          │ (<span style=\"color: #00d7ff; text-decoration-color: #00d7ff\">None</span>, <span style=\"color: #00af00; text-decoration-color: #00af00\">32</span>, <span style=\"color: #00af00; text-decoration-color: #00af00\">11</span>, <span style=\"color: #00af00; text-decoration-color: #00af00\">96</span>)     │           <span style=\"color: #00af00; text-decoration-color: #00af00\">384</span> │\n",
              "│ (<span style=\"color: #0087ff; text-decoration-color: #0087ff\">BatchNormalization</span>)            │                        │               │\n",
              "├─────────────────────────────────┼────────────────────────┼───────────────┤\n",
              "│ activation_10 (<span style=\"color: #0087ff; text-decoration-color: #0087ff\">Activation</span>)      │ (<span style=\"color: #00d7ff; text-decoration-color: #00d7ff\">None</span>, <span style=\"color: #00af00; text-decoration-color: #00af00\">32</span>, <span style=\"color: #00af00; text-decoration-color: #00af00\">11</span>, <span style=\"color: #00af00; text-decoration-color: #00af00\">96</span>)     │             <span style=\"color: #00af00; text-decoration-color: #00af00\">0</span> │\n",
              "├─────────────────────────────────┼────────────────────────┼───────────────┤\n",
              "│ max_pooling2d_8 (<span style=\"color: #0087ff; text-decoration-color: #0087ff\">MaxPooling2D</span>)  │ (<span style=\"color: #00d7ff; text-decoration-color: #00d7ff\">None</span>, <span style=\"color: #00af00; text-decoration-color: #00af00\">16</span>, <span style=\"color: #00af00; text-decoration-color: #00af00\">5</span>, <span style=\"color: #00af00; text-decoration-color: #00af00\">96</span>)      │             <span style=\"color: #00af00; text-decoration-color: #00af00\">0</span> │\n",
              "├─────────────────────────────────┼────────────────────────┼───────────────┤\n",
              "│ conv2d_11 (<span style=\"color: #0087ff; text-decoration-color: #0087ff\">Conv2D</span>)              │ (<span style=\"color: #00d7ff; text-decoration-color: #00d7ff\">None</span>, <span style=\"color: #00af00; text-decoration-color: #00af00\">16</span>, <span style=\"color: #00af00; text-decoration-color: #00af00\">5</span>, <span style=\"color: #00af00; text-decoration-color: #00af00\">128</span>)     │        <span style=\"color: #00af00; text-decoration-color: #00af00\">49,280</span> │\n",
              "├─────────────────────────────────┼────────────────────────┼───────────────┤\n",
              "│ batch_normalization_11          │ (<span style=\"color: #00d7ff; text-decoration-color: #00d7ff\">None</span>, <span style=\"color: #00af00; text-decoration-color: #00af00\">16</span>, <span style=\"color: #00af00; text-decoration-color: #00af00\">5</span>, <span style=\"color: #00af00; text-decoration-color: #00af00\">128</span>)     │           <span style=\"color: #00af00; text-decoration-color: #00af00\">512</span> │\n",
              "│ (<span style=\"color: #0087ff; text-decoration-color: #0087ff\">BatchNormalization</span>)            │                        │               │\n",
              "├─────────────────────────────────┼────────────────────────┼───────────────┤\n",
              "│ activation_11 (<span style=\"color: #0087ff; text-decoration-color: #0087ff\">Activation</span>)      │ (<span style=\"color: #00d7ff; text-decoration-color: #00d7ff\">None</span>, <span style=\"color: #00af00; text-decoration-color: #00af00\">16</span>, <span style=\"color: #00af00; text-decoration-color: #00af00\">5</span>, <span style=\"color: #00af00; text-decoration-color: #00af00\">128</span>)     │             <span style=\"color: #00af00; text-decoration-color: #00af00\">0</span> │\n",
              "├─────────────────────────────────┼────────────────────────┼───────────────┤\n",
              "│ global_max_pooling2d_2          │ (<span style=\"color: #00d7ff; text-decoration-color: #00d7ff\">None</span>, <span style=\"color: #00af00; text-decoration-color: #00af00\">128</span>)            │             <span style=\"color: #00af00; text-decoration-color: #00af00\">0</span> │\n",
              "│ (<span style=\"color: #0087ff; text-decoration-color: #0087ff\">GlobalMaxPooling2D</span>)            │                        │               │\n",
              "└─────────────────────────────────┴────────────────────────┴───────────────┘\n",
              "</pre>\n"
            ],
            "text/plain": [
              "┏━━━━━━━━━━━━━━━━━━━━━━━━━━━━━━━━━┳━━━━━━━━━━━━━━━━━━━━━━━━┳━━━━━━━━━━━━━━━┓\n",
              "┃\u001b[1m \u001b[0m\u001b[1mLayer (type)                   \u001b[0m\u001b[1m \u001b[0m┃\u001b[1m \u001b[0m\u001b[1mOutput Shape          \u001b[0m\u001b[1m \u001b[0m┃\u001b[1m \u001b[0m\u001b[1m      Param #\u001b[0m\u001b[1m \u001b[0m┃\n",
              "┡━━━━━━━━━━━━━━━━━━━━━━━━━━━━━━━━━╇━━━━━━━━━━━━━━━━━━━━━━━━╇━━━━━━━━━━━━━━━┩\n",
              "│ mspecInput (\u001b[38;5;33mInputLayer\u001b[0m)         │ (\u001b[38;5;45mNone\u001b[0m, \u001b[38;5;34m128\u001b[0m, \u001b[38;5;34m259\u001b[0m, \u001b[38;5;34m1\u001b[0m)    │             \u001b[38;5;34m0\u001b[0m │\n",
              "├─────────────────────────────────┼────────────────────────┼───────────────┤\n",
              "│ conv2d_8 (\u001b[38;5;33mConv2D\u001b[0m)               │ (\u001b[38;5;45mNone\u001b[0m, \u001b[38;5;34m128\u001b[0m, \u001b[38;5;34m87\u001b[0m, \u001b[38;5;34m32\u001b[0m)    │           \u001b[38;5;34m832\u001b[0m │\n",
              "├─────────────────────────────────┼────────────────────────┼───────────────┤\n",
              "│ batch_normalization_8           │ (\u001b[38;5;45mNone\u001b[0m, \u001b[38;5;34m128\u001b[0m, \u001b[38;5;34m87\u001b[0m, \u001b[38;5;34m32\u001b[0m)    │           \u001b[38;5;34m128\u001b[0m │\n",
              "│ (\u001b[38;5;33mBatchNormalization\u001b[0m)            │                        │               │\n",
              "├─────────────────────────────────┼────────────────────────┼───────────────┤\n",
              "│ activation_8 (\u001b[38;5;33mActivation\u001b[0m)       │ (\u001b[38;5;45mNone\u001b[0m, \u001b[38;5;34m128\u001b[0m, \u001b[38;5;34m87\u001b[0m, \u001b[38;5;34m32\u001b[0m)    │             \u001b[38;5;34m0\u001b[0m │\n",
              "├─────────────────────────────────┼────────────────────────┼───────────────┤\n",
              "│ max_pooling2d_6 (\u001b[38;5;33mMaxPooling2D\u001b[0m)  │ (\u001b[38;5;45mNone\u001b[0m, \u001b[38;5;34m64\u001b[0m, \u001b[38;5;34m43\u001b[0m, \u001b[38;5;34m32\u001b[0m)     │             \u001b[38;5;34m0\u001b[0m │\n",
              "├─────────────────────────────────┼────────────────────────┼───────────────┤\n",
              "│ conv2d_9 (\u001b[38;5;33mConv2D\u001b[0m)               │ (\u001b[38;5;45mNone\u001b[0m, \u001b[38;5;34m64\u001b[0m, \u001b[38;5;34m22\u001b[0m, \u001b[38;5;34m64\u001b[0m)     │        \u001b[38;5;34m18,496\u001b[0m │\n",
              "├─────────────────────────────────┼────────────────────────┼───────────────┤\n",
              "│ batch_normalization_9           │ (\u001b[38;5;45mNone\u001b[0m, \u001b[38;5;34m64\u001b[0m, \u001b[38;5;34m22\u001b[0m, \u001b[38;5;34m64\u001b[0m)     │           \u001b[38;5;34m256\u001b[0m │\n",
              "│ (\u001b[38;5;33mBatchNormalization\u001b[0m)            │                        │               │\n",
              "├─────────────────────────────────┼────────────────────────┼───────────────┤\n",
              "│ activation_9 (\u001b[38;5;33mActivation\u001b[0m)       │ (\u001b[38;5;45mNone\u001b[0m, \u001b[38;5;34m64\u001b[0m, \u001b[38;5;34m22\u001b[0m, \u001b[38;5;34m64\u001b[0m)     │             \u001b[38;5;34m0\u001b[0m │\n",
              "├─────────────────────────────────┼────────────────────────┼───────────────┤\n",
              "│ max_pooling2d_7 (\u001b[38;5;33mMaxPooling2D\u001b[0m)  │ (\u001b[38;5;45mNone\u001b[0m, \u001b[38;5;34m32\u001b[0m, \u001b[38;5;34m11\u001b[0m, \u001b[38;5;34m64\u001b[0m)     │             \u001b[38;5;34m0\u001b[0m │\n",
              "├─────────────────────────────────┼────────────────────────┼───────────────┤\n",
              "│ conv2d_10 (\u001b[38;5;33mConv2D\u001b[0m)              │ (\u001b[38;5;45mNone\u001b[0m, \u001b[38;5;34m32\u001b[0m, \u001b[38;5;34m11\u001b[0m, \u001b[38;5;34m96\u001b[0m)     │        \u001b[38;5;34m24,672\u001b[0m │\n",
              "├─────────────────────────────────┼────────────────────────┼───────────────┤\n",
              "│ batch_normalization_10          │ (\u001b[38;5;45mNone\u001b[0m, \u001b[38;5;34m32\u001b[0m, \u001b[38;5;34m11\u001b[0m, \u001b[38;5;34m96\u001b[0m)     │           \u001b[38;5;34m384\u001b[0m │\n",
              "│ (\u001b[38;5;33mBatchNormalization\u001b[0m)            │                        │               │\n",
              "├─────────────────────────────────┼────────────────────────┼───────────────┤\n",
              "│ activation_10 (\u001b[38;5;33mActivation\u001b[0m)      │ (\u001b[38;5;45mNone\u001b[0m, \u001b[38;5;34m32\u001b[0m, \u001b[38;5;34m11\u001b[0m, \u001b[38;5;34m96\u001b[0m)     │             \u001b[38;5;34m0\u001b[0m │\n",
              "├─────────────────────────────────┼────────────────────────┼───────────────┤\n",
              "│ max_pooling2d_8 (\u001b[38;5;33mMaxPooling2D\u001b[0m)  │ (\u001b[38;5;45mNone\u001b[0m, \u001b[38;5;34m16\u001b[0m, \u001b[38;5;34m5\u001b[0m, \u001b[38;5;34m96\u001b[0m)      │             \u001b[38;5;34m0\u001b[0m │\n",
              "├─────────────────────────────────┼────────────────────────┼───────────────┤\n",
              "│ conv2d_11 (\u001b[38;5;33mConv2D\u001b[0m)              │ (\u001b[38;5;45mNone\u001b[0m, \u001b[38;5;34m16\u001b[0m, \u001b[38;5;34m5\u001b[0m, \u001b[38;5;34m128\u001b[0m)     │        \u001b[38;5;34m49,280\u001b[0m │\n",
              "├─────────────────────────────────┼────────────────────────┼───────────────┤\n",
              "│ batch_normalization_11          │ (\u001b[38;5;45mNone\u001b[0m, \u001b[38;5;34m16\u001b[0m, \u001b[38;5;34m5\u001b[0m, \u001b[38;5;34m128\u001b[0m)     │           \u001b[38;5;34m512\u001b[0m │\n",
              "│ (\u001b[38;5;33mBatchNormalization\u001b[0m)            │                        │               │\n",
              "├─────────────────────────────────┼────────────────────────┼───────────────┤\n",
              "│ activation_11 (\u001b[38;5;33mActivation\u001b[0m)      │ (\u001b[38;5;45mNone\u001b[0m, \u001b[38;5;34m16\u001b[0m, \u001b[38;5;34m5\u001b[0m, \u001b[38;5;34m128\u001b[0m)     │             \u001b[38;5;34m0\u001b[0m │\n",
              "├─────────────────────────────────┼────────────────────────┼───────────────┤\n",
              "│ global_max_pooling2d_2          │ (\u001b[38;5;45mNone\u001b[0m, \u001b[38;5;34m128\u001b[0m)            │             \u001b[38;5;34m0\u001b[0m │\n",
              "│ (\u001b[38;5;33mGlobalMaxPooling2D\u001b[0m)            │                        │               │\n",
              "└─────────────────────────────────┴────────────────────────┴───────────────┘\n"
            ]
          },
          "metadata": {},
          "output_type": "display_data"
        },
        {
          "data": {
            "text/html": [
              "<pre style=\"white-space:pre;overflow-x:auto;line-height:normal;font-family:Menlo,'DejaVu Sans Mono',consolas,'Courier New',monospace\"><span style=\"font-weight: bold\"> Total params: </span><span style=\"color: #00af00; text-decoration-color: #00af00\">94,560</span> (369.38 KB)\n",
              "</pre>\n"
            ],
            "text/plain": [
              "\u001b[1m Total params: \u001b[0m\u001b[38;5;34m94,560\u001b[0m (369.38 KB)\n"
            ]
          },
          "metadata": {},
          "output_type": "display_data"
        },
        {
          "data": {
            "text/html": [
              "<pre style=\"white-space:pre;overflow-x:auto;line-height:normal;font-family:Menlo,'DejaVu Sans Mono',consolas,'Courier New',monospace\"><span style=\"font-weight: bold\"> Trainable params: </span><span style=\"color: #00af00; text-decoration-color: #00af00\">93,920</span> (366.88 KB)\n",
              "</pre>\n"
            ],
            "text/plain": [
              "\u001b[1m Trainable params: \u001b[0m\u001b[38;5;34m93,920\u001b[0m (366.88 KB)\n"
            ]
          },
          "metadata": {},
          "output_type": "display_data"
        },
        {
          "data": {
            "text/html": [
              "<pre style=\"white-space:pre;overflow-x:auto;line-height:normal;font-family:Menlo,'DejaVu Sans Mono',consolas,'Courier New',monospace\"><span style=\"font-weight: bold\"> Non-trainable params: </span><span style=\"color: #00af00; text-decoration-color: #00af00\">640</span> (2.50 KB)\n",
              "</pre>\n"
            ],
            "text/plain": [
              "\u001b[1m Non-trainable params: \u001b[0m\u001b[38;5;34m640\u001b[0m (2.50 KB)\n"
            ]
          },
          "metadata": {},
          "output_type": "display_data"
        }
      ],
      "source": [
        "mspec_model.summary()"
      ]
    },
    {
      "cell_type": "code",
      "execution_count": 104,
      "metadata": {
        "id": "UVY2_j7eDNBl"
      },
      "outputs": [],
      "source": [
        "input_mfcc=keras.layers.Input(shape=(20,259,1),name=\"mfcc\")\n",
        "mfcc=mfcc_model(input_mfcc)\n",
        "\n",
        "input_cstft=keras.layers.Input(shape=(12,259,1),name=\"cstft\")\n",
        "cstft=cstft_model(input_cstft)\n",
        "\n",
        "input_mSpec=keras.layers.Input(shape=(128,259,1),name=\"mspec\")\n",
        "mSpec=mspec_model(input_mSpec)\n",
        "\n",
        "\n",
        "concat=keras.layers.concatenate([mfcc,cstft,mSpec])\n",
        "hidden=keras.layers.Dropout(0.2)(concat)\n",
        "hidden=keras.layers.Dense(50,activation='relu')(concat)\n",
        "hidden=keras.layers.Dropout(0.3)(hidden)\n",
        "hidden=keras.layers.Dense(25,activation='relu')(hidden)\n",
        "hidden=keras.layers.Dropout(0.3)(hidden)\n",
        "output=keras.layers.Dense(8,activation='softmax')(hidden)\n",
        "\n",
        "net=keras.Model([input_mfcc,input_cstft,input_mSpec], output, name=\"Net\")"
      ]
    },
    {
      "cell_type": "code",
      "execution_count": 105,
      "metadata": {
        "id": "V4vxQu0WagPs"
      },
      "outputs": [
        {
          "name": "stdout",
          "output_type": "stream",
          "text": [
            "<class 'keras.src.backend.common.keras_tensor.KerasTensor'>\n"
          ]
        }
      ],
      "source": [
        "print(type(mfcc))"
      ]
    },
    {
      "cell_type": "code",
      "execution_count": 106,
      "metadata": {
        "id": "S0MqzsWiDNQ0"
      },
      "outputs": [
        {
          "data": {
            "text/html": [
              "<pre style=\"white-space:pre;overflow-x:auto;line-height:normal;font-family:Menlo,'DejaVu Sans Mono',consolas,'Courier New',monospace\"><span style=\"font-weight: bold\">Model: \"Net\"</span>\n",
              "</pre>\n"
            ],
            "text/plain": [
              "\u001b[1mModel: \"Net\"\u001b[0m\n"
            ]
          },
          "metadata": {},
          "output_type": "display_data"
        },
        {
          "data": {
            "text/html": [
              "<pre style=\"white-space:pre;overflow-x:auto;line-height:normal;font-family:Menlo,'DejaVu Sans Mono',consolas,'Courier New',monospace\">┏━━━━━━━━━━━━━━━━━━━━━┳━━━━━━━━━━━━━━━━━━━┳━━━━━━━━━━━━┳━━━━━━━━━━━━━━━━━━━┓\n",
              "┃<span style=\"font-weight: bold\"> Layer (type)        </span>┃<span style=\"font-weight: bold\"> Output Shape      </span>┃<span style=\"font-weight: bold\">    Param # </span>┃<span style=\"font-weight: bold\"> Connected to      </span>┃\n",
              "┡━━━━━━━━━━━━━━━━━━━━━╇━━━━━━━━━━━━━━━━━━━╇━━━━━━━━━━━━╇━━━━━━━━━━━━━━━━━━━┩\n",
              "│ mfcc (<span style=\"color: #0087ff; text-decoration-color: #0087ff\">InputLayer</span>)   │ (<span style=\"color: #00d7ff; text-decoration-color: #00d7ff\">None</span>, <span style=\"color: #00af00; text-decoration-color: #00af00\">20</span>, <span style=\"color: #00af00; text-decoration-color: #00af00\">259</span>,   │          <span style=\"color: #00af00; text-decoration-color: #00af00\">0</span> │ -                 │\n",
              "│                     │ <span style=\"color: #00af00; text-decoration-color: #00af00\">1</span>)                │            │                   │\n",
              "├─────────────────────┼───────────────────┼────────────┼───────────────────┤\n",
              "│ cstft (<span style=\"color: #0087ff; text-decoration-color: #0087ff\">InputLayer</span>)  │ (<span style=\"color: #00d7ff; text-decoration-color: #00d7ff\">None</span>, <span style=\"color: #00af00; text-decoration-color: #00af00\">12</span>, <span style=\"color: #00af00; text-decoration-color: #00af00\">259</span>,   │          <span style=\"color: #00af00; text-decoration-color: #00af00\">0</span> │ -                 │\n",
              "│                     │ <span style=\"color: #00af00; text-decoration-color: #00af00\">1</span>)                │            │                   │\n",
              "├─────────────────────┼───────────────────┼────────────┼───────────────────┤\n",
              "│ mspec (<span style=\"color: #0087ff; text-decoration-color: #0087ff\">InputLayer</span>)  │ (<span style=\"color: #00d7ff; text-decoration-color: #00d7ff\">None</span>, <span style=\"color: #00af00; text-decoration-color: #00af00\">128</span>, <span style=\"color: #00af00; text-decoration-color: #00af00\">259</span>,  │          <span style=\"color: #00af00; text-decoration-color: #00af00\">0</span> │ -                 │\n",
              "│                     │ <span style=\"color: #00af00; text-decoration-color: #00af00\">1</span>)                │            │                   │\n",
              "├─────────────────────┼───────────────────┼────────────┼───────────────────┤\n",
              "│ mfccModel           │ (<span style=\"color: #00d7ff; text-decoration-color: #00d7ff\">None</span>, <span style=\"color: #00af00; text-decoration-color: #00af00\">128</span>)       │     <span style=\"color: #00af00; text-decoration-color: #00af00\">94,560</span> │ mfcc[<span style=\"color: #00af00; text-decoration-color: #00af00\">0</span>][<span style=\"color: #00af00; text-decoration-color: #00af00\">0</span>]        │\n",
              "│ (<span style=\"color: #0087ff; text-decoration-color: #0087ff\">Functional</span>)        │                   │            │                   │\n",
              "├─────────────────────┼───────────────────┼────────────┼───────────────────┤\n",
              "│ cstftModel          │ (<span style=\"color: #00d7ff; text-decoration-color: #00d7ff\">None</span>, <span style=\"color: #00af00; text-decoration-color: #00af00\">128</span>)       │     <span style=\"color: #00af00; text-decoration-color: #00af00\">94,560</span> │ cstft[<span style=\"color: #00af00; text-decoration-color: #00af00\">0</span>][<span style=\"color: #00af00; text-decoration-color: #00af00\">0</span>]       │\n",
              "│ (<span style=\"color: #0087ff; text-decoration-color: #0087ff\">Functional</span>)        │                   │            │                   │\n",
              "├─────────────────────┼───────────────────┼────────────┼───────────────────┤\n",
              "│ mspecModel          │ (<span style=\"color: #00d7ff; text-decoration-color: #00d7ff\">None</span>, <span style=\"color: #00af00; text-decoration-color: #00af00\">128</span>)       │     <span style=\"color: #00af00; text-decoration-color: #00af00\">94,560</span> │ mspec[<span style=\"color: #00af00; text-decoration-color: #00af00\">0</span>][<span style=\"color: #00af00; text-decoration-color: #00af00\">0</span>]       │\n",
              "│ (<span style=\"color: #0087ff; text-decoration-color: #0087ff\">Functional</span>)        │                   │            │                   │\n",
              "├─────────────────────┼───────────────────┼────────────┼───────────────────┤\n",
              "│ concatenate         │ (<span style=\"color: #00d7ff; text-decoration-color: #00d7ff\">None</span>, <span style=\"color: #00af00; text-decoration-color: #00af00\">384</span>)       │          <span style=\"color: #00af00; text-decoration-color: #00af00\">0</span> │ mfccModel[<span style=\"color: #00af00; text-decoration-color: #00af00\">0</span>][<span style=\"color: #00af00; text-decoration-color: #00af00\">0</span>],  │\n",
              "│ (<span style=\"color: #0087ff; text-decoration-color: #0087ff\">Concatenate</span>)       │                   │            │ cstftModel[<span style=\"color: #00af00; text-decoration-color: #00af00\">0</span>][<span style=\"color: #00af00; text-decoration-color: #00af00\">0</span>], │\n",
              "│                     │                   │            │ mspecModel[<span style=\"color: #00af00; text-decoration-color: #00af00\">0</span>][<span style=\"color: #00af00; text-decoration-color: #00af00\">0</span>]  │\n",
              "├─────────────────────┼───────────────────┼────────────┼───────────────────┤\n",
              "│ dense (<span style=\"color: #0087ff; text-decoration-color: #0087ff\">Dense</span>)       │ (<span style=\"color: #00d7ff; text-decoration-color: #00d7ff\">None</span>, <span style=\"color: #00af00; text-decoration-color: #00af00\">50</span>)        │     <span style=\"color: #00af00; text-decoration-color: #00af00\">19,250</span> │ concatenate[<span style=\"color: #00af00; text-decoration-color: #00af00\">0</span>][<span style=\"color: #00af00; text-decoration-color: #00af00\">0</span>] │\n",
              "├─────────────────────┼───────────────────┼────────────┼───────────────────┤\n",
              "│ dropout_1 (<span style=\"color: #0087ff; text-decoration-color: #0087ff\">Dropout</span>) │ (<span style=\"color: #00d7ff; text-decoration-color: #00d7ff\">None</span>, <span style=\"color: #00af00; text-decoration-color: #00af00\">50</span>)        │          <span style=\"color: #00af00; text-decoration-color: #00af00\">0</span> │ dense[<span style=\"color: #00af00; text-decoration-color: #00af00\">0</span>][<span style=\"color: #00af00; text-decoration-color: #00af00\">0</span>]       │\n",
              "├─────────────────────┼───────────────────┼────────────┼───────────────────┤\n",
              "│ dense_1 (<span style=\"color: #0087ff; text-decoration-color: #0087ff\">Dense</span>)     │ (<span style=\"color: #00d7ff; text-decoration-color: #00d7ff\">None</span>, <span style=\"color: #00af00; text-decoration-color: #00af00\">25</span>)        │      <span style=\"color: #00af00; text-decoration-color: #00af00\">1,275</span> │ dropout_1[<span style=\"color: #00af00; text-decoration-color: #00af00\">0</span>][<span style=\"color: #00af00; text-decoration-color: #00af00\">0</span>]   │\n",
              "├─────────────────────┼───────────────────┼────────────┼───────────────────┤\n",
              "│ dropout_2 (<span style=\"color: #0087ff; text-decoration-color: #0087ff\">Dropout</span>) │ (<span style=\"color: #00d7ff; text-decoration-color: #00d7ff\">None</span>, <span style=\"color: #00af00; text-decoration-color: #00af00\">25</span>)        │          <span style=\"color: #00af00; text-decoration-color: #00af00\">0</span> │ dense_1[<span style=\"color: #00af00; text-decoration-color: #00af00\">0</span>][<span style=\"color: #00af00; text-decoration-color: #00af00\">0</span>]     │\n",
              "├─────────────────────┼───────────────────┼────────────┼───────────────────┤\n",
              "│ dense_2 (<span style=\"color: #0087ff; text-decoration-color: #0087ff\">Dense</span>)     │ (<span style=\"color: #00d7ff; text-decoration-color: #00d7ff\">None</span>, <span style=\"color: #00af00; text-decoration-color: #00af00\">8</span>)         │        <span style=\"color: #00af00; text-decoration-color: #00af00\">208</span> │ dropout_2[<span style=\"color: #00af00; text-decoration-color: #00af00\">0</span>][<span style=\"color: #00af00; text-decoration-color: #00af00\">0</span>]   │\n",
              "└─────────────────────┴───────────────────┴────────────┴───────────────────┘\n",
              "</pre>\n"
            ],
            "text/plain": [
              "┏━━━━━━━━━━━━━━━━━━━━━┳━━━━━━━━━━━━━━━━━━━┳━━━━━━━━━━━━┳━━━━━━━━━━━━━━━━━━━┓\n",
              "┃\u001b[1m \u001b[0m\u001b[1mLayer (type)       \u001b[0m\u001b[1m \u001b[0m┃\u001b[1m \u001b[0m\u001b[1mOutput Shape     \u001b[0m\u001b[1m \u001b[0m┃\u001b[1m \u001b[0m\u001b[1m   Param #\u001b[0m\u001b[1m \u001b[0m┃\u001b[1m \u001b[0m\u001b[1mConnected to     \u001b[0m\u001b[1m \u001b[0m┃\n",
              "┡━━━━━━━━━━━━━━━━━━━━━╇━━━━━━━━━━━━━━━━━━━╇━━━━━━━━━━━━╇━━━━━━━━━━━━━━━━━━━┩\n",
              "│ mfcc (\u001b[38;5;33mInputLayer\u001b[0m)   │ (\u001b[38;5;45mNone\u001b[0m, \u001b[38;5;34m20\u001b[0m, \u001b[38;5;34m259\u001b[0m,   │          \u001b[38;5;34m0\u001b[0m │ -                 │\n",
              "│                     │ \u001b[38;5;34m1\u001b[0m)                │            │                   │\n",
              "├─────────────────────┼───────────────────┼────────────┼───────────────────┤\n",
              "│ cstft (\u001b[38;5;33mInputLayer\u001b[0m)  │ (\u001b[38;5;45mNone\u001b[0m, \u001b[38;5;34m12\u001b[0m, \u001b[38;5;34m259\u001b[0m,   │          \u001b[38;5;34m0\u001b[0m │ -                 │\n",
              "│                     │ \u001b[38;5;34m1\u001b[0m)                │            │                   │\n",
              "├─────────────────────┼───────────────────┼────────────┼───────────────────┤\n",
              "│ mspec (\u001b[38;5;33mInputLayer\u001b[0m)  │ (\u001b[38;5;45mNone\u001b[0m, \u001b[38;5;34m128\u001b[0m, \u001b[38;5;34m259\u001b[0m,  │          \u001b[38;5;34m0\u001b[0m │ -                 │\n",
              "│                     │ \u001b[38;5;34m1\u001b[0m)                │            │                   │\n",
              "├─────────────────────┼───────────────────┼────────────┼───────────────────┤\n",
              "│ mfccModel           │ (\u001b[38;5;45mNone\u001b[0m, \u001b[38;5;34m128\u001b[0m)       │     \u001b[38;5;34m94,560\u001b[0m │ mfcc[\u001b[38;5;34m0\u001b[0m][\u001b[38;5;34m0\u001b[0m]        │\n",
              "│ (\u001b[38;5;33mFunctional\u001b[0m)        │                   │            │                   │\n",
              "├─────────────────────┼───────────────────┼────────────┼───────────────────┤\n",
              "│ cstftModel          │ (\u001b[38;5;45mNone\u001b[0m, \u001b[38;5;34m128\u001b[0m)       │     \u001b[38;5;34m94,560\u001b[0m │ cstft[\u001b[38;5;34m0\u001b[0m][\u001b[38;5;34m0\u001b[0m]       │\n",
              "│ (\u001b[38;5;33mFunctional\u001b[0m)        │                   │            │                   │\n",
              "├─────────────────────┼───────────────────┼────────────┼───────────────────┤\n",
              "│ mspecModel          │ (\u001b[38;5;45mNone\u001b[0m, \u001b[38;5;34m128\u001b[0m)       │     \u001b[38;5;34m94,560\u001b[0m │ mspec[\u001b[38;5;34m0\u001b[0m][\u001b[38;5;34m0\u001b[0m]       │\n",
              "│ (\u001b[38;5;33mFunctional\u001b[0m)        │                   │            │                   │\n",
              "├─────────────────────┼───────────────────┼────────────┼───────────────────┤\n",
              "│ concatenate         │ (\u001b[38;5;45mNone\u001b[0m, \u001b[38;5;34m384\u001b[0m)       │          \u001b[38;5;34m0\u001b[0m │ mfccModel[\u001b[38;5;34m0\u001b[0m][\u001b[38;5;34m0\u001b[0m],  │\n",
              "│ (\u001b[38;5;33mConcatenate\u001b[0m)       │                   │            │ cstftModel[\u001b[38;5;34m0\u001b[0m][\u001b[38;5;34m0\u001b[0m], │\n",
              "│                     │                   │            │ mspecModel[\u001b[38;5;34m0\u001b[0m][\u001b[38;5;34m0\u001b[0m]  │\n",
              "├─────────────────────┼───────────────────┼────────────┼───────────────────┤\n",
              "│ dense (\u001b[38;5;33mDense\u001b[0m)       │ (\u001b[38;5;45mNone\u001b[0m, \u001b[38;5;34m50\u001b[0m)        │     \u001b[38;5;34m19,250\u001b[0m │ concatenate[\u001b[38;5;34m0\u001b[0m][\u001b[38;5;34m0\u001b[0m] │\n",
              "├─────────────────────┼───────────────────┼────────────┼───────────────────┤\n",
              "│ dropout_1 (\u001b[38;5;33mDropout\u001b[0m) │ (\u001b[38;5;45mNone\u001b[0m, \u001b[38;5;34m50\u001b[0m)        │          \u001b[38;5;34m0\u001b[0m │ dense[\u001b[38;5;34m0\u001b[0m][\u001b[38;5;34m0\u001b[0m]       │\n",
              "├─────────────────────┼───────────────────┼────────────┼───────────────────┤\n",
              "│ dense_1 (\u001b[38;5;33mDense\u001b[0m)     │ (\u001b[38;5;45mNone\u001b[0m, \u001b[38;5;34m25\u001b[0m)        │      \u001b[38;5;34m1,275\u001b[0m │ dropout_1[\u001b[38;5;34m0\u001b[0m][\u001b[38;5;34m0\u001b[0m]   │\n",
              "├─────────────────────┼───────────────────┼────────────┼───────────────────┤\n",
              "│ dropout_2 (\u001b[38;5;33mDropout\u001b[0m) │ (\u001b[38;5;45mNone\u001b[0m, \u001b[38;5;34m25\u001b[0m)        │          \u001b[38;5;34m0\u001b[0m │ dense_1[\u001b[38;5;34m0\u001b[0m][\u001b[38;5;34m0\u001b[0m]     │\n",
              "├─────────────────────┼───────────────────┼────────────┼───────────────────┤\n",
              "│ dense_2 (\u001b[38;5;33mDense\u001b[0m)     │ (\u001b[38;5;45mNone\u001b[0m, \u001b[38;5;34m8\u001b[0m)         │        \u001b[38;5;34m208\u001b[0m │ dropout_2[\u001b[38;5;34m0\u001b[0m][\u001b[38;5;34m0\u001b[0m]   │\n",
              "└─────────────────────┴───────────────────┴────────────┴───────────────────┘\n"
            ]
          },
          "metadata": {},
          "output_type": "display_data"
        },
        {
          "data": {
            "text/html": [
              "<pre style=\"white-space:pre;overflow-x:auto;line-height:normal;font-family:Menlo,'DejaVu Sans Mono',consolas,'Courier New',monospace\"><span style=\"font-weight: bold\"> Total params: </span><span style=\"color: #00af00; text-decoration-color: #00af00\">304,413</span> (1.16 MB)\n",
              "</pre>\n"
            ],
            "text/plain": [
              "\u001b[1m Total params: \u001b[0m\u001b[38;5;34m304,413\u001b[0m (1.16 MB)\n"
            ]
          },
          "metadata": {},
          "output_type": "display_data"
        },
        {
          "data": {
            "text/html": [
              "<pre style=\"white-space:pre;overflow-x:auto;line-height:normal;font-family:Menlo,'DejaVu Sans Mono',consolas,'Courier New',monospace\"><span style=\"font-weight: bold\"> Trainable params: </span><span style=\"color: #00af00; text-decoration-color: #00af00\">302,493</span> (1.15 MB)\n",
              "</pre>\n"
            ],
            "text/plain": [
              "\u001b[1m Trainable params: \u001b[0m\u001b[38;5;34m302,493\u001b[0m (1.15 MB)\n"
            ]
          },
          "metadata": {},
          "output_type": "display_data"
        },
        {
          "data": {
            "text/html": [
              "<pre style=\"white-space:pre;overflow-x:auto;line-height:normal;font-family:Menlo,'DejaVu Sans Mono',consolas,'Courier New',monospace\"><span style=\"font-weight: bold\"> Non-trainable params: </span><span style=\"color: #00af00; text-decoration-color: #00af00\">1,920</span> (7.50 KB)\n",
              "</pre>\n"
            ],
            "text/plain": [
              "\u001b[1m Non-trainable params: \u001b[0m\u001b[38;5;34m1,920\u001b[0m (7.50 KB)\n"
            ]
          },
          "metadata": {},
          "output_type": "display_data"
        }
      ],
      "source": [
        "net.summary()"
      ]
    },
    {
      "cell_type": "code",
      "execution_count": 123,
      "metadata": {
        "id": "qKZuLMhiBLYW"
      },
      "outputs": [],
      "source": [
        "import keras\n",
        "import tensorflow as tf\n",
        "\n",
        "optimizer = tf.keras.optimizers.Nadam(learning_rate=0.001)\n",
        "\n",
        "net.compile(loss='sparse_categorical_crossentropy', optimizer=optimizer, metrics=['accuracy'])\n",
        "# tf.keras.backend.set_value(net.optimizer.learning_rate, 0.001)\n"
      ]
    },
    {
      "cell_type": "code",
      "execution_count": 125,
      "metadata": {
        "id": "FvfqvWQID5Cx"
      },
      "outputs": [
        {
          "name": "stdout",
          "output_type": "stream",
          "text": [
            "Epoch 1/100\n",
            "\u001b[1m162/162\u001b[0m \u001b[32m━━━━━━━━━━━━━━━━━━━━\u001b[0m\u001b[37m\u001b[0m \u001b[1m81s\u001b[0m 401ms/step - accuracy: 0.7383 - loss: 0.9953 - val_accuracy: 0.8330 - val_loss: 0.8108 - learning_rate: 0.0010\n",
            "Epoch 2/100\n",
            "\u001b[1m162/162\u001b[0m \u001b[32m━━━━━━━━━━━━━━━━━━━━\u001b[0m\u001b[37m\u001b[0m \u001b[1m60s\u001b[0m 369ms/step - accuracy: 0.8274 - loss: 0.5198 - val_accuracy: 0.8394 - val_loss: 0.5605 - learning_rate: 0.0010\n",
            "Epoch 3/100\n",
            "\u001b[1m162/162\u001b[0m \u001b[32m━━━━━━━━━━━━━━━━━━━━\u001b[0m\u001b[37m\u001b[0m \u001b[1m55s\u001b[0m 339ms/step - accuracy: 0.8375 - loss: 0.4415 - val_accuracy: 0.8470 - val_loss: 0.3988 - learning_rate: 0.0010\n",
            "Epoch 4/100\n",
            "\u001b[1m162/162\u001b[0m \u001b[32m━━━━━━━━━━━━━━━━━━━━\u001b[0m\u001b[37m\u001b[0m \u001b[1m56s\u001b[0m 344ms/step - accuracy: 0.8518 - loss: 0.4271 - val_accuracy: 0.8545 - val_loss: 0.3630 - learning_rate: 0.0010\n",
            "Epoch 5/100\n",
            "\u001b[1m162/162\u001b[0m \u001b[32m━━━━━━━━━━━━━━━━━━━━\u001b[0m\u001b[37m\u001b[0m \u001b[1m69s\u001b[0m 427ms/step - accuracy: 0.8620 - loss: 0.3887 - val_accuracy: 0.8504 - val_loss: 0.4671 - learning_rate: 0.0010\n",
            "Epoch 6/100\n",
            "\u001b[1m162/162\u001b[0m \u001b[32m━━━━━━━━━━━━━━━━━━━━\u001b[0m\u001b[37m\u001b[0m \u001b[1m104s\u001b[0m 641ms/step - accuracy: 0.8574 - loss: 0.3665 - val_accuracy: 0.8678 - val_loss: 0.3597 - learning_rate: 0.0010\n",
            "Epoch 7/100\n",
            "\u001b[1m162/162\u001b[0m \u001b[32m━━━━━━━━━━━━━━━━━━━━\u001b[0m\u001b[37m\u001b[0m \u001b[1m66s\u001b[0m 409ms/step - accuracy: 0.8711 - loss: 0.3347 - val_accuracy: 0.8707 - val_loss: 0.3152 - learning_rate: 0.0010\n",
            "Epoch 8/100\n",
            "\u001b[1m162/162\u001b[0m \u001b[32m━━━━━━━━━━━━━━━━━━━━\u001b[0m\u001b[37m\u001b[0m \u001b[1m63s\u001b[0m 388ms/step - accuracy: 0.8691 - loss: 0.3482 - val_accuracy: 0.8591 - val_loss: 0.4135 - learning_rate: 0.0010\n",
            "Epoch 9/100\n",
            "\u001b[1m162/162\u001b[0m \u001b[32m━━━━━━━━━━━━━━━━━━━━\u001b[0m\u001b[37m\u001b[0m \u001b[1m63s\u001b[0m 391ms/step - accuracy: 0.8560 - loss: 0.3533 - val_accuracy: 0.8736 - val_loss: 0.3015 - learning_rate: 0.0010\n",
            "Epoch 10/100\n",
            "\u001b[1m162/162\u001b[0m \u001b[32m━━━━━━━━━━━━━━━━━━━━\u001b[0m\u001b[37m\u001b[0m \u001b[1m63s\u001b[0m 391ms/step - accuracy: 0.8842 - loss: 0.2968 - val_accuracy: 0.8794 - val_loss: 0.3044 - learning_rate: 0.0010\n",
            "Epoch 11/100\n",
            "\u001b[1m162/162\u001b[0m \u001b[32m━━━━━━━━━━━━━━━━━━━━\u001b[0m\u001b[37m\u001b[0m \u001b[1m63s\u001b[0m 388ms/step - accuracy: 0.8765 - loss: 0.3044 - val_accuracy: 0.8661 - val_loss: 0.3821 - learning_rate: 0.0010\n",
            "Epoch 12/100\n",
            "\u001b[1m162/162\u001b[0m \u001b[32m━━━━━━━━━━━━━━━━━━━━\u001b[0m\u001b[37m\u001b[0m \u001b[1m62s\u001b[0m 383ms/step - accuracy: 0.8847 - loss: 0.2845 - val_accuracy: 0.8858 - val_loss: 0.3152 - learning_rate: 0.0010\n",
            "Epoch 13/100\n",
            "\u001b[1m162/162\u001b[0m \u001b[32m━━━━━━━━━━━━━━━━━━━━\u001b[0m\u001b[37m\u001b[0m \u001b[1m62s\u001b[0m 384ms/step - accuracy: 0.9064 - loss: 0.2422 - val_accuracy: 0.8545 - val_loss: 0.8024 - learning_rate: 0.0010\n",
            "Epoch 14/100\n",
            "\u001b[1m162/162\u001b[0m \u001b[32m━━━━━━━━━━━━━━━━━━━━\u001b[0m\u001b[37m\u001b[0m \u001b[1m0s\u001b[0m 376ms/step - accuracy: 0.8950 - loss: 0.2455\n",
            "Epoch 14: ReduceLROnPlateau reducing learning rate to 0.00010000000474974513.\n",
            "\u001b[1m162/162\u001b[0m \u001b[32m━━━━━━━━━━━━━━━━━━━━\u001b[0m\u001b[37m\u001b[0m \u001b[1m64s\u001b[0m 395ms/step - accuracy: 0.8950 - loss: 0.2455 - val_accuracy: 0.8933 - val_loss: 0.3336 - learning_rate: 0.0010\n",
            "Epoch 14: early stopping\n"
          ]
        }
      ],
      "source": [
        "history=net.fit(\n",
        "    {\"mfcc\":mfcc_train,\"cstft\":cstft_train,\"mspec\":mSpec_train},\n",
        "    Y_train,\n",
        "    validation_data=({\"mfcc\":mfcc_test,\"cstft\":cstft_test,\"mspec\":mSpec_test},Y_test),\n",
        "    epochs=100,verbose=1,\n",
        "    callbacks=my_callbacks\n",
        ")"
      ]
    },
    {
      "cell_type": "markdown",
      "metadata": {
        "id": "FqwJYoLmCuDY"
      },
      "source": []
    },
    {
      "cell_type": "code",
      "execution_count": 126,
      "metadata": {
        "id": "DpiAP1a3Czo7"
      },
      "outputs": [],
      "source": [
        "from sklearn.metrics import accuracy_score"
      ]
    },
    {
      "cell_type": "code",
      "execution_count": 127,
      "metadata": {},
      "outputs": [
        {
          "data": {
            "image/png": "[encoded data removed]",
            "text/plain": [
              "<Figure size 640x480 with 1 Axes>"
            ]
          },
          "metadata": {},
          "output_type": "display_data"
        }
      ],
      "source": [
        "pd.DataFrame(history.history).plot()\n",
        "plt.grid(True)\n",
        "plt.show()"
      ]
    },
    {
      "cell_type": "code",
      "execution_count": 128,
      "metadata": {},
      "outputs": [
        {
          "ename": "ValueError",
          "evalue": "The name \"mfcc\" is used 2 times in the model. All operation names should be unique.",
          "output_type": "error",
          "traceback": [
            "\u001b[1;31m---------------------------------------------------------------------------\u001b[0m",
            "\u001b[1;31mValueError\u001b[0m                                Traceback (most recent call last)",
            "Cell \u001b[1;32mIn[128], line 13\u001b[0m\n\u001b[0;32m     10\u001b[0m hidden\u001b[38;5;241m=\u001b[39mkeras\u001b[38;5;241m.\u001b[39mlayers\u001b[38;5;241m.\u001b[39mDropout(\u001b[38;5;241m0.3\u001b[39m)(hidden)\n\u001b[0;32m     11\u001b[0m output\u001b[38;5;241m=\u001b[39mkeras\u001b[38;5;241m.\u001b[39mlayers\u001b[38;5;241m.\u001b[39mDense(\u001b[38;5;241m8\u001b[39m,activation\u001b[38;5;241m=\u001b[39m\u001b[38;5;124m'\u001b[39m\u001b[38;5;124msoftmax\u001b[39m\u001b[38;5;124m'\u001b[39m)(hidden)\n\u001b[1;32m---> 13\u001b[0m net\u001b[38;5;241m=\u001b[39m\u001b[43mkeras\u001b[49m\u001b[38;5;241;43m.\u001b[39;49m\u001b[43mModel\u001b[49m\u001b[43m(\u001b[49m\u001b[43minput_mfcc\u001b[49m\u001b[43m,\u001b[49m\u001b[43m \u001b[49m\u001b[43moutput\u001b[49m\u001b[43m,\u001b[49m\u001b[43m \u001b[49m\u001b[43mname\u001b[49m\u001b[38;5;241;43m=\u001b[39;49m\u001b[38;5;124;43m\"\u001b[39;49m\u001b[38;5;124;43mNet\u001b[39;49m\u001b[38;5;124;43m\"\u001b[39;49m\u001b[43m)\u001b[49m\n",
            "File \u001b[1;32mc:\\Users\\mahii\\AppData\\Local\\Programs\\Python\\Python311\\Lib\\site-packages\\keras\\src\\models\\model.py:141\u001b[0m, in \u001b[0;36mModel.__new__\u001b[1;34m(cls, *args, **kwargs)\u001b[0m\n\u001b[0;32m    138\u001b[0m \u001b[38;5;28;01mif\u001b[39;00m functional_init_arguments(args, kwargs) \u001b[38;5;129;01mand\u001b[39;00m \u001b[38;5;28mcls\u001b[39m \u001b[38;5;241m==\u001b[39m Model:\n\u001b[0;32m    139\u001b[0m     \u001b[38;5;28;01mfrom\u001b[39;00m \u001b[38;5;21;01mkeras\u001b[39;00m\u001b[38;5;21;01m.\u001b[39;00m\u001b[38;5;21;01msrc\u001b[39;00m\u001b[38;5;21;01m.\u001b[39;00m\u001b[38;5;21;01mmodels\u001b[39;00m \u001b[38;5;28;01mimport\u001b[39;00m functional\n\u001b[1;32m--> 141\u001b[0m     \u001b[38;5;28;01mreturn\u001b[39;00m \u001b[43mfunctional\u001b[49m\u001b[38;5;241;43m.\u001b[39;49m\u001b[43mFunctional\u001b[49m\u001b[43m(\u001b[49m\u001b[38;5;241;43m*\u001b[39;49m\u001b[43margs\u001b[49m\u001b[43m,\u001b[49m\u001b[43m \u001b[49m\u001b[38;5;241;43m*\u001b[39;49m\u001b[38;5;241;43m*\u001b[39;49m\u001b[43mkwargs\u001b[49m\u001b[43m)\u001b[49m\n\u001b[0;32m    142\u001b[0m \u001b[38;5;28;01mreturn\u001b[39;00m typing\u001b[38;5;241m.\u001b[39mcast(Model, \u001b[38;5;28msuper\u001b[39m()\u001b[38;5;241m.\u001b[39m\u001b[38;5;21m__new__\u001b[39m(\u001b[38;5;28mcls\u001b[39m))\n",
            "File \u001b[1;32mc:\\Users\\mahii\\AppData\\Local\\Programs\\Python\\Python311\\Lib\\site-packages\\keras\\src\\utils\\tracking.py:28\u001b[0m, in \u001b[0;36mno_automatic_dependency_tracking.<locals>.wrapper\u001b[1;34m(*args, **kwargs)\u001b[0m\n\u001b[0;32m     25\u001b[0m \u001b[38;5;129m@wraps\u001b[39m(fn)\n\u001b[0;32m     26\u001b[0m \u001b[38;5;28;01mdef\u001b[39;00m \u001b[38;5;21mwrapper\u001b[39m(\u001b[38;5;241m*\u001b[39margs, \u001b[38;5;241m*\u001b[39m\u001b[38;5;241m*\u001b[39mkwargs):\n\u001b[0;32m     27\u001b[0m     \u001b[38;5;28;01mwith\u001b[39;00m DotNotTrackScope():\n\u001b[1;32m---> 28\u001b[0m         \u001b[38;5;28;01mreturn\u001b[39;00m \u001b[43mfn\u001b[49m\u001b[43m(\u001b[49m\u001b[38;5;241;43m*\u001b[39;49m\u001b[43margs\u001b[49m\u001b[43m,\u001b[49m\u001b[43m \u001b[49m\u001b[38;5;241;43m*\u001b[39;49m\u001b[38;5;241;43m*\u001b[39;49m\u001b[43mkwargs\u001b[49m\u001b[43m)\u001b[49m\n",
            "File \u001b[1;32mc:\\Users\\mahii\\AppData\\Local\\Programs\\Python\\Python311\\Lib\\site-packages\\keras\\src\\models\\functional.py:162\u001b[0m, in \u001b[0;36mFunctional.__init__\u001b[1;34m(self, inputs, outputs, name, **kwargs)\u001b[0m\n\u001b[0;32m    159\u001b[0m \u001b[38;5;28;01mif\u001b[39;00m \u001b[38;5;129;01mnot\u001b[39;00m \u001b[38;5;28mall\u001b[39m([is_input_keras_tensor(t) \u001b[38;5;28;01mfor\u001b[39;00m t \u001b[38;5;129;01min\u001b[39;00m tree\u001b[38;5;241m.\u001b[39mflatten(inputs)]):\n\u001b[0;32m    160\u001b[0m     inputs, outputs \u001b[38;5;241m=\u001b[39m clone_graph_nodes(inputs, outputs)\n\u001b[1;32m--> 162\u001b[0m \u001b[43mFunction\u001b[49m\u001b[38;5;241;43m.\u001b[39;49m\u001b[38;5;21;43m__init__\u001b[39;49m\u001b[43m(\u001b[49m\u001b[38;5;28;43mself\u001b[39;49m\u001b[43m,\u001b[49m\u001b[43m \u001b[49m\u001b[43minputs\u001b[49m\u001b[43m,\u001b[49m\u001b[43m \u001b[49m\u001b[43moutputs\u001b[49m\u001b[43m,\u001b[49m\u001b[43m \u001b[49m\u001b[43mname\u001b[49m\u001b[38;5;241;43m=\u001b[39;49m\u001b[43mname\u001b[49m\u001b[43m,\u001b[49m\u001b[43m \u001b[49m\u001b[38;5;241;43m*\u001b[39;49m\u001b[38;5;241;43m*\u001b[39;49m\u001b[43mkwargs\u001b[49m\u001b[43m)\u001b[49m\n\u001b[0;32m    164\u001b[0m \u001b[38;5;28;01mif\u001b[39;00m trainable \u001b[38;5;129;01mis\u001b[39;00m \u001b[38;5;129;01mnot\u001b[39;00m \u001b[38;5;28;01mNone\u001b[39;00m:\n\u001b[0;32m    165\u001b[0m     \u001b[38;5;28mself\u001b[39m\u001b[38;5;241m.\u001b[39mtrainable \u001b[38;5;241m=\u001b[39m trainable\n",
            "File \u001b[1;32mc:\\Users\\mahii\\AppData\\Local\\Programs\\Python\\Python311\\Lib\\site-packages\\keras\\src\\ops\\function.py:77\u001b[0m, in \u001b[0;36mFunction.__init__\u001b[1;34m(self, inputs, outputs, name)\u001b[0m\n\u001b[0;32m     74\u001b[0m \u001b[38;5;28;01mif\u001b[39;00m backend() \u001b[38;5;241m==\u001b[39m \u001b[38;5;124m\"\u001b[39m\u001b[38;5;124mtensorflow\u001b[39m\u001b[38;5;124m\"\u001b[39m:\n\u001b[0;32m     75\u001b[0m     \u001b[38;5;28mself\u001b[39m\u001b[38;5;241m.\u001b[39m_self_setattr_tracking \u001b[38;5;241m=\u001b[39m _self_setattr_tracking\n\u001b[1;32m---> 77\u001b[0m (nodes, nodes_by_depth, operations, operations_by_depth) \u001b[38;5;241m=\u001b[39m \u001b[43mmap_graph\u001b[49m\u001b[43m(\u001b[49m\n\u001b[0;32m     78\u001b[0m \u001b[43m    \u001b[49m\u001b[38;5;28;43mself\u001b[39;49m\u001b[38;5;241;43m.\u001b[39;49m\u001b[43m_inputs\u001b[49m\u001b[43m,\u001b[49m\u001b[43m \u001b[49m\u001b[38;5;28;43mself\u001b[39;49m\u001b[38;5;241;43m.\u001b[39;49m\u001b[43m_outputs\u001b[49m\n\u001b[0;32m     79\u001b[0m \u001b[43m\u001b[49m\u001b[43m)\u001b[49m\n\u001b[0;32m     80\u001b[0m \u001b[38;5;28mself\u001b[39m\u001b[38;5;241m.\u001b[39m_nodes \u001b[38;5;241m=\u001b[39m nodes\n\u001b[0;32m     81\u001b[0m \u001b[38;5;28mself\u001b[39m\u001b[38;5;241m.\u001b[39m_nodes_by_depth \u001b[38;5;241m=\u001b[39m nodes_by_depth\n",
            "File \u001b[1;32mc:\\Users\\mahii\\AppData\\Local\\Programs\\Python\\Python311\\Lib\\site-packages\\keras\\src\\ops\\function.py:311\u001b[0m, in \u001b[0;36mmap_graph\u001b[1;34m(inputs, outputs)\u001b[0m\n\u001b[0;32m    309\u001b[0m \u001b[38;5;28;01mfor\u001b[39;00m name \u001b[38;5;129;01min\u001b[39;00m all_names:\n\u001b[0;32m    310\u001b[0m     \u001b[38;5;28;01mif\u001b[39;00m all_names\u001b[38;5;241m.\u001b[39mcount(name) \u001b[38;5;241m!=\u001b[39m \u001b[38;5;241m1\u001b[39m:\n\u001b[1;32m--> 311\u001b[0m         \u001b[38;5;28;01mraise\u001b[39;00m \u001b[38;5;167;01mValueError\u001b[39;00m(\n\u001b[0;32m    312\u001b[0m             \u001b[38;5;124mf\u001b[39m\u001b[38;5;124m'\u001b[39m\u001b[38;5;124mThe name \u001b[39m\u001b[38;5;124m\"\u001b[39m\u001b[38;5;132;01m{\u001b[39;00mname\u001b[38;5;132;01m}\u001b[39;00m\u001b[38;5;124m\"\u001b[39m\u001b[38;5;124m is used \u001b[39m\u001b[38;5;132;01m{\u001b[39;00mall_names\u001b[38;5;241m.\u001b[39mcount(name)\u001b[38;5;132;01m}\u001b[39;00m\u001b[38;5;124m \u001b[39m\u001b[38;5;124m'\u001b[39m\n\u001b[0;32m    313\u001b[0m             \u001b[38;5;124m\"\u001b[39m\u001b[38;5;124mtimes in the model. All operation names should be unique.\u001b[39m\u001b[38;5;124m\"\u001b[39m\n\u001b[0;32m    314\u001b[0m         )\n\u001b[0;32m    315\u001b[0m \u001b[38;5;28;01mreturn\u001b[39;00m network_nodes, nodes_by_depth, operations, operations_by_depth\n",
            "\u001b[1;31mValueError\u001b[0m: The name \"mfcc\" is used 2 times in the model. All operation names should be unique."
          ]
        }
      ],
      "source": [
        "input_mfcc=keras.layers.Input(shape=(20,259,1),name=\"mfcc\")\n",
        "mfcc=mfcc_model(input_mfcc)\n",
        "\n",
        "\n",
        "\n",
        "hidden=keras.layers.Dropout(0.2)(mfcc)\n",
        "hidden=keras.layers.Dense(50,activation='relu')(mfcc)\n",
        "hidden=keras.layers.Dropout(0.3)(hidden)\n",
        "hidden=keras.layers.Dense(25,activation='relu')(hidden)\n",
        "hidden=keras.layers.Dropout(0.3)(hidden)\n",
        "output=keras.layers.Dense(8,activation='softmax')(hidden)\n",
        "\n",
        "net=keras.Model(input_mfcc, output, name=\"Net\")"
      ]
    },
    {
      "cell_type": "code",
      "execution_count": null,
      "metadata": {},
      "outputs": [],
      "source": []
    },
    {
      "cell_type": "code",
      "execution_count": null,
      "metadata": {},
      "outputs": [],
      "source": []
    },
    {
      "cell_type": "code",
      "execution_count": null,
      "metadata": {},
      "outputs": [],
      "source": []
    },
    {
      "cell_type": "code",
      "execution_count": null,
      "metadata": {},
      "outputs": [],
      "source": []
    },
    {
      "cell_type": "code",
      "execution_count": null,
      "metadata": {},
      "outputs": [],
      "source": [
        "shutil.rmtree('/content/sample_data/processed_clips')"
      ]
    }
  ],
  "metadata": {
    "colab": {
      "provenance": []
    },
    "kernelspec": {
      "display_name": "Python 3",
      "name": "python3"
    },
    "language_info": {
      "codemirror_mode": {
        "name": "ipython",
        "version": 3
      },
      "file_extension": ".py",
      "mimetype": "text/x-python",
      "name": "python",
      "nbconvert_exporter": "python",
      "pygments_lexer": "ipython3",
      "version": "3.11.9"
    }
  },
  "nbformat": 4,
  "nbformat_minor": 0
}
