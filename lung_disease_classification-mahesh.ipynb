{
  "cells": [
    {
      "cell_type": "code",
      "execution_count": 1,
      "metadata": {
        "id": "S2NExm_oPva3"
      },
      "outputs": [],
      "source": [
        "import pandas as pd\n",
        "import numpy as np\n",
        "import os\n",
        "import tqdm\n",
        "from os import listdir\n",
        "import librosa\n",
        "import soundfile as sf\n",
        "import shutil"
      ]
    },
    {
      "cell_type": "code",
      "execution_count": 3,
      "metadata": {
        "id": "T-n2oWNcQZqO"
      },
      "outputs": [],
      "source": [
        "\n",
        "directory = \"C:/Users/mahii/OneDrive/Desktop/practice/MajorProject/Respiratory sounds/audio_and_txt_files\"\n"
      ]
    },
    {
      "cell_type": "code",
      "execution_count": 4,
      "metadata": {
        "id": "dS37arVZRXv_"
      },
      "outputs": [],
      "source": [
        "content = listdir(directory)"
      ]
    },
    {
      "cell_type": "code",
      "execution_count": 5,
      "metadata": {
        "colab": {
          "base_uri": "https://localhost:8080/"
        },
        "id": "i14u4U2gzyWA",
        "outputId": "1b68ca24-ad27-461b-c18e-af405753d48b"
      },
      "outputs": [
        {
          "data": {
            "text/plain": [
              "['101_1b1_Al_sc_Meditron.txt',\n",
              " '101_1b1_Al_sc_Meditron.wav',\n",
              " '101_1b1_Pr_sc_Meditron.txt',\n",
              " '101_1b1_Pr_sc_Meditron.wav',\n",
              " '102_1b1_Ar_sc_Meditron.txt',\n",
              " '102_1b1_Ar_sc_Meditron.wav',\n",
              " '103_2b2_Ar_mc_LittC2SE.txt',\n",
              " '103_2b2_Ar_mc_LittC2SE.wav',\n",
              " '104_1b1_Al_sc_Litt3200.txt',\n",
              " '104_1b1_Al_sc_Litt3200.wav']"
            ]
          },
          "execution_count": 5,
          "metadata": {},
          "output_type": "execute_result"
        }
      ],
      "source": [
        "content[0:10]"
      ]
    },
    {
      "cell_type": "code",
      "execution_count": 6,
      "metadata": {
        "id": "_UNDXg7Rdr-r"
      },
      "outputs": [],
      "source": [
        "patient_lung_data = []\n",
        "l = [s for s in content if '.txt' in s]\n",
        "for i in l:\n",
        "  for lines in open(directory+'/'+i,'r').readlines():\n",
        "    patient_lung_data.append([i.split('.')[0].split(\"_\")[0],i.split('.')[0],lines.split()[0],lines.split()[1],lines.split()[2],lines.split()[3]])"
      ]
    },
    {
      "cell_type": "code",
      "execution_count": 8,
      "metadata": {
        "id": "Ts6giC43AaGn"
      },
      "outputs": [],
      "source": [
        "def patient(x):\n",
        "  patient_list = []\n",
        "  patient_id = x.split('.')[0].split(\"_\")[0]\n",
        "  recording_index = x.split('.')[0].split(\"_\")[1]\n",
        "  chest_location = x.split('.')[0].split(\"_\")[2]\n",
        "  acquisition_mode = x.split('.')[0].split(\"_\")[3]\n",
        "  recording_equipment = x.split('.')[0].split(\"_\")[4]\n",
        "  filename = x.split('.')[0]\n",
        "\n",
        "  patient_list.append(patient_id)\n",
        "  patient_list.append(recording_index)\n",
        "  patient_list.append(chest_location)\n",
        "  patient_list.append(acquisition_mode)\n",
        "  patient_list.append(recording_equipment)\n",
        "  patient_list.append(filename)\n",
        "\n",
        "  return patient_list\n",
        "\n"
      ]
    },
    {
      "cell_type": "code",
      "execution_count": 9,
      "metadata": {
        "colab": {
          "base_uri": "https://localhost:8080/"
        },
        "id": "E2cc7CZLTsSH",
        "outputId": "95532ddd-2b60-4ba5-b22c-a204e8be6f71"
      },
      "outputs": [],
      "source": [
        "\n",
        "df = [patient(s) for s in content if '.txt' in s]"
      ]
    },
    {
      "cell_type": "code",
      "execution_count": 10,
      "metadata": {
        "id": "sVdeNSw5Zii3"
      },
      "outputs": [],
      "source": [
        "data = pd.DataFrame(df)"
      ]
    },
    {
      "cell_type": "code",
      "execution_count": 12,
      "metadata": {
        "id": "J5Ery7ifctrM"
      },
      "outputs": [],
      "source": [
        "data.columns = ['patient_id','recording_index','chest_location','acquisition_mode','recording_equipment' ,'filename']"
      ]
    },
    {
      "cell_type": "code",
      "execution_count": 13,
      "metadata": {
        "colab": {
          "base_uri": "https://localhost:8080/",
          "height": 206
        },
        "id": "4XwItaH2dQeD",
        "outputId": "40ac682a-a63c-4756-d12c-17956149399c"
      },
      "outputs": [
        {
          "data": {
            "text/html": [
              "<div>\n",
              "<style scoped>\n",
              "    .dataframe tbody tr th:only-of-type {\n",
              "        vertical-align: middle;\n",
              "    }\n",
              "\n",
              "    .dataframe tbody tr th {\n",
              "        vertical-align: top;\n",
              "    }\n",
              "\n",
              "    .dataframe thead th {\n",
              "        text-align: right;\n",
              "    }\n",
              "</style>\n",
              "<table border=\"1\" class=\"dataframe\">\n",
              "  <thead>\n",
              "    <tr style=\"text-align: right;\">\n",
              "      <th></th>\n",
              "      <th>patient_id</th>\n",
              "      <th>recording_index</th>\n",
              "      <th>chest_location</th>\n",
              "      <th>acquisition_mode</th>\n",
              "      <th>recording_equipment</th>\n",
              "      <th>filename</th>\n",
              "    </tr>\n",
              "  </thead>\n",
              "  <tbody>\n",
              "    <tr>\n",
              "      <th>0</th>\n",
              "      <td>101</td>\n",
              "      <td>1b1</td>\n",
              "      <td>Al</td>\n",
              "      <td>sc</td>\n",
              "      <td>Meditron</td>\n",
              "      <td>101_1b1_Al_sc_Meditron</td>\n",
              "    </tr>\n",
              "    <tr>\n",
              "      <th>1</th>\n",
              "      <td>101</td>\n",
              "      <td>1b1</td>\n",
              "      <td>Pr</td>\n",
              "      <td>sc</td>\n",
              "      <td>Meditron</td>\n",
              "      <td>101_1b1_Pr_sc_Meditron</td>\n",
              "    </tr>\n",
              "    <tr>\n",
              "      <th>2</th>\n",
              "      <td>102</td>\n",
              "      <td>1b1</td>\n",
              "      <td>Ar</td>\n",
              "      <td>sc</td>\n",
              "      <td>Meditron</td>\n",
              "      <td>102_1b1_Ar_sc_Meditron</td>\n",
              "    </tr>\n",
              "    <tr>\n",
              "      <th>3</th>\n",
              "      <td>103</td>\n",
              "      <td>2b2</td>\n",
              "      <td>Ar</td>\n",
              "      <td>mc</td>\n",
              "      <td>LittC2SE</td>\n",
              "      <td>103_2b2_Ar_mc_LittC2SE</td>\n",
              "    </tr>\n",
              "    <tr>\n",
              "      <th>4</th>\n",
              "      <td>104</td>\n",
              "      <td>1b1</td>\n",
              "      <td>Al</td>\n",
              "      <td>sc</td>\n",
              "      <td>Litt3200</td>\n",
              "      <td>104_1b1_Al_sc_Litt3200</td>\n",
              "    </tr>\n",
              "  </tbody>\n",
              "</table>\n",
              "</div>"
            ],
            "text/plain": [
              "  patient_id recording_index chest_location acquisition_mode  \\\n",
              "0        101             1b1             Al               sc   \n",
              "1        101             1b1             Pr               sc   \n",
              "2        102             1b1             Ar               sc   \n",
              "3        103             2b2             Ar               mc   \n",
              "4        104             1b1             Al               sc   \n",
              "\n",
              "  recording_equipment                filename  \n",
              "0            Meditron  101_1b1_Al_sc_Meditron  \n",
              "1            Meditron  101_1b1_Pr_sc_Meditron  \n",
              "2            Meditron  102_1b1_Ar_sc_Meditron  \n",
              "3            LittC2SE  103_2b2_Ar_mc_LittC2SE  \n",
              "4            Litt3200  104_1b1_Al_sc_Litt3200  "
            ]
          },
          "execution_count": 13,
          "metadata": {},
          "output_type": "execute_result"
        }
      ],
      "source": [
        "data.head()"
      ]
    },
    {
      "cell_type": "code",
      "execution_count": 18,
      "metadata": {
        "colab": {
          "base_uri": "https://localhost:8080/"
        },
        "id": "73PHBAFq644f",
        "outputId": "0450801c-b3c3-4737-aa8e-814874ff7944"
      },
      "outputs": [
        {
          "name": "stdout",
          "output_type": "stream",
          "text": [
            "<class 'pandas.core.frame.DataFrame'>\n",
            "RangeIndex: 920 entries, 0 to 919\n",
            "Data columns (total 6 columns):\n",
            " #   Column               Non-Null Count  Dtype \n",
            "---  ------               --------------  ----- \n",
            " 0   patient_id           920 non-null    object\n",
            " 1   recording_index      920 non-null    object\n",
            " 2   chest_location       920 non-null    object\n",
            " 3   acquisition_mode     920 non-null    object\n",
            " 4   recording_equipment  920 non-null    object\n",
            " 5   filename             920 non-null    object\n",
            "dtypes: object(6)\n",
            "memory usage: 43.3+ KB\n"
          ]
        }
      ],
      "source": [
        "data.info()"
      ]
    },
    {
      "cell_type": "code",
      "execution_count": 21,
      "metadata": {
        "colab": {
          "base_uri": "https://localhost:8080/",
          "height": 206
        },
        "id": "1dI65ROW7SiG",
        "outputId": "dc933172-279a-4f00-d774-75ad09225436"
      },
      "outputs": [
        {
          "data": {
            "text/html": [
              "<div>\n",
              "<style scoped>\n",
              "    .dataframe tbody tr th:only-of-type {\n",
              "        vertical-align: middle;\n",
              "    }\n",
              "\n",
              "    .dataframe tbody tr th {\n",
              "        vertical-align: top;\n",
              "    }\n",
              "\n",
              "    .dataframe thead th {\n",
              "        text-align: right;\n",
              "    }\n",
              "</style>\n",
              "<table border=\"1\" class=\"dataframe\">\n",
              "  <thead>\n",
              "    <tr style=\"text-align: right;\">\n",
              "      <th></th>\n",
              "      <th>0</th>\n",
              "      <th>1</th>\n",
              "      <th>2</th>\n",
              "      <th>3</th>\n",
              "      <th>4</th>\n",
              "      <th>5</th>\n",
              "    </tr>\n",
              "  </thead>\n",
              "  <tbody>\n",
              "    <tr>\n",
              "      <th>0</th>\n",
              "      <td>101</td>\n",
              "      <td>101_1b1_Al_sc_Meditron</td>\n",
              "      <td>0.036</td>\n",
              "      <td>0.579</td>\n",
              "      <td>0</td>\n",
              "      <td>0</td>\n",
              "    </tr>\n",
              "    <tr>\n",
              "      <th>1</th>\n",
              "      <td>101</td>\n",
              "      <td>101_1b1_Al_sc_Meditron</td>\n",
              "      <td>0.579</td>\n",
              "      <td>2.45</td>\n",
              "      <td>0</td>\n",
              "      <td>0</td>\n",
              "    </tr>\n",
              "    <tr>\n",
              "      <th>2</th>\n",
              "      <td>101</td>\n",
              "      <td>101_1b1_Al_sc_Meditron</td>\n",
              "      <td>2.45</td>\n",
              "      <td>3.893</td>\n",
              "      <td>0</td>\n",
              "      <td>0</td>\n",
              "    </tr>\n",
              "    <tr>\n",
              "      <th>3</th>\n",
              "      <td>101</td>\n",
              "      <td>101_1b1_Al_sc_Meditron</td>\n",
              "      <td>3.893</td>\n",
              "      <td>5.793</td>\n",
              "      <td>0</td>\n",
              "      <td>0</td>\n",
              "    </tr>\n",
              "    <tr>\n",
              "      <th>4</th>\n",
              "      <td>101</td>\n",
              "      <td>101_1b1_Al_sc_Meditron</td>\n",
              "      <td>5.793</td>\n",
              "      <td>7.521</td>\n",
              "      <td>0</td>\n",
              "      <td>0</td>\n",
              "    </tr>\n",
              "  </tbody>\n",
              "</table>\n",
              "</div>"
            ],
            "text/plain": [
              "     0                       1      2      3  4  5\n",
              "0  101  101_1b1_Al_sc_Meditron  0.036  0.579  0  0\n",
              "1  101  101_1b1_Al_sc_Meditron  0.579   2.45  0  0\n",
              "2  101  101_1b1_Al_sc_Meditron   2.45  3.893  0  0\n",
              "3  101  101_1b1_Al_sc_Meditron  3.893  5.793  0  0\n",
              "4  101  101_1b1_Al_sc_Meditron  5.793  7.521  0  0"
            ]
          },
          "execution_count": 21,
          "metadata": {},
          "output_type": "execute_result"
        }
      ],
      "source": [
        "lung_data = pd.DataFrame(patient_lung_data)\n",
        "lung_data.head()"
      ]
    },
    {
      "cell_type": "code",
      "execution_count": 22,
      "metadata": {
        "id": "LWl12al5-lRW"
      },
      "outputs": [],
      "source": [
        "lung_data.columns = ['patient_id','filename','start','end','crackles','wheezes']"
      ]
    },
    {
      "cell_type": "code",
      "execution_count": 23,
      "metadata": {
        "colab": {
          "base_uri": "https://localhost:8080/",
          "height": 363
        },
        "id": "5ZN3DKUCCSbk",
        "outputId": "06d4b489-c4cc-4487-9153-52082743bdd5"
      },
      "outputs": [
        {
          "data": {
            "text/html": [
              "<div>\n",
              "<style scoped>\n",
              "    .dataframe tbody tr th:only-of-type {\n",
              "        vertical-align: middle;\n",
              "    }\n",
              "\n",
              "    .dataframe tbody tr th {\n",
              "        vertical-align: top;\n",
              "    }\n",
              "\n",
              "    .dataframe thead th {\n",
              "        text-align: right;\n",
              "    }\n",
              "</style>\n",
              "<table border=\"1\" class=\"dataframe\">\n",
              "  <thead>\n",
              "    <tr style=\"text-align: right;\">\n",
              "      <th></th>\n",
              "      <th>patient_id</th>\n",
              "      <th>filename</th>\n",
              "      <th>start</th>\n",
              "      <th>end</th>\n",
              "      <th>crackles</th>\n",
              "      <th>wheezes</th>\n",
              "    </tr>\n",
              "  </thead>\n",
              "  <tbody>\n",
              "    <tr>\n",
              "      <th>0</th>\n",
              "      <td>101</td>\n",
              "      <td>101_1b1_Al_sc_Meditron</td>\n",
              "      <td>0.036</td>\n",
              "      <td>0.579</td>\n",
              "      <td>0</td>\n",
              "      <td>0</td>\n",
              "    </tr>\n",
              "    <tr>\n",
              "      <th>1</th>\n",
              "      <td>101</td>\n",
              "      <td>101_1b1_Al_sc_Meditron</td>\n",
              "      <td>0.579</td>\n",
              "      <td>2.45</td>\n",
              "      <td>0</td>\n",
              "      <td>0</td>\n",
              "    </tr>\n",
              "    <tr>\n",
              "      <th>2</th>\n",
              "      <td>101</td>\n",
              "      <td>101_1b1_Al_sc_Meditron</td>\n",
              "      <td>2.45</td>\n",
              "      <td>3.893</td>\n",
              "      <td>0</td>\n",
              "      <td>0</td>\n",
              "    </tr>\n",
              "    <tr>\n",
              "      <th>3</th>\n",
              "      <td>101</td>\n",
              "      <td>101_1b1_Al_sc_Meditron</td>\n",
              "      <td>3.893</td>\n",
              "      <td>5.793</td>\n",
              "      <td>0</td>\n",
              "      <td>0</td>\n",
              "    </tr>\n",
              "    <tr>\n",
              "      <th>4</th>\n",
              "      <td>101</td>\n",
              "      <td>101_1b1_Al_sc_Meditron</td>\n",
              "      <td>5.793</td>\n",
              "      <td>7.521</td>\n",
              "      <td>0</td>\n",
              "      <td>0</td>\n",
              "    </tr>\n",
              "    <tr>\n",
              "      <th>5</th>\n",
              "      <td>101</td>\n",
              "      <td>101_1b1_Al_sc_Meditron</td>\n",
              "      <td>7.521</td>\n",
              "      <td>9.279</td>\n",
              "      <td>0</td>\n",
              "      <td>0</td>\n",
              "    </tr>\n",
              "    <tr>\n",
              "      <th>6</th>\n",
              "      <td>101</td>\n",
              "      <td>101_1b1_Al_sc_Meditron</td>\n",
              "      <td>9.279</td>\n",
              "      <td>11.15</td>\n",
              "      <td>0</td>\n",
              "      <td>0</td>\n",
              "    </tr>\n",
              "    <tr>\n",
              "      <th>7</th>\n",
              "      <td>101</td>\n",
              "      <td>101_1b1_Al_sc_Meditron</td>\n",
              "      <td>11.15</td>\n",
              "      <td>13.036</td>\n",
              "      <td>0</td>\n",
              "      <td>0</td>\n",
              "    </tr>\n",
              "    <tr>\n",
              "      <th>8</th>\n",
              "      <td>101</td>\n",
              "      <td>101_1b1_Al_sc_Meditron</td>\n",
              "      <td>13.036</td>\n",
              "      <td>14.721</td>\n",
              "      <td>0</td>\n",
              "      <td>0</td>\n",
              "    </tr>\n",
              "    <tr>\n",
              "      <th>9</th>\n",
              "      <td>101</td>\n",
              "      <td>101_1b1_Al_sc_Meditron</td>\n",
              "      <td>14.721</td>\n",
              "      <td>16.707</td>\n",
              "      <td>0</td>\n",
              "      <td>0</td>\n",
              "    </tr>\n",
              "  </tbody>\n",
              "</table>\n",
              "</div>"
            ],
            "text/plain": [
              "  patient_id                filename   start     end crackles wheezes\n",
              "0        101  101_1b1_Al_sc_Meditron   0.036   0.579        0       0\n",
              "1        101  101_1b1_Al_sc_Meditron   0.579    2.45        0       0\n",
              "2        101  101_1b1_Al_sc_Meditron    2.45   3.893        0       0\n",
              "3        101  101_1b1_Al_sc_Meditron   3.893   5.793        0       0\n",
              "4        101  101_1b1_Al_sc_Meditron   5.793   7.521        0       0\n",
              "5        101  101_1b1_Al_sc_Meditron   7.521   9.279        0       0\n",
              "6        101  101_1b1_Al_sc_Meditron   9.279   11.15        0       0\n",
              "7        101  101_1b1_Al_sc_Meditron   11.15  13.036        0       0\n",
              "8        101  101_1b1_Al_sc_Meditron  13.036  14.721        0       0\n",
              "9        101  101_1b1_Al_sc_Meditron  14.721  16.707        0       0"
            ]
          },
          "execution_count": 23,
          "metadata": {},
          "output_type": "execute_result"
        }
      ],
      "source": [
        "lung_data.head(10)"
      ]
    },
    {
      "cell_type": "code",
      "execution_count": 26,
      "metadata": {
        "colab": {
          "base_uri": "https://localhost:8080/",
          "height": 423
        },
        "id": "wO3TAVuRitck",
        "outputId": "f0160f4b-97a2-4cc2-a7eb-39ae11eaa6c9"
      },
      "outputs": [
        {
          "data": {
            "text/html": [
              "<div>\n",
              "<style scoped>\n",
              "    .dataframe tbody tr th:only-of-type {\n",
              "        vertical-align: middle;\n",
              "    }\n",
              "\n",
              "    .dataframe tbody tr th {\n",
              "        vertical-align: top;\n",
              "    }\n",
              "\n",
              "    .dataframe thead th {\n",
              "        text-align: right;\n",
              "    }\n",
              "</style>\n",
              "<table border=\"1\" class=\"dataframe\">\n",
              "  <thead>\n",
              "    <tr style=\"text-align: right;\">\n",
              "      <th></th>\n",
              "      <th>patient_id_x</th>\n",
              "      <th>recording_index</th>\n",
              "      <th>chest_location</th>\n",
              "      <th>acquisition_mode</th>\n",
              "      <th>recording_equipment</th>\n",
              "      <th>filename</th>\n",
              "      <th>patient_id_y</th>\n",
              "      <th>start</th>\n",
              "      <th>end</th>\n",
              "      <th>crackles</th>\n",
              "      <th>wheezes</th>\n",
              "    </tr>\n",
              "  </thead>\n",
              "  <tbody>\n",
              "    <tr>\n",
              "      <th>0</th>\n",
              "      <td>101</td>\n",
              "      <td>1b1</td>\n",
              "      <td>Al</td>\n",
              "      <td>sc</td>\n",
              "      <td>Meditron</td>\n",
              "      <td>101_1b1_Al_sc_Meditron</td>\n",
              "      <td>101</td>\n",
              "      <td>0.036</td>\n",
              "      <td>0.579</td>\n",
              "      <td>0</td>\n",
              "      <td>0</td>\n",
              "    </tr>\n",
              "    <tr>\n",
              "      <th>1</th>\n",
              "      <td>101</td>\n",
              "      <td>1b1</td>\n",
              "      <td>Al</td>\n",
              "      <td>sc</td>\n",
              "      <td>Meditron</td>\n",
              "      <td>101_1b1_Al_sc_Meditron</td>\n",
              "      <td>101</td>\n",
              "      <td>0.579</td>\n",
              "      <td>2.45</td>\n",
              "      <td>0</td>\n",
              "      <td>0</td>\n",
              "    </tr>\n",
              "    <tr>\n",
              "      <th>2</th>\n",
              "      <td>101</td>\n",
              "      <td>1b1</td>\n",
              "      <td>Al</td>\n",
              "      <td>sc</td>\n",
              "      <td>Meditron</td>\n",
              "      <td>101_1b1_Al_sc_Meditron</td>\n",
              "      <td>101</td>\n",
              "      <td>2.45</td>\n",
              "      <td>3.893</td>\n",
              "      <td>0</td>\n",
              "      <td>0</td>\n",
              "    </tr>\n",
              "    <tr>\n",
              "      <th>3</th>\n",
              "      <td>101</td>\n",
              "      <td>1b1</td>\n",
              "      <td>Al</td>\n",
              "      <td>sc</td>\n",
              "      <td>Meditron</td>\n",
              "      <td>101_1b1_Al_sc_Meditron</td>\n",
              "      <td>101</td>\n",
              "      <td>3.893</td>\n",
              "      <td>5.793</td>\n",
              "      <td>0</td>\n",
              "      <td>0</td>\n",
              "    </tr>\n",
              "    <tr>\n",
              "      <th>4</th>\n",
              "      <td>101</td>\n",
              "      <td>1b1</td>\n",
              "      <td>Al</td>\n",
              "      <td>sc</td>\n",
              "      <td>Meditron</td>\n",
              "      <td>101_1b1_Al_sc_Meditron</td>\n",
              "      <td>101</td>\n",
              "      <td>5.793</td>\n",
              "      <td>7.521</td>\n",
              "      <td>0</td>\n",
              "      <td>0</td>\n",
              "    </tr>\n",
              "    <tr>\n",
              "      <th>...</th>\n",
              "      <td>...</td>\n",
              "      <td>...</td>\n",
              "      <td>...</td>\n",
              "      <td>...</td>\n",
              "      <td>...</td>\n",
              "      <td>...</td>\n",
              "      <td>...</td>\n",
              "      <td>...</td>\n",
              "      <td>...</td>\n",
              "      <td>...</td>\n",
              "      <td>...</td>\n",
              "    </tr>\n",
              "    <tr>\n",
              "      <th>6893</th>\n",
              "      <td>226</td>\n",
              "      <td>1b1</td>\n",
              "      <td>Pl</td>\n",
              "      <td>sc</td>\n",
              "      <td>LittC2SE</td>\n",
              "      <td>226_1b1_Pl_sc_LittC2SE</td>\n",
              "      <td>226</td>\n",
              "      <td>11.721</td>\n",
              "      <td>13.693</td>\n",
              "      <td>1</td>\n",
              "      <td>0</td>\n",
              "    </tr>\n",
              "    <tr>\n",
              "      <th>6894</th>\n",
              "      <td>226</td>\n",
              "      <td>1b1</td>\n",
              "      <td>Pl</td>\n",
              "      <td>sc</td>\n",
              "      <td>LittC2SE</td>\n",
              "      <td>226_1b1_Pl_sc_LittC2SE</td>\n",
              "      <td>226</td>\n",
              "      <td>13.693</td>\n",
              "      <td>15.536</td>\n",
              "      <td>0</td>\n",
              "      <td>0</td>\n",
              "    </tr>\n",
              "    <tr>\n",
              "      <th>6895</th>\n",
              "      <td>226</td>\n",
              "      <td>1b1</td>\n",
              "      <td>Pl</td>\n",
              "      <td>sc</td>\n",
              "      <td>LittC2SE</td>\n",
              "      <td>226_1b1_Pl_sc_LittC2SE</td>\n",
              "      <td>226</td>\n",
              "      <td>15.536</td>\n",
              "      <td>17.493</td>\n",
              "      <td>0</td>\n",
              "      <td>0</td>\n",
              "    </tr>\n",
              "    <tr>\n",
              "      <th>6896</th>\n",
              "      <td>226</td>\n",
              "      <td>1b1</td>\n",
              "      <td>Pl</td>\n",
              "      <td>sc</td>\n",
              "      <td>LittC2SE</td>\n",
              "      <td>226_1b1_Pl_sc_LittC2SE</td>\n",
              "      <td>226</td>\n",
              "      <td>17.493</td>\n",
              "      <td>19.436</td>\n",
              "      <td>1</td>\n",
              "      <td>0</td>\n",
              "    </tr>\n",
              "    <tr>\n",
              "      <th>6897</th>\n",
              "      <td>226</td>\n",
              "      <td>1b1</td>\n",
              "      <td>Pl</td>\n",
              "      <td>sc</td>\n",
              "      <td>LittC2SE</td>\n",
              "      <td>226_1b1_Pl_sc_LittC2SE</td>\n",
              "      <td>226</td>\n",
              "      <td>19.436</td>\n",
              "      <td>19.979</td>\n",
              "      <td>0</td>\n",
              "      <td>0</td>\n",
              "    </tr>\n",
              "  </tbody>\n",
              "</table>\n",
              "<p>6898 rows × 11 columns</p>\n",
              "</div>"
            ],
            "text/plain": [
              "     patient_id_x recording_index chest_location acquisition_mode  \\\n",
              "0             101             1b1             Al               sc   \n",
              "1             101             1b1             Al               sc   \n",
              "2             101             1b1             Al               sc   \n",
              "3             101             1b1             Al               sc   \n",
              "4             101             1b1             Al               sc   \n",
              "...           ...             ...            ...              ...   \n",
              "6893          226             1b1             Pl               sc   \n",
              "6894          226             1b1             Pl               sc   \n",
              "6895          226             1b1             Pl               sc   \n",
              "6896          226             1b1             Pl               sc   \n",
              "6897          226             1b1             Pl               sc   \n",
              "\n",
              "     recording_equipment                filename patient_id_y   start     end  \\\n",
              "0               Meditron  101_1b1_Al_sc_Meditron          101   0.036   0.579   \n",
              "1               Meditron  101_1b1_Al_sc_Meditron          101   0.579    2.45   \n",
              "2               Meditron  101_1b1_Al_sc_Meditron          101    2.45   3.893   \n",
              "3               Meditron  101_1b1_Al_sc_Meditron          101   3.893   5.793   \n",
              "4               Meditron  101_1b1_Al_sc_Meditron          101   5.793   7.521   \n",
              "...                  ...                     ...          ...     ...     ...   \n",
              "6893            LittC2SE  226_1b1_Pl_sc_LittC2SE          226  11.721  13.693   \n",
              "6894            LittC2SE  226_1b1_Pl_sc_LittC2SE          226  13.693  15.536   \n",
              "6895            LittC2SE  226_1b1_Pl_sc_LittC2SE          226  15.536  17.493   \n",
              "6896            LittC2SE  226_1b1_Pl_sc_LittC2SE          226  17.493  19.436   \n",
              "6897            LittC2SE  226_1b1_Pl_sc_LittC2SE          226  19.436  19.979   \n",
              "\n",
              "     crackles wheezes  \n",
              "0           0       0  \n",
              "1           0       0  \n",
              "2           0       0  \n",
              "3           0       0  \n",
              "4           0       0  \n",
              "...       ...     ...  \n",
              "6893        1       0  \n",
              "6894        0       0  \n",
              "6895        0       0  \n",
              "6896        1       0  \n",
              "6897        0       0  \n",
              "\n",
              "[6898 rows x 11 columns]"
            ]
          },
          "execution_count": 26,
          "metadata": {},
          "output_type": "execute_result"
        }
      ],
      "source": [
        "datay = data.merge(lung_data, how = 'outer',on = 'patient_id' and  'filename')\n",
        "datay"
      ]
    },
    {
      "cell_type": "code",
      "execution_count": 28,
      "metadata": {
        "colab": {
          "base_uri": "https://localhost:8080/",
          "height": 423
        },
        "id": "nI7X6y3wkysx",
        "outputId": "63364185-2d83-45bc-b101-fce8573abc3a"
      },
      "outputs": [
        {
          "data": {
            "text/html": [
              "<div>\n",
              "<style scoped>\n",
              "    .dataframe tbody tr th:only-of-type {\n",
              "        vertical-align: middle;\n",
              "    }\n",
              "\n",
              "    .dataframe tbody tr th {\n",
              "        vertical-align: top;\n",
              "    }\n",
              "\n",
              "    .dataframe thead th {\n",
              "        text-align: right;\n",
              "    }\n",
              "</style>\n",
              "<table border=\"1\" class=\"dataframe\">\n",
              "  <thead>\n",
              "    <tr style=\"text-align: right;\">\n",
              "      <th></th>\n",
              "      <th>patient_id_x</th>\n",
              "      <th>recording_index</th>\n",
              "      <th>chest_location</th>\n",
              "      <th>acquisition_mode</th>\n",
              "      <th>recording_equipment</th>\n",
              "      <th>filename</th>\n",
              "      <th>patient_id_y</th>\n",
              "      <th>start</th>\n",
              "      <th>end</th>\n",
              "      <th>crackles</th>\n",
              "      <th>wheezes</th>\n",
              "    </tr>\n",
              "  </thead>\n",
              "  <tbody>\n",
              "    <tr>\n",
              "      <th>0</th>\n",
              "      <td>101</td>\n",
              "      <td>1b1</td>\n",
              "      <td>Al</td>\n",
              "      <td>sc</td>\n",
              "      <td>Meditron</td>\n",
              "      <td>101_1b1_Al_sc_Meditron</td>\n",
              "      <td>101</td>\n",
              "      <td>0.036</td>\n",
              "      <td>0.579</td>\n",
              "      <td>0</td>\n",
              "      <td>0</td>\n",
              "    </tr>\n",
              "    <tr>\n",
              "      <th>1</th>\n",
              "      <td>101</td>\n",
              "      <td>1b1</td>\n",
              "      <td>Al</td>\n",
              "      <td>sc</td>\n",
              "      <td>Meditron</td>\n",
              "      <td>101_1b1_Al_sc_Meditron</td>\n",
              "      <td>101</td>\n",
              "      <td>0.579</td>\n",
              "      <td>2.45</td>\n",
              "      <td>0</td>\n",
              "      <td>0</td>\n",
              "    </tr>\n",
              "    <tr>\n",
              "      <th>2</th>\n",
              "      <td>101</td>\n",
              "      <td>1b1</td>\n",
              "      <td>Al</td>\n",
              "      <td>sc</td>\n",
              "      <td>Meditron</td>\n",
              "      <td>101_1b1_Al_sc_Meditron</td>\n",
              "      <td>101</td>\n",
              "      <td>2.45</td>\n",
              "      <td>3.893</td>\n",
              "      <td>0</td>\n",
              "      <td>0</td>\n",
              "    </tr>\n",
              "    <tr>\n",
              "      <th>3</th>\n",
              "      <td>101</td>\n",
              "      <td>1b1</td>\n",
              "      <td>Al</td>\n",
              "      <td>sc</td>\n",
              "      <td>Meditron</td>\n",
              "      <td>101_1b1_Al_sc_Meditron</td>\n",
              "      <td>101</td>\n",
              "      <td>3.893</td>\n",
              "      <td>5.793</td>\n",
              "      <td>0</td>\n",
              "      <td>0</td>\n",
              "    </tr>\n",
              "    <tr>\n",
              "      <th>4</th>\n",
              "      <td>101</td>\n",
              "      <td>1b1</td>\n",
              "      <td>Al</td>\n",
              "      <td>sc</td>\n",
              "      <td>Meditron</td>\n",
              "      <td>101_1b1_Al_sc_Meditron</td>\n",
              "      <td>101</td>\n",
              "      <td>5.793</td>\n",
              "      <td>7.521</td>\n",
              "      <td>0</td>\n",
              "      <td>0</td>\n",
              "    </tr>\n",
              "    <tr>\n",
              "      <th>...</th>\n",
              "      <td>...</td>\n",
              "      <td>...</td>\n",
              "      <td>...</td>\n",
              "      <td>...</td>\n",
              "      <td>...</td>\n",
              "      <td>...</td>\n",
              "      <td>...</td>\n",
              "      <td>...</td>\n",
              "      <td>...</td>\n",
              "      <td>...</td>\n",
              "      <td>...</td>\n",
              "    </tr>\n",
              "    <tr>\n",
              "      <th>6893</th>\n",
              "      <td>226</td>\n",
              "      <td>1b1</td>\n",
              "      <td>Pl</td>\n",
              "      <td>sc</td>\n",
              "      <td>LittC2SE</td>\n",
              "      <td>226_1b1_Pl_sc_LittC2SE</td>\n",
              "      <td>226</td>\n",
              "      <td>11.721</td>\n",
              "      <td>13.693</td>\n",
              "      <td>1</td>\n",
              "      <td>0</td>\n",
              "    </tr>\n",
              "    <tr>\n",
              "      <th>6894</th>\n",
              "      <td>226</td>\n",
              "      <td>1b1</td>\n",
              "      <td>Pl</td>\n",
              "      <td>sc</td>\n",
              "      <td>LittC2SE</td>\n",
              "      <td>226_1b1_Pl_sc_LittC2SE</td>\n",
              "      <td>226</td>\n",
              "      <td>13.693</td>\n",
              "      <td>15.536</td>\n",
              "      <td>0</td>\n",
              "      <td>0</td>\n",
              "    </tr>\n",
              "    <tr>\n",
              "      <th>6895</th>\n",
              "      <td>226</td>\n",
              "      <td>1b1</td>\n",
              "      <td>Pl</td>\n",
              "      <td>sc</td>\n",
              "      <td>LittC2SE</td>\n",
              "      <td>226_1b1_Pl_sc_LittC2SE</td>\n",
              "      <td>226</td>\n",
              "      <td>15.536</td>\n",
              "      <td>17.493</td>\n",
              "      <td>0</td>\n",
              "      <td>0</td>\n",
              "    </tr>\n",
              "    <tr>\n",
              "      <th>6896</th>\n",
              "      <td>226</td>\n",
              "      <td>1b1</td>\n",
              "      <td>Pl</td>\n",
              "      <td>sc</td>\n",
              "      <td>LittC2SE</td>\n",
              "      <td>226_1b1_Pl_sc_LittC2SE</td>\n",
              "      <td>226</td>\n",
              "      <td>17.493</td>\n",
              "      <td>19.436</td>\n",
              "      <td>1</td>\n",
              "      <td>0</td>\n",
              "    </tr>\n",
              "    <tr>\n",
              "      <th>6897</th>\n",
              "      <td>226</td>\n",
              "      <td>1b1</td>\n",
              "      <td>Pl</td>\n",
              "      <td>sc</td>\n",
              "      <td>LittC2SE</td>\n",
              "      <td>226_1b1_Pl_sc_LittC2SE</td>\n",
              "      <td>226</td>\n",
              "      <td>19.436</td>\n",
              "      <td>19.979</td>\n",
              "      <td>0</td>\n",
              "      <td>0</td>\n",
              "    </tr>\n",
              "  </tbody>\n",
              "</table>\n",
              "<p>6898 rows × 11 columns</p>\n",
              "</div>"
            ],
            "text/plain": [
              "     patient_id_x recording_index chest_location acquisition_mode  \\\n",
              "0             101             1b1             Al               sc   \n",
              "1             101             1b1             Al               sc   \n",
              "2             101             1b1             Al               sc   \n",
              "3             101             1b1             Al               sc   \n",
              "4             101             1b1             Al               sc   \n",
              "...           ...             ...            ...              ...   \n",
              "6893          226             1b1             Pl               sc   \n",
              "6894          226             1b1             Pl               sc   \n",
              "6895          226             1b1             Pl               sc   \n",
              "6896          226             1b1             Pl               sc   \n",
              "6897          226             1b1             Pl               sc   \n",
              "\n",
              "     recording_equipment                filename patient_id_y   start     end  \\\n",
              "0               Meditron  101_1b1_Al_sc_Meditron          101   0.036   0.579   \n",
              "1               Meditron  101_1b1_Al_sc_Meditron          101   0.579    2.45   \n",
              "2               Meditron  101_1b1_Al_sc_Meditron          101    2.45   3.893   \n",
              "3               Meditron  101_1b1_Al_sc_Meditron          101   3.893   5.793   \n",
              "4               Meditron  101_1b1_Al_sc_Meditron          101   5.793   7.521   \n",
              "...                  ...                     ...          ...     ...     ...   \n",
              "6893            LittC2SE  226_1b1_Pl_sc_LittC2SE          226  11.721  13.693   \n",
              "6894            LittC2SE  226_1b1_Pl_sc_LittC2SE          226  13.693  15.536   \n",
              "6895            LittC2SE  226_1b1_Pl_sc_LittC2SE          226  15.536  17.493   \n",
              "6896            LittC2SE  226_1b1_Pl_sc_LittC2SE          226  17.493  19.436   \n",
              "6897            LittC2SE  226_1b1_Pl_sc_LittC2SE          226  19.436  19.979   \n",
              "\n",
              "     crackles wheezes  \n",
              "0           0       0  \n",
              "1           0       0  \n",
              "2           0       0  \n",
              "3           0       0  \n",
              "4           0       0  \n",
              "...       ...     ...  \n",
              "6893        1       0  \n",
              "6894        0       0  \n",
              "6895        0       0  \n",
              "6896        1       0  \n",
              "6897        0       0  \n",
              "\n",
              "[6898 rows x 11 columns]"
            ]
          },
          "execution_count": 28,
          "metadata": {},
          "output_type": "execute_result"
        }
      ],
      "source": [
        "datay.drop_duplicates()"
      ]
    },
    {
      "cell_type": "code",
      "execution_count": 29,
      "metadata": {
        "colab": {
          "base_uri": "https://localhost:8080/",
          "height": 363
        },
        "id": "6It4E3RvljX0",
        "outputId": "8284a54b-db30-4ea1-b11f-0a0db091eaf4"
      },
      "outputs": [
        {
          "data": {
            "text/html": [
              "<div>\n",
              "<style scoped>\n",
              "    .dataframe tbody tr th:only-of-type {\n",
              "        vertical-align: middle;\n",
              "    }\n",
              "\n",
              "    .dataframe tbody tr th {\n",
              "        vertical-align: top;\n",
              "    }\n",
              "\n",
              "    .dataframe thead th {\n",
              "        text-align: right;\n",
              "    }\n",
              "</style>\n",
              "<table border=\"1\" class=\"dataframe\">\n",
              "  <thead>\n",
              "    <tr style=\"text-align: right;\">\n",
              "      <th></th>\n",
              "      <th>101</th>\n",
              "      <th>URTI</th>\n",
              "    </tr>\n",
              "  </thead>\n",
              "  <tbody>\n",
              "    <tr>\n",
              "      <th>0</th>\n",
              "      <td>102</td>\n",
              "      <td>Healthy</td>\n",
              "    </tr>\n",
              "    <tr>\n",
              "      <th>1</th>\n",
              "      <td>103</td>\n",
              "      <td>Asthma</td>\n",
              "    </tr>\n",
              "    <tr>\n",
              "      <th>2</th>\n",
              "      <td>104</td>\n",
              "      <td>COPD</td>\n",
              "    </tr>\n",
              "    <tr>\n",
              "      <th>3</th>\n",
              "      <td>105</td>\n",
              "      <td>URTI</td>\n",
              "    </tr>\n",
              "    <tr>\n",
              "      <th>4</th>\n",
              "      <td>106</td>\n",
              "      <td>COPD</td>\n",
              "    </tr>\n",
              "    <tr>\n",
              "      <th>5</th>\n",
              "      <td>107</td>\n",
              "      <td>COPD</td>\n",
              "    </tr>\n",
              "    <tr>\n",
              "      <th>6</th>\n",
              "      <td>108</td>\n",
              "      <td>LRTI</td>\n",
              "    </tr>\n",
              "    <tr>\n",
              "      <th>7</th>\n",
              "      <td>109</td>\n",
              "      <td>COPD</td>\n",
              "    </tr>\n",
              "    <tr>\n",
              "      <th>8</th>\n",
              "      <td>110</td>\n",
              "      <td>COPD</td>\n",
              "    </tr>\n",
              "    <tr>\n",
              "      <th>9</th>\n",
              "      <td>111</td>\n",
              "      <td>Bronchiectasis</td>\n",
              "    </tr>\n",
              "  </tbody>\n",
              "</table>\n",
              "</div>"
            ],
            "text/plain": [
              "   101            URTI\n",
              "0  102         Healthy\n",
              "1  103          Asthma\n",
              "2  104            COPD\n",
              "3  105            URTI\n",
              "4  106            COPD\n",
              "5  107            COPD\n",
              "6  108            LRTI\n",
              "7  109            COPD\n",
              "8  110            COPD\n",
              "9  111  Bronchiectasis"
            ]
          },
          "execution_count": 29,
          "metadata": {},
          "output_type": "execute_result"
        }
      ],
      "source": [
        "patient_demographic = pd.read_csv('C:/Users/mahii/OneDrive/Desktop/practice/MajorProject/Respiratory sounds/patient_diagnosis.csv')\n",
        "patient_demographic.head(10)"
      ]
    },
    {
      "cell_type": "code",
      "execution_count": 30,
      "metadata": {
        "id": "wXINyxgImQ9M"
      },
      "outputs": [],
      "source": [
        "patient_demographic.columns = ['patient_id','disease']"
      ]
    },
    {
      "cell_type": "code",
      "execution_count": 31,
      "metadata": {
        "colab": {
          "base_uri": "https://localhost:8080/",
          "height": 206
        },
        "id": "eQgoiGcbnGI8",
        "outputId": "cea4102f-a847-415c-d50a-80c2ad7255ec"
      },
      "outputs": [
        {
          "data": {
            "text/html": [
              "<div>\n",
              "<style scoped>\n",
              "    .dataframe tbody tr th:only-of-type {\n",
              "        vertical-align: middle;\n",
              "    }\n",
              "\n",
              "    .dataframe tbody tr th {\n",
              "        vertical-align: top;\n",
              "    }\n",
              "\n",
              "    .dataframe thead th {\n",
              "        text-align: right;\n",
              "    }\n",
              "</style>\n",
              "<table border=\"1\" class=\"dataframe\">\n",
              "  <thead>\n",
              "    <tr style=\"text-align: right;\">\n",
              "      <th></th>\n",
              "      <th>patient_id</th>\n",
              "      <th>disease</th>\n",
              "    </tr>\n",
              "  </thead>\n",
              "  <tbody>\n",
              "    <tr>\n",
              "      <th>0</th>\n",
              "      <td>102</td>\n",
              "      <td>Healthy</td>\n",
              "    </tr>\n",
              "    <tr>\n",
              "      <th>1</th>\n",
              "      <td>103</td>\n",
              "      <td>Asthma</td>\n",
              "    </tr>\n",
              "    <tr>\n",
              "      <th>2</th>\n",
              "      <td>104</td>\n",
              "      <td>COPD</td>\n",
              "    </tr>\n",
              "    <tr>\n",
              "      <th>3</th>\n",
              "      <td>105</td>\n",
              "      <td>URTI</td>\n",
              "    </tr>\n",
              "    <tr>\n",
              "      <th>4</th>\n",
              "      <td>106</td>\n",
              "      <td>COPD</td>\n",
              "    </tr>\n",
              "  </tbody>\n",
              "</table>\n",
              "</div>"
            ],
            "text/plain": [
              "   patient_id  disease\n",
              "0         102  Healthy\n",
              "1         103   Asthma\n",
              "2         104     COPD\n",
              "3         105     URTI\n",
              "4         106     COPD"
            ]
          },
          "execution_count": 31,
          "metadata": {},
          "output_type": "execute_result"
        }
      ],
      "source": [
        "patient_demographic.head()"
      ]
    },
    {
      "cell_type": "code",
      "execution_count": 32,
      "metadata": {
        "colab": {
          "base_uri": "https://localhost:8080/"
        },
        "id": "Q5jZIgnM8LM_",
        "outputId": "1fe9784e-098f-4b6b-f1f5-422c63ea176b"
      },
      "outputs": [
        {
          "name": "stdout",
          "output_type": "stream",
          "text": [
            "<class 'pandas.core.frame.DataFrame'>\n",
            "RangeIndex: 125 entries, 0 to 124\n",
            "Data columns (total 2 columns):\n",
            " #   Column      Non-Null Count  Dtype \n",
            "---  ------      --------------  ----- \n",
            " 0   patient_id  125 non-null    int64 \n",
            " 1   disease     125 non-null    object\n",
            "dtypes: int64(1), object(1)\n",
            "memory usage: 2.1+ KB\n"
          ]
        }
      ],
      "source": [
        "patient_demographic.info()"
      ]
    },
    {
      "cell_type": "code",
      "execution_count": 33,
      "metadata": {
        "colab": {
          "base_uri": "https://localhost:8080/"
        },
        "id": "Wlj5jIfCnI6S",
        "outputId": "af8809dd-3719-4b27-c7c7-2364ed48b304"
      },
      "outputs": [
        {
          "name": "stdout",
          "output_type": "stream",
          "text": [
            "<class 'pandas.core.frame.DataFrame'>\n",
            "RangeIndex: 1 entries, 0 to 0\n",
            "Data columns (total 2 columns):\n",
            " #   Column      Non-Null Count  Dtype \n",
            "---  ------      --------------  ----- \n",
            " 0   patient_id  1 non-null      int64 \n",
            " 1   disease     1 non-null      object\n",
            "dtypes: int64(1), object(1)\n",
            "memory usage: 148.0+ bytes\n"
          ]
        }
      ],
      "source": [
        "c1 = pd.DataFrame({'patient_id':[101],\n",
        "                   'disease':['URTI']})\n",
        "c1.info()"
      ]
    },
    {
      "cell_type": "code",
      "execution_count": 34,
      "metadata": {
        "id": "soowHJ1zsY7y"
      },
      "outputs": [],
      "source": [
        "patient_demographic = pd.concat([patient_demographic,c1])"
      ]
    },
    {
      "cell_type": "code",
      "execution_count": 35,
      "metadata": {
        "colab": {
          "base_uri": "https://localhost:8080/"
        },
        "id": "Fg9n4SeVEpNr",
        "outputId": "e4f3da7a-1187-41f1-b8e7-929ab5baa50a"
      },
      "outputs": [
        {
          "data": {
            "text/plain": [
              "array([102, 103, 104, 105, 106, 107, 108, 109, 110, 111, 112, 113, 114,\n",
              "       115, 116, 117, 118, 119, 120, 121, 122, 123, 124, 125, 126, 127,\n",
              "       128, 129, 130, 131, 132, 133, 134, 135, 136, 137, 138, 139, 140,\n",
              "       141, 142, 143, 144, 145, 146, 147, 148, 149, 150, 151, 152, 153,\n",
              "       154, 155, 156, 157, 158, 159, 160, 161, 162, 163, 164, 165, 166,\n",
              "       167, 168, 169, 170, 171, 172, 173, 174, 175, 176, 177, 178, 179,\n",
              "       180, 181, 182, 183, 184, 185, 186, 187, 188, 189, 190, 191, 192,\n",
              "       193, 194, 195, 196, 197, 198, 199, 200, 201, 202, 203, 204, 205,\n",
              "       206, 207, 208, 209, 210, 211, 212, 213, 214, 215, 216, 217, 218,\n",
              "       219, 220, 221, 222, 223, 224, 225, 226, 101], dtype=int64)"
            ]
          },
          "execution_count": 35,
          "metadata": {},
          "output_type": "execute_result"
        }
      ],
      "source": [
        "patient_demographic['patient_id'].unique()"
      ]
    },
    {
      "cell_type": "code",
      "execution_count": 36,
      "metadata": {
        "id": "EdPJ8ZTSBMFm"
      },
      "outputs": [],
      "source": [
        "datay = datay.drop('patient_id_y',axis= 1)"
      ]
    },
    {
      "cell_type": "code",
      "execution_count": 37,
      "metadata": {
        "id": "_ohZXGEEBhHb"
      },
      "outputs": [],
      "source": [
        "datay.rename(columns = {'patient_id_x':'patient_id'}, inplace = True)"
      ]
    },
    {
      "cell_type": "code",
      "execution_count": 38,
      "metadata": {
        "colab": {
          "base_uri": "https://localhost:8080/",
          "height": 206
        },
        "id": "yLK-EvLfCYQC",
        "outputId": "10d74486-3a11-4222-d9e0-9bccaaa9b576"
      },
      "outputs": [
        {
          "data": {
            "text/html": [
              "<div>\n",
              "<style scoped>\n",
              "    .dataframe tbody tr th:only-of-type {\n",
              "        vertical-align: middle;\n",
              "    }\n",
              "\n",
              "    .dataframe tbody tr th {\n",
              "        vertical-align: top;\n",
              "    }\n",
              "\n",
              "    .dataframe thead th {\n",
              "        text-align: right;\n",
              "    }\n",
              "</style>\n",
              "<table border=\"1\" class=\"dataframe\">\n",
              "  <thead>\n",
              "    <tr style=\"text-align: right;\">\n",
              "      <th></th>\n",
              "      <th>patient_id</th>\n",
              "      <th>recording_index</th>\n",
              "      <th>chest_location</th>\n",
              "      <th>acquisition_mode</th>\n",
              "      <th>recording_equipment</th>\n",
              "      <th>filename</th>\n",
              "      <th>start</th>\n",
              "      <th>end</th>\n",
              "      <th>crackles</th>\n",
              "      <th>wheezes</th>\n",
              "    </tr>\n",
              "  </thead>\n",
              "  <tbody>\n",
              "    <tr>\n",
              "      <th>0</th>\n",
              "      <td>101</td>\n",
              "      <td>1b1</td>\n",
              "      <td>Al</td>\n",
              "      <td>sc</td>\n",
              "      <td>Meditron</td>\n",
              "      <td>101_1b1_Al_sc_Meditron</td>\n",
              "      <td>0.036</td>\n",
              "      <td>0.579</td>\n",
              "      <td>0</td>\n",
              "      <td>0</td>\n",
              "    </tr>\n",
              "    <tr>\n",
              "      <th>1</th>\n",
              "      <td>101</td>\n",
              "      <td>1b1</td>\n",
              "      <td>Al</td>\n",
              "      <td>sc</td>\n",
              "      <td>Meditron</td>\n",
              "      <td>101_1b1_Al_sc_Meditron</td>\n",
              "      <td>0.579</td>\n",
              "      <td>2.45</td>\n",
              "      <td>0</td>\n",
              "      <td>0</td>\n",
              "    </tr>\n",
              "    <tr>\n",
              "      <th>2</th>\n",
              "      <td>101</td>\n",
              "      <td>1b1</td>\n",
              "      <td>Al</td>\n",
              "      <td>sc</td>\n",
              "      <td>Meditron</td>\n",
              "      <td>101_1b1_Al_sc_Meditron</td>\n",
              "      <td>2.45</td>\n",
              "      <td>3.893</td>\n",
              "      <td>0</td>\n",
              "      <td>0</td>\n",
              "    </tr>\n",
              "    <tr>\n",
              "      <th>3</th>\n",
              "      <td>101</td>\n",
              "      <td>1b1</td>\n",
              "      <td>Al</td>\n",
              "      <td>sc</td>\n",
              "      <td>Meditron</td>\n",
              "      <td>101_1b1_Al_sc_Meditron</td>\n",
              "      <td>3.893</td>\n",
              "      <td>5.793</td>\n",
              "      <td>0</td>\n",
              "      <td>0</td>\n",
              "    </tr>\n",
              "    <tr>\n",
              "      <th>4</th>\n",
              "      <td>101</td>\n",
              "      <td>1b1</td>\n",
              "      <td>Al</td>\n",
              "      <td>sc</td>\n",
              "      <td>Meditron</td>\n",
              "      <td>101_1b1_Al_sc_Meditron</td>\n",
              "      <td>5.793</td>\n",
              "      <td>7.521</td>\n",
              "      <td>0</td>\n",
              "      <td>0</td>\n",
              "    </tr>\n",
              "  </tbody>\n",
              "</table>\n",
              "</div>"
            ],
            "text/plain": [
              "  patient_id recording_index chest_location acquisition_mode  \\\n",
              "0        101             1b1             Al               sc   \n",
              "1        101             1b1             Al               sc   \n",
              "2        101             1b1             Al               sc   \n",
              "3        101             1b1             Al               sc   \n",
              "4        101             1b1             Al               sc   \n",
              "\n",
              "  recording_equipment                filename  start    end crackles wheezes  \n",
              "0            Meditron  101_1b1_Al_sc_Meditron  0.036  0.579        0       0  \n",
              "1            Meditron  101_1b1_Al_sc_Meditron  0.579   2.45        0       0  \n",
              "2            Meditron  101_1b1_Al_sc_Meditron   2.45  3.893        0       0  \n",
              "3            Meditron  101_1b1_Al_sc_Meditron  3.893  5.793        0       0  \n",
              "4            Meditron  101_1b1_Al_sc_Meditron  5.793  7.521        0       0  "
            ]
          },
          "execution_count": 38,
          "metadata": {},
          "output_type": "execute_result"
        }
      ],
      "source": [
        "datay.head()"
      ]
    },
    {
      "cell_type": "code",
      "execution_count": 39,
      "metadata": {
        "id": "ByspQjvxCzFm"
      },
      "outputs": [],
      "source": [
        "daty = datay.convert_dtypes()"
      ]
    },
    {
      "cell_type": "code",
      "execution_count": 40,
      "metadata": {
        "colab": {
          "base_uri": "https://localhost:8080/"
        },
        "id": "EXgMf8m4C3jO",
        "outputId": "f712b1b2-c6e6-4b0c-deb9-393afceb4b62"
      },
      "outputs": [
        {
          "name": "stdout",
          "output_type": "stream",
          "text": [
            "<class 'pandas.core.frame.DataFrame'>\n",
            "RangeIndex: 6898 entries, 0 to 6897\n",
            "Data columns (total 10 columns):\n",
            " #   Column               Non-Null Count  Dtype \n",
            "---  ------               --------------  ----- \n",
            " 0   patient_id           6898 non-null   object\n",
            " 1   recording_index      6898 non-null   object\n",
            " 2   chest_location       6898 non-null   object\n",
            " 3   acquisition_mode     6898 non-null   object\n",
            " 4   recording_equipment  6898 non-null   object\n",
            " 5   filename             6898 non-null   object\n",
            " 6   start                6898 non-null   object\n",
            " 7   end                  6898 non-null   object\n",
            " 8   crackles             6898 non-null   object\n",
            " 9   wheezes              6898 non-null   object\n",
            "dtypes: object(10)\n",
            "memory usage: 539.0+ KB\n"
          ]
        }
      ],
      "source": [
        "datay.info()"
      ]
    },
    {
      "cell_type": "code",
      "execution_count": 41,
      "metadata": {
        "id": "yjnuuxAWDcHm"
      },
      "outputs": [],
      "source": [
        "datay['patient_id'] = datay['patient_id'].astype('int64')"
      ]
    },
    {
      "cell_type": "code",
      "execution_count": 42,
      "metadata": {
        "colab": {
          "base_uri": "https://localhost:8080/"
        },
        "id": "THdm8YUaCtsK",
        "outputId": "fd684196-c660-41fb-c4f6-2929514ed206"
      },
      "outputs": [
        {
          "data": {
            "text/plain": [
              "dtype('int64')"
            ]
          },
          "execution_count": 42,
          "metadata": {},
          "output_type": "execute_result"
        }
      ],
      "source": [
        "datay['patient_id'].dtype"
      ]
    },
    {
      "cell_type": "code",
      "execution_count": 43,
      "metadata": {
        "colab": {
          "base_uri": "https://localhost:8080/",
          "height": 81
        },
        "id": "Y_eb_tZmDG34",
        "outputId": "202f7b09-3d30-4cfb-ca4d-f8dfa5f6920c"
      },
      "outputs": [
        {
          "data": {
            "text/html": [
              "<div>\n",
              "<style scoped>\n",
              "    .dataframe tbody tr th:only-of-type {\n",
              "        vertical-align: middle;\n",
              "    }\n",
              "\n",
              "    .dataframe tbody tr th {\n",
              "        vertical-align: top;\n",
              "    }\n",
              "\n",
              "    .dataframe thead th {\n",
              "        text-align: right;\n",
              "    }\n",
              "</style>\n",
              "<table border=\"1\" class=\"dataframe\">\n",
              "  <thead>\n",
              "    <tr style=\"text-align: right;\">\n",
              "      <th></th>\n",
              "      <th>patient_id</th>\n",
              "      <th>disease</th>\n",
              "    </tr>\n",
              "  </thead>\n",
              "  <tbody>\n",
              "    <tr>\n",
              "      <th>0</th>\n",
              "      <td>101</td>\n",
              "      <td>URTI</td>\n",
              "    </tr>\n",
              "  </tbody>\n",
              "</table>\n",
              "</div>"
            ],
            "text/plain": [
              "   patient_id disease\n",
              "0         101    URTI"
            ]
          },
          "execution_count": 43,
          "metadata": {},
          "output_type": "execute_result"
        }
      ],
      "source": [
        "patient_demographic[patient_demographic['patient_id'] == 101]"
      ]
    },
    {
      "cell_type": "code",
      "execution_count": 44,
      "metadata": {
        "id": "PsA_KlbNMV6w"
      },
      "outputs": [],
      "source": [
        "datay['start'] = datay['start'].astype('float64')\n",
        "datay['end'] = datay['end'].astype('float64')\n",
        "datay['crackles'] = datay['crackles'].astype('int64')\n",
        "datay['wheezes'] = datay['wheezes'].astype('int64')"
      ]
    },
    {
      "cell_type": "code",
      "execution_count": 45,
      "metadata": {
        "colab": {
          "base_uri": "https://localhost:8080/"
        },
        "id": "seMTeJt6NJhW",
        "outputId": "f2c3eb40-ac73-4f92-dc98-6f8c3bfceb06"
      },
      "outputs": [
        {
          "name": "stdout",
          "output_type": "stream",
          "text": [
            "<class 'pandas.core.frame.DataFrame'>\n",
            "RangeIndex: 6898 entries, 0 to 6897\n",
            "Data columns (total 10 columns):\n",
            " #   Column               Non-Null Count  Dtype  \n",
            "---  ------               --------------  -----  \n",
            " 0   patient_id           6898 non-null   int64  \n",
            " 1   recording_index      6898 non-null   object \n",
            " 2   chest_location       6898 non-null   object \n",
            " 3   acquisition_mode     6898 non-null   object \n",
            " 4   recording_equipment  6898 non-null   object \n",
            " 5   filename             6898 non-null   object \n",
            " 6   start                6898 non-null   float64\n",
            " 7   end                  6898 non-null   float64\n",
            " 8   crackles             6898 non-null   int64  \n",
            " 9   wheezes              6898 non-null   int64  \n",
            "dtypes: float64(2), int64(3), object(5)\n",
            "memory usage: 539.0+ KB\n"
          ]
        }
      ],
      "source": [
        "datay.info()"
      ]
    },
    {
      "cell_type": "code",
      "execution_count": 46,
      "metadata": {
        "id": "4F-ozSdj87UQ"
      },
      "outputs": [],
      "source": [
        "def recording_to_clips(root, start, end, sr = 44100):\n",
        "\n",
        "  maximum_index = len(root)\n",
        "  start_index = min(int(start*sr), maximum_index)\n",
        "  end_index = min(int(end*sr), maximum_index)\n",
        "  return root[start_index:end_index]"
      ]
    },
    {
      "cell_type": "code",
      "execution_count": 47,
      "metadata": {
        "id": "ERdEE5UCGh3z"
      },
      "outputs": [],
      "source": [
        "os.makedirs('/content/sample_data/processed_clips')"
      ]
    },
    {
      "cell_type": "code",
      "execution_count": 48,
      "metadata": {
        "colab": {
          "base_uri": "https://localhost:8080/"
        },
        "id": "CVe0rfAiG8YT",
        "outputId": "c9e04671-95a5-4ffc-9289-218725bd5817"
      },
      "outputs": [
        {
          "name": "stderr",
          "output_type": "stream",
          "text": [
            "0it [00:00, ?it/s]"
          ]
        },
        {
          "name": "stderr",
          "output_type": "stream",
          "text": [
            "6898it [02:10, 52.66it/s]\n"
          ]
        }
      ],
      "source": [
        "i = 0\n",
        "n = 0\n",
        "for index, rows in tqdm.tqdm(datay.iterrows()):\n",
        "  max_length = 6\n",
        "  start_time = rows['start']\n",
        "  end_time = rows['end']\n",
        "  filename = rows['filename']\n",
        "\n",
        "  if end_time - start_time > max_length:\n",
        "    end = start_time + max_length\n",
        "\n",
        "  audio_file_path = directory + '/' + filename + '.wav'\n",
        "\n",
        "  if index > 0:\n",
        "    if datay.iloc[index-1]['filename'] == filename:\n",
        "      i += 1\n",
        "    else:\n",
        "      i = 0\n",
        "\n",
        "  filename = filename + '_' + str(i) + '.wav'\n",
        "  save_path = '/content/sample_data/processed_clips/'+filename\n",
        "  n += 1\n",
        "\n",
        "  audio, sample_rate = librosa.load(audio_file_path)\n",
        "  sample = recording_to_clips(audio,start_time,end_time,sample_rate)\n",
        "\n",
        "  required_length = max( 6*sample_rate, len(sample))\n",
        "  padded_data = librosa.util.pad_center(sample,size = required_length)\n",
        "\n",
        "  sf.write(file = save_path,data = padded_data, samplerate = sample_rate)\n",
        "\n",
        "  # print('total files processed:', n)"
      ]
    },
    {
      "cell_type": "code",
      "execution_count": 49,
      "metadata": {
        "id": "PdBEBCQbGz8B"
      },
      "outputs": [],
      "source": [
        "path = '/content/sample_data/processed_clips/'\n"
      ]
    },
    {
      "cell_type": "code",
      "execution_count": 50,
      "metadata": {
        "colab": {
          "base_uri": "https://localhost:8080/",
          "height": 423
        },
        "id": "53lxd4uDUO72",
        "outputId": "f5dc3e65-ed12-45d8-c160-059d6c62bb86"
      },
      "outputs": [
        {
          "data": {
            "text/html": [
              "<div>\n",
              "<style scoped>\n",
              "    .dataframe tbody tr th:only-of-type {\n",
              "        vertical-align: middle;\n",
              "    }\n",
              "\n",
              "    .dataframe tbody tr th {\n",
              "        vertical-align: top;\n",
              "    }\n",
              "\n",
              "    .dataframe thead th {\n",
              "        text-align: right;\n",
              "    }\n",
              "</style>\n",
              "<table border=\"1\" class=\"dataframe\">\n",
              "  <thead>\n",
              "    <tr style=\"text-align: right;\">\n",
              "      <th></th>\n",
              "      <th>patient_id</th>\n",
              "      <th>filename</th>\n",
              "    </tr>\n",
              "  </thead>\n",
              "  <tbody>\n",
              "    <tr>\n",
              "      <th>0</th>\n",
              "      <td>101</td>\n",
              "      <td>101_1b1_Al_sc_Meditron_0.wav</td>\n",
              "    </tr>\n",
              "    <tr>\n",
              "      <th>1</th>\n",
              "      <td>101</td>\n",
              "      <td>101_1b1_Al_sc_Meditron_1.wav</td>\n",
              "    </tr>\n",
              "    <tr>\n",
              "      <th>2</th>\n",
              "      <td>101</td>\n",
              "      <td>101_1b1_Al_sc_Meditron_10.wav</td>\n",
              "    </tr>\n",
              "    <tr>\n",
              "      <th>3</th>\n",
              "      <td>101</td>\n",
              "      <td>101_1b1_Al_sc_Meditron_11.wav</td>\n",
              "    </tr>\n",
              "    <tr>\n",
              "      <th>4</th>\n",
              "      <td>101</td>\n",
              "      <td>101_1b1_Al_sc_Meditron_2.wav</td>\n",
              "    </tr>\n",
              "    <tr>\n",
              "      <th>...</th>\n",
              "      <td>...</td>\n",
              "      <td>...</td>\n",
              "    </tr>\n",
              "    <tr>\n",
              "      <th>6893</th>\n",
              "      <td>226</td>\n",
              "      <td>226_1b1_Pl_sc_LittC2SE_5.wav</td>\n",
              "    </tr>\n",
              "    <tr>\n",
              "      <th>6894</th>\n",
              "      <td>226</td>\n",
              "      <td>226_1b1_Pl_sc_LittC2SE_6.wav</td>\n",
              "    </tr>\n",
              "    <tr>\n",
              "      <th>6895</th>\n",
              "      <td>226</td>\n",
              "      <td>226_1b1_Pl_sc_LittC2SE_7.wav</td>\n",
              "    </tr>\n",
              "    <tr>\n",
              "      <th>6896</th>\n",
              "      <td>226</td>\n",
              "      <td>226_1b1_Pl_sc_LittC2SE_8.wav</td>\n",
              "    </tr>\n",
              "    <tr>\n",
              "      <th>6897</th>\n",
              "      <td>226</td>\n",
              "      <td>226_1b1_Pl_sc_LittC2SE_9.wav</td>\n",
              "    </tr>\n",
              "  </tbody>\n",
              "</table>\n",
              "<p>6898 rows × 2 columns</p>\n",
              "</div>"
            ],
            "text/plain": [
              "     patient_id                       filename\n",
              "0           101   101_1b1_Al_sc_Meditron_0.wav\n",
              "1           101   101_1b1_Al_sc_Meditron_1.wav\n",
              "2           101  101_1b1_Al_sc_Meditron_10.wav\n",
              "3           101  101_1b1_Al_sc_Meditron_11.wav\n",
              "4           101   101_1b1_Al_sc_Meditron_2.wav\n",
              "...         ...                            ...\n",
              "6893        226   226_1b1_Pl_sc_LittC2SE_5.wav\n",
              "6894        226   226_1b1_Pl_sc_LittC2SE_6.wav\n",
              "6895        226   226_1b1_Pl_sc_LittC2SE_7.wav\n",
              "6896        226   226_1b1_Pl_sc_LittC2SE_8.wav\n",
              "6897        226   226_1b1_Pl_sc_LittC2SE_9.wav\n",
              "\n",
              "[6898 rows x 2 columns]"
            ]
          },
          "execution_count": 50,
          "metadata": {},
          "output_type": "execute_result"
        }
      ],
      "source": [
        "lll = [[s.split(\"_\")[0],s] for s in os.listdir(path = path)]\n",
        "patient_data = pd.DataFrame(lll,columns = ['patient_id','filename'])\n",
        "patient_data"
      ]
    },
    {
      "cell_type": "code",
      "execution_count": 51,
      "metadata": {
        "id": "87r_Bj7WRIgN"
      },
      "outputs": [],
      "source": [
        "patient_data['patient_id'] = patient_data['patient_id'].astype('int64')"
      ]
    },
    {
      "cell_type": "code",
      "execution_count": 52,
      "metadata": {
        "colab": {
          "base_uri": "https://localhost:8080/"
        },
        "id": "Qf8845-TSIWA",
        "outputId": "dc4d1dcb-8165-4ac5-e2b2-dcef455834d9"
      },
      "outputs": [
        {
          "name": "stdout",
          "output_type": "stream",
          "text": [
            "<class 'pandas.core.frame.DataFrame'>\n",
            "RangeIndex: 6898 entries, 0 to 6897\n",
            "Data columns (total 2 columns):\n",
            " #   Column      Non-Null Count  Dtype \n",
            "---  ------      --------------  ----- \n",
            " 0   patient_id  6898 non-null   int64 \n",
            " 1   filename    6898 non-null   object\n",
            "dtypes: int64(1), object(1)\n",
            "memory usage: 107.9+ KB\n"
          ]
        }
      ],
      "source": [
        "patient_data.info()"
      ]
    },
    {
      "cell_type": "code",
      "execution_count": 53,
      "metadata": {
        "colab": {
          "base_uri": "https://localhost:8080/",
          "height": 423
        },
        "id": "wVbOERRBS_ot",
        "outputId": "cb618f94-b4ba-457b-aa72-91b4bcb6bcac"
      },
      "outputs": [
        {
          "data": {
            "text/html": [
              "<div>\n",
              "<style scoped>\n",
              "    .dataframe tbody tr th:only-of-type {\n",
              "        vertical-align: middle;\n",
              "    }\n",
              "\n",
              "    .dataframe tbody tr th {\n",
              "        vertical-align: top;\n",
              "    }\n",
              "\n",
              "    .dataframe thead th {\n",
              "        text-align: right;\n",
              "    }\n",
              "</style>\n",
              "<table border=\"1\" class=\"dataframe\">\n",
              "  <thead>\n",
              "    <tr style=\"text-align: right;\">\n",
              "      <th></th>\n",
              "      <th>patient_id</th>\n",
              "      <th>filename</th>\n",
              "      <th>disease</th>\n",
              "    </tr>\n",
              "  </thead>\n",
              "  <tbody>\n",
              "    <tr>\n",
              "      <th>0</th>\n",
              "      <td>101</td>\n",
              "      <td>101_1b1_Al_sc_Meditron_0.wav</td>\n",
              "      <td>URTI</td>\n",
              "    </tr>\n",
              "    <tr>\n",
              "      <th>1</th>\n",
              "      <td>101</td>\n",
              "      <td>101_1b1_Al_sc_Meditron_1.wav</td>\n",
              "      <td>URTI</td>\n",
              "    </tr>\n",
              "    <tr>\n",
              "      <th>2</th>\n",
              "      <td>101</td>\n",
              "      <td>101_1b1_Al_sc_Meditron_10.wav</td>\n",
              "      <td>URTI</td>\n",
              "    </tr>\n",
              "    <tr>\n",
              "      <th>3</th>\n",
              "      <td>101</td>\n",
              "      <td>101_1b1_Al_sc_Meditron_11.wav</td>\n",
              "      <td>URTI</td>\n",
              "    </tr>\n",
              "    <tr>\n",
              "      <th>4</th>\n",
              "      <td>101</td>\n",
              "      <td>101_1b1_Al_sc_Meditron_2.wav</td>\n",
              "      <td>URTI</td>\n",
              "    </tr>\n",
              "    <tr>\n",
              "      <th>...</th>\n",
              "      <td>...</td>\n",
              "      <td>...</td>\n",
              "      <td>...</td>\n",
              "    </tr>\n",
              "    <tr>\n",
              "      <th>6893</th>\n",
              "      <td>226</td>\n",
              "      <td>226_1b1_Pl_sc_LittC2SE_5.wav</td>\n",
              "      <td>Pneumonia</td>\n",
              "    </tr>\n",
              "    <tr>\n",
              "      <th>6894</th>\n",
              "      <td>226</td>\n",
              "      <td>226_1b1_Pl_sc_LittC2SE_6.wav</td>\n",
              "      <td>Pneumonia</td>\n",
              "    </tr>\n",
              "    <tr>\n",
              "      <th>6895</th>\n",
              "      <td>226</td>\n",
              "      <td>226_1b1_Pl_sc_LittC2SE_7.wav</td>\n",
              "      <td>Pneumonia</td>\n",
              "    </tr>\n",
              "    <tr>\n",
              "      <th>6896</th>\n",
              "      <td>226</td>\n",
              "      <td>226_1b1_Pl_sc_LittC2SE_8.wav</td>\n",
              "      <td>Pneumonia</td>\n",
              "    </tr>\n",
              "    <tr>\n",
              "      <th>6897</th>\n",
              "      <td>226</td>\n",
              "      <td>226_1b1_Pl_sc_LittC2SE_9.wav</td>\n",
              "      <td>Pneumonia</td>\n",
              "    </tr>\n",
              "  </tbody>\n",
              "</table>\n",
              "<p>6898 rows × 3 columns</p>\n",
              "</div>"
            ],
            "text/plain": [
              "      patient_id                       filename    disease\n",
              "0            101   101_1b1_Al_sc_Meditron_0.wav       URTI\n",
              "1            101   101_1b1_Al_sc_Meditron_1.wav       URTI\n",
              "2            101  101_1b1_Al_sc_Meditron_10.wav       URTI\n",
              "3            101  101_1b1_Al_sc_Meditron_11.wav       URTI\n",
              "4            101   101_1b1_Al_sc_Meditron_2.wav       URTI\n",
              "...          ...                            ...        ...\n",
              "6893         226   226_1b1_Pl_sc_LittC2SE_5.wav  Pneumonia\n",
              "6894         226   226_1b1_Pl_sc_LittC2SE_6.wav  Pneumonia\n",
              "6895         226   226_1b1_Pl_sc_LittC2SE_7.wav  Pneumonia\n",
              "6896         226   226_1b1_Pl_sc_LittC2SE_8.wav  Pneumonia\n",
              "6897         226   226_1b1_Pl_sc_LittC2SE_9.wav  Pneumonia\n",
              "\n",
              "[6898 rows x 3 columns]"
            ]
          },
          "execution_count": 53,
          "metadata": {},
          "output_type": "execute_result"
        }
      ],
      "source": [
        "final_data = patient_data.merge(patient_demographic, how = 'outer', on = 'patient_id')\n",
        "final_data"
      ]
    },
    {
      "cell_type": "code",
      "execution_count": 54,
      "metadata": {
        "colab": {
          "base_uri": "https://localhost:8080/"
        },
        "id": "4L3eumNUVt_Q",
        "outputId": "3305ca64-9e71-4bd0-fc26-af672a53cc4a"
      },
      "outputs": [
        {
          "data": {
            "text/plain": [
              "patient_id  disease       \n",
              "130         COPD              507\n",
              "107         COPD              231\n",
              "158         COPD              217\n",
              "154         COPD              208\n",
              "178         COPD              208\n",
              "                             ... \n",
              "196         Bronchiectasis      6\n",
              "189         COPD                5\n",
              "128         COPD                5\n",
              "209         Healthy             4\n",
              "190         URTI                4\n",
              "Name: count, Length: 126, dtype: int64"
            ]
          },
          "execution_count": 54,
          "metadata": {},
          "output_type": "execute_result"
        }
      ],
      "source": [
        "final_data[['patient_id','disease']].value_counts()"
      ]
    },
    {
      "cell_type": "code",
      "execution_count": 55,
      "metadata": {
        "id": "7SL2Yfly2gS8"
      },
      "outputs": [],
      "source": [
        "import sklearn as sk\n",
        "from sklearn.model_selection import train_test_split"
      ]
    },
    {
      "cell_type": "code",
      "execution_count": 56,
      "metadata": {
        "id": "h_EcKvaNV3Er"
      },
      "outputs": [],
      "source": [
        "X_train,X_test, Y_train, Y_test = train_test_split(final_data, final_data['disease'],stratify  = final_data['disease'], random_state = 43, test_size = 0.25)"
      ]
    },
    {
      "cell_type": "code",
      "execution_count": 57,
      "metadata": {
        "colab": {
          "base_uri": "https://localhost:8080/"
        },
        "id": "GkdfMsvD2d9V",
        "outputId": "3a228c48-cc6a-4f46-cfaf-63a586e97f70"
      },
      "outputs": [
        {
          "name": "stdout",
          "output_type": "stream",
          "text": [
            "(5173, 3)\n",
            "(5173,)\n",
            "(1725, 3)\n",
            "(1725,)\n"
          ]
        }
      ],
      "source": [
        "print(X_train.shape)\n",
        "print(Y_train.shape)\n",
        "print(X_test.shape)\n",
        "print(Y_test.shape)"
      ]
    },
    {
      "cell_type": "code",
      "execution_count": 58,
      "metadata": {
        "colab": {
          "base_uri": "https://localhost:8080/",
          "height": 206
        },
        "id": "rhqc8Ey926jP",
        "outputId": "7cd20b67-dc4e-4539-bcb1-291fa5dab859"
      },
      "outputs": [
        {
          "data": {
            "text/html": [
              "<div>\n",
              "<style scoped>\n",
              "    .dataframe tbody tr th:only-of-type {\n",
              "        vertical-align: middle;\n",
              "    }\n",
              "\n",
              "    .dataframe tbody tr th {\n",
              "        vertical-align: top;\n",
              "    }\n",
              "\n",
              "    .dataframe thead th {\n",
              "        text-align: right;\n",
              "    }\n",
              "</style>\n",
              "<table border=\"1\" class=\"dataframe\">\n",
              "  <thead>\n",
              "    <tr style=\"text-align: right;\">\n",
              "      <th></th>\n",
              "      <th>patient_id</th>\n",
              "      <th>filename</th>\n",
              "      <th>disease</th>\n",
              "    </tr>\n",
              "  </thead>\n",
              "  <tbody>\n",
              "    <tr>\n",
              "      <th>157</th>\n",
              "      <td>107</td>\n",
              "      <td>107_2b3_Pl_mc_AKGC417L_2.wav</td>\n",
              "      <td>COPD</td>\n",
              "    </tr>\n",
              "    <tr>\n",
              "      <th>4901</th>\n",
              "      <td>186</td>\n",
              "      <td>186_2b3_Al_mc_AKGC417L_4.wav</td>\n",
              "      <td>COPD</td>\n",
              "    </tr>\n",
              "    <tr>\n",
              "      <th>6225</th>\n",
              "      <td>211</td>\n",
              "      <td>211_1p2_Ar_mc_AKGC417L_0.wav</td>\n",
              "      <td>COPD</td>\n",
              "    </tr>\n",
              "    <tr>\n",
              "      <th>6461</th>\n",
              "      <td>213</td>\n",
              "      <td>213_2p2_Pr_mc_AKGC417L_3.wav</td>\n",
              "      <td>COPD</td>\n",
              "    </tr>\n",
              "    <tr>\n",
              "      <th>294</th>\n",
              "      <td>107</td>\n",
              "      <td>107_3p2_Al_mc_AKGC417L_3.wav</td>\n",
              "      <td>COPD</td>\n",
              "    </tr>\n",
              "  </tbody>\n",
              "</table>\n",
              "</div>"
            ],
            "text/plain": [
              "      patient_id                      filename disease\n",
              "157          107  107_2b3_Pl_mc_AKGC417L_2.wav    COPD\n",
              "4901         186  186_2b3_Al_mc_AKGC417L_4.wav    COPD\n",
              "6225         211  211_1p2_Ar_mc_AKGC417L_0.wav    COPD\n",
              "6461         213  213_2p2_Pr_mc_AKGC417L_3.wav    COPD\n",
              "294          107  107_3p2_Al_mc_AKGC417L_3.wav    COPD"
            ]
          },
          "execution_count": 58,
          "metadata": {},
          "output_type": "execute_result"
        }
      ],
      "source": [
        "X_train.head()"
      ]
    },
    {
      "cell_type": "code",
      "execution_count": null,
      "metadata": {
        "id": "eurgSh0fAl39"
      },
      "outputs": [],
      "source": []
    },
    {
      "cell_type": "code",
      "execution_count": 59,
      "metadata": {
        "id": "hOplIY6sUHSA"
      },
      "outputs": [],
      "source": [
        "from sklearn.preprocessing import LabelEncoder\n",
        "\n",
        "le = LabelEncoder()\n",
        "\n",
        "Y_train = le.fit_transform(Y_train)\n",
        "Y_test = le.fit_transform(Y_test)"
      ]
    },
    {
      "cell_type": "code",
      "execution_count": null,
      "metadata": {
        "id": "3_7Dgp_ZU2uk"
      },
      "outputs": [],
      "source": []
    },
    {
      "cell_type": "code",
      "execution_count": 60,
      "metadata": {
        "id": "JpVv6Iy9HZEl"
      },
      "outputs": [],
      "source": [
        "def feature_shape(feature):\n",
        "  ushape = [np.shape(sub_list) for sub_list in feature]\n",
        "  return set(ushape)\n",
        "\n",
        "\n",
        "def feature_padding(feature):\n",
        "  min_shape = min(sub_array.shape for sub_list in feature for sub_array in sub_list)\n",
        "  print(min_shape, type(min_shape))\n",
        "  # Padding each subarray to the minimum shape with zeros\n",
        "  feature_padded = [[sub_array[:min_shape[0]] for sub_array in sub_list] for sub_list in feature]\n",
        "  return feature_padded\n",
        "\n"
      ]
    },
    {
      "cell_type": "code",
      "execution_count": null,
      "metadata": {
        "id": "DikUmZq7RnAI"
      },
      "outputs": [],
      "source": []
    },
    {
      "cell_type": "code",
      "execution_count": 61,
      "metadata": {
        "id": "rS2UOFwiynHq"
      },
      "outputs": [],
      "source": [
        "def get_features_from_audio(path):\n",
        "    soundArr,sample_rate= librosa.load(path)\n",
        "    mfcc=librosa.feature.mfcc(y=soundArr,sr=sample_rate)\n",
        "    cstft=librosa.feature.chroma_stft(y=soundArr,sr=sample_rate)\n",
        "    mSpec=librosa.feature.melspectrogram(y=soundArr,sr=sample_rate)\n",
        "    tone = librosa.feature.tonnetz(y=soundArr,sr=sample_rate)\n",
        "    specCen = librosa.feature.spectral_centroid(y=soundArr,sr=sample_rate)\n",
        "\n",
        "    return mfcc,cstft,mSpec,tone, specCen"
      ]
    },
    {
      "cell_type": "code",
      "execution_count": 62,
      "metadata": {
        "colab": {
          "base_uri": "https://localhost:8080/"
        },
        "id": "JpjE7AtJ2g16",
        "outputId": "351ad05c-942b-4fa7-c1de-10aaf09a63a2"
      },
      "outputs": [
        {
          "name": "stderr",
          "output_type": "stream",
          "text": [
            "2it [00:00,  3.37it/s]c:\\Users\\mahii\\AppData\\Local\\Programs\\Python\\Python311\\Lib\\site-packages\\librosa\\core\\pitch.py:101: UserWarning: Trying to estimate tuning from empty frequency set.\n",
            "  return pitch_tuning(\n",
            "1725it [06:22,  4.51it/s]\n"
          ]
        }
      ],
      "source": [
        "root = '/content/sample_data/processed_clips/'\n",
        "mfcc,cstft,mSpec=[],[],[]\n",
        "\n",
        "for idx,row in tqdm.tqdm(X_test.iterrows()):\n",
        "    path=root + row['filename']\n",
        "    a,b,c,d,e=get_features_from_audio(path)\n",
        "    mfcc.append(a)\n",
        "    cstft.append(b)\n",
        "    mSpec.append(c)"
      ]
    },
    {
      "cell_type": "code",
      "execution_count": 63,
      "metadata": {
        "colab": {
          "base_uri": "https://localhost:8080/"
        },
        "id": "3nd_HnYe5h9I",
        "outputId": "61dee23b-10a9-4af1-8ce5-67815003a336"
      },
      "outputs": [
        {
          "name": "stdout",
          "output_type": "stream",
          "text": [
            "{(20, 377), (20, 267), (20, 276), (20, 697), (20, 288), (20, 315), (20, 260), (20, 263), (20, 269), (20, 272), (20, 336), (20, 278), (20, 284), (20, 348), (20, 287), (20, 259), (20, 274), (20, 338), (20, 277), (20, 356)}\n"
          ]
        }
      ],
      "source": [
        "print(feature_shape(mfcc))"
      ]
    },
    {
      "cell_type": "code",
      "execution_count": 64,
      "metadata": {
        "colab": {
          "base_uri": "https://localhost:8080/"
        },
        "id": "6qBFr0Iv5eSI",
        "outputId": "95b507d3-32fe-4a24-9951-f62ffa73029c"
      },
      "outputs": [
        {
          "name": "stdout",
          "output_type": "stream",
          "text": [
            "{(12, 315), (12, 260), (12, 263), (12, 272), (12, 269), (12, 336), (12, 278), (12, 284), (12, 348), (12, 287), (12, 259), (12, 274), (12, 338), (12, 277), (12, 356), (12, 377), (12, 267), (12, 697), (12, 276), (12, 288)}\n"
          ]
        }
      ],
      "source": [
        "print(feature_shape(cstft))"
      ]
    },
    {
      "cell_type": "code",
      "execution_count": 65,
      "metadata": {
        "colab": {
          "base_uri": "https://localhost:8080/"
        },
        "id": "G9DY1Iue5wsM",
        "outputId": "8de4c515-6fb7-49f4-8b70-c2dd7a3f2f3c"
      },
      "outputs": [
        {
          "name": "stdout",
          "output_type": "stream",
          "text": [
            "{(128, 377), (128, 267), (128, 697), (128, 276), (128, 288), (128, 315), (128, 260), (128, 263), (128, 269), (128, 272), (128, 278), (128, 336), (128, 287), (128, 284), (128, 348), (128, 259), (128, 274), (128, 338), (128, 277), (128, 356)}\n"
          ]
        }
      ],
      "source": [
        "print(feature_shape(mSpec))"
      ]
    },
    {
      "cell_type": "code",
      "execution_count": 66,
      "metadata": {
        "colab": {
          "base_uri": "https://localhost:8080/"
        },
        "id": "4HO02YJw54sE",
        "outputId": "d720a123-18b4-443a-bdeb-a3eeea977d8e"
      },
      "outputs": [
        {
          "name": "stdout",
          "output_type": "stream",
          "text": [
            "(259,) <class 'tuple'>\n"
          ]
        }
      ],
      "source": [
        "mfcc_padded = feature_padding(mfcc)"
      ]
    },
    {
      "cell_type": "code",
      "execution_count": 67,
      "metadata": {
        "colab": {
          "base_uri": "https://localhost:8080/"
        },
        "id": "BEBW0rUO6Lge",
        "outputId": "f91d85c8-0809-422c-849b-666034a139d3"
      },
      "outputs": [
        {
          "name": "stdout",
          "output_type": "stream",
          "text": [
            "(259,) <class 'tuple'>\n"
          ]
        }
      ],
      "source": [
        "cstft_padded = feature_padding(cstft)"
      ]
    },
    {
      "cell_type": "code",
      "execution_count": 68,
      "metadata": {
        "colab": {
          "base_uri": "https://localhost:8080/"
        },
        "id": "_7sMnBoU6L1X",
        "outputId": "c64d855b-5cb4-42db-a205-032fc3bbd6c8"
      },
      "outputs": [
        {
          "name": "stdout",
          "output_type": "stream",
          "text": [
            "(259,) <class 'tuple'>\n"
          ]
        }
      ],
      "source": [
        "mSpec_padded = feature_padding(mSpec)"
      ]
    },
    {
      "cell_type": "code",
      "execution_count": 69,
      "metadata": {
        "colab": {
          "base_uri": "https://localhost:8080/"
        },
        "id": "TH3_T9e22gcc",
        "outputId": "ac9952eb-4210-4f95-c4b3-bdab6c5936ba"
      },
      "outputs": [
        {
          "name": "stdout",
          "output_type": "stream",
          "text": [
            "mfcc: (1725, 20, 259)\n",
            "cstft: (1725, 12, 259)\n",
            "mSpec: (1725, 128, 259)\n"
          ]
        }
      ],
      "source": [
        "mfcc_test = np.array(mfcc_padded)\n",
        "cstft_test = np.array(cstft_padded)\n",
        "mSpec_test = np.array(mSpec_padded)\n",
        "\n",
        "print(f\"mfcc: {mfcc_test.shape}\")\n",
        "print(f\"cstft: {cstft_test.shape}\")\n",
        "print(f\"mSpec: {mSpec_test.shape}\")"
      ]
    },
    {
      "cell_type": "code",
      "execution_count": 70,
      "metadata": {
        "colab": {
          "base_uri": "https://localhost:8080/"
        },
        "id": "ebsrC1a7P53l",
        "outputId": "de3e91f5-d1d4-4b41-8286-19b5928e3dde"
      },
      "outputs": [
        {
          "name": "stderr",
          "output_type": "stream",
          "text": [
            "5173it [24:15,  3.55it/s]\n"
          ]
        }
      ],
      "source": [
        "root = '/content/sample_data/processed_clips/'\n",
        "mfcc,cstft,mSpec=[],[],[]\n",
        "\n",
        "for idx,row in tqdm.tqdm(X_train.iterrows()):\n",
        "    path=root + row['filename']\n",
        "    a,b,c,d,e=get_features_from_audio(path)\n",
        "    mfcc.append(a)\n",
        "    cstft.append(b)\n",
        "    mSpec.append(c)\n",
        "\n",
        "\n"
      ]
    },
    {
      "cell_type": "code",
      "execution_count": 71,
      "metadata": {
        "id": "kliVVNKCQ1di"
      },
      "outputs": [
        {
          "name": "stdout",
          "output_type": "stream",
          "text": [
            "{(20, 304), (20, 371), (20, 328), (20, 267), (20, 264), (20, 270), (20, 276), (20, 273), (20, 288), (20, 407), (20, 285), (20, 300), (20, 483), (20, 303), (20, 428), (20, 370), (20, 309), (20, 315), (20, 321), (20, 260), (20, 263), (20, 269), (20, 397), (20, 281), (20, 278), (20, 287), (20, 351), (20, 357), (20, 302), (20, 299), (20, 314), (20, 311), (20, 317), (20, 375), (20, 262), (20, 259), (20, 329), (20, 268), (20, 274), (20, 338), (20, 277), (20, 286), (20, 295), (20, 353), (20, 362), (20, 301)}\n"
          ]
        }
      ],
      "source": [
        "mfcc_shape = feature_shape(mfcc)\n",
        "print(mfcc_shape)"
      ]
    },
    {
      "cell_type": "code",
      "execution_count": 72,
      "metadata": {
        "id": "kBlhA1ekMaIj"
      },
      "outputs": [
        {
          "name": "stdout",
          "output_type": "stream",
          "text": [
            "{(12, 483), (12, 303), (12, 428), (12, 370), (12, 309), (12, 315), (12, 260), (12, 263), (12, 321), (12, 397), (12, 269), (12, 281), (12, 278), (12, 287), (12, 351), (12, 357), (12, 299), (12, 302), (12, 311), (12, 317), (12, 375), (12, 262), (12, 314), (12, 259), (12, 329), (12, 268), (12, 274), (12, 338), (12, 277), (12, 286), (12, 353), (12, 362), (12, 301), (12, 295), (12, 304), (12, 371), (12, 267), (12, 264), (12, 270), (12, 328), (12, 273), (12, 276), (12, 407), (12, 285), (12, 288), (12, 300)}\n"
          ]
        }
      ],
      "source": [
        "cstft_shape = feature_shape(cstft)\n",
        "print(cstft_shape)"
      ]
    },
    {
      "cell_type": "code",
      "execution_count": 73,
      "metadata": {
        "id": "diJTXD12McwU"
      },
      "outputs": [
        {
          "name": "stdout",
          "output_type": "stream",
          "text": [
            "{(128, 264), (128, 328), (128, 267), (128, 273), (128, 270), (128, 276), (128, 285), (128, 288), (128, 407), (128, 300), (128, 370), (128, 309), (128, 428), (128, 483), (128, 303), (128, 315), (128, 321), (128, 260), (128, 263), (128, 269), (128, 278), (128, 397), (128, 281), (128, 287), (128, 351), (128, 299), (128, 357), (128, 302), (128, 311), (128, 375), (128, 314), (128, 259), (128, 317), (128, 262), (128, 329), (128, 268), (128, 274), (128, 338), (128, 277), (128, 286), (128, 295), (128, 353), (128, 304), (128, 362), (128, 301), (128, 371)}\n"
          ]
        }
      ],
      "source": [
        "mspec = feature_shape(mSpec)\n",
        "print(mspec)"
      ]
    },
    {
      "cell_type": "code",
      "execution_count": 74,
      "metadata": {
        "id": "Th3_IkRaRIQr"
      },
      "outputs": [
        {
          "name": "stdout",
          "output_type": "stream",
          "text": [
            "(259,) <class 'tuple'>\n",
            "(259,) <class 'tuple'>\n",
            "(259,) <class 'tuple'>\n"
          ]
        }
      ],
      "source": [
        "mfcc_padded = feature_padding(mfcc)\n",
        "cstft_padded = feature_padding(cstft)\n",
        "mSpec_padded = feature_padding(mSpec)"
      ]
    },
    {
      "cell_type": "code",
      "execution_count": 75,
      "metadata": {
        "id": "Qla1AbjHRk13"
      },
      "outputs": [
        {
          "name": "stdout",
          "output_type": "stream",
          "text": [
            "(5173, 20, 259)\n",
            "(5173, 12, 259)\n",
            "(5173, 128, 259)\n"
          ]
        }
      ],
      "source": [
        "mfcc_train = np.array(mfcc_padded)\n",
        "cstft_train = np.array(cstft_padded)\n",
        "mSpec_train = np.array(mSpec_padded)\n",
        "\n",
        "print(mfcc_train.shape)\n",
        "print(cstft_train.shape)\n",
        "print(mSpec_train.shape)"
      ]
    },
    {
      "cell_type": "code",
      "execution_count": 76,
      "metadata": {
        "id": "2hBvFxlZR0g4"
      },
      "outputs": [],
      "source": [
        "import tensorflow as tf\n",
        "from tensorflow import keras\n",
        "import seaborn as sns\n",
        "import matplotlib.pyplot as plt"
      ]
    },
    {
      "cell_type": "code",
      "execution_count": 77,
      "metadata": {
        "id": "SbnOVjkuVnEC"
      },
      "outputs": [],
      "source": [
        "my_callbacks = [\n",
        "    tf.keras.callbacks.EarlyStopping(\n",
        "    monitor=\"val_loss\",\n",
        "    patience=5,\n",
        "    verbose=1,\n",
        "),\n",
        "    tf.keras.callbacks.ReduceLROnPlateau(\n",
        "    monitor=\"val_loss\",\n",
        "    factor=0.1,\n",
        "    patience=5,\n",
        "    verbose=1,\n",
        "    mode=\"min\",\n",
        "    min_lr=0.00001,\n",
        ")\n",
        "]"
      ]
    },
    {
      "cell_type": "code",
      "execution_count": 78,
      "metadata": {
        "id": "81CqwV0AgwwX"
      },
      "outputs": [
        {
          "name": "stderr",
          "output_type": "stream",
          "text": [
            "C:\\Users\\mahii\\AppData\\Local\\Temp\\ipykernel_14092\\237117300.py:1: FutureWarning: \n",
            "\n",
            "Passing `palette` without assigning `hue` is deprecated and will be removed in v0.14.0. Assign the `x` variable to `hue` and set `legend=False` for the same effect.\n",
            "\n",
            "  sns.countplot(x = final_data['disease'],palette = \"pastel\")\n"
          ]
        },
        {
          "data": {
            "text/plain": [
              "([0, 1, 2, 3, 4, 5, 6, 7],\n",
              " [Text(0, 0, 'URTI'),\n",
              "  Text(1, 0, 'Healthy'),\n",
              "  Text(2, 0, 'Asthma'),\n",
              "  Text(3, 0, 'COPD'),\n",
              "  Text(4, 0, 'LRTI'),\n",
              "  Text(5, 0, 'Bronchiectasis'),\n",
              "  Text(6, 0, 'Pneumonia'),\n",
              "  Text(7, 0, 'Bronchiolitis')])"
            ]
          },
          "execution_count": 78,
          "metadata": {},
          "output_type": "execute_result"
        },
        {
          "data": {
            "image/png": "[encoded data removed]",
            "text/plain": [
              "<Figure size 640x480 with 1 Axes>"
            ]
          },
          "metadata": {},
          "output_type": "display_data"
        }
      ],
      "source": [
        "sns.countplot(x = final_data['disease'],palette = \"pastel\")\n",
        "plt.xticks(rotation = 45)"
      ]
    },
    {
      "cell_type": "code",
      "execution_count": 79,
      "metadata": {
        "id": "kCGM0tHugwkz"
      },
      "outputs": [
        {
          "name": "stderr",
          "output_type": "stream",
          "text": [
            "C:\\Users\\mahii\\AppData\\Local\\Temp\\ipykernel_14092\\3365851312.py:1: FutureWarning: \n",
            "\n",
            "Passing `palette` without assigning `hue` is deprecated and will be removed in v0.14.0. Assign the `x` variable to `hue` and set `legend=False` for the same effect.\n",
            "\n",
            "  sns.countplot(x = patient_demographic['disease'],palette = \"pastel\")\n"
          ]
        },
        {
          "data": {
            "text/plain": [
              "([0, 1, 2, 3, 4, 5, 6, 7],\n",
              " [Text(0, 0, 'Healthy'),\n",
              "  Text(1, 0, 'Asthma'),\n",
              "  Text(2, 0, 'COPD'),\n",
              "  Text(3, 0, 'URTI'),\n",
              "  Text(4, 0, 'LRTI'),\n",
              "  Text(5, 0, 'Bronchiectasis'),\n",
              "  Text(6, 0, 'Pneumonia'),\n",
              "  Text(7, 0, 'Bronchiolitis')])"
            ]
          },
          "execution_count": 79,
          "metadata": {},
          "output_type": "execute_result"
        },
        {
          "data": {
            "image/png": "[encoded data removed]",
            "text/plain": [
              "<Figure size 640x480 with 1 Axes>"
            ]
          },
          "metadata": {},
          "output_type": "display_data"
        }
      ],
      "source": [
        "sns.countplot(x = patient_demographic['disease'],palette = \"pastel\")\n",
        "plt.xticks(rotation = 45)"
      ]
    },
    {
      "cell_type": "code",
      "execution_count": 80,
      "metadata": {
        "id": "CV3ngibaC4O8"
      },
      "outputs": [],
      "source": [
        "mfcc_input=keras.layers.Input(shape=(20,259,1),name=\"mfccInput\")\n",
        "x=keras.layers.Conv2D(32,5,strides=(1,3),padding='same')(mfcc_input)\n",
        "x=keras.layers.BatchNormalization()(x)\n",
        "x=keras.layers.Activation(keras.activations.relu)(x)\n",
        "x=keras.layers.MaxPooling2D(pool_size=2,padding='valid')(x)\n",
        "\n",
        "x=keras.layers.Conv2D(64,3,strides=(1,2),padding='same')(x)\n",
        "x=keras.layers.BatchNormalization()(x)\n",
        "x=keras.layers.Activation(keras.activations.relu)(x)\n",
        "x=keras.layers.MaxPooling2D(pool_size=2,padding='valid')(x)\n",
        "\n",
        "x=keras.layers.Conv2D(96,2,padding='same')(x)\n",
        "x=keras.layers.BatchNormalization()(x)\n",
        "x=keras.layers.Activation(keras.activations.relu)(x)\n",
        "x=keras.layers.MaxPooling2D(pool_size=2,padding='valid')(x)\n",
        "\n",
        "x=keras.layers.Conv2D(128,2,padding='same')(x)\n",
        "x=keras.layers.BatchNormalization()(x)\n",
        "x=keras.layers.Activation(keras.activations.relu)(x)\n",
        "mfcc_output=keras.layers.GlobalMaxPooling2D()(x)\n",
        "\n",
        "mfcc_model=keras.Model(mfcc_input, mfcc_output, name=\"mfccModel\")"
      ]
    },
    {
      "cell_type": "code",
      "execution_count": 81,
      "metadata": {
        "id": "Ykap_CMxDLy4"
      },
      "outputs": [
        {
          "data": {
            "text/html": [
              "<pre style=\"white-space:pre;overflow-x:auto;line-height:normal;font-family:Menlo,'DejaVu Sans Mono',consolas,'Courier New',monospace\"><span style=\"font-weight: bold\">Model: \"mfccModel\"</span>\n",
              "</pre>\n"
            ],
            "text/plain": [
              "\u001b[1mModel: \"mfccModel\"\u001b[0m\n"
            ]
          },
          "metadata": {},
          "output_type": "display_data"
        },
        {
          "data": {
            "text/html": [
              "<pre style=\"white-space:pre;overflow-x:auto;line-height:normal;font-family:Menlo,'DejaVu Sans Mono',consolas,'Courier New',monospace\">┏━━━━━━━━━━━━━━━━━━━━━━━━━━━━━━━━━┳━━━━━━━━━━━━━━━━━━━━━━━━┳━━━━━━━━━━━━━━━┓\n",
              "┃<span style=\"font-weight: bold\"> Layer (type)                    </span>┃<span style=\"font-weight: bold\"> Output Shape           </span>┃<span style=\"font-weight: bold\">       Param # </span>┃\n",
              "┡━━━━━━━━━━━━━━━━━━━━━━━━━━━━━━━━━╇━━━━━━━━━━━━━━━━━━━━━━━━╇━━━━━━━━━━━━━━━┩\n",
              "│ mfccInput (<span style=\"color: #0087ff; text-decoration-color: #0087ff\">InputLayer</span>)          │ (<span style=\"color: #00d7ff; text-decoration-color: #00d7ff\">None</span>, <span style=\"color: #00af00; text-decoration-color: #00af00\">20</span>, <span style=\"color: #00af00; text-decoration-color: #00af00\">259</span>, <span style=\"color: #00af00; text-decoration-color: #00af00\">1</span>)     │             <span style=\"color: #00af00; text-decoration-color: #00af00\">0</span> │\n",
              "├─────────────────────────────────┼────────────────────────┼───────────────┤\n",
              "│ conv2d (<span style=\"color: #0087ff; text-decoration-color: #0087ff\">Conv2D</span>)                 │ (<span style=\"color: #00d7ff; text-decoration-color: #00d7ff\">None</span>, <span style=\"color: #00af00; text-decoration-color: #00af00\">20</span>, <span style=\"color: #00af00; text-decoration-color: #00af00\">87</span>, <span style=\"color: #00af00; text-decoration-color: #00af00\">32</span>)     │           <span style=\"color: #00af00; text-decoration-color: #00af00\">832</span> │\n",
              "├─────────────────────────────────┼────────────────────────┼───────────────┤\n",
              "│ batch_normalization             │ (<span style=\"color: #00d7ff; text-decoration-color: #00d7ff\">None</span>, <span style=\"color: #00af00; text-decoration-color: #00af00\">20</span>, <span style=\"color: #00af00; text-decoration-color: #00af00\">87</span>, <span style=\"color: #00af00; text-decoration-color: #00af00\">32</span>)     │           <span style=\"color: #00af00; text-decoration-color: #00af00\">128</span> │\n",
              "│ (<span style=\"color: #0087ff; text-decoration-color: #0087ff\">BatchNormalization</span>)            │                        │               │\n",
              "├─────────────────────────────────┼────────────────────────┼───────────────┤\n",
              "│ activation (<span style=\"color: #0087ff; text-decoration-color: #0087ff\">Activation</span>)         │ (<span style=\"color: #00d7ff; text-decoration-color: #00d7ff\">None</span>, <span style=\"color: #00af00; text-decoration-color: #00af00\">20</span>, <span style=\"color: #00af00; text-decoration-color: #00af00\">87</span>, <span style=\"color: #00af00; text-decoration-color: #00af00\">32</span>)     │             <span style=\"color: #00af00; text-decoration-color: #00af00\">0</span> │\n",
              "├─────────────────────────────────┼────────────────────────┼───────────────┤\n",
              "│ max_pooling2d (<span style=\"color: #0087ff; text-decoration-color: #0087ff\">MaxPooling2D</span>)    │ (<span style=\"color: #00d7ff; text-decoration-color: #00d7ff\">None</span>, <span style=\"color: #00af00; text-decoration-color: #00af00\">10</span>, <span style=\"color: #00af00; text-decoration-color: #00af00\">43</span>, <span style=\"color: #00af00; text-decoration-color: #00af00\">32</span>)     │             <span style=\"color: #00af00; text-decoration-color: #00af00\">0</span> │\n",
              "├─────────────────────────────────┼────────────────────────┼───────────────┤\n",
              "│ conv2d_1 (<span style=\"color: #0087ff; text-decoration-color: #0087ff\">Conv2D</span>)               │ (<span style=\"color: #00d7ff; text-decoration-color: #00d7ff\">None</span>, <span style=\"color: #00af00; text-decoration-color: #00af00\">10</span>, <span style=\"color: #00af00; text-decoration-color: #00af00\">22</span>, <span style=\"color: #00af00; text-decoration-color: #00af00\">64</span>)     │        <span style=\"color: #00af00; text-decoration-color: #00af00\">18,496</span> │\n",
              "├─────────────────────────────────┼────────────────────────┼───────────────┤\n",
              "│ batch_normalization_1           │ (<span style=\"color: #00d7ff; text-decoration-color: #00d7ff\">None</span>, <span style=\"color: #00af00; text-decoration-color: #00af00\">10</span>, <span style=\"color: #00af00; text-decoration-color: #00af00\">22</span>, <span style=\"color: #00af00; text-decoration-color: #00af00\">64</span>)     │           <span style=\"color: #00af00; text-decoration-color: #00af00\">256</span> │\n",
              "│ (<span style=\"color: #0087ff; text-decoration-color: #0087ff\">BatchNormalization</span>)            │                        │               │\n",
              "├─────────────────────────────────┼────────────────────────┼───────────────┤\n",
              "│ activation_1 (<span style=\"color: #0087ff; text-decoration-color: #0087ff\">Activation</span>)       │ (<span style=\"color: #00d7ff; text-decoration-color: #00d7ff\">None</span>, <span style=\"color: #00af00; text-decoration-color: #00af00\">10</span>, <span style=\"color: #00af00; text-decoration-color: #00af00\">22</span>, <span style=\"color: #00af00; text-decoration-color: #00af00\">64</span>)     │             <span style=\"color: #00af00; text-decoration-color: #00af00\">0</span> │\n",
              "├─────────────────────────────────┼────────────────────────┼───────────────┤\n",
              "│ max_pooling2d_1 (<span style=\"color: #0087ff; text-decoration-color: #0087ff\">MaxPooling2D</span>)  │ (<span style=\"color: #00d7ff; text-decoration-color: #00d7ff\">None</span>, <span style=\"color: #00af00; text-decoration-color: #00af00\">5</span>, <span style=\"color: #00af00; text-decoration-color: #00af00\">11</span>, <span style=\"color: #00af00; text-decoration-color: #00af00\">64</span>)      │             <span style=\"color: #00af00; text-decoration-color: #00af00\">0</span> │\n",
              "├─────────────────────────────────┼────────────────────────┼───────────────┤\n",
              "│ conv2d_2 (<span style=\"color: #0087ff; text-decoration-color: #0087ff\">Conv2D</span>)               │ (<span style=\"color: #00d7ff; text-decoration-color: #00d7ff\">None</span>, <span style=\"color: #00af00; text-decoration-color: #00af00\">5</span>, <span style=\"color: #00af00; text-decoration-color: #00af00\">11</span>, <span style=\"color: #00af00; text-decoration-color: #00af00\">96</span>)      │        <span style=\"color: #00af00; text-decoration-color: #00af00\">24,672</span> │\n",
              "├─────────────────────────────────┼────────────────────────┼───────────────┤\n",
              "│ batch_normalization_2           │ (<span style=\"color: #00d7ff; text-decoration-color: #00d7ff\">None</span>, <span style=\"color: #00af00; text-decoration-color: #00af00\">5</span>, <span style=\"color: #00af00; text-decoration-color: #00af00\">11</span>, <span style=\"color: #00af00; text-decoration-color: #00af00\">96</span>)      │           <span style=\"color: #00af00; text-decoration-color: #00af00\">384</span> │\n",
              "│ (<span style=\"color: #0087ff; text-decoration-color: #0087ff\">BatchNormalization</span>)            │                        │               │\n",
              "├─────────────────────────────────┼────────────────────────┼───────────────┤\n",
              "│ activation_2 (<span style=\"color: #0087ff; text-decoration-color: #0087ff\">Activation</span>)       │ (<span style=\"color: #00d7ff; text-decoration-color: #00d7ff\">None</span>, <span style=\"color: #00af00; text-decoration-color: #00af00\">5</span>, <span style=\"color: #00af00; text-decoration-color: #00af00\">11</span>, <span style=\"color: #00af00; text-decoration-color: #00af00\">96</span>)      │             <span style=\"color: #00af00; text-decoration-color: #00af00\">0</span> │\n",
              "├─────────────────────────────────┼────────────────────────┼───────────────┤\n",
              "│ max_pooling2d_2 (<span style=\"color: #0087ff; text-decoration-color: #0087ff\">MaxPooling2D</span>)  │ (<span style=\"color: #00d7ff; text-decoration-color: #00d7ff\">None</span>, <span style=\"color: #00af00; text-decoration-color: #00af00\">2</span>, <span style=\"color: #00af00; text-decoration-color: #00af00\">5</span>, <span style=\"color: #00af00; text-decoration-color: #00af00\">96</span>)       │             <span style=\"color: #00af00; text-decoration-color: #00af00\">0</span> │\n",
              "├─────────────────────────────────┼────────────────────────┼───────────────┤\n",
              "│ conv2d_3 (<span style=\"color: #0087ff; text-decoration-color: #0087ff\">Conv2D</span>)               │ (<span style=\"color: #00d7ff; text-decoration-color: #00d7ff\">None</span>, <span style=\"color: #00af00; text-decoration-color: #00af00\">2</span>, <span style=\"color: #00af00; text-decoration-color: #00af00\">5</span>, <span style=\"color: #00af00; text-decoration-color: #00af00\">128</span>)      │        <span style=\"color: #00af00; text-decoration-color: #00af00\">49,280</span> │\n",
              "├─────────────────────────────────┼────────────────────────┼───────────────┤\n",
              "│ batch_normalization_3           │ (<span style=\"color: #00d7ff; text-decoration-color: #00d7ff\">None</span>, <span style=\"color: #00af00; text-decoration-color: #00af00\">2</span>, <span style=\"color: #00af00; text-decoration-color: #00af00\">5</span>, <span style=\"color: #00af00; text-decoration-color: #00af00\">128</span>)      │           <span style=\"color: #00af00; text-decoration-color: #00af00\">512</span> │\n",
              "│ (<span style=\"color: #0087ff; text-decoration-color: #0087ff\">BatchNormalization</span>)            │                        │               │\n",
              "├─────────────────────────────────┼────────────────────────┼───────────────┤\n",
              "│ activation_3 (<span style=\"color: #0087ff; text-decoration-color: #0087ff\">Activation</span>)       │ (<span style=\"color: #00d7ff; text-decoration-color: #00d7ff\">None</span>, <span style=\"color: #00af00; text-decoration-color: #00af00\">2</span>, <span style=\"color: #00af00; text-decoration-color: #00af00\">5</span>, <span style=\"color: #00af00; text-decoration-color: #00af00\">128</span>)      │             <span style=\"color: #00af00; text-decoration-color: #00af00\">0</span> │\n",
              "├─────────────────────────────────┼────────────────────────┼───────────────┤\n",
              "│ global_max_pooling2d            │ (<span style=\"color: #00d7ff; text-decoration-color: #00d7ff\">None</span>, <span style=\"color: #00af00; text-decoration-color: #00af00\">128</span>)            │             <span style=\"color: #00af00; text-decoration-color: #00af00\">0</span> │\n",
              "│ (<span style=\"color: #0087ff; text-decoration-color: #0087ff\">GlobalMaxPooling2D</span>)            │                        │               │\n",
              "└─────────────────────────────────┴────────────────────────┴───────────────┘\n",
              "</pre>\n"
            ],
            "text/plain": [
              "┏━━━━━━━━━━━━━━━━━━━━━━━━━━━━━━━━━┳━━━━━━━━━━━━━━━━━━━━━━━━┳━━━━━━━━━━━━━━━┓\n",
              "┃\u001b[1m \u001b[0m\u001b[1mLayer (type)                   \u001b[0m\u001b[1m \u001b[0m┃\u001b[1m \u001b[0m\u001b[1mOutput Shape          \u001b[0m\u001b[1m \u001b[0m┃\u001b[1m \u001b[0m\u001b[1m      Param #\u001b[0m\u001b[1m \u001b[0m┃\n",
              "┡━━━━━━━━━━━━━━━━━━━━━━━━━━━━━━━━━╇━━━━━━━━━━━━━━━━━━━━━━━━╇━━━━━━━━━━━━━━━┩\n",
              "│ mfccInput (\u001b[38;5;33mInputLayer\u001b[0m)          │ (\u001b[38;5;45mNone\u001b[0m, \u001b[38;5;34m20\u001b[0m, \u001b[38;5;34m259\u001b[0m, \u001b[38;5;34m1\u001b[0m)     │             \u001b[38;5;34m0\u001b[0m │\n",
              "├─────────────────────────────────┼────────────────────────┼───────────────┤\n",
              "│ conv2d (\u001b[38;5;33mConv2D\u001b[0m)                 │ (\u001b[38;5;45mNone\u001b[0m, \u001b[38;5;34m20\u001b[0m, \u001b[38;5;34m87\u001b[0m, \u001b[38;5;34m32\u001b[0m)     │           \u001b[38;5;34m832\u001b[0m │\n",
              "├─────────────────────────────────┼────────────────────────┼───────────────┤\n",
              "│ batch_normalization             │ (\u001b[38;5;45mNone\u001b[0m, \u001b[38;5;34m20\u001b[0m, \u001b[38;5;34m87\u001b[0m, \u001b[38;5;34m32\u001b[0m)     │           \u001b[38;5;34m128\u001b[0m │\n",
              "│ (\u001b[38;5;33mBatchNormalization\u001b[0m)            │                        │               │\n",
              "├─────────────────────────────────┼────────────────────────┼───────────────┤\n",
              "│ activation (\u001b[38;5;33mActivation\u001b[0m)         │ (\u001b[38;5;45mNone\u001b[0m, \u001b[38;5;34m20\u001b[0m, \u001b[38;5;34m87\u001b[0m, \u001b[38;5;34m32\u001b[0m)     │             \u001b[38;5;34m0\u001b[0m │\n",
              "├─────────────────────────────────┼────────────────────────┼───────────────┤\n",
              "│ max_pooling2d (\u001b[38;5;33mMaxPooling2D\u001b[0m)    │ (\u001b[38;5;45mNone\u001b[0m, \u001b[38;5;34m10\u001b[0m, \u001b[38;5;34m43\u001b[0m, \u001b[38;5;34m32\u001b[0m)     │             \u001b[38;5;34m0\u001b[0m │\n",
              "├─────────────────────────────────┼────────────────────────┼───────────────┤\n",
              "│ conv2d_1 (\u001b[38;5;33mConv2D\u001b[0m)               │ (\u001b[38;5;45mNone\u001b[0m, \u001b[38;5;34m10\u001b[0m, \u001b[38;5;34m22\u001b[0m, \u001b[38;5;34m64\u001b[0m)     │        \u001b[38;5;34m18,496\u001b[0m │\n",
              "├─────────────────────────────────┼────────────────────────┼───────────────┤\n",
              "│ batch_normalization_1           │ (\u001b[38;5;45mNone\u001b[0m, \u001b[38;5;34m10\u001b[0m, \u001b[38;5;34m22\u001b[0m, \u001b[38;5;34m64\u001b[0m)     │           \u001b[38;5;34m256\u001b[0m │\n",
              "│ (\u001b[38;5;33mBatchNormalization\u001b[0m)            │                        │               │\n",
              "├─────────────────────────────────┼────────────────────────┼───────────────┤\n",
              "│ activation_1 (\u001b[38;5;33mActivation\u001b[0m)       │ (\u001b[38;5;45mNone\u001b[0m, \u001b[38;5;34m10\u001b[0m, \u001b[38;5;34m22\u001b[0m, \u001b[38;5;34m64\u001b[0m)     │             \u001b[38;5;34m0\u001b[0m │\n",
              "├─────────────────────────────────┼────────────────────────┼───────────────┤\n",
              "│ max_pooling2d_1 (\u001b[38;5;33mMaxPooling2D\u001b[0m)  │ (\u001b[38;5;45mNone\u001b[0m, \u001b[38;5;34m5\u001b[0m, \u001b[38;5;34m11\u001b[0m, \u001b[38;5;34m64\u001b[0m)      │             \u001b[38;5;34m0\u001b[0m │\n",
              "├─────────────────────────────────┼────────────────────────┼───────────────┤\n",
              "│ conv2d_2 (\u001b[38;5;33mConv2D\u001b[0m)               │ (\u001b[38;5;45mNone\u001b[0m, \u001b[38;5;34m5\u001b[0m, \u001b[38;5;34m11\u001b[0m, \u001b[38;5;34m96\u001b[0m)      │        \u001b[38;5;34m24,672\u001b[0m │\n",
              "├─────────────────────────────────┼────────────────────────┼───────────────┤\n",
              "│ batch_normalization_2           │ (\u001b[38;5;45mNone\u001b[0m, \u001b[38;5;34m5\u001b[0m, \u001b[38;5;34m11\u001b[0m, \u001b[38;5;34m96\u001b[0m)      │           \u001b[38;5;34m384\u001b[0m │\n",
              "│ (\u001b[38;5;33mBatchNormalization\u001b[0m)            │                        │               │\n",
              "├─────────────────────────────────┼────────────────────────┼───────────────┤\n",
              "│ activation_2 (\u001b[38;5;33mActivation\u001b[0m)       │ (\u001b[38;5;45mNone\u001b[0m, \u001b[38;5;34m5\u001b[0m, \u001b[38;5;34m11\u001b[0m, \u001b[38;5;34m96\u001b[0m)      │             \u001b[38;5;34m0\u001b[0m │\n",
              "├─────────────────────────────────┼────────────────────────┼───────────────┤\n",
              "│ max_pooling2d_2 (\u001b[38;5;33mMaxPooling2D\u001b[0m)  │ (\u001b[38;5;45mNone\u001b[0m, \u001b[38;5;34m2\u001b[0m, \u001b[38;5;34m5\u001b[0m, \u001b[38;5;34m96\u001b[0m)       │             \u001b[38;5;34m0\u001b[0m │\n",
              "├─────────────────────────────────┼────────────────────────┼───────────────┤\n",
              "│ conv2d_3 (\u001b[38;5;33mConv2D\u001b[0m)               │ (\u001b[38;5;45mNone\u001b[0m, \u001b[38;5;34m2\u001b[0m, \u001b[38;5;34m5\u001b[0m, \u001b[38;5;34m128\u001b[0m)      │        \u001b[38;5;34m49,280\u001b[0m │\n",
              "├─────────────────────────────────┼────────────────────────┼───────────────┤\n",
              "│ batch_normalization_3           │ (\u001b[38;5;45mNone\u001b[0m, \u001b[38;5;34m2\u001b[0m, \u001b[38;5;34m5\u001b[0m, \u001b[38;5;34m128\u001b[0m)      │           \u001b[38;5;34m512\u001b[0m │\n",
              "│ (\u001b[38;5;33mBatchNormalization\u001b[0m)            │                        │               │\n",
              "├─────────────────────────────────┼────────────────────────┼───────────────┤\n",
              "│ activation_3 (\u001b[38;5;33mActivation\u001b[0m)       │ (\u001b[38;5;45mNone\u001b[0m, \u001b[38;5;34m2\u001b[0m, \u001b[38;5;34m5\u001b[0m, \u001b[38;5;34m128\u001b[0m)      │             \u001b[38;5;34m0\u001b[0m │\n",
              "├─────────────────────────────────┼────────────────────────┼───────────────┤\n",
              "│ global_max_pooling2d            │ (\u001b[38;5;45mNone\u001b[0m, \u001b[38;5;34m128\u001b[0m)            │             \u001b[38;5;34m0\u001b[0m │\n",
              "│ (\u001b[38;5;33mGlobalMaxPooling2D\u001b[0m)            │                        │               │\n",
              "└─────────────────────────────────┴────────────────────────┴───────────────┘\n"
            ]
          },
          "metadata": {},
          "output_type": "display_data"
        },
        {
          "data": {
            "text/html": [
              "<pre style=\"white-space:pre;overflow-x:auto;line-height:normal;font-family:Menlo,'DejaVu Sans Mono',consolas,'Courier New',monospace\"><span style=\"font-weight: bold\"> Total params: </span><span style=\"color: #00af00; text-decoration-color: #00af00\">94,560</span> (369.38 KB)\n",
              "</pre>\n"
            ],
            "text/plain": [
              "\u001b[1m Total params: \u001b[0m\u001b[38;5;34m94,560\u001b[0m (369.38 KB)\n"
            ]
          },
          "metadata": {},
          "output_type": "display_data"
        },
        {
          "data": {
            "text/html": [
              "<pre style=\"white-space:pre;overflow-x:auto;line-height:normal;font-family:Menlo,'DejaVu Sans Mono',consolas,'Courier New',monospace\"><span style=\"font-weight: bold\"> Trainable params: </span><span style=\"color: #00af00; text-decoration-color: #00af00\">93,920</span> (366.88 KB)\n",
              "</pre>\n"
            ],
            "text/plain": [
              "\u001b[1m Trainable params: \u001b[0m\u001b[38;5;34m93,920\u001b[0m (366.88 KB)\n"
            ]
          },
          "metadata": {},
          "output_type": "display_data"
        },
        {
          "data": {
            "text/html": [
              "<pre style=\"white-space:pre;overflow-x:auto;line-height:normal;font-family:Menlo,'DejaVu Sans Mono',consolas,'Courier New',monospace\"><span style=\"font-weight: bold\"> Non-trainable params: </span><span style=\"color: #00af00; text-decoration-color: #00af00\">640</span> (2.50 KB)\n",
              "</pre>\n"
            ],
            "text/plain": [
              "\u001b[1m Non-trainable params: \u001b[0m\u001b[38;5;34m640\u001b[0m (2.50 KB)\n"
            ]
          },
          "metadata": {},
          "output_type": "display_data"
        }
      ],
      "source": [
        "mfcc_model.summary()"
      ]
    },
    {
      "cell_type": "code",
      "execution_count": 82,
      "metadata": {
        "id": "QrASui6CDMBJ"
      },
      "outputs": [],
      "source": [
        "cstft_input=keras.layers.Input(shape=(12,259,1),name=\"cstftInput\")\n",
        "x=keras.layers.Conv2D(32,5,strides=(1,3),padding='same')(cstft_input)\n",
        "x=keras.layers.BatchNormalization()(x)\n",
        "x=keras.layers.Activation(keras.activations.relu)(x)\n",
        "x=keras.layers.MaxPooling2D(pool_size=2,padding='valid')(x)\n",
        "\n",
        "x=keras.layers.Conv2D(64,3,strides=(1,2),padding='same')(x)\n",
        "x=keras.layers.BatchNormalization()(x)\n",
        "x=keras.layers.Activation(keras.activations.relu)(x)\n",
        "x=keras.layers.MaxPooling2D(pool_size=2,padding='valid')(x)\n",
        "\n",
        "x=keras.layers.Conv2D(96,2,padding='same')(x)\n",
        "x=keras.layers.BatchNormalization()(x)\n",
        "x=keras.layers.Activation(keras.activations.relu)(x)\n",
        "x=keras.layers.MaxPooling2D(pool_size=2,padding='valid')(x)\n",
        "\n",
        "x=keras.layers.Conv2D(128,2,padding='same')(x)\n",
        "x=keras.layers.BatchNormalization()(x)\n",
        "x=keras.layers.Activation(keras.activations.relu)(x)\n",
        "cstft_output=keras.layers.GlobalMaxPooling2D()(x)\n",
        "\n",
        "cstft_model=keras.Model(cstft_input, cstft_output, name=\"cstftModel\")"
      ]
    },
    {
      "cell_type": "code",
      "execution_count": 83,
      "metadata": {
        "id": "mwnOnimpDMNb"
      },
      "outputs": [
        {
          "data": {
            "text/html": [
              "<pre style=\"white-space:pre;overflow-x:auto;line-height:normal;font-family:Menlo,'DejaVu Sans Mono',consolas,'Courier New',monospace\"><span style=\"font-weight: bold\">Model: \"cstftModel\"</span>\n",
              "</pre>\n"
            ],
            "text/plain": [
              "\u001b[1mModel: \"cstftModel\"\u001b[0m\n"
            ]
          },
          "metadata": {},
          "output_type": "display_data"
        },
        {
          "data": {
            "text/html": [
              "<pre style=\"white-space:pre;overflow-x:auto;line-height:normal;font-family:Menlo,'DejaVu Sans Mono',consolas,'Courier New',monospace\">┏━━━━━━━━━━━━━━━━━━━━━━━━━━━━━━━━━┳━━━━━━━━━━━━━━━━━━━━━━━━┳━━━━━━━━━━━━━━━┓\n",
              "┃<span style=\"font-weight: bold\"> Layer (type)                    </span>┃<span style=\"font-weight: bold\"> Output Shape           </span>┃<span style=\"font-weight: bold\">       Param # </span>┃\n",
              "┡━━━━━━━━━━━━━━━━━━━━━━━━━━━━━━━━━╇━━━━━━━━━━━━━━━━━━━━━━━━╇━━━━━━━━━━━━━━━┩\n",
              "│ cstftInput (<span style=\"color: #0087ff; text-decoration-color: #0087ff\">InputLayer</span>)         │ (<span style=\"color: #00d7ff; text-decoration-color: #00d7ff\">None</span>, <span style=\"color: #00af00; text-decoration-color: #00af00\">12</span>, <span style=\"color: #00af00; text-decoration-color: #00af00\">259</span>, <span style=\"color: #00af00; text-decoration-color: #00af00\">1</span>)     │             <span style=\"color: #00af00; text-decoration-color: #00af00\">0</span> │\n",
              "├─────────────────────────────────┼────────────────────────┼───────────────┤\n",
              "│ conv2d_4 (<span style=\"color: #0087ff; text-decoration-color: #0087ff\">Conv2D</span>)               │ (<span style=\"color: #00d7ff; text-decoration-color: #00d7ff\">None</span>, <span style=\"color: #00af00; text-decoration-color: #00af00\">12</span>, <span style=\"color: #00af00; text-decoration-color: #00af00\">87</span>, <span style=\"color: #00af00; text-decoration-color: #00af00\">32</span>)     │           <span style=\"color: #00af00; text-decoration-color: #00af00\">832</span> │\n",
              "├─────────────────────────────────┼────────────────────────┼───────────────┤\n",
              "│ batch_normalization_4           │ (<span style=\"color: #00d7ff; text-decoration-color: #00d7ff\">None</span>, <span style=\"color: #00af00; text-decoration-color: #00af00\">12</span>, <span style=\"color: #00af00; text-decoration-color: #00af00\">87</span>, <span style=\"color: #00af00; text-decoration-color: #00af00\">32</span>)     │           <span style=\"color: #00af00; text-decoration-color: #00af00\">128</span> │\n",
              "│ (<span style=\"color: #0087ff; text-decoration-color: #0087ff\">BatchNormalization</span>)            │                        │               │\n",
              "├─────────────────────────────────┼────────────────────────┼───────────────┤\n",
              "│ activation_4 (<span style=\"color: #0087ff; text-decoration-color: #0087ff\">Activation</span>)       │ (<span style=\"color: #00d7ff; text-decoration-color: #00d7ff\">None</span>, <span style=\"color: #00af00; text-decoration-color: #00af00\">12</span>, <span style=\"color: #00af00; text-decoration-color: #00af00\">87</span>, <span style=\"color: #00af00; text-decoration-color: #00af00\">32</span>)     │             <span style=\"color: #00af00; text-decoration-color: #00af00\">0</span> │\n",
              "├─────────────────────────────────┼────────────────────────┼───────────────┤\n",
              "│ max_pooling2d_3 (<span style=\"color: #0087ff; text-decoration-color: #0087ff\">MaxPooling2D</span>)  │ (<span style=\"color: #00d7ff; text-decoration-color: #00d7ff\">None</span>, <span style=\"color: #00af00; text-decoration-color: #00af00\">6</span>, <span style=\"color: #00af00; text-decoration-color: #00af00\">43</span>, <span style=\"color: #00af00; text-decoration-color: #00af00\">32</span>)      │             <span style=\"color: #00af00; text-decoration-color: #00af00\">0</span> │\n",
              "├─────────────────────────────────┼────────────────────────┼───────────────┤\n",
              "│ conv2d_5 (<span style=\"color: #0087ff; text-decoration-color: #0087ff\">Conv2D</span>)               │ (<span style=\"color: #00d7ff; text-decoration-color: #00d7ff\">None</span>, <span style=\"color: #00af00; text-decoration-color: #00af00\">6</span>, <span style=\"color: #00af00; text-decoration-color: #00af00\">22</span>, <span style=\"color: #00af00; text-decoration-color: #00af00\">64</span>)      │        <span style=\"color: #00af00; text-decoration-color: #00af00\">18,496</span> │\n",
              "├─────────────────────────────────┼────────────────────────┼───────────────┤\n",
              "│ batch_normalization_5           │ (<span style=\"color: #00d7ff; text-decoration-color: #00d7ff\">None</span>, <span style=\"color: #00af00; text-decoration-color: #00af00\">6</span>, <span style=\"color: #00af00; text-decoration-color: #00af00\">22</span>, <span style=\"color: #00af00; text-decoration-color: #00af00\">64</span>)      │           <span style=\"color: #00af00; text-decoration-color: #00af00\">256</span> │\n",
              "│ (<span style=\"color: #0087ff; text-decoration-color: #0087ff\">BatchNormalization</span>)            │                        │               │\n",
              "├─────────────────────────────────┼────────────────────────┼───────────────┤\n",
              "│ activation_5 (<span style=\"color: #0087ff; text-decoration-color: #0087ff\">Activation</span>)       │ (<span style=\"color: #00d7ff; text-decoration-color: #00d7ff\">None</span>, <span style=\"color: #00af00; text-decoration-color: #00af00\">6</span>, <span style=\"color: #00af00; text-decoration-color: #00af00\">22</span>, <span style=\"color: #00af00; text-decoration-color: #00af00\">64</span>)      │             <span style=\"color: #00af00; text-decoration-color: #00af00\">0</span> │\n",
              "├─────────────────────────────────┼────────────────────────┼───────────────┤\n",
              "│ max_pooling2d_4 (<span style=\"color: #0087ff; text-decoration-color: #0087ff\">MaxPooling2D</span>)  │ (<span style=\"color: #00d7ff; text-decoration-color: #00d7ff\">None</span>, <span style=\"color: #00af00; text-decoration-color: #00af00\">3</span>, <span style=\"color: #00af00; text-decoration-color: #00af00\">11</span>, <span style=\"color: #00af00; text-decoration-color: #00af00\">64</span>)      │             <span style=\"color: #00af00; text-decoration-color: #00af00\">0</span> │\n",
              "├─────────────────────────────────┼────────────────────────┼───────────────┤\n",
              "│ conv2d_6 (<span style=\"color: #0087ff; text-decoration-color: #0087ff\">Conv2D</span>)               │ (<span style=\"color: #00d7ff; text-decoration-color: #00d7ff\">None</span>, <span style=\"color: #00af00; text-decoration-color: #00af00\">3</span>, <span style=\"color: #00af00; text-decoration-color: #00af00\">11</span>, <span style=\"color: #00af00; text-decoration-color: #00af00\">96</span>)      │        <span style=\"color: #00af00; text-decoration-color: #00af00\">24,672</span> │\n",
              "├─────────────────────────────────┼────────────────────────┼───────────────┤\n",
              "│ batch_normalization_6           │ (<span style=\"color: #00d7ff; text-decoration-color: #00d7ff\">None</span>, <span style=\"color: #00af00; text-decoration-color: #00af00\">3</span>, <span style=\"color: #00af00; text-decoration-color: #00af00\">11</span>, <span style=\"color: #00af00; text-decoration-color: #00af00\">96</span>)      │           <span style=\"color: #00af00; text-decoration-color: #00af00\">384</span> │\n",
              "│ (<span style=\"color: #0087ff; text-decoration-color: #0087ff\">BatchNormalization</span>)            │                        │               │\n",
              "├─────────────────────────────────┼────────────────────────┼───────────────┤\n",
              "│ activation_6 (<span style=\"color: #0087ff; text-decoration-color: #0087ff\">Activation</span>)       │ (<span style=\"color: #00d7ff; text-decoration-color: #00d7ff\">None</span>, <span style=\"color: #00af00; text-decoration-color: #00af00\">3</span>, <span style=\"color: #00af00; text-decoration-color: #00af00\">11</span>, <span style=\"color: #00af00; text-decoration-color: #00af00\">96</span>)      │             <span style=\"color: #00af00; text-decoration-color: #00af00\">0</span> │\n",
              "├─────────────────────────────────┼────────────────────────┼───────────────┤\n",
              "│ max_pooling2d_5 (<span style=\"color: #0087ff; text-decoration-color: #0087ff\">MaxPooling2D</span>)  │ (<span style=\"color: #00d7ff; text-decoration-color: #00d7ff\">None</span>, <span style=\"color: #00af00; text-decoration-color: #00af00\">1</span>, <span style=\"color: #00af00; text-decoration-color: #00af00\">5</span>, <span style=\"color: #00af00; text-decoration-color: #00af00\">96</span>)       │             <span style=\"color: #00af00; text-decoration-color: #00af00\">0</span> │\n",
              "├─────────────────────────────────┼────────────────────────┼───────────────┤\n",
              "│ conv2d_7 (<span style=\"color: #0087ff; text-decoration-color: #0087ff\">Conv2D</span>)               │ (<span style=\"color: #00d7ff; text-decoration-color: #00d7ff\">None</span>, <span style=\"color: #00af00; text-decoration-color: #00af00\">1</span>, <span style=\"color: #00af00; text-decoration-color: #00af00\">5</span>, <span style=\"color: #00af00; text-decoration-color: #00af00\">128</span>)      │        <span style=\"color: #00af00; text-decoration-color: #00af00\">49,280</span> │\n",
              "├─────────────────────────────────┼────────────────────────┼───────────────┤\n",
              "│ batch_normalization_7           │ (<span style=\"color: #00d7ff; text-decoration-color: #00d7ff\">None</span>, <span style=\"color: #00af00; text-decoration-color: #00af00\">1</span>, <span style=\"color: #00af00; text-decoration-color: #00af00\">5</span>, <span style=\"color: #00af00; text-decoration-color: #00af00\">128</span>)      │           <span style=\"color: #00af00; text-decoration-color: #00af00\">512</span> │\n",
              "│ (<span style=\"color: #0087ff; text-decoration-color: #0087ff\">BatchNormalization</span>)            │                        │               │\n",
              "├─────────────────────────────────┼────────────────────────┼───────────────┤\n",
              "│ activation_7 (<span style=\"color: #0087ff; text-decoration-color: #0087ff\">Activation</span>)       │ (<span style=\"color: #00d7ff; text-decoration-color: #00d7ff\">None</span>, <span style=\"color: #00af00; text-decoration-color: #00af00\">1</span>, <span style=\"color: #00af00; text-decoration-color: #00af00\">5</span>, <span style=\"color: #00af00; text-decoration-color: #00af00\">128</span>)      │             <span style=\"color: #00af00; text-decoration-color: #00af00\">0</span> │\n",
              "├─────────────────────────────────┼────────────────────────┼───────────────┤\n",
              "│ global_max_pooling2d_1          │ (<span style=\"color: #00d7ff; text-decoration-color: #00d7ff\">None</span>, <span style=\"color: #00af00; text-decoration-color: #00af00\">128</span>)            │             <span style=\"color: #00af00; text-decoration-color: #00af00\">0</span> │\n",
              "│ (<span style=\"color: #0087ff; text-decoration-color: #0087ff\">GlobalMaxPooling2D</span>)            │                        │               │\n",
              "└─────────────────────────────────┴────────────────────────┴───────────────┘\n",
              "</pre>\n"
            ],
            "text/plain": [
              "┏━━━━━━━━━━━━━━━━━━━━━━━━━━━━━━━━━┳━━━━━━━━━━━━━━━━━━━━━━━━┳━━━━━━━━━━━━━━━┓\n",
              "┃\u001b[1m \u001b[0m\u001b[1mLayer (type)                   \u001b[0m\u001b[1m \u001b[0m┃\u001b[1m \u001b[0m\u001b[1mOutput Shape          \u001b[0m\u001b[1m \u001b[0m┃\u001b[1m \u001b[0m\u001b[1m      Param #\u001b[0m\u001b[1m \u001b[0m┃\n",
              "┡━━━━━━━━━━━━━━━━━━━━━━━━━━━━━━━━━╇━━━━━━━━━━━━━━━━━━━━━━━━╇━━━━━━━━━━━━━━━┩\n",
              "│ cstftInput (\u001b[38;5;33mInputLayer\u001b[0m)         │ (\u001b[38;5;45mNone\u001b[0m, \u001b[38;5;34m12\u001b[0m, \u001b[38;5;34m259\u001b[0m, \u001b[38;5;34m1\u001b[0m)     │             \u001b[38;5;34m0\u001b[0m │\n",
              "├─────────────────────────────────┼────────────────────────┼───────────────┤\n",
              "│ conv2d_4 (\u001b[38;5;33mConv2D\u001b[0m)               │ (\u001b[38;5;45mNone\u001b[0m, \u001b[38;5;34m12\u001b[0m, \u001b[38;5;34m87\u001b[0m, \u001b[38;5;34m32\u001b[0m)     │           \u001b[38;5;34m832\u001b[0m │\n",
              "├─────────────────────────────────┼────────────────────────┼───────────────┤\n",
              "│ batch_normalization_4           │ (\u001b[38;5;45mNone\u001b[0m, \u001b[38;5;34m12\u001b[0m, \u001b[38;5;34m87\u001b[0m, \u001b[38;5;34m32\u001b[0m)     │           \u001b[38;5;34m128\u001b[0m │\n",
              "│ (\u001b[38;5;33mBatchNormalization\u001b[0m)            │                        │               │\n",
              "├─────────────────────────────────┼────────────────────────┼───────────────┤\n",
              "│ activation_4 (\u001b[38;5;33mActivation\u001b[0m)       │ (\u001b[38;5;45mNone\u001b[0m, \u001b[38;5;34m12\u001b[0m, \u001b[38;5;34m87\u001b[0m, \u001b[38;5;34m32\u001b[0m)     │             \u001b[38;5;34m0\u001b[0m │\n",
              "├─────────────────────────────────┼────────────────────────┼───────────────┤\n",
              "│ max_pooling2d_3 (\u001b[38;5;33mMaxPooling2D\u001b[0m)  │ (\u001b[38;5;45mNone\u001b[0m, \u001b[38;5;34m6\u001b[0m, \u001b[38;5;34m43\u001b[0m, \u001b[38;5;34m32\u001b[0m)      │             \u001b[38;5;34m0\u001b[0m │\n",
              "├─────────────────────────────────┼────────────────────────┼───────────────┤\n",
              "│ conv2d_5 (\u001b[38;5;33mConv2D\u001b[0m)               │ (\u001b[38;5;45mNone\u001b[0m, \u001b[38;5;34m6\u001b[0m, \u001b[38;5;34m22\u001b[0m, \u001b[38;5;34m64\u001b[0m)      │        \u001b[38;5;34m18,496\u001b[0m │\n",
              "├─────────────────────────────────┼────────────────────────┼───────────────┤\n",
              "│ batch_normalization_5           │ (\u001b[38;5;45mNone\u001b[0m, \u001b[38;5;34m6\u001b[0m, \u001b[38;5;34m22\u001b[0m, \u001b[38;5;34m64\u001b[0m)      │           \u001b[38;5;34m256\u001b[0m │\n",
              "│ (\u001b[38;5;33mBatchNormalization\u001b[0m)            │                        │               │\n",
              "├─────────────────────────────────┼────────────────────────┼───────────────┤\n",
              "│ activation_5 (\u001b[38;5;33mActivation\u001b[0m)       │ (\u001b[38;5;45mNone\u001b[0m, \u001b[38;5;34m6\u001b[0m, \u001b[38;5;34m22\u001b[0m, \u001b[38;5;34m64\u001b[0m)      │             \u001b[38;5;34m0\u001b[0m │\n",
              "├─────────────────────────────────┼────────────────────────┼───────────────┤\n",
              "│ max_pooling2d_4 (\u001b[38;5;33mMaxPooling2D\u001b[0m)  │ (\u001b[38;5;45mNone\u001b[0m, \u001b[38;5;34m3\u001b[0m, \u001b[38;5;34m11\u001b[0m, \u001b[38;5;34m64\u001b[0m)      │             \u001b[38;5;34m0\u001b[0m │\n",
              "├─────────────────────────────────┼────────────────────────┼───────────────┤\n",
              "│ conv2d_6 (\u001b[38;5;33mConv2D\u001b[0m)               │ (\u001b[38;5;45mNone\u001b[0m, \u001b[38;5;34m3\u001b[0m, \u001b[38;5;34m11\u001b[0m, \u001b[38;5;34m96\u001b[0m)      │        \u001b[38;5;34m24,672\u001b[0m │\n",
              "├─────────────────────────────────┼────────────────────────┼───────────────┤\n",
              "│ batch_normalization_6           │ (\u001b[38;5;45mNone\u001b[0m, \u001b[38;5;34m3\u001b[0m, \u001b[38;5;34m11\u001b[0m, \u001b[38;5;34m96\u001b[0m)      │           \u001b[38;5;34m384\u001b[0m │\n",
              "│ (\u001b[38;5;33mBatchNormalization\u001b[0m)            │                        │               │\n",
              "├─────────────────────────────────┼────────────────────────┼───────────────┤\n",
              "│ activation_6 (\u001b[38;5;33mActivation\u001b[0m)       │ (\u001b[38;5;45mNone\u001b[0m, \u001b[38;5;34m3\u001b[0m, \u001b[38;5;34m11\u001b[0m, \u001b[38;5;34m96\u001b[0m)      │             \u001b[38;5;34m0\u001b[0m │\n",
              "├─────────────────────────────────┼────────────────────────┼───────────────┤\n",
              "│ max_pooling2d_5 (\u001b[38;5;33mMaxPooling2D\u001b[0m)  │ (\u001b[38;5;45mNone\u001b[0m, \u001b[38;5;34m1\u001b[0m, \u001b[38;5;34m5\u001b[0m, \u001b[38;5;34m96\u001b[0m)       │             \u001b[38;5;34m0\u001b[0m │\n",
              "├─────────────────────────────────┼────────────────────────┼───────────────┤\n",
              "│ conv2d_7 (\u001b[38;5;33mConv2D\u001b[0m)               │ (\u001b[38;5;45mNone\u001b[0m, \u001b[38;5;34m1\u001b[0m, \u001b[38;5;34m5\u001b[0m, \u001b[38;5;34m128\u001b[0m)      │        \u001b[38;5;34m49,280\u001b[0m │\n",
              "├─────────────────────────────────┼────────────────────────┼───────────────┤\n",
              "│ batch_normalization_7           │ (\u001b[38;5;45mNone\u001b[0m, \u001b[38;5;34m1\u001b[0m, \u001b[38;5;34m5\u001b[0m, \u001b[38;5;34m128\u001b[0m)      │           \u001b[38;5;34m512\u001b[0m │\n",
              "│ (\u001b[38;5;33mBatchNormalization\u001b[0m)            │                        │               │\n",
              "├─────────────────────────────────┼────────────────────────┼───────────────┤\n",
              "│ activation_7 (\u001b[38;5;33mActivation\u001b[0m)       │ (\u001b[38;5;45mNone\u001b[0m, \u001b[38;5;34m1\u001b[0m, \u001b[38;5;34m5\u001b[0m, \u001b[38;5;34m128\u001b[0m)      │             \u001b[38;5;34m0\u001b[0m │\n",
              "├─────────────────────────────────┼────────────────────────┼───────────────┤\n",
              "│ global_max_pooling2d_1          │ (\u001b[38;5;45mNone\u001b[0m, \u001b[38;5;34m128\u001b[0m)            │             \u001b[38;5;34m0\u001b[0m │\n",
              "│ (\u001b[38;5;33mGlobalMaxPooling2D\u001b[0m)            │                        │               │\n",
              "└─────────────────────────────────┴────────────────────────┴───────────────┘\n"
            ]
          },
          "metadata": {},
          "output_type": "display_data"
        },
        {
          "data": {
            "text/html": [
              "<pre style=\"white-space:pre;overflow-x:auto;line-height:normal;font-family:Menlo,'DejaVu Sans Mono',consolas,'Courier New',monospace\"><span style=\"font-weight: bold\"> Total params: </span><span style=\"color: #00af00; text-decoration-color: #00af00\">94,560</span> (369.38 KB)\n",
              "</pre>\n"
            ],
            "text/plain": [
              "\u001b[1m Total params: \u001b[0m\u001b[38;5;34m94,560\u001b[0m (369.38 KB)\n"
            ]
          },
          "metadata": {},
          "output_type": "display_data"
        },
        {
          "data": {
            "text/html": [
              "<pre style=\"white-space:pre;overflow-x:auto;line-height:normal;font-family:Menlo,'DejaVu Sans Mono',consolas,'Courier New',monospace\"><span style=\"font-weight: bold\"> Trainable params: </span><span style=\"color: #00af00; text-decoration-color: #00af00\">93,920</span> (366.88 KB)\n",
              "</pre>\n"
            ],
            "text/plain": [
              "\u001b[1m Trainable params: \u001b[0m\u001b[38;5;34m93,920\u001b[0m (366.88 KB)\n"
            ]
          },
          "metadata": {},
          "output_type": "display_data"
        },
        {
          "data": {
            "text/html": [
              "<pre style=\"white-space:pre;overflow-x:auto;line-height:normal;font-family:Menlo,'DejaVu Sans Mono',consolas,'Courier New',monospace\"><span style=\"font-weight: bold\"> Non-trainable params: </span><span style=\"color: #00af00; text-decoration-color: #00af00\">640</span> (2.50 KB)\n",
              "</pre>\n"
            ],
            "text/plain": [
              "\u001b[1m Non-trainable params: \u001b[0m\u001b[38;5;34m640\u001b[0m (2.50 KB)\n"
            ]
          },
          "metadata": {},
          "output_type": "display_data"
        }
      ],
      "source": [
        "cstft_model.summary()"
      ]
    },
    {
      "cell_type": "code",
      "execution_count": 84,
      "metadata": {
        "id": "FUG_cfmYDMc9"
      },
      "outputs": [],
      "source": [
        "mspec_input=keras.layers.Input(shape=(128,259,1),name=\"mspecInput\")\n",
        "x=keras.layers.Conv2D(32,5,strides=(1,3),padding='same')(mspec_input)\n",
        "x=keras.layers.BatchNormalization()(x)\n",
        "x=keras.layers.Activation(keras.activations.relu)(x)\n",
        "x=keras.layers.MaxPooling2D(pool_size=2,padding='valid')(x)\n",
        "\n",
        "x=keras.layers.Conv2D(64,3,strides=(1,2),padding='same')(x)\n",
        "x=keras.layers.BatchNormalization()(x)\n",
        "x=keras.layers.Activation(keras.activations.relu)(x)\n",
        "x=keras.layers.MaxPooling2D(pool_size=2,padding='valid')(x)\n",
        "\n",
        "x=keras.layers.Conv2D(96,2,padding='same')(x)\n",
        "x=keras.layers.BatchNormalization()(x)\n",
        "x=keras.layers.Activation(keras.activations.relu)(x)\n",
        "x=keras.layers.MaxPooling2D(pool_size=2,padding='valid')(x)\n",
        "\n",
        "x=keras.layers.Conv2D(128,2,padding='same')(x)\n",
        "x=keras.layers.BatchNormalization()(x)\n",
        "x=keras.layers.Activation(keras.activations.relu)(x)\n",
        "mspec_output=keras.layers.GlobalMaxPooling2D()(x)\n",
        "\n",
        "mspec_model=keras.Model(mspec_input, mspec_output, name=\"mspecModel\")\n",
        "\n"
      ]
    },
    {
      "cell_type": "code",
      "execution_count": 85,
      "metadata": {
        "id": "Erdr1RelWRNS"
      },
      "outputs": [
        {
          "name": "stdout",
          "output_type": "stream",
          "text": [
            "<class 'keras.src.models.functional.Functional'>\n"
          ]
        }
      ],
      "source": [
        "print(type(mspec_model))"
      ]
    },
    {
      "cell_type": "code",
      "execution_count": 86,
      "metadata": {
        "id": "tWPWt7yFDMub"
      },
      "outputs": [
        {
          "data": {
            "text/html": [
              "<pre style=\"white-space:pre;overflow-x:auto;line-height:normal;font-family:Menlo,'DejaVu Sans Mono',consolas,'Courier New',monospace\"><span style=\"font-weight: bold\">Model: \"mspecModel\"</span>\n",
              "</pre>\n"
            ],
            "text/plain": [
              "\u001b[1mModel: \"mspecModel\"\u001b[0m\n"
            ]
          },
          "metadata": {},
          "output_type": "display_data"
        },
        {
          "data": {
            "text/html": [
              "<pre style=\"white-space:pre;overflow-x:auto;line-height:normal;font-family:Menlo,'DejaVu Sans Mono',consolas,'Courier New',monospace\">┏━━━━━━━━━━━━━━━━━━━━━━━━━━━━━━━━━┳━━━━━━━━━━━━━━━━━━━━━━━━┳━━━━━━━━━━━━━━━┓\n",
              "┃<span style=\"font-weight: bold\"> Layer (type)                    </span>┃<span style=\"font-weight: bold\"> Output Shape           </span>┃<span style=\"font-weight: bold\">       Param # </span>┃\n",
              "┡━━━━━━━━━━━━━━━━━━━━━━━━━━━━━━━━━╇━━━━━━━━━━━━━━━━━━━━━━━━╇━━━━━━━━━━━━━━━┩\n",
              "│ mspecInput (<span style=\"color: #0087ff; text-decoration-color: #0087ff\">InputLayer</span>)         │ (<span style=\"color: #00d7ff; text-decoration-color: #00d7ff\">None</span>, <span style=\"color: #00af00; text-decoration-color: #00af00\">128</span>, <span style=\"color: #00af00; text-decoration-color: #00af00\">259</span>, <span style=\"color: #00af00; text-decoration-color: #00af00\">1</span>)    │             <span style=\"color: #00af00; text-decoration-color: #00af00\">0</span> │\n",
              "├─────────────────────────────────┼────────────────────────┼───────────────┤\n",
              "│ conv2d_8 (<span style=\"color: #0087ff; text-decoration-color: #0087ff\">Conv2D</span>)               │ (<span style=\"color: #00d7ff; text-decoration-color: #00d7ff\">None</span>, <span style=\"color: #00af00; text-decoration-color: #00af00\">128</span>, <span style=\"color: #00af00; text-decoration-color: #00af00\">87</span>, <span style=\"color: #00af00; text-decoration-color: #00af00\">32</span>)    │           <span style=\"color: #00af00; text-decoration-color: #00af00\">832</span> │\n",
              "├─────────────────────────────────┼────────────────────────┼───────────────┤\n",
              "│ batch_normalization_8           │ (<span style=\"color: #00d7ff; text-decoration-color: #00d7ff\">None</span>, <span style=\"color: #00af00; text-decoration-color: #00af00\">128</span>, <span style=\"color: #00af00; text-decoration-color: #00af00\">87</span>, <span style=\"color: #00af00; text-decoration-color: #00af00\">32</span>)    │           <span style=\"color: #00af00; text-decoration-color: #00af00\">128</span> │\n",
              "│ (<span style=\"color: #0087ff; text-decoration-color: #0087ff\">BatchNormalization</span>)            │                        │               │\n",
              "├─────────────────────────────────┼────────────────────────┼───────────────┤\n",
              "│ activation_8 (<span style=\"color: #0087ff; text-decoration-color: #0087ff\">Activation</span>)       │ (<span style=\"color: #00d7ff; text-decoration-color: #00d7ff\">None</span>, <span style=\"color: #00af00; text-decoration-color: #00af00\">128</span>, <span style=\"color: #00af00; text-decoration-color: #00af00\">87</span>, <span style=\"color: #00af00; text-decoration-color: #00af00\">32</span>)    │             <span style=\"color: #00af00; text-decoration-color: #00af00\">0</span> │\n",
              "├─────────────────────────────────┼────────────────────────┼───────────────┤\n",
              "│ max_pooling2d_6 (<span style=\"color: #0087ff; text-decoration-color: #0087ff\">MaxPooling2D</span>)  │ (<span style=\"color: #00d7ff; text-decoration-color: #00d7ff\">None</span>, <span style=\"color: #00af00; text-decoration-color: #00af00\">64</span>, <span style=\"color: #00af00; text-decoration-color: #00af00\">43</span>, <span style=\"color: #00af00; text-decoration-color: #00af00\">32</span>)     │             <span style=\"color: #00af00; text-decoration-color: #00af00\">0</span> │\n",
              "├─────────────────────────────────┼────────────────────────┼───────────────┤\n",
              "│ conv2d_9 (<span style=\"color: #0087ff; text-decoration-color: #0087ff\">Conv2D</span>)               │ (<span style=\"color: #00d7ff; text-decoration-color: #00d7ff\">None</span>, <span style=\"color: #00af00; text-decoration-color: #00af00\">64</span>, <span style=\"color: #00af00; text-decoration-color: #00af00\">22</span>, <span style=\"color: #00af00; text-decoration-color: #00af00\">64</span>)     │        <span style=\"color: #00af00; text-decoration-color: #00af00\">18,496</span> │\n",
              "├─────────────────────────────────┼────────────────────────┼───────────────┤\n",
              "│ batch_normalization_9           │ (<span style=\"color: #00d7ff; text-decoration-color: #00d7ff\">None</span>, <span style=\"color: #00af00; text-decoration-color: #00af00\">64</span>, <span style=\"color: #00af00; text-decoration-color: #00af00\">22</span>, <span style=\"color: #00af00; text-decoration-color: #00af00\">64</span>)     │           <span style=\"color: #00af00; text-decoration-color: #00af00\">256</span> │\n",
              "│ (<span style=\"color: #0087ff; text-decoration-color: #0087ff\">BatchNormalization</span>)            │                        │               │\n",
              "├─────────────────────────────────┼────────────────────────┼───────────────┤\n",
              "│ activation_9 (<span style=\"color: #0087ff; text-decoration-color: #0087ff\">Activation</span>)       │ (<span style=\"color: #00d7ff; text-decoration-color: #00d7ff\">None</span>, <span style=\"color: #00af00; text-decoration-color: #00af00\">64</span>, <span style=\"color: #00af00; text-decoration-color: #00af00\">22</span>, <span style=\"color: #00af00; text-decoration-color: #00af00\">64</span>)     │             <span style=\"color: #00af00; text-decoration-color: #00af00\">0</span> │\n",
              "├─────────────────────────────────┼────────────────────────┼───────────────┤\n",
              "│ max_pooling2d_7 (<span style=\"color: #0087ff; text-decoration-color: #0087ff\">MaxPooling2D</span>)  │ (<span style=\"color: #00d7ff; text-decoration-color: #00d7ff\">None</span>, <span style=\"color: #00af00; text-decoration-color: #00af00\">32</span>, <span style=\"color: #00af00; text-decoration-color: #00af00\">11</span>, <span style=\"color: #00af00; text-decoration-color: #00af00\">64</span>)     │             <span style=\"color: #00af00; text-decoration-color: #00af00\">0</span> │\n",
              "├─────────────────────────────────┼────────────────────────┼───────────────┤\n",
              "│ conv2d_10 (<span style=\"color: #0087ff; text-decoration-color: #0087ff\">Conv2D</span>)              │ (<span style=\"color: #00d7ff; text-decoration-color: #00d7ff\">None</span>, <span style=\"color: #00af00; text-decoration-color: #00af00\">32</span>, <span style=\"color: #00af00; text-decoration-color: #00af00\">11</span>, <span style=\"color: #00af00; text-decoration-color: #00af00\">96</span>)     │        <span style=\"color: #00af00; text-decoration-color: #00af00\">24,672</span> │\n",
              "├─────────────────────────────────┼────────────────────────┼───────────────┤\n",
              "│ batch_normalization_10          │ (<span style=\"color: #00d7ff; text-decoration-color: #00d7ff\">None</span>, <span style=\"color: #00af00; text-decoration-color: #00af00\">32</span>, <span style=\"color: #00af00; text-decoration-color: #00af00\">11</span>, <span style=\"color: #00af00; text-decoration-color: #00af00\">96</span>)     │           <span style=\"color: #00af00; text-decoration-color: #00af00\">384</span> │\n",
              "│ (<span style=\"color: #0087ff; text-decoration-color: #0087ff\">BatchNormalization</span>)            │                        │               │\n",
              "├─────────────────────────────────┼────────────────────────┼───────────────┤\n",
              "│ activation_10 (<span style=\"color: #0087ff; text-decoration-color: #0087ff\">Activation</span>)      │ (<span style=\"color: #00d7ff; text-decoration-color: #00d7ff\">None</span>, <span style=\"color: #00af00; text-decoration-color: #00af00\">32</span>, <span style=\"color: #00af00; text-decoration-color: #00af00\">11</span>, <span style=\"color: #00af00; text-decoration-color: #00af00\">96</span>)     │             <span style=\"color: #00af00; text-decoration-color: #00af00\">0</span> │\n",
              "├─────────────────────────────────┼────────────────────────┼───────────────┤\n",
              "│ max_pooling2d_8 (<span style=\"color: #0087ff; text-decoration-color: #0087ff\">MaxPooling2D</span>)  │ (<span style=\"color: #00d7ff; text-decoration-color: #00d7ff\">None</span>, <span style=\"color: #00af00; text-decoration-color: #00af00\">16</span>, <span style=\"color: #00af00; text-decoration-color: #00af00\">5</span>, <span style=\"color: #00af00; text-decoration-color: #00af00\">96</span>)      │             <span style=\"color: #00af00; text-decoration-color: #00af00\">0</span> │\n",
              "├─────────────────────────────────┼────────────────────────┼───────────────┤\n",
              "│ conv2d_11 (<span style=\"color: #0087ff; text-decoration-color: #0087ff\">Conv2D</span>)              │ (<span style=\"color: #00d7ff; text-decoration-color: #00d7ff\">None</span>, <span style=\"color: #00af00; text-decoration-color: #00af00\">16</span>, <span style=\"color: #00af00; text-decoration-color: #00af00\">5</span>, <span style=\"color: #00af00; text-decoration-color: #00af00\">128</span>)     │        <span style=\"color: #00af00; text-decoration-color: #00af00\">49,280</span> │\n",
              "├─────────────────────────────────┼────────────────────────┼───────────────┤\n",
              "│ batch_normalization_11          │ (<span style=\"color: #00d7ff; text-decoration-color: #00d7ff\">None</span>, <span style=\"color: #00af00; text-decoration-color: #00af00\">16</span>, <span style=\"color: #00af00; text-decoration-color: #00af00\">5</span>, <span style=\"color: #00af00; text-decoration-color: #00af00\">128</span>)     │           <span style=\"color: #00af00; text-decoration-color: #00af00\">512</span> │\n",
              "│ (<span style=\"color: #0087ff; text-decoration-color: #0087ff\">BatchNormalization</span>)            │                        │               │\n",
              "├─────────────────────────────────┼────────────────────────┼───────────────┤\n",
              "│ activation_11 (<span style=\"color: #0087ff; text-decoration-color: #0087ff\">Activation</span>)      │ (<span style=\"color: #00d7ff; text-decoration-color: #00d7ff\">None</span>, <span style=\"color: #00af00; text-decoration-color: #00af00\">16</span>, <span style=\"color: #00af00; text-decoration-color: #00af00\">5</span>, <span style=\"color: #00af00; text-decoration-color: #00af00\">128</span>)     │             <span style=\"color: #00af00; text-decoration-color: #00af00\">0</span> │\n",
              "├─────────────────────────────────┼────────────────────────┼───────────────┤\n",
              "│ global_max_pooling2d_2          │ (<span style=\"color: #00d7ff; text-decoration-color: #00d7ff\">None</span>, <span style=\"color: #00af00; text-decoration-color: #00af00\">128</span>)            │             <span style=\"color: #00af00; text-decoration-color: #00af00\">0</span> │\n",
              "│ (<span style=\"color: #0087ff; text-decoration-color: #0087ff\">GlobalMaxPooling2D</span>)            │                        │               │\n",
              "└─────────────────────────────────┴────────────────────────┴───────────────┘\n",
              "</pre>\n"
            ],
            "text/plain": [
              "┏━━━━━━━━━━━━━━━━━━━━━━━━━━━━━━━━━┳━━━━━━━━━━━━━━━━━━━━━━━━┳━━━━━━━━━━━━━━━┓\n",
              "┃\u001b[1m \u001b[0m\u001b[1mLayer (type)                   \u001b[0m\u001b[1m \u001b[0m┃\u001b[1m \u001b[0m\u001b[1mOutput Shape          \u001b[0m\u001b[1m \u001b[0m┃\u001b[1m \u001b[0m\u001b[1m      Param #\u001b[0m\u001b[1m \u001b[0m┃\n",
              "┡━━━━━━━━━━━━━━━━━━━━━━━━━━━━━━━━━╇━━━━━━━━━━━━━━━━━━━━━━━━╇━━━━━━━━━━━━━━━┩\n",
              "│ mspecInput (\u001b[38;5;33mInputLayer\u001b[0m)         │ (\u001b[38;5;45mNone\u001b[0m, \u001b[38;5;34m128\u001b[0m, \u001b[38;5;34m259\u001b[0m, \u001b[38;5;34m1\u001b[0m)    │             \u001b[38;5;34m0\u001b[0m │\n",
              "├─────────────────────────────────┼────────────────────────┼───────────────┤\n",
              "│ conv2d_8 (\u001b[38;5;33mConv2D\u001b[0m)               │ (\u001b[38;5;45mNone\u001b[0m, \u001b[38;5;34m128\u001b[0m, \u001b[38;5;34m87\u001b[0m, \u001b[38;5;34m32\u001b[0m)    │           \u001b[38;5;34m832\u001b[0m │\n",
              "├─────────────────────────────────┼────────────────────────┼───────────────┤\n",
              "│ batch_normalization_8           │ (\u001b[38;5;45mNone\u001b[0m, \u001b[38;5;34m128\u001b[0m, \u001b[38;5;34m87\u001b[0m, \u001b[38;5;34m32\u001b[0m)    │           \u001b[38;5;34m128\u001b[0m │\n",
              "│ (\u001b[38;5;33mBatchNormalization\u001b[0m)            │                        │               │\n",
              "├─────────────────────────────────┼────────────────────────┼───────────────┤\n",
              "│ activation_8 (\u001b[38;5;33mActivation\u001b[0m)       │ (\u001b[38;5;45mNone\u001b[0m, \u001b[38;5;34m128\u001b[0m, \u001b[38;5;34m87\u001b[0m, \u001b[38;5;34m32\u001b[0m)    │             \u001b[38;5;34m0\u001b[0m │\n",
              "├─────────────────────────────────┼────────────────────────┼───────────────┤\n",
              "│ max_pooling2d_6 (\u001b[38;5;33mMaxPooling2D\u001b[0m)  │ (\u001b[38;5;45mNone\u001b[0m, \u001b[38;5;34m64\u001b[0m, \u001b[38;5;34m43\u001b[0m, \u001b[38;5;34m32\u001b[0m)     │             \u001b[38;5;34m0\u001b[0m │\n",
              "├─────────────────────────────────┼────────────────────────┼───────────────┤\n",
              "│ conv2d_9 (\u001b[38;5;33mConv2D\u001b[0m)               │ (\u001b[38;5;45mNone\u001b[0m, \u001b[38;5;34m64\u001b[0m, \u001b[38;5;34m22\u001b[0m, \u001b[38;5;34m64\u001b[0m)     │        \u001b[38;5;34m18,496\u001b[0m │\n",
              "├─────────────────────────────────┼────────────────────────┼───────────────┤\n",
              "│ batch_normalization_9           │ (\u001b[38;5;45mNone\u001b[0m, \u001b[38;5;34m64\u001b[0m, \u001b[38;5;34m22\u001b[0m, \u001b[38;5;34m64\u001b[0m)     │           \u001b[38;5;34m256\u001b[0m │\n",
              "│ (\u001b[38;5;33mBatchNormalization\u001b[0m)            │                        │               │\n",
              "├─────────────────────────────────┼────────────────────────┼───────────────┤\n",
              "│ activation_9 (\u001b[38;5;33mActivation\u001b[0m)       │ (\u001b[38;5;45mNone\u001b[0m, \u001b[38;5;34m64\u001b[0m, \u001b[38;5;34m22\u001b[0m, \u001b[38;5;34m64\u001b[0m)     │             \u001b[38;5;34m0\u001b[0m │\n",
              "├─────────────────────────────────┼────────────────────────┼───────────────┤\n",
              "│ max_pooling2d_7 (\u001b[38;5;33mMaxPooling2D\u001b[0m)  │ (\u001b[38;5;45mNone\u001b[0m, \u001b[38;5;34m32\u001b[0m, \u001b[38;5;34m11\u001b[0m, \u001b[38;5;34m64\u001b[0m)     │             \u001b[38;5;34m0\u001b[0m │\n",
              "├─────────────────────────────────┼────────────────────────┼───────────────┤\n",
              "│ conv2d_10 (\u001b[38;5;33mConv2D\u001b[0m)              │ (\u001b[38;5;45mNone\u001b[0m, \u001b[38;5;34m32\u001b[0m, \u001b[38;5;34m11\u001b[0m, \u001b[38;5;34m96\u001b[0m)     │        \u001b[38;5;34m24,672\u001b[0m │\n",
              "├─────────────────────────────────┼────────────────────────┼───────────────┤\n",
              "│ batch_normalization_10          │ (\u001b[38;5;45mNone\u001b[0m, \u001b[38;5;34m32\u001b[0m, \u001b[38;5;34m11\u001b[0m, \u001b[38;5;34m96\u001b[0m)     │           \u001b[38;5;34m384\u001b[0m │\n",
              "│ (\u001b[38;5;33mBatchNormalization\u001b[0m)            │                        │               │\n",
              "├─────────────────────────────────┼────────────────────────┼───────────────┤\n",
              "│ activation_10 (\u001b[38;5;33mActivation\u001b[0m)      │ (\u001b[38;5;45mNone\u001b[0m, \u001b[38;5;34m32\u001b[0m, \u001b[38;5;34m11\u001b[0m, \u001b[38;5;34m96\u001b[0m)     │             \u001b[38;5;34m0\u001b[0m │\n",
              "├─────────────────────────────────┼────────────────────────┼───────────────┤\n",
              "│ max_pooling2d_8 (\u001b[38;5;33mMaxPooling2D\u001b[0m)  │ (\u001b[38;5;45mNone\u001b[0m, \u001b[38;5;34m16\u001b[0m, \u001b[38;5;34m5\u001b[0m, \u001b[38;5;34m96\u001b[0m)      │             \u001b[38;5;34m0\u001b[0m │\n",
              "├─────────────────────────────────┼────────────────────────┼───────────────┤\n",
              "│ conv2d_11 (\u001b[38;5;33mConv2D\u001b[0m)              │ (\u001b[38;5;45mNone\u001b[0m, \u001b[38;5;34m16\u001b[0m, \u001b[38;5;34m5\u001b[0m, \u001b[38;5;34m128\u001b[0m)     │        \u001b[38;5;34m49,280\u001b[0m │\n",
              "├─────────────────────────────────┼────────────────────────┼───────────────┤\n",
              "│ batch_normalization_11          │ (\u001b[38;5;45mNone\u001b[0m, \u001b[38;5;34m16\u001b[0m, \u001b[38;5;34m5\u001b[0m, \u001b[38;5;34m128\u001b[0m)     │           \u001b[38;5;34m512\u001b[0m │\n",
              "│ (\u001b[38;5;33mBatchNormalization\u001b[0m)            │                        │               │\n",
              "├─────────────────────────────────┼────────────────────────┼───────────────┤\n",
              "│ activation_11 (\u001b[38;5;33mActivation\u001b[0m)      │ (\u001b[38;5;45mNone\u001b[0m, \u001b[38;5;34m16\u001b[0m, \u001b[38;5;34m5\u001b[0m, \u001b[38;5;34m128\u001b[0m)     │             \u001b[38;5;34m0\u001b[0m │\n",
              "├─────────────────────────────────┼────────────────────────┼───────────────┤\n",
              "│ global_max_pooling2d_2          │ (\u001b[38;5;45mNone\u001b[0m, \u001b[38;5;34m128\u001b[0m)            │             \u001b[38;5;34m0\u001b[0m │\n",
              "│ (\u001b[38;5;33mGlobalMaxPooling2D\u001b[0m)            │                        │               │\n",
              "└─────────────────────────────────┴────────────────────────┴───────────────┘\n"
            ]
          },
          "metadata": {},
          "output_type": "display_data"
        },
        {
          "data": {
            "text/html": [
              "<pre style=\"white-space:pre;overflow-x:auto;line-height:normal;font-family:Menlo,'DejaVu Sans Mono',consolas,'Courier New',monospace\"><span style=\"font-weight: bold\"> Total params: </span><span style=\"color: #00af00; text-decoration-color: #00af00\">94,560</span> (369.38 KB)\n",
              "</pre>\n"
            ],
            "text/plain": [
              "\u001b[1m Total params: \u001b[0m\u001b[38;5;34m94,560\u001b[0m (369.38 KB)\n"
            ]
          },
          "metadata": {},
          "output_type": "display_data"
        },
        {
          "data": {
            "text/html": [
              "<pre style=\"white-space:pre;overflow-x:auto;line-height:normal;font-family:Menlo,'DejaVu Sans Mono',consolas,'Courier New',monospace\"><span style=\"font-weight: bold\"> Trainable params: </span><span style=\"color: #00af00; text-decoration-color: #00af00\">93,920</span> (366.88 KB)\n",
              "</pre>\n"
            ],
            "text/plain": [
              "\u001b[1m Trainable params: \u001b[0m\u001b[38;5;34m93,920\u001b[0m (366.88 KB)\n"
            ]
          },
          "metadata": {},
          "output_type": "display_data"
        },
        {
          "data": {
            "text/html": [
              "<pre style=\"white-space:pre;overflow-x:auto;line-height:normal;font-family:Menlo,'DejaVu Sans Mono',consolas,'Courier New',monospace\"><span style=\"font-weight: bold\"> Non-trainable params: </span><span style=\"color: #00af00; text-decoration-color: #00af00\">640</span> (2.50 KB)\n",
              "</pre>\n"
            ],
            "text/plain": [
              "\u001b[1m Non-trainable params: \u001b[0m\u001b[38;5;34m640\u001b[0m (2.50 KB)\n"
            ]
          },
          "metadata": {},
          "output_type": "display_data"
        }
      ],
      "source": [
        "mspec_model.summary()"
      ]
    },
    {
      "cell_type": "code",
      "execution_count": 87,
      "metadata": {
        "id": "UVY2_j7eDNBl"
      },
      "outputs": [],
      "source": [
        "input_mfcc=keras.layers.Input(shape=(20,259,1),name=\"mfcc\")\n",
        "mfcc=mfcc_model(input_mfcc)\n",
        "\n",
        "input_cstft=keras.layers.Input(shape=(12,259,1),name=\"cstft\")\n",
        "cstft=cstft_model(input_cstft)\n",
        "\n",
        "input_mSpec=keras.layers.Input(shape=(128,259,1),name=\"mspec\")\n",
        "mSpec=mspec_model(input_mSpec)\n",
        "\n",
        "\n",
        "concat=keras.layers.concatenate([mfcc,cstft,mSpec])\n",
        "hidden=keras.layers.Dropout(0.2)(concat)\n",
        "hidden=keras.layers.Dense(50,activation='relu')(concat)\n",
        "hidden=keras.layers.Dropout(0.3)(hidden)\n",
        "hidden=keras.layers.Dense(25,activation='relu')(hidden)\n",
        "hidden=keras.layers.Dropout(0.3)(hidden)\n",
        "output=keras.layers.Dense(8,activation='softmax')(hidden)\n",
        "\n",
        "net=keras.Model([input_mfcc,input_cstft,input_mSpec], output, name=\"Net\")"
      ]
    },
    {
      "cell_type": "code",
      "execution_count": 88,
      "metadata": {
        "id": "V4vxQu0WagPs"
      },
      "outputs": [
        {
          "name": "stdout",
          "output_type": "stream",
          "text": [
            "<class 'keras.src.backend.common.keras_tensor.KerasTensor'>\n"
          ]
        }
      ],
      "source": [
        "print(type(mfcc))"
      ]
    },
    {
      "cell_type": "code",
      "execution_count": 89,
      "metadata": {
        "id": "S0MqzsWiDNQ0"
      },
      "outputs": [
        {
          "data": {
            "text/html": [
              "<pre style=\"white-space:pre;overflow-x:auto;line-height:normal;font-family:Menlo,'DejaVu Sans Mono',consolas,'Courier New',monospace\"><span style=\"font-weight: bold\">Model: \"Net\"</span>\n",
              "</pre>\n"
            ],
            "text/plain": [
              "\u001b[1mModel: \"Net\"\u001b[0m\n"
            ]
          },
          "metadata": {},
          "output_type": "display_data"
        },
        {
          "data": {
            "text/html": [
              "<pre style=\"white-space:pre;overflow-x:auto;line-height:normal;font-family:Menlo,'DejaVu Sans Mono',consolas,'Courier New',monospace\">┏━━━━━━━━━━━━━━━━━━━━━┳━━━━━━━━━━━━━━━━━━━┳━━━━━━━━━━━━┳━━━━━━━━━━━━━━━━━━━┓\n",
              "┃<span style=\"font-weight: bold\"> Layer (type)        </span>┃<span style=\"font-weight: bold\"> Output Shape      </span>┃<span style=\"font-weight: bold\">    Param # </span>┃<span style=\"font-weight: bold\"> Connected to      </span>┃\n",
              "┡━━━━━━━━━━━━━━━━━━━━━╇━━━━━━━━━━━━━━━━━━━╇━━━━━━━━━━━━╇━━━━━━━━━━━━━━━━━━━┩\n",
              "│ mfcc (<span style=\"color: #0087ff; text-decoration-color: #0087ff\">InputLayer</span>)   │ (<span style=\"color: #00d7ff; text-decoration-color: #00d7ff\">None</span>, <span style=\"color: #00af00; text-decoration-color: #00af00\">20</span>, <span style=\"color: #00af00; text-decoration-color: #00af00\">259</span>,   │          <span style=\"color: #00af00; text-decoration-color: #00af00\">0</span> │ -                 │\n",
              "│                     │ <span style=\"color: #00af00; text-decoration-color: #00af00\">1</span>)                │            │                   │\n",
              "├─────────────────────┼───────────────────┼────────────┼───────────────────┤\n",
              "│ cstft (<span style=\"color: #0087ff; text-decoration-color: #0087ff\">InputLayer</span>)  │ (<span style=\"color: #00d7ff; text-decoration-color: #00d7ff\">None</span>, <span style=\"color: #00af00; text-decoration-color: #00af00\">12</span>, <span style=\"color: #00af00; text-decoration-color: #00af00\">259</span>,   │          <span style=\"color: #00af00; text-decoration-color: #00af00\">0</span> │ -                 │\n",
              "│                     │ <span style=\"color: #00af00; text-decoration-color: #00af00\">1</span>)                │            │                   │\n",
              "├─────────────────────┼───────────────────┼────────────┼───────────────────┤\n",
              "│ mspec (<span style=\"color: #0087ff; text-decoration-color: #0087ff\">InputLayer</span>)  │ (<span style=\"color: #00d7ff; text-decoration-color: #00d7ff\">None</span>, <span style=\"color: #00af00; text-decoration-color: #00af00\">128</span>, <span style=\"color: #00af00; text-decoration-color: #00af00\">259</span>,  │          <span style=\"color: #00af00; text-decoration-color: #00af00\">0</span> │ -                 │\n",
              "│                     │ <span style=\"color: #00af00; text-decoration-color: #00af00\">1</span>)                │            │                   │\n",
              "├─────────────────────┼───────────────────┼────────────┼───────────────────┤\n",
              "│ mfccModel           │ (<span style=\"color: #00d7ff; text-decoration-color: #00d7ff\">None</span>, <span style=\"color: #00af00; text-decoration-color: #00af00\">128</span>)       │     <span style=\"color: #00af00; text-decoration-color: #00af00\">94,560</span> │ mfcc[<span style=\"color: #00af00; text-decoration-color: #00af00\">0</span>][<span style=\"color: #00af00; text-decoration-color: #00af00\">0</span>]        │\n",
              "│ (<span style=\"color: #0087ff; text-decoration-color: #0087ff\">Functional</span>)        │                   │            │                   │\n",
              "├─────────────────────┼───────────────────┼────────────┼───────────────────┤\n",
              "│ cstftModel          │ (<span style=\"color: #00d7ff; text-decoration-color: #00d7ff\">None</span>, <span style=\"color: #00af00; text-decoration-color: #00af00\">128</span>)       │     <span style=\"color: #00af00; text-decoration-color: #00af00\">94,560</span> │ cstft[<span style=\"color: #00af00; text-decoration-color: #00af00\">0</span>][<span style=\"color: #00af00; text-decoration-color: #00af00\">0</span>]       │\n",
              "│ (<span style=\"color: #0087ff; text-decoration-color: #0087ff\">Functional</span>)        │                   │            │                   │\n",
              "├─────────────────────┼───────────────────┼────────────┼───────────────────┤\n",
              "│ mspecModel          │ (<span style=\"color: #00d7ff; text-decoration-color: #00d7ff\">None</span>, <span style=\"color: #00af00; text-decoration-color: #00af00\">128</span>)       │     <span style=\"color: #00af00; text-decoration-color: #00af00\">94,560</span> │ mspec[<span style=\"color: #00af00; text-decoration-color: #00af00\">0</span>][<span style=\"color: #00af00; text-decoration-color: #00af00\">0</span>]       │\n",
              "│ (<span style=\"color: #0087ff; text-decoration-color: #0087ff\">Functional</span>)        │                   │            │                   │\n",
              "├─────────────────────┼───────────────────┼────────────┼───────────────────┤\n",
              "│ concatenate         │ (<span style=\"color: #00d7ff; text-decoration-color: #00d7ff\">None</span>, <span style=\"color: #00af00; text-decoration-color: #00af00\">384</span>)       │          <span style=\"color: #00af00; text-decoration-color: #00af00\">0</span> │ mfccModel[<span style=\"color: #00af00; text-decoration-color: #00af00\">0</span>][<span style=\"color: #00af00; text-decoration-color: #00af00\">0</span>],  │\n",
              "│ (<span style=\"color: #0087ff; text-decoration-color: #0087ff\">Concatenate</span>)       │                   │            │ cstftModel[<span style=\"color: #00af00; text-decoration-color: #00af00\">0</span>][<span style=\"color: #00af00; text-decoration-color: #00af00\">0</span>], │\n",
              "│                     │                   │            │ mspecModel[<span style=\"color: #00af00; text-decoration-color: #00af00\">0</span>][<span style=\"color: #00af00; text-decoration-color: #00af00\">0</span>]  │\n",
              "├─────────────────────┼───────────────────┼────────────┼───────────────────┤\n",
              "│ dense (<span style=\"color: #0087ff; text-decoration-color: #0087ff\">Dense</span>)       │ (<span style=\"color: #00d7ff; text-decoration-color: #00d7ff\">None</span>, <span style=\"color: #00af00; text-decoration-color: #00af00\">50</span>)        │     <span style=\"color: #00af00; text-decoration-color: #00af00\">19,250</span> │ concatenate[<span style=\"color: #00af00; text-decoration-color: #00af00\">0</span>][<span style=\"color: #00af00; text-decoration-color: #00af00\">0</span>] │\n",
              "├─────────────────────┼───────────────────┼────────────┼───────────────────┤\n",
              "│ dropout_1 (<span style=\"color: #0087ff; text-decoration-color: #0087ff\">Dropout</span>) │ (<span style=\"color: #00d7ff; text-decoration-color: #00d7ff\">None</span>, <span style=\"color: #00af00; text-decoration-color: #00af00\">50</span>)        │          <span style=\"color: #00af00; text-decoration-color: #00af00\">0</span> │ dense[<span style=\"color: #00af00; text-decoration-color: #00af00\">0</span>][<span style=\"color: #00af00; text-decoration-color: #00af00\">0</span>]       │\n",
              "├─────────────────────┼───────────────────┼────────────┼───────────────────┤\n",
              "│ dense_1 (<span style=\"color: #0087ff; text-decoration-color: #0087ff\">Dense</span>)     │ (<span style=\"color: #00d7ff; text-decoration-color: #00d7ff\">None</span>, <span style=\"color: #00af00; text-decoration-color: #00af00\">25</span>)        │      <span style=\"color: #00af00; text-decoration-color: #00af00\">1,275</span> │ dropout_1[<span style=\"color: #00af00; text-decoration-color: #00af00\">0</span>][<span style=\"color: #00af00; text-decoration-color: #00af00\">0</span>]   │\n",
              "├─────────────────────┼───────────────────┼────────────┼───────────────────┤\n",
              "│ dropout_2 (<span style=\"color: #0087ff; text-decoration-color: #0087ff\">Dropout</span>) │ (<span style=\"color: #00d7ff; text-decoration-color: #00d7ff\">None</span>, <span style=\"color: #00af00; text-decoration-color: #00af00\">25</span>)        │          <span style=\"color: #00af00; text-decoration-color: #00af00\">0</span> │ dense_1[<span style=\"color: #00af00; text-decoration-color: #00af00\">0</span>][<span style=\"color: #00af00; text-decoration-color: #00af00\">0</span>]     │\n",
              "├─────────────────────┼───────────────────┼────────────┼───────────────────┤\n",
              "│ dense_2 (<span style=\"color: #0087ff; text-decoration-color: #0087ff\">Dense</span>)     │ (<span style=\"color: #00d7ff; text-decoration-color: #00d7ff\">None</span>, <span style=\"color: #00af00; text-decoration-color: #00af00\">8</span>)         │        <span style=\"color: #00af00; text-decoration-color: #00af00\">208</span> │ dropout_2[<span style=\"color: #00af00; text-decoration-color: #00af00\">0</span>][<span style=\"color: #00af00; text-decoration-color: #00af00\">0</span>]   │\n",
              "└─────────────────────┴───────────────────┴────────────┴───────────────────┘\n",
              "</pre>\n"
            ],
            "text/plain": [
              "┏━━━━━━━━━━━━━━━━━━━━━┳━━━━━━━━━━━━━━━━━━━┳━━━━━━━━━━━━┳━━━━━━━━━━━━━━━━━━━┓\n",
              "┃\u001b[1m \u001b[0m\u001b[1mLayer (type)       \u001b[0m\u001b[1m \u001b[0m┃\u001b[1m \u001b[0m\u001b[1mOutput Shape     \u001b[0m\u001b[1m \u001b[0m┃\u001b[1m \u001b[0m\u001b[1m   Param #\u001b[0m\u001b[1m \u001b[0m┃\u001b[1m \u001b[0m\u001b[1mConnected to     \u001b[0m\u001b[1m \u001b[0m┃\n",
              "┡━━━━━━━━━━━━━━━━━━━━━╇━━━━━━━━━━━━━━━━━━━╇━━━━━━━━━━━━╇━━━━━━━━━━━━━━━━━━━┩\n",
              "│ mfcc (\u001b[38;5;33mInputLayer\u001b[0m)   │ (\u001b[38;5;45mNone\u001b[0m, \u001b[38;5;34m20\u001b[0m, \u001b[38;5;34m259\u001b[0m,   │          \u001b[38;5;34m0\u001b[0m │ -                 │\n",
              "│                     │ \u001b[38;5;34m1\u001b[0m)                │            │                   │\n",
              "├─────────────────────┼───────────────────┼────────────┼───────────────────┤\n",
              "│ cstft (\u001b[38;5;33mInputLayer\u001b[0m)  │ (\u001b[38;5;45mNone\u001b[0m, \u001b[38;5;34m12\u001b[0m, \u001b[38;5;34m259\u001b[0m,   │          \u001b[38;5;34m0\u001b[0m │ -                 │\n",
              "│                     │ \u001b[38;5;34m1\u001b[0m)                │            │                   │\n",
              "├─────────────────────┼───────────────────┼────────────┼───────────────────┤\n",
              "│ mspec (\u001b[38;5;33mInputLayer\u001b[0m)  │ (\u001b[38;5;45mNone\u001b[0m, \u001b[38;5;34m128\u001b[0m, \u001b[38;5;34m259\u001b[0m,  │          \u001b[38;5;34m0\u001b[0m │ -                 │\n",
              "│                     │ \u001b[38;5;34m1\u001b[0m)                │            │                   │\n",
              "├─────────────────────┼───────────────────┼────────────┼───────────────────┤\n",
              "│ mfccModel           │ (\u001b[38;5;45mNone\u001b[0m, \u001b[38;5;34m128\u001b[0m)       │     \u001b[38;5;34m94,560\u001b[0m │ mfcc[\u001b[38;5;34m0\u001b[0m][\u001b[38;5;34m0\u001b[0m]        │\n",
              "│ (\u001b[38;5;33mFunctional\u001b[0m)        │                   │            │                   │\n",
              "├─────────────────────┼───────────────────┼────────────┼───────────────────┤\n",
              "│ cstftModel          │ (\u001b[38;5;45mNone\u001b[0m, \u001b[38;5;34m128\u001b[0m)       │     \u001b[38;5;34m94,560\u001b[0m │ cstft[\u001b[38;5;34m0\u001b[0m][\u001b[38;5;34m0\u001b[0m]       │\n",
              "│ (\u001b[38;5;33mFunctional\u001b[0m)        │                   │            │                   │\n",
              "├─────────────────────┼───────────────────┼────────────┼───────────────────┤\n",
              "│ mspecModel          │ (\u001b[38;5;45mNone\u001b[0m, \u001b[38;5;34m128\u001b[0m)       │     \u001b[38;5;34m94,560\u001b[0m │ mspec[\u001b[38;5;34m0\u001b[0m][\u001b[38;5;34m0\u001b[0m]       │\n",
              "│ (\u001b[38;5;33mFunctional\u001b[0m)        │                   │            │                   │\n",
              "├─────────────────────┼───────────────────┼────────────┼───────────────────┤\n",
              "│ concatenate         │ (\u001b[38;5;45mNone\u001b[0m, \u001b[38;5;34m384\u001b[0m)       │          \u001b[38;5;34m0\u001b[0m │ mfccModel[\u001b[38;5;34m0\u001b[0m][\u001b[38;5;34m0\u001b[0m],  │\n",
              "│ (\u001b[38;5;33mConcatenate\u001b[0m)       │                   │            │ cstftModel[\u001b[38;5;34m0\u001b[0m][\u001b[38;5;34m0\u001b[0m], │\n",
              "│                     │                   │            │ mspecModel[\u001b[38;5;34m0\u001b[0m][\u001b[38;5;34m0\u001b[0m]  │\n",
              "├─────────────────────┼───────────────────┼────────────┼───────────────────┤\n",
              "│ dense (\u001b[38;5;33mDense\u001b[0m)       │ (\u001b[38;5;45mNone\u001b[0m, \u001b[38;5;34m50\u001b[0m)        │     \u001b[38;5;34m19,250\u001b[0m │ concatenate[\u001b[38;5;34m0\u001b[0m][\u001b[38;5;34m0\u001b[0m] │\n",
              "├─────────────────────┼───────────────────┼────────────┼───────────────────┤\n",
              "│ dropout_1 (\u001b[38;5;33mDropout\u001b[0m) │ (\u001b[38;5;45mNone\u001b[0m, \u001b[38;5;34m50\u001b[0m)        │          \u001b[38;5;34m0\u001b[0m │ dense[\u001b[38;5;34m0\u001b[0m][\u001b[38;5;34m0\u001b[0m]       │\n",
              "├─────────────────────┼───────────────────┼────────────┼───────────────────┤\n",
              "│ dense_1 (\u001b[38;5;33mDense\u001b[0m)     │ (\u001b[38;5;45mNone\u001b[0m, \u001b[38;5;34m25\u001b[0m)        │      \u001b[38;5;34m1,275\u001b[0m │ dropout_1[\u001b[38;5;34m0\u001b[0m][\u001b[38;5;34m0\u001b[0m]   │\n",
              "├─────────────────────┼───────────────────┼────────────┼───────────────────┤\n",
              "│ dropout_2 (\u001b[38;5;33mDropout\u001b[0m) │ (\u001b[38;5;45mNone\u001b[0m, \u001b[38;5;34m25\u001b[0m)        │          \u001b[38;5;34m0\u001b[0m │ dense_1[\u001b[38;5;34m0\u001b[0m][\u001b[38;5;34m0\u001b[0m]     │\n",
              "├─────────────────────┼───────────────────┼────────────┼───────────────────┤\n",
              "│ dense_2 (\u001b[38;5;33mDense\u001b[0m)     │ (\u001b[38;5;45mNone\u001b[0m, \u001b[38;5;34m8\u001b[0m)         │        \u001b[38;5;34m208\u001b[0m │ dropout_2[\u001b[38;5;34m0\u001b[0m][\u001b[38;5;34m0\u001b[0m]   │\n",
              "└─────────────────────┴───────────────────┴────────────┴───────────────────┘\n"
            ]
          },
          "metadata": {},
          "output_type": "display_data"
        },
        {
          "data": {
            "text/html": [
              "<pre style=\"white-space:pre;overflow-x:auto;line-height:normal;font-family:Menlo,'DejaVu Sans Mono',consolas,'Courier New',monospace\"><span style=\"font-weight: bold\"> Total params: </span><span style=\"color: #00af00; text-decoration-color: #00af00\">304,413</span> (1.16 MB)\n",
              "</pre>\n"
            ],
            "text/plain": [
              "\u001b[1m Total params: \u001b[0m\u001b[38;5;34m304,413\u001b[0m (1.16 MB)\n"
            ]
          },
          "metadata": {},
          "output_type": "display_data"
        },
        {
          "data": {
            "text/html": [
              "<pre style=\"white-space:pre;overflow-x:auto;line-height:normal;font-family:Menlo,'DejaVu Sans Mono',consolas,'Courier New',monospace\"><span style=\"font-weight: bold\"> Trainable params: </span><span style=\"color: #00af00; text-decoration-color: #00af00\">302,493</span> (1.15 MB)\n",
              "</pre>\n"
            ],
            "text/plain": [
              "\u001b[1m Trainable params: \u001b[0m\u001b[38;5;34m302,493\u001b[0m (1.15 MB)\n"
            ]
          },
          "metadata": {},
          "output_type": "display_data"
        },
        {
          "data": {
            "text/html": [
              "<pre style=\"white-space:pre;overflow-x:auto;line-height:normal;font-family:Menlo,'DejaVu Sans Mono',consolas,'Courier New',monospace\"><span style=\"font-weight: bold\"> Non-trainable params: </span><span style=\"color: #00af00; text-decoration-color: #00af00\">1,920</span> (7.50 KB)\n",
              "</pre>\n"
            ],
            "text/plain": [
              "\u001b[1m Non-trainable params: \u001b[0m\u001b[38;5;34m1,920\u001b[0m (7.50 KB)\n"
            ]
          },
          "metadata": {},
          "output_type": "display_data"
        }
      ],
      "source": [
        "net.summary()"
      ]
    },
    {
      "cell_type": "code",
      "execution_count": 90,
      "metadata": {
        "id": "qKZuLMhiBLYW"
      },
      "outputs": [],
      "source": [
        "import keras\n",
        "import tensorflow as tf\n",
        "\n",
        "optimizer = tf.keras.optimizers.Nadam(learning_rate=0.001)\n",
        "\n",
        "net.compile(loss='sparse_categorical_crossentropy', optimizer=optimizer, metrics=['accuracy'])\n",
        "# tf.keras.backend.set_value(net.optimizer.learning_rate, 0.001)\n"
      ]
    },
    {
      "cell_type": "code",
      "execution_count": 91,
      "metadata": {
        "id": "FvfqvWQID5Cx"
      },
      "outputs": [
        {
          "name": "stdout",
          "output_type": "stream",
          "text": [
            "Epoch 1/100\n",
            "\u001b[1m162/162\u001b[0m \u001b[32m━━━━━━━━━━━━━━━━━━━━\u001b[0m\u001b[37m\u001b[0m \u001b[1m118s\u001b[0m 620ms/step - accuracy: 0.7270 - loss: 0.9694 - val_accuracy: 0.8301 - val_loss: 0.8683 - learning_rate: 0.0010\n",
            "Epoch 2/100\n",
            "\u001b[1m162/162\u001b[0m \u001b[32m━━━━━━━━━━━━━━━━━━━━\u001b[0m\u001b[37m\u001b[0m \u001b[1m99s\u001b[0m 613ms/step - accuracy: 0.8333 - loss: 0.5391 - val_accuracy: 0.8458 - val_loss: 0.4687 - learning_rate: 0.0010\n",
            "Epoch 3/100\n",
            "\u001b[1m162/162\u001b[0m \u001b[32m━━━━━━━━━━━━━━━━━━━━\u001b[0m\u001b[37m\u001b[0m \u001b[1m81s\u001b[0m 503ms/step - accuracy: 0.8428 - loss: 0.4549 - val_accuracy: 0.7838 - val_loss: 0.5992 - learning_rate: 0.0010\n",
            "Epoch 4/100\n",
            "\u001b[1m162/162\u001b[0m \u001b[32m━━━━━━━━━━━━━━━━━━━━\u001b[0m\u001b[37m\u001b[0m \u001b[1m100s\u001b[0m 618ms/step - accuracy: 0.8419 - loss: 0.4307 - val_accuracy: 0.8493 - val_loss: 0.4121 - learning_rate: 0.0010\n",
            "Epoch 5/100\n",
            "\u001b[1m162/162\u001b[0m \u001b[32m━━━━━━━━━━━━━━━━━━━━\u001b[0m\u001b[37m\u001b[0m \u001b[1m85s\u001b[0m 525ms/step - accuracy: 0.8528 - loss: 0.4085 - val_accuracy: 0.8232 - val_loss: 0.4919 - learning_rate: 0.0010\n",
            "Epoch 6/100\n",
            "\u001b[1m162/162\u001b[0m \u001b[32m━━━━━━━━━━━━━━━━━━━━\u001b[0m\u001b[37m\u001b[0m \u001b[1m74s\u001b[0m 456ms/step - accuracy: 0.8605 - loss: 0.3779 - val_accuracy: 0.8522 - val_loss: 0.5177 - learning_rate: 0.0010\n",
            "Epoch 7/100\n",
            "\u001b[1m162/162\u001b[0m \u001b[32m━━━━━━━━━━━━━━━━━━━━\u001b[0m\u001b[37m\u001b[0m \u001b[1m79s\u001b[0m 489ms/step - accuracy: 0.8657 - loss: 0.3608 - val_accuracy: 0.8852 - val_loss: 0.2988 - learning_rate: 0.0010\n",
            "Epoch 8/100\n",
            "\u001b[1m162/162\u001b[0m \u001b[32m━━━━━━━━━━━━━━━━━━━━\u001b[0m\u001b[37m\u001b[0m \u001b[1m120s\u001b[0m 741ms/step - accuracy: 0.8681 - loss: 0.3357 - val_accuracy: 0.8783 - val_loss: 0.2864 - learning_rate: 0.0010\n",
            "Epoch 9/100\n",
            "\u001b[1m162/162\u001b[0m \u001b[32m━━━━━━━━━━━━━━━━━━━━\u001b[0m\u001b[37m\u001b[0m \u001b[1m78s\u001b[0m 483ms/step - accuracy: 0.8718 - loss: 0.3109 - val_accuracy: 0.8046 - val_loss: 0.4852 - learning_rate: 0.0010\n",
            "Epoch 10/100\n",
            "\u001b[1m162/162\u001b[0m \u001b[32m━━━━━━━━━━━━━━━━━━━━\u001b[0m\u001b[37m\u001b[0m \u001b[1m95s\u001b[0m 584ms/step - accuracy: 0.8782 - loss: 0.3027 - val_accuracy: 0.8365 - val_loss: 0.3999 - learning_rate: 0.0010\n",
            "Epoch 11/100\n",
            "\u001b[1m162/162\u001b[0m \u001b[32m━━━━━━━━━━━━━━━━━━━━\u001b[0m\u001b[37m\u001b[0m \u001b[1m109s\u001b[0m 670ms/step - accuracy: 0.8887 - loss: 0.2870 - val_accuracy: 0.8562 - val_loss: 0.5843 - learning_rate: 0.0010\n",
            "Epoch 12/100\n",
            "\u001b[1m162/162\u001b[0m \u001b[32m━━━━━━━━━━━━━━━━━━━━\u001b[0m\u001b[37m\u001b[0m \u001b[1m70s\u001b[0m 432ms/step - accuracy: 0.8880 - loss: 0.2829 - val_accuracy: 0.8951 - val_loss: 0.2724 - learning_rate: 0.0010\n",
            "Epoch 13/100\n",
            "\u001b[1m162/162\u001b[0m \u001b[32m━━━━━━━━━━━━━━━━━━━━\u001b[0m\u001b[37m\u001b[0m \u001b[1m87s\u001b[0m 535ms/step - accuracy: 0.8924 - loss: 0.2652 - val_accuracy: 0.8974 - val_loss: 0.2701 - learning_rate: 0.0010\n",
            "Epoch 14/100\n",
            "\u001b[1m162/162\u001b[0m \u001b[32m━━━━━━━━━━━━━━━━━━━━\u001b[0m\u001b[37m\u001b[0m \u001b[1m147s\u001b[0m 563ms/step - accuracy: 0.9013 - loss: 0.2307 - val_accuracy: 0.8823 - val_loss: 0.2937 - learning_rate: 0.0010\n",
            "Epoch 15/100\n",
            "\u001b[1m162/162\u001b[0m \u001b[32m━━━━━━━━━━━━━━━━━━━━\u001b[0m\u001b[37m\u001b[0m \u001b[1m80s\u001b[0m 494ms/step - accuracy: 0.8972 - loss: 0.2521 - val_accuracy: 0.8788 - val_loss: 0.3440 - learning_rate: 0.0010\n",
            "Epoch 16/100\n",
            "\u001b[1m162/162\u001b[0m \u001b[32m━━━━━━━━━━━━━━━━━━━━\u001b[0m\u001b[37m\u001b[0m \u001b[1m94s\u001b[0m 578ms/step - accuracy: 0.9105 - loss: 0.2289 - val_accuracy: 0.8800 - val_loss: 0.4041 - learning_rate: 0.0010\n",
            "Epoch 17/100\n",
            "\u001b[1m162/162\u001b[0m \u001b[32m━━━━━━━━━━━━━━━━━━━━\u001b[0m\u001b[37m\u001b[0m \u001b[1m83s\u001b[0m 509ms/step - accuracy: 0.9168 - loss: 0.2170 - val_accuracy: 0.9107 - val_loss: 0.2351 - learning_rate: 0.0010\n",
            "Epoch 18/100\n",
            "\u001b[1m162/162\u001b[0m \u001b[32m━━━━━━━━━━━━━━━━━━━━\u001b[0m\u001b[37m\u001b[0m \u001b[1m79s\u001b[0m 487ms/step - accuracy: 0.9203 - loss: 0.2047 - val_accuracy: 0.9038 - val_loss: 0.3165 - learning_rate: 0.0010\n",
            "Epoch 19/100\n",
            "\u001b[1m162/162\u001b[0m \u001b[32m━━━━━━━━━━━━━━━━━━━━\u001b[0m\u001b[37m\u001b[0m \u001b[1m103s\u001b[0m 635ms/step - accuracy: 0.9168 - loss: 0.2176 - val_accuracy: 0.8435 - val_loss: 1.6967 - learning_rate: 0.0010\n",
            "Epoch 20/100\n",
            "\u001b[1m162/162\u001b[0m \u001b[32m━━━━━━━━━━━━━━━━━━━━\u001b[0m\u001b[37m\u001b[0m \u001b[1m74s\u001b[0m 458ms/step - accuracy: 0.9230 - loss: 0.1881 - val_accuracy: 0.8748 - val_loss: 0.6101 - learning_rate: 0.0010\n",
            "Epoch 21/100\n",
            "\u001b[1m162/162\u001b[0m \u001b[32m━━━━━━━━━━━━━━━━━━━━\u001b[0m\u001b[37m\u001b[0m \u001b[1m58s\u001b[0m 356ms/step - accuracy: 0.9353 - loss: 0.1639 - val_accuracy: 0.8875 - val_loss: 0.3100 - learning_rate: 0.0010\n",
            "Epoch 22/100\n",
            "\u001b[1m162/162\u001b[0m \u001b[32m━━━━━━━━━━━━━━━━━━━━\u001b[0m\u001b[37m\u001b[0m \u001b[1m0s\u001b[0m 337ms/step - accuracy: 0.9319 - loss: 0.1718\n",
            "Epoch 22: ReduceLROnPlateau reducing learning rate to 0.00010000000474974513.\n",
            "\u001b[1m162/162\u001b[0m \u001b[32m━━━━━━━━━━━━━━━━━━━━\u001b[0m\u001b[37m\u001b[0m \u001b[1m58s\u001b[0m 359ms/step - accuracy: 0.9320 - loss: 0.1717 - val_accuracy: 0.9107 - val_loss: 0.2616 - learning_rate: 0.0010\n",
            "Epoch 22: early stopping\n"
          ]
        }
      ],
      "source": [
        "history=net.fit(\n",
        "    {\"mfcc\":mfcc_train,\"cstft\":cstft_train,\"mspec\":mSpec_train},\n",
        "    Y_train,\n",
        "    validation_data=({\"mfcc\":mfcc_test,\"cstft\":cstft_test,\"mspec\":mSpec_test},Y_test),\n",
        "    epochs=100,verbose=1,\n",
        "    callbacks=my_callbacks\n",
        ")"
      ]
    },
    {
      "cell_type": "code",
      "execution_count": 102,
      "metadata": {},
      "outputs": [],
      "source": [
        "net.save('lung_classification.keras')"
      ]
    },
    {
      "cell_type": "markdown",
      "metadata": {
        "id": "FqwJYoLmCuDY"
      },
      "source": []
    },
    {
      "cell_type": "code",
      "execution_count": 107,
      "metadata": {},
      "outputs": [
        {
          "name": "stdout",
          "output_type": "stream",
          "text": [
            "\u001b[1m54/54\u001b[0m \u001b[32m━━━━━━━━━━━━━━━━━━━━\u001b[0m\u001b[37m\u001b[0m \u001b[1m3s\u001b[0m 53ms/step\n"
          ]
        }
      ],
      "source": [
        "y_pred = net.predict([mfcc_test,cstft_test,mSpec_test])"
      ]
    },
    {
      "cell_type": "code",
      "execution_count": 105,
      "metadata": {},
      "outputs": [
        {
          "data": {
            "text/plain": [
              "array([[-457.49643, -457.49643, -457.49643, ..., -457.49643, -457.49643,\n",
              "        -457.49643],\n",
              "       [   0.     ,    0.     ,    0.     , ...,    0.     ,    0.     ,\n",
              "           0.     ],\n",
              "       [   0.     ,    0.     ,    0.     , ...,    0.     ,    0.     ,\n",
              "           0.     ],\n",
              "       ...,\n",
              "       [   0.     ,    0.     ,    0.     , ...,    0.     ,    0.     ,\n",
              "           0.     ],\n",
              "       [   0.     ,    0.     ,    0.     , ...,    0.     ,    0.     ,\n",
              "           0.     ],\n",
              "       [   0.     ,    0.     ,    0.     , ...,    0.     ,    0.     ,\n",
              "           0.     ]], dtype=float32)"
            ]
          },
          "execution_count": 105,
          "metadata": {},
          "output_type": "execute_result"
        }
      ],
      "source": [
        "mfcc_test[0]"
      ]
    },
    {
      "cell_type": "code",
      "execution_count": 108,
      "metadata": {},
      "outputs": [],
      "source": [
        "from sklearn.metrics import accuracy_score"
      ]
    },
    {
      "cell_type": "code",
      "execution_count": 109,
      "metadata": {},
      "outputs": [],
      "source": [
        "def predict(y_pred):\n",
        "    # y_pred = net.predict([mfcc_test,cstft_test,mSpec_test])\n",
        "    y_pred_classes = np.argmax(y_pred, axis=1)\n",
        "    print(y_pred_classes)\n",
        "    y_true = Y_test\n",
        "    mapping = {\n",
        "        0: 'Asthma',\n",
        "        1: 'Bronchiectasis',\n",
        "        2: 'Bronchiolitis',\n",
        "        3: 'COPD',\n",
        "        4: 'Healthy',\n",
        "        5: 'LRTI',\n",
        "        6: 'Pneumonia',\n",
        "        7: 'URTI'\n",
        "    }\n",
        "\n",
        "    # Replace numerical labels with original labels\n",
        "    predictions = [mapping[label] for label in y_pred_classes]\n",
        "    accuracy = accuracy_score(y_true, y_pred_classes)\n",
        "    print(\"Test Accuracy:\", accuracy)\n",
        "    \n",
        "    return predictions"
      ]
    },
    {
      "cell_type": "code",
      "execution_count": 110,
      "metadata": {},
      "outputs": [
        {
          "name": "stdout",
          "output_type": "stream",
          "text": [
            "[3 3 6 ... 3 3 3]\n",
            "Test Accuracy: 0.9107246376811594\n"
          ]
        },
        {
          "data": {
            "text/plain": [
              "['COPD',\n",
              " 'COPD',\n",
              " 'Pneumonia',\n",
              " 'COPD',\n",
              " 'COPD',\n",
              " 'COPD',\n",
              " 'COPD',\n",
              " 'COPD',\n",
              " 'COPD',\n",
              " 'COPD',\n",
              " 'COPD',\n",
              " 'COPD',\n",
              " 'COPD',\n",
              " 'COPD',\n",
              " 'COPD',\n",
              " 'COPD',\n",
              " 'Bronchiectasis',\n",
              " 'COPD',\n",
              " 'COPD',\n",
              " 'COPD',\n",
              " 'COPD',\n",
              " 'COPD',\n",
              " 'COPD',\n",
              " 'COPD',\n",
              " 'COPD',\n",
              " 'COPD',\n",
              " 'Healthy',\n",
              " 'COPD',\n",
              " 'COPD',\n",
              " 'COPD',\n",
              " 'COPD',\n",
              " 'COPD',\n",
              " 'COPD',\n",
              " 'Pneumonia',\n",
              " 'COPD',\n",
              " 'COPD',\n",
              " 'COPD',\n",
              " 'COPD',\n",
              " 'COPD',\n",
              " 'COPD',\n",
              " 'COPD',\n",
              " 'COPD',\n",
              " 'COPD',\n",
              " 'COPD',\n",
              " 'COPD',\n",
              " 'COPD',\n",
              " 'COPD',\n",
              " 'COPD',\n",
              " 'COPD',\n",
              " 'COPD',\n",
              " 'COPD',\n",
              " 'COPD',\n",
              " 'COPD',\n",
              " 'COPD',\n",
              " 'COPD',\n",
              " 'COPD',\n",
              " 'COPD',\n",
              " 'COPD',\n",
              " 'COPD',\n",
              " 'COPD',\n",
              " 'COPD',\n",
              " 'Pneumonia',\n",
              " 'COPD',\n",
              " 'COPD',\n",
              " 'COPD',\n",
              " 'Pneumonia',\n",
              " 'URTI',\n",
              " 'Healthy',\n",
              " 'COPD',\n",
              " 'COPD',\n",
              " 'COPD',\n",
              " 'COPD',\n",
              " 'Bronchiectasis',\n",
              " 'COPD',\n",
              " 'COPD',\n",
              " 'COPD',\n",
              " 'COPD',\n",
              " 'COPD',\n",
              " 'COPD',\n",
              " 'COPD',\n",
              " 'COPD',\n",
              " 'COPD',\n",
              " 'Pneumonia',\n",
              " 'COPD',\n",
              " 'COPD',\n",
              " 'COPD',\n",
              " 'COPD',\n",
              " 'COPD',\n",
              " 'COPD',\n",
              " 'COPD',\n",
              " 'COPD',\n",
              " 'COPD',\n",
              " 'COPD',\n",
              " 'COPD',\n",
              " 'COPD',\n",
              " 'COPD',\n",
              " 'COPD',\n",
              " 'COPD',\n",
              " 'COPD',\n",
              " 'COPD',\n",
              " 'COPD',\n",
              " 'COPD',\n",
              " 'Pneumonia',\n",
              " 'COPD',\n",
              " 'COPD',\n",
              " 'Pneumonia',\n",
              " 'COPD',\n",
              " 'COPD',\n",
              " 'COPD',\n",
              " 'COPD',\n",
              " 'COPD',\n",
              " 'COPD',\n",
              " 'Healthy',\n",
              " 'COPD',\n",
              " 'COPD',\n",
              " 'COPD',\n",
              " 'COPD',\n",
              " 'COPD',\n",
              " 'COPD',\n",
              " 'COPD',\n",
              " 'COPD',\n",
              " 'COPD',\n",
              " 'COPD',\n",
              " 'COPD',\n",
              " 'COPD',\n",
              " 'COPD',\n",
              " 'COPD',\n",
              " 'COPD',\n",
              " 'COPD',\n",
              " 'COPD',\n",
              " 'Healthy',\n",
              " 'Bronchiectasis',\n",
              " 'COPD',\n",
              " 'COPD',\n",
              " 'COPD',\n",
              " 'COPD',\n",
              " 'COPD',\n",
              " 'Pneumonia',\n",
              " 'COPD',\n",
              " 'COPD',\n",
              " 'COPD',\n",
              " 'COPD',\n",
              " 'COPD',\n",
              " 'COPD',\n",
              " 'COPD',\n",
              " 'COPD',\n",
              " 'Healthy',\n",
              " 'COPD',\n",
              " 'COPD',\n",
              " 'COPD',\n",
              " 'COPD',\n",
              " 'COPD',\n",
              " 'Bronchiectasis',\n",
              " 'COPD',\n",
              " 'COPD',\n",
              " 'COPD',\n",
              " 'COPD',\n",
              " 'COPD',\n",
              " 'COPD',\n",
              " 'COPD',\n",
              " 'COPD',\n",
              " 'COPD',\n",
              " 'COPD',\n",
              " 'COPD',\n",
              " 'Pneumonia',\n",
              " 'COPD',\n",
              " 'COPD',\n",
              " 'Healthy',\n",
              " 'COPD',\n",
              " 'Bronchiolitis',\n",
              " 'Healthy',\n",
              " 'Pneumonia',\n",
              " 'COPD',\n",
              " 'COPD',\n",
              " 'COPD',\n",
              " 'COPD',\n",
              " 'COPD',\n",
              " 'COPD',\n",
              " 'COPD',\n",
              " 'COPD',\n",
              " 'COPD',\n",
              " 'COPD',\n",
              " 'COPD',\n",
              " 'COPD',\n",
              " 'COPD',\n",
              " 'COPD',\n",
              " 'COPD',\n",
              " 'COPD',\n",
              " 'COPD',\n",
              " 'COPD',\n",
              " 'COPD',\n",
              " 'COPD',\n",
              " 'Pneumonia',\n",
              " 'COPD',\n",
              " 'COPD',\n",
              " 'COPD',\n",
              " 'COPD',\n",
              " 'COPD',\n",
              " 'COPD',\n",
              " 'COPD',\n",
              " 'COPD',\n",
              " 'Pneumonia',\n",
              " 'COPD',\n",
              " 'COPD',\n",
              " 'COPD',\n",
              " 'COPD',\n",
              " 'COPD',\n",
              " 'COPD',\n",
              " 'COPD',\n",
              " 'COPD',\n",
              " 'COPD',\n",
              " 'COPD',\n",
              " 'COPD',\n",
              " 'COPD',\n",
              " 'COPD',\n",
              " 'COPD',\n",
              " 'COPD',\n",
              " 'COPD',\n",
              " 'COPD',\n",
              " 'COPD',\n",
              " 'COPD',\n",
              " 'COPD',\n",
              " 'COPD',\n",
              " 'COPD',\n",
              " 'COPD',\n",
              " 'COPD',\n",
              " 'COPD',\n",
              " 'COPD',\n",
              " 'COPD',\n",
              " 'COPD',\n",
              " 'COPD',\n",
              " 'COPD',\n",
              " 'COPD',\n",
              " 'COPD',\n",
              " 'Pneumonia',\n",
              " 'COPD',\n",
              " 'COPD',\n",
              " 'COPD',\n",
              " 'Healthy',\n",
              " 'COPD',\n",
              " 'COPD',\n",
              " 'COPD',\n",
              " 'COPD',\n",
              " 'COPD',\n",
              " 'COPD',\n",
              " 'COPD',\n",
              " 'COPD',\n",
              " 'Healthy',\n",
              " 'COPD',\n",
              " 'COPD',\n",
              " 'COPD',\n",
              " 'Bronchiectasis',\n",
              " 'COPD',\n",
              " 'COPD',\n",
              " 'COPD',\n",
              " 'COPD',\n",
              " 'COPD',\n",
              " 'COPD',\n",
              " 'COPD',\n",
              " 'Bronchiectasis',\n",
              " 'COPD',\n",
              " 'COPD',\n",
              " 'COPD',\n",
              " 'COPD',\n",
              " 'COPD',\n",
              " 'Bronchiolitis',\n",
              " 'COPD',\n",
              " 'URTI',\n",
              " 'Healthy',\n",
              " 'Bronchiolitis',\n",
              " 'COPD',\n",
              " 'COPD',\n",
              " 'COPD',\n",
              " 'COPD',\n",
              " 'COPD',\n",
              " 'COPD',\n",
              " 'Healthy',\n",
              " 'COPD',\n",
              " 'COPD',\n",
              " 'COPD',\n",
              " 'COPD',\n",
              " 'COPD',\n",
              " 'COPD',\n",
              " 'COPD',\n",
              " 'COPD',\n",
              " 'COPD',\n",
              " 'COPD',\n",
              " 'Healthy',\n",
              " 'COPD',\n",
              " 'COPD',\n",
              " 'COPD',\n",
              " 'COPD',\n",
              " 'COPD',\n",
              " 'Healthy',\n",
              " 'COPD',\n",
              " 'COPD',\n",
              " 'COPD',\n",
              " 'COPD',\n",
              " 'COPD',\n",
              " 'COPD',\n",
              " 'COPD',\n",
              " 'COPD',\n",
              " 'COPD',\n",
              " 'COPD',\n",
              " 'COPD',\n",
              " 'COPD',\n",
              " 'COPD',\n",
              " 'COPD',\n",
              " 'COPD',\n",
              " 'COPD',\n",
              " 'COPD',\n",
              " 'COPD',\n",
              " 'COPD',\n",
              " 'COPD',\n",
              " 'COPD',\n",
              " 'COPD',\n",
              " 'COPD',\n",
              " 'COPD',\n",
              " 'COPD',\n",
              " 'COPD',\n",
              " 'COPD',\n",
              " 'COPD',\n",
              " 'COPD',\n",
              " 'Bronchiectasis',\n",
              " 'COPD',\n",
              " 'COPD',\n",
              " 'COPD',\n",
              " 'COPD',\n",
              " 'COPD',\n",
              " 'COPD',\n",
              " 'Healthy',\n",
              " 'COPD',\n",
              " 'COPD',\n",
              " 'COPD',\n",
              " 'Bronchiolitis',\n",
              " 'COPD',\n",
              " 'COPD',\n",
              " 'COPD',\n",
              " 'Healthy',\n",
              " 'COPD',\n",
              " 'COPD',\n",
              " 'COPD',\n",
              " 'COPD',\n",
              " 'Healthy',\n",
              " 'COPD',\n",
              " 'Pneumonia',\n",
              " 'COPD',\n",
              " 'COPD',\n",
              " 'COPD',\n",
              " 'COPD',\n",
              " 'Pneumonia',\n",
              " 'COPD',\n",
              " 'COPD',\n",
              " 'COPD',\n",
              " 'COPD',\n",
              " 'COPD',\n",
              " 'COPD',\n",
              " 'COPD',\n",
              " 'COPD',\n",
              " 'COPD',\n",
              " 'COPD',\n",
              " 'COPD',\n",
              " 'COPD',\n",
              " 'COPD',\n",
              " 'COPD',\n",
              " 'Pneumonia',\n",
              " 'COPD',\n",
              " 'COPD',\n",
              " 'Pneumonia',\n",
              " 'COPD',\n",
              " 'COPD',\n",
              " 'COPD',\n",
              " 'COPD',\n",
              " 'COPD',\n",
              " 'Pneumonia',\n",
              " 'COPD',\n",
              " 'COPD',\n",
              " 'COPD',\n",
              " 'COPD',\n",
              " 'COPD',\n",
              " 'COPD',\n",
              " 'COPD',\n",
              " 'COPD',\n",
              " 'COPD',\n",
              " 'Healthy',\n",
              " 'COPD',\n",
              " 'COPD',\n",
              " 'COPD',\n",
              " 'COPD',\n",
              " 'URTI',\n",
              " 'COPD',\n",
              " 'COPD',\n",
              " 'COPD',\n",
              " 'COPD',\n",
              " 'COPD',\n",
              " 'COPD',\n",
              " 'Healthy',\n",
              " 'COPD',\n",
              " 'COPD',\n",
              " 'COPD',\n",
              " 'Healthy',\n",
              " 'COPD',\n",
              " 'COPD',\n",
              " 'COPD',\n",
              " 'COPD',\n",
              " 'Pneumonia',\n",
              " 'COPD',\n",
              " 'COPD',\n",
              " 'COPD',\n",
              " 'COPD',\n",
              " 'COPD',\n",
              " 'COPD',\n",
              " 'Healthy',\n",
              " 'COPD',\n",
              " 'Healthy',\n",
              " 'COPD',\n",
              " 'Healthy',\n",
              " 'COPD',\n",
              " 'COPD',\n",
              " 'COPD',\n",
              " 'COPD',\n",
              " 'COPD',\n",
              " 'Pneumonia',\n",
              " 'Healthy',\n",
              " 'COPD',\n",
              " 'COPD',\n",
              " 'COPD',\n",
              " 'URTI',\n",
              " 'COPD',\n",
              " 'COPD',\n",
              " 'COPD',\n",
              " 'COPD',\n",
              " 'COPD',\n",
              " 'COPD',\n",
              " 'COPD',\n",
              " 'COPD',\n",
              " 'COPD',\n",
              " 'COPD',\n",
              " 'COPD',\n",
              " 'Healthy',\n",
              " 'COPD',\n",
              " 'COPD',\n",
              " 'COPD',\n",
              " 'COPD',\n",
              " 'COPD',\n",
              " 'COPD',\n",
              " 'COPD',\n",
              " 'Pneumonia',\n",
              " 'COPD',\n",
              " 'COPD',\n",
              " 'COPD',\n",
              " 'COPD',\n",
              " 'Pneumonia',\n",
              " 'Pneumonia',\n",
              " 'COPD',\n",
              " 'COPD',\n",
              " 'COPD',\n",
              " 'COPD',\n",
              " 'COPD',\n",
              " 'Pneumonia',\n",
              " 'COPD',\n",
              " 'COPD',\n",
              " 'COPD',\n",
              " 'COPD',\n",
              " 'COPD',\n",
              " 'COPD',\n",
              " 'COPD',\n",
              " 'COPD',\n",
              " 'Healthy',\n",
              " 'COPD',\n",
              " 'COPD',\n",
              " 'Healthy',\n",
              " 'COPD',\n",
              " 'COPD',\n",
              " 'COPD',\n",
              " 'COPD',\n",
              " 'COPD',\n",
              " 'COPD',\n",
              " 'COPD',\n",
              " 'COPD',\n",
              " 'COPD',\n",
              " 'COPD',\n",
              " 'COPD',\n",
              " 'Bronchiectasis',\n",
              " 'COPD',\n",
              " 'COPD',\n",
              " 'COPD',\n",
              " 'COPD',\n",
              " 'COPD',\n",
              " 'COPD',\n",
              " 'COPD',\n",
              " 'COPD',\n",
              " 'COPD',\n",
              " 'COPD',\n",
              " 'Pneumonia',\n",
              " 'COPD',\n",
              " 'COPD',\n",
              " 'COPD',\n",
              " 'COPD',\n",
              " 'COPD',\n",
              " 'COPD',\n",
              " 'COPD',\n",
              " 'URTI',\n",
              " 'COPD',\n",
              " 'COPD',\n",
              " 'COPD',\n",
              " 'COPD',\n",
              " 'COPD',\n",
              " 'COPD',\n",
              " 'COPD',\n",
              " 'COPD',\n",
              " 'COPD',\n",
              " 'COPD',\n",
              " 'Healthy',\n",
              " 'Healthy',\n",
              " 'COPD',\n",
              " 'COPD',\n",
              " 'COPD',\n",
              " 'COPD',\n",
              " 'COPD',\n",
              " 'COPD',\n",
              " 'COPD',\n",
              " 'COPD',\n",
              " 'Bronchiolitis',\n",
              " 'Pneumonia',\n",
              " 'COPD',\n",
              " 'Pneumonia',\n",
              " 'COPD',\n",
              " 'COPD',\n",
              " 'COPD',\n",
              " 'COPD',\n",
              " 'COPD',\n",
              " 'COPD',\n",
              " 'COPD',\n",
              " 'COPD',\n",
              " 'COPD',\n",
              " 'Pneumonia',\n",
              " 'COPD',\n",
              " 'COPD',\n",
              " 'COPD',\n",
              " 'COPD',\n",
              " 'COPD',\n",
              " 'COPD',\n",
              " 'Healthy',\n",
              " 'COPD',\n",
              " 'COPD',\n",
              " 'COPD',\n",
              " 'COPD',\n",
              " 'COPD',\n",
              " 'Pneumonia',\n",
              " 'COPD',\n",
              " 'COPD',\n",
              " 'COPD',\n",
              " 'COPD',\n",
              " 'COPD',\n",
              " 'COPD',\n",
              " 'COPD',\n",
              " 'COPD',\n",
              " 'COPD',\n",
              " 'COPD',\n",
              " 'COPD',\n",
              " 'COPD',\n",
              " 'COPD',\n",
              " 'URTI',\n",
              " 'COPD',\n",
              " 'Pneumonia',\n",
              " 'COPD',\n",
              " 'COPD',\n",
              " 'COPD',\n",
              " 'COPD',\n",
              " 'COPD',\n",
              " 'COPD',\n",
              " 'Healthy',\n",
              " 'COPD',\n",
              " 'COPD',\n",
              " 'COPD',\n",
              " 'COPD',\n",
              " 'COPD',\n",
              " 'COPD',\n",
              " 'COPD',\n",
              " 'Pneumonia',\n",
              " 'COPD',\n",
              " 'COPD',\n",
              " 'COPD',\n",
              " 'COPD',\n",
              " 'COPD',\n",
              " 'COPD',\n",
              " 'COPD',\n",
              " 'COPD',\n",
              " 'Bronchiolitis',\n",
              " 'COPD',\n",
              " 'COPD',\n",
              " 'COPD',\n",
              " 'COPD',\n",
              " 'COPD',\n",
              " 'COPD',\n",
              " 'COPD',\n",
              " 'COPD',\n",
              " 'COPD',\n",
              " 'Pneumonia',\n",
              " 'Pneumonia',\n",
              " 'COPD',\n",
              " 'URTI',\n",
              " 'COPD',\n",
              " 'COPD',\n",
              " 'COPD',\n",
              " 'COPD',\n",
              " 'Pneumonia',\n",
              " 'COPD',\n",
              " 'COPD',\n",
              " 'COPD',\n",
              " 'COPD',\n",
              " 'COPD',\n",
              " 'Pneumonia',\n",
              " 'COPD',\n",
              " 'COPD',\n",
              " 'COPD',\n",
              " 'COPD',\n",
              " 'COPD',\n",
              " 'COPD',\n",
              " 'COPD',\n",
              " 'Healthy',\n",
              " 'COPD',\n",
              " 'COPD',\n",
              " 'COPD',\n",
              " 'COPD',\n",
              " 'COPD',\n",
              " 'COPD',\n",
              " 'COPD',\n",
              " 'COPD',\n",
              " 'COPD',\n",
              " 'COPD',\n",
              " 'COPD',\n",
              " 'COPD',\n",
              " 'Pneumonia',\n",
              " 'COPD',\n",
              " 'COPD',\n",
              " 'COPD',\n",
              " 'COPD',\n",
              " 'COPD',\n",
              " 'COPD',\n",
              " 'COPD',\n",
              " 'Healthy',\n",
              " 'COPD',\n",
              " 'COPD',\n",
              " 'URTI',\n",
              " 'COPD',\n",
              " 'COPD',\n",
              " 'COPD',\n",
              " 'COPD',\n",
              " 'COPD',\n",
              " 'COPD',\n",
              " 'COPD',\n",
              " 'COPD',\n",
              " 'COPD',\n",
              " 'URTI',\n",
              " 'COPD',\n",
              " 'COPD',\n",
              " 'COPD',\n",
              " 'COPD',\n",
              " 'COPD',\n",
              " 'Pneumonia',\n",
              " 'COPD',\n",
              " 'COPD',\n",
              " 'Pneumonia',\n",
              " 'COPD',\n",
              " 'COPD',\n",
              " 'COPD',\n",
              " 'COPD',\n",
              " 'COPD',\n",
              " 'COPD',\n",
              " 'COPD',\n",
              " 'COPD',\n",
              " 'COPD',\n",
              " 'COPD',\n",
              " 'Pneumonia',\n",
              " 'COPD',\n",
              " 'COPD',\n",
              " 'Pneumonia',\n",
              " 'COPD',\n",
              " 'COPD',\n",
              " 'COPD',\n",
              " 'COPD',\n",
              " 'Bronchiectasis',\n",
              " 'COPD',\n",
              " 'COPD',\n",
              " 'Pneumonia',\n",
              " 'COPD',\n",
              " 'Pneumonia',\n",
              " 'COPD',\n",
              " 'Pneumonia',\n",
              " 'Pneumonia',\n",
              " 'Healthy',\n",
              " 'COPD',\n",
              " 'COPD',\n",
              " 'COPD',\n",
              " 'Pneumonia',\n",
              " 'COPD',\n",
              " 'COPD',\n",
              " 'COPD',\n",
              " 'COPD',\n",
              " 'COPD',\n",
              " 'COPD',\n",
              " 'COPD',\n",
              " 'COPD',\n",
              " 'COPD',\n",
              " 'COPD',\n",
              " 'Pneumonia',\n",
              " 'Bronchiolitis',\n",
              " 'COPD',\n",
              " 'COPD',\n",
              " 'COPD',\n",
              " 'COPD',\n",
              " 'COPD',\n",
              " 'COPD',\n",
              " 'Pneumonia',\n",
              " 'COPD',\n",
              " 'Pneumonia',\n",
              " 'COPD',\n",
              " 'COPD',\n",
              " 'COPD',\n",
              " 'COPD',\n",
              " 'COPD',\n",
              " 'COPD',\n",
              " 'COPD',\n",
              " 'COPD',\n",
              " 'COPD',\n",
              " 'COPD',\n",
              " 'Healthy',\n",
              " 'COPD',\n",
              " 'COPD',\n",
              " 'COPD',\n",
              " 'COPD',\n",
              " 'COPD',\n",
              " 'COPD',\n",
              " 'COPD',\n",
              " 'COPD',\n",
              " 'Pneumonia',\n",
              " 'COPD',\n",
              " 'COPD',\n",
              " 'COPD',\n",
              " 'COPD',\n",
              " 'COPD',\n",
              " 'COPD',\n",
              " 'COPD',\n",
              " 'COPD',\n",
              " 'Healthy',\n",
              " 'COPD',\n",
              " 'COPD',\n",
              " 'COPD',\n",
              " 'COPD',\n",
              " 'COPD',\n",
              " 'COPD',\n",
              " 'COPD',\n",
              " 'COPD',\n",
              " 'COPD',\n",
              " 'COPD',\n",
              " 'COPD',\n",
              " 'Pneumonia',\n",
              " 'COPD',\n",
              " 'Bronchiolitis',\n",
              " 'COPD',\n",
              " 'COPD',\n",
              " 'COPD',\n",
              " 'COPD',\n",
              " 'COPD',\n",
              " 'COPD',\n",
              " 'COPD',\n",
              " 'COPD',\n",
              " 'COPD',\n",
              " 'COPD',\n",
              " 'COPD',\n",
              " 'COPD',\n",
              " 'Healthy',\n",
              " 'COPD',\n",
              " 'COPD',\n",
              " 'COPD',\n",
              " 'COPD',\n",
              " 'COPD',\n",
              " 'COPD',\n",
              " 'COPD',\n",
              " 'Pneumonia',\n",
              " 'COPD',\n",
              " 'COPD',\n",
              " 'Bronchiectasis',\n",
              " 'Bronchiolitis',\n",
              " 'COPD',\n",
              " 'COPD',\n",
              " 'COPD',\n",
              " 'COPD',\n",
              " 'COPD',\n",
              " 'COPD',\n",
              " 'COPD',\n",
              " 'Healthy',\n",
              " 'COPD',\n",
              " 'Pneumonia',\n",
              " 'COPD',\n",
              " 'Bronchiectasis',\n",
              " 'COPD',\n",
              " 'Pneumonia',\n",
              " 'COPD',\n",
              " 'COPD',\n",
              " 'COPD',\n",
              " 'COPD',\n",
              " 'COPD',\n",
              " 'COPD',\n",
              " 'Pneumonia',\n",
              " 'COPD',\n",
              " 'COPD',\n",
              " 'COPD',\n",
              " 'COPD',\n",
              " 'COPD',\n",
              " 'Healthy',\n",
              " 'COPD',\n",
              " 'COPD',\n",
              " 'COPD',\n",
              " 'COPD',\n",
              " 'COPD',\n",
              " 'COPD',\n",
              " 'COPD',\n",
              " 'COPD',\n",
              " 'COPD',\n",
              " 'Pneumonia',\n",
              " 'COPD',\n",
              " 'URTI',\n",
              " 'COPD',\n",
              " 'COPD',\n",
              " 'COPD',\n",
              " 'COPD',\n",
              " 'COPD',\n",
              " 'COPD',\n",
              " 'Healthy',\n",
              " 'Pneumonia',\n",
              " 'COPD',\n",
              " 'COPD',\n",
              " 'COPD',\n",
              " 'Healthy',\n",
              " 'COPD',\n",
              " 'COPD',\n",
              " 'COPD',\n",
              " 'COPD',\n",
              " 'COPD',\n",
              " 'COPD',\n",
              " 'COPD',\n",
              " 'Pneumonia',\n",
              " 'COPD',\n",
              " 'COPD',\n",
              " 'Pneumonia',\n",
              " 'Healthy',\n",
              " 'COPD',\n",
              " 'COPD',\n",
              " 'COPD',\n",
              " 'Healthy',\n",
              " 'COPD',\n",
              " 'Bronchiolitis',\n",
              " 'COPD',\n",
              " 'Pneumonia',\n",
              " 'COPD',\n",
              " 'COPD',\n",
              " 'Healthy',\n",
              " 'COPD',\n",
              " 'COPD',\n",
              " 'COPD',\n",
              " 'COPD',\n",
              " 'COPD',\n",
              " 'COPD',\n",
              " 'Pneumonia',\n",
              " 'COPD',\n",
              " 'COPD',\n",
              " 'COPD',\n",
              " 'Healthy',\n",
              " 'Healthy',\n",
              " 'COPD',\n",
              " 'COPD',\n",
              " 'COPD',\n",
              " 'COPD',\n",
              " 'COPD',\n",
              " 'COPD',\n",
              " 'COPD',\n",
              " 'COPD',\n",
              " 'COPD',\n",
              " 'COPD',\n",
              " 'COPD',\n",
              " 'COPD',\n",
              " 'Healthy',\n",
              " 'COPD',\n",
              " 'COPD',\n",
              " 'COPD',\n",
              " 'COPD',\n",
              " 'Healthy',\n",
              " 'COPD',\n",
              " 'COPD',\n",
              " 'COPD',\n",
              " 'COPD',\n",
              " 'COPD',\n",
              " 'COPD',\n",
              " 'COPD',\n",
              " 'COPD',\n",
              " 'COPD',\n",
              " 'COPD',\n",
              " 'COPD',\n",
              " 'COPD',\n",
              " 'Healthy',\n",
              " 'COPD',\n",
              " 'Bronchiolitis',\n",
              " 'COPD',\n",
              " 'COPD',\n",
              " 'Healthy',\n",
              " 'Pneumonia',\n",
              " 'COPD',\n",
              " 'COPD',\n",
              " 'COPD',\n",
              " 'COPD',\n",
              " 'COPD',\n",
              " 'COPD',\n",
              " 'COPD',\n",
              " 'COPD',\n",
              " 'COPD',\n",
              " 'COPD',\n",
              " 'COPD',\n",
              " 'COPD',\n",
              " 'Healthy',\n",
              " 'URTI',\n",
              " 'COPD',\n",
              " 'Pneumonia',\n",
              " 'Pneumonia',\n",
              " 'Healthy',\n",
              " 'COPD',\n",
              " 'COPD',\n",
              " 'COPD',\n",
              " 'COPD',\n",
              " 'COPD',\n",
              " 'Healthy',\n",
              " 'COPD',\n",
              " 'COPD',\n",
              " 'COPD',\n",
              " 'COPD',\n",
              " 'COPD',\n",
              " 'COPD',\n",
              " 'Pneumonia',\n",
              " 'COPD',\n",
              " 'Healthy',\n",
              " 'COPD',\n",
              " 'Bronchiectasis',\n",
              " 'COPD',\n",
              " 'COPD',\n",
              " 'COPD',\n",
              " 'COPD',\n",
              " 'COPD',\n",
              " 'Pneumonia',\n",
              " 'Bronchiolitis',\n",
              " 'COPD',\n",
              " 'COPD',\n",
              " 'Pneumonia',\n",
              " 'COPD',\n",
              " 'COPD',\n",
              " 'COPD',\n",
              " 'COPD',\n",
              " 'COPD',\n",
              " 'COPD',\n",
              " 'COPD',\n",
              " 'COPD',\n",
              " 'COPD',\n",
              " 'COPD',\n",
              " 'COPD',\n",
              " 'COPD',\n",
              " 'Healthy',\n",
              " 'Pneumonia',\n",
              " 'COPD',\n",
              " 'COPD',\n",
              " 'Bronchiolitis',\n",
              " 'COPD',\n",
              " 'Pneumonia',\n",
              " 'COPD',\n",
              " 'COPD',\n",
              " 'COPD',\n",
              " 'COPD',\n",
              " 'Bronchiectasis',\n",
              " 'COPD',\n",
              " 'COPD',\n",
              " 'COPD',\n",
              " 'COPD',\n",
              " 'COPD',\n",
              " 'Healthy',\n",
              " 'COPD',\n",
              " 'COPD',\n",
              " 'COPD',\n",
              " 'COPD',\n",
              " 'COPD',\n",
              " 'COPD',\n",
              " 'Pneumonia',\n",
              " 'COPD',\n",
              " 'COPD',\n",
              " 'COPD',\n",
              " 'COPD',\n",
              " 'COPD',\n",
              " 'COPD',\n",
              " 'COPD',\n",
              " 'COPD',\n",
              " 'COPD',\n",
              " ...]"
            ]
          },
          "execution_count": 110,
          "metadata": {},
          "output_type": "execute_result"
        }
      ],
      "source": [
        "predict(y_pred)"
      ]
    },
    {
      "cell_type": "code",
      "execution_count": 111,
      "metadata": {},
      "outputs": [
        {
          "data": {
            "image/png": "[encoded data removed]",
            "text/plain": [
              "<Figure size 640x480 with 2 Axes>"
            ]
          },
          "metadata": {},
          "output_type": "display_data"
        }
      ],
      "source": [
        "import matplotlib.pyplot as plt\n",
        "import seaborn as sns\n",
        "from sklearn.metrics import confusion_matrix\n",
        "\n",
        "y_pred_classes = np.argmax(y_pred, axis=1)\n",
        "y_true = Y_test\n",
        "\n",
        "confusion_mtx = confusion_matrix(y_true, y_pred_classes)\n",
        "\n",
        "# Create a heatmap of the confusion matrix\n",
        "sns.heatmap(confusion_mtx, annot=True, fmt='d', xticklabels=le.classes_, yticklabels=le.classes_)\n",
        "\n",
        "# Rotate the x-axis labels\n",
        "plt.xticks(rotation=45)\n",
        "plt.ylabel('True label')\n",
        "plt.xlabel('Predicted label')\n",
        "\n",
        "# Display the plot\n",
        "plt.show()"
      ]
    },
    {
      "cell_type": "code",
      "execution_count": 148,
      "metadata": {},
      "outputs": [
        {
          "name": "stdout",
          "output_type": "stream",
          "text": [
            "20.0\n"
          ]
        }
      ],
      "source": [
        "import wave\n",
        "\n",
        "with wave.open(\"C:/Users/mahii/OneDrive/Desktop/practice/MajorProject/Respiratory sounds/audio_and_txt_files/117_1b2_Tc_mc_LittC2SE.wav\") as f:\n",
        "    frames = f.getnframes()\n",
        "    rate = f.getframerate()\n",
        "    duration = frames / float(rate)\n",
        "\n",
        "print(duration)"
      ]
    },
    {
      "cell_type": "code",
      "execution_count": 149,
      "metadata": {},
      "outputs": [],
      "source": [
        "def recording_to_clips(root, start, end, sr = 44100):\n",
        "\n",
        "  maximum_index = len(root)\n",
        "  start_index = min(int(start*sr), maximum_index)\n",
        "  end_index = min(int(end*sr), maximum_index)\n",
        "  return root[start_index:end_index]"
      ]
    },
    {
      "cell_type": "code",
      "execution_count": 151,
      "metadata": {},
      "outputs": [],
      "source": [
        "shutil.rmtree('/content/sample_data/sample_clips/')"
      ]
    },
    {
      "cell_type": "code",
      "execution_count": 152,
      "metadata": {},
      "outputs": [],
      "source": [
        "os.mkdir('/content/sample_data/sample_clips/')"
      ]
    },
    {
      "cell_type": "code",
      "execution_count": 153,
      "metadata": {},
      "outputs": [],
      "source": [
        "def split_audio(duration,audio_path):\n",
        "  i = 0\n",
        "  n = 0\n",
        "  max_length = 6\n",
        "  start_time = 0\n",
        "  end_time = max_length\n",
        "  duml = 0\n",
        "  if duration%max_length == 0:\n",
        "    duml = int(duration / max_length)\n",
        "  else:\n",
        "    duml  = int(duration / max_length) + 1\n",
        "\n",
        "  for j in range(duml):\n",
        "\n",
        "    if end_time - start_time > max_length:\n",
        "      end = start_time + max_length  \n",
        "    \n",
        "    filename = str(i) + '.wav'\n",
        "    save_path = '/content/sample_data/sample_clips/'+filename\n",
        "    n += 1\n",
        "    i += 1\n",
        "\n",
        "    audio, sample_rate = librosa.load(audio_path)\n",
        "    sample = recording_to_clips(audio,start_time,end_time,sample_rate)\n",
        "\n",
        "    required_length = max( 6*sample_rate, len(sample))\n",
        "    padded_data = librosa.util.pad_center(sample,size = required_length)\n",
        "\n",
        "    sf.write(file = save_path,data = padded_data, samplerate = sample_rate)\n",
        "\n",
        "    start_time = end_time\n",
        "    end_time += max_length\n",
        "    \n",
        "    # print('total files processed:', n)"
      ]
    },
    {
      "cell_type": "code",
      "execution_count": 173,
      "metadata": {},
      "outputs": [],
      "source": [
        "audio_path = 'C:/Users/mahii/OneDrive/Desktop/practice/MajorProject/Respiratory sounds/audio_and_txt_files/104_1b1_Ll_sc_Litt3200.wav'\n",
        "split_audio(duration,audio_path)"
      ]
    },
    {
      "cell_type": "code",
      "execution_count": 174,
      "metadata": {},
      "outputs": [],
      "source": [
        "sample_path = '/content/sample_data/sample_clips/'"
      ]
    },
    {
      "cell_type": "code",
      "execution_count": 175,
      "metadata": {},
      "outputs": [
        {
          "data": {
            "text/plain": [
              "['0.wav', '1.wav', '2.wav', '3.wav']"
            ]
          },
          "execution_count": 175,
          "metadata": {},
          "output_type": "execute_result"
        }
      ],
      "source": [
        "cont = os.listdir(sample_path)\n",
        "cont"
      ]
    },
    {
      "cell_type": "code",
      "execution_count": 176,
      "metadata": {},
      "outputs": [],
      "source": [
        "sample_data = pd.DataFrame(cont)"
      ]
    },
    {
      "cell_type": "code",
      "execution_count": 177,
      "metadata": {},
      "outputs": [],
      "source": [
        "sample_data.columns = ['filename']"
      ]
    },
    {
      "cell_type": "code",
      "execution_count": 178,
      "metadata": {},
      "outputs": [
        {
          "data": {
            "text/html": [
              "<div>\n",
              "<style scoped>\n",
              "    .dataframe tbody tr th:only-of-type {\n",
              "        vertical-align: middle;\n",
              "    }\n",
              "\n",
              "    .dataframe tbody tr th {\n",
              "        vertical-align: top;\n",
              "    }\n",
              "\n",
              "    .dataframe thead th {\n",
              "        text-align: right;\n",
              "    }\n",
              "</style>\n",
              "<table border=\"1\" class=\"dataframe\">\n",
              "  <thead>\n",
              "    <tr style=\"text-align: right;\">\n",
              "      <th></th>\n",
              "      <th>filename</th>\n",
              "    </tr>\n",
              "  </thead>\n",
              "  <tbody>\n",
              "    <tr>\n",
              "      <th>0</th>\n",
              "      <td>0.wav</td>\n",
              "    </tr>\n",
              "    <tr>\n",
              "      <th>1</th>\n",
              "      <td>1.wav</td>\n",
              "    </tr>\n",
              "    <tr>\n",
              "      <th>2</th>\n",
              "      <td>2.wav</td>\n",
              "    </tr>\n",
              "    <tr>\n",
              "      <th>3</th>\n",
              "      <td>3.wav</td>\n",
              "    </tr>\n",
              "  </tbody>\n",
              "</table>\n",
              "</div>"
            ],
            "text/plain": [
              "  filename\n",
              "0    0.wav\n",
              "1    1.wav\n",
              "2    2.wav\n",
              "3    3.wav"
            ]
          },
          "execution_count": 178,
          "metadata": {},
          "output_type": "execute_result"
        }
      ],
      "source": [
        "sample_data"
      ]
    },
    {
      "cell_type": "code",
      "execution_count": 179,
      "metadata": {},
      "outputs": [],
      "source": [
        "def feature_shape(feature):\n",
        "  ushape = [np.shape(sub_list) for sub_list in feature]\n",
        "  return set(ushape)\n",
        "\n",
        "\n",
        "def feature_padding(feature):\n",
        "  min_shape = min(sub_array.shape for sub_list in feature for sub_array in sub_list)\n",
        "  print(min_shape, type(min_shape))\n",
        "  # Padding each subarray to the minimum shape with zeros\n",
        "  feature_padded = [[sub_array[:min_shape[0]] for sub_array in sub_list] for sub_list in feature]\n",
        "  return feature_padded\n",
        "\n"
      ]
    },
    {
      "cell_type": "code",
      "execution_count": 180,
      "metadata": {},
      "outputs": [],
      "source": [
        "def get_features_from_audio(path):\n",
        "    soundArr,sample_rate= librosa.load(path)\n",
        "    mfcc=librosa.feature.mfcc(y=soundArr,sr=sample_rate)\n",
        "    cstft=librosa.feature.chroma_stft(y=soundArr,sr=sample_rate)\n",
        "    mSpec=librosa.feature.melspectrogram(y=soundArr,sr=sample_rate)\n",
        "    tone = librosa.feature.tonnetz(y=soundArr,sr=sample_rate)\n",
        "    specCen = librosa.feature.spectral_centroid(y=soundArr,sr=sample_rate)\n",
        "\n",
        "    return mfcc,cstft,mSpec,tone, specCen"
      ]
    },
    {
      "cell_type": "code",
      "execution_count": 181,
      "metadata": {},
      "outputs": [
        {
          "name": "stderr",
          "output_type": "stream",
          "text": [
            "3it [00:00,  5.10it/s]c:\\Users\\mahii\\AppData\\Local\\Programs\\Python\\Python311\\Lib\\site-packages\\librosa\\core\\pitch.py:101: UserWarning: Trying to estimate tuning from empty frequency set.\n",
            "  return pitch_tuning(\n",
            "4it [00:00,  5.31it/s]\n"
          ]
        }
      ],
      "source": [
        "root = '/content/sample_data/sample_clips/'\n",
        "mfcc_sample,cstft_sample,mSpec_sample=[],[],[]\n",
        "\n",
        "for idx,row in tqdm.tqdm(sample_data.iterrows()):\n",
        "    path=root + row['filename']\n",
        "    a,b,c,d,e=get_features_from_audio(path)\n",
        "    mfcc_sample.append(a)\n",
        "    cstft_sample.append(b)\n",
        "    mSpec_sample.append(c)\n"
      ]
    },
    {
      "cell_type": "code",
      "execution_count": 182,
      "metadata": {},
      "outputs": [
        {
          "data": {
            "text/plain": [
              "{(20, 259)}"
            ]
          },
          "execution_count": 182,
          "metadata": {},
          "output_type": "execute_result"
        }
      ],
      "source": [
        "feature_shape(mfcc_sample)"
      ]
    },
    {
      "cell_type": "code",
      "execution_count": 183,
      "metadata": {},
      "outputs": [
        {
          "data": {
            "text/plain": [
              "{(12, 259)}"
            ]
          },
          "execution_count": 183,
          "metadata": {},
          "output_type": "execute_result"
        }
      ],
      "source": [
        "feature_shape(cstft_sample)"
      ]
    },
    {
      "cell_type": "code",
      "execution_count": 184,
      "metadata": {},
      "outputs": [
        {
          "data": {
            "text/plain": [
              "{(128, 259)}"
            ]
          },
          "execution_count": 184,
          "metadata": {},
          "output_type": "execute_result"
        }
      ],
      "source": [
        "feature_shape(mSpec_sample)"
      ]
    },
    {
      "cell_type": "code",
      "execution_count": 185,
      "metadata": {},
      "outputs": [
        {
          "name": "stdout",
          "output_type": "stream",
          "text": [
            "(259,) <class 'tuple'>\n",
            "(259,) <class 'tuple'>\n",
            "(259,) <class 'tuple'>\n"
          ]
        }
      ],
      "source": [
        "mfcc_sample_padded = feature_padding(mfcc_sample)\n",
        "cstft_sample_padded = feature_padding(cstft_sample)\n",
        "mSpec_sample_padded = feature_padding(mSpec_sample)"
      ]
    },
    {
      "cell_type": "code",
      "execution_count": 186,
      "metadata": {},
      "outputs": [],
      "source": [
        "mfcc_sample_array = np.array(mfcc_sample_padded)\n",
        "cstft_sample_array = np.array(cstft_sample_padded)\n",
        "mSpec_sample_array = np.array(mSpec_sample_padded)"
      ]
    },
    {
      "cell_type": "code",
      "execution_count": 187,
      "metadata": {},
      "outputs": [
        {
          "name": "stdout",
          "output_type": "stream",
          "text": [
            "(4, 20, 259)\n",
            "(4, 12, 259)\n",
            "(4, 128, 259)\n"
          ]
        }
      ],
      "source": [
        "print(mfcc_sample_array.shape)\n",
        "print(cstft_sample_array.shape)\n",
        "print(mSpec_sample_array.shape)"
      ]
    },
    {
      "cell_type": "code",
      "execution_count": 188,
      "metadata": {},
      "outputs": [
        {
          "name": "stdout",
          "output_type": "stream",
          "text": [
            "\u001b[1m1/1\u001b[0m \u001b[32m━━━━━━━━━━━━━━━━━━━━\u001b[0m\u001b[37m\u001b[0m \u001b[1m0s\u001b[0m 47ms/step\n"
          ]
        }
      ],
      "source": [
        "sample_pred = net.predict([mfcc_sample_array,cstft_sample_array,mSpec_sample_array])"
      ]
    },
    {
      "cell_type": "code",
      "execution_count": 189,
      "metadata": {},
      "outputs": [],
      "source": [
        "def predict1(y_pred):\n",
        "    y_pred_classes = np.argmax(y_pred, axis=1)\n",
        "    print(y_pred_classes)\n",
        "\n",
        "    mapping = {\n",
        "        0: 'Asthma',\n",
        "        1: 'Bronchiectasis',\n",
        "        2: 'Bronchiolitis',\n",
        "        3: 'COPD',\n",
        "        4: 'Healthy',\n",
        "        5: 'LRTI',\n",
        "        6: 'Pneumonia',\n",
        "        7: 'URTI'\n",
        "    }\n",
        "\n",
        "    # Replace numerical labels with original labels\n",
        "    predictions = [mapping[label] for label in y_pred_classes]\n",
        "    # accuracy = accuracy_score(y_true, y_pred_classes)\n",
        "    # print(\"Test Accuracy:\", accuracy)\n",
        "    \n",
        "    return predictions"
      ]
    },
    {
      "cell_type": "code",
      "execution_count": 190,
      "metadata": {},
      "outputs": [
        {
          "name": "stdout",
          "output_type": "stream",
          "text": [
            "[3 3 3 3]\n"
          ]
        },
        {
          "data": {
            "text/plain": [
              "['COPD', 'COPD', 'COPD', 'COPD']"
            ]
          },
          "execution_count": 190,
          "metadata": {},
          "output_type": "execute_result"
        }
      ],
      "source": [
        "predict1(sample_pred)"
      ]
    },
    {
      "cell_type": "code",
      "execution_count": 172,
      "metadata": {},
      "outputs": [],
      "source": [
        "shutil.rmtree('/content/sample_data/processed_clips')"
      ]
    },
    {
      "cell_type": "code",
      "execution_count": null,
      "metadata": {},
      "outputs": [],
      "source": []
    }
  ],
  "metadata": {
    "colab": {
      "provenance": []
    },
    "kernelspec": {
      "display_name": "Python 3",
      "name": "python3"
    },
    "language_info": {
      "codemirror_mode": {
        "name": "ipython",
        "version": 3
      },
      "file_extension": ".py",
      "mimetype": "text/x-python",
      "name": "python",
      "nbconvert_exporter": "python",
      "pygments_lexer": "ipython3",
      "version": "3.10.2"
    }
  },
  "nbformat": 4,
  "nbformat_minor": 0
}
